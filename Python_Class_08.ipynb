{
  "nbformat": 4,
  "nbformat_minor": 0,
  "metadata": {
    "colab": {
      "provenance": [],
      "authorship_tag": "ABX9TyNm3WhkjPMmogjP16aSo65e",
      "include_colab_link": true
    },
    "kernelspec": {
      "name": "python3",
      "display_name": "Python 3"
    },
    "language_info": {
      "name": "python"
    }
  },
  "cells": [
    {
      "cell_type": "markdown",
      "metadata": {
        "id": "view-in-github",
        "colab_type": "text"
      },
      "source": [
        "<a href=\"https://colab.research.google.com/github/saiganesh00/Python-Practice/blob/main/Python_Class_08.ipynb\" target=\"_parent\"><img src=\"https://colab.research.google.com/assets/colab-badge.svg\" alt=\"Open In Colab\"/></a>"
      ]
    },
    {
      "cell_type": "markdown",
      "source": [
        "## **Break Statement**"
      ],
      "metadata": {
        "id": "U8ZSgrUh3Yjc"
      }
    },
    {
      "cell_type": "code",
      "execution_count": 4,
      "metadata": {
        "colab": {
          "base_uri": "https://localhost:8080/"
        },
        "id": "7mQHnO-Otuy1",
        "outputId": "eace4edf-ffb1-493b-c621-6acf20038012"
      },
      "outputs": [
        {
          "output_type": "stream",
          "name": "stdout",
          "text": [
            "came out of loop\n"
          ]
        }
      ],
      "source": [
        "team_score = [12,23,54,26,76,31]\n",
        "\n",
        "i = 0\n",
        "n = len(team_score)\n",
        "total_score = 0\n",
        "\n",
        "while i!=100:\n",
        "    break\n",
        "    i+=1\n",
        "\n",
        "print(\"came out of loop\")"
      ]
    },
    {
      "cell_type": "code",
      "source": [
        "team_score = [12,23,54,26,76,31]\n",
        "i = 0\n",
        "n = len(team_score)\n",
        "while i < n:\n",
        "  print(i, \" --> \", team_score[i])\n",
        "  i += 1\n",
        "  if(i == 4):\n",
        "    break\n",
        "print(\"Came out of while loop\")\n",
        "\n"
      ],
      "metadata": {
        "colab": {
          "base_uri": "https://localhost:8080/"
        },
        "id": "KEOuv26NwQl_",
        "outputId": "ebe00359-4a17-4b55-8396-77d6401d85cb"
      },
      "execution_count": 8,
      "outputs": [
        {
          "output_type": "stream",
          "name": "stdout",
          "text": [
            "0  -->  12\n",
            "1  -->  23\n",
            "2  -->  54\n",
            "3  -->  26\n",
            "Came out of while loop\n"
          ]
        }
      ]
    },
    {
      "cell_type": "code",
      "source": [
        "team_score = [12,23,54,26,76,31]\n",
        "i = 0\n",
        "n = len(team_score)\n",
        "total_score = 0\n",
        "while i < n:\n",
        "  print(\"Score --> \", team_score[i])\n",
        "  total_score += team_score[i]\n",
        "  print(\"Total Score --> \", total_score)\n",
        "  i += 1\n",
        "  if(total_score >= 100):\n",
        "    break\n",
        "print(\"Came out of while loop\")"
      ],
      "metadata": {
        "colab": {
          "base_uri": "https://localhost:8080/"
        },
        "id": "9GKrd3HHw3WQ",
        "outputId": "8b1263bf-c3c5-4442-9fd1-3bb0f032c73b"
      },
      "execution_count": 13,
      "outputs": [
        {
          "output_type": "stream",
          "name": "stdout",
          "text": [
            "Score -->  12\n",
            "Total Score -->  12\n",
            "Score -->  23\n",
            "Total Score -->  35\n",
            "Score -->  54\n",
            "Total Score -->  89\n",
            "Score -->  26\n",
            "Total Score -->  115\n",
            "Came out of while loop\n"
          ]
        }
      ]
    },
    {
      "cell_type": "code",
      "source": [
        "team_score = [12,23,54,26,76,31]\n",
        "\n",
        "i = 0\n",
        "n = len(team_score)\n",
        "total_score = 0\n",
        "\n",
        "for score in team_score:\n",
        "  print(\"score: -->\", score)\n",
        "  total_score += score\n",
        "  print(\"total_score: -->\", total_score)\n",
        "  if total_score >= 100:\n",
        "    break\n",
        "\n",
        "print(\"Came out of for loop\")"
      ],
      "metadata": {
        "colab": {
          "base_uri": "https://localhost:8080/"
        },
        "id": "GHSuQUggvVRx",
        "outputId": "dd3de752-8c06-4f1c-d42f-c33144920124"
      },
      "execution_count": 5,
      "outputs": [
        {
          "output_type": "stream",
          "name": "stdout",
          "text": [
            "score: --> 12\n",
            "total_score: --> 12\n",
            "score: --> 23\n",
            "total_score: --> 35\n",
            "score: --> 54\n",
            "total_score: --> 89\n",
            "score: --> 26\n",
            "total_score: --> 115\n",
            "Came out of for loop\n"
          ]
        }
      ]
    },
    {
      "cell_type": "code",
      "source": [
        "team_scores = [[12, 23, 54, 26, 76, 31], [12,34,54,23,53,23,53], [1,2,4,52,5]]\n",
        "\n",
        "for curr_team_score in team_scores:\n",
        "  print(curr_team_score)\n"
      ],
      "metadata": {
        "colab": {
          "base_uri": "https://localhost:8080/"
        },
        "id": "C9D_BD-CvpQl",
        "outputId": "91179339-8967-47b3-ad42-36a584b15e83"
      },
      "execution_count": 14,
      "outputs": [
        {
          "output_type": "stream",
          "name": "stdout",
          "text": [
            "[12, 23, 54, 26, 76, 31]\n",
            "[12, 34, 54, 23, 53, 23, 53]\n",
            "[1, 2, 4, 52, 5]\n"
          ]
        }
      ]
    },
    {
      "cell_type": "code",
      "source": [
        "for curr_team_score in team_scores:\n",
        "  print(\"Current Team Score --> \", curr_team_score)\n",
        "  total_score = 0\n",
        "  for score in curr_team_score:\n",
        "    print(\"Score: \", score)\n",
        "    total_score += score\n",
        "    print(\"Total Score: \", total_score)\n",
        "    if total_score >= 100:\n",
        "      print(\"*\"*30)\n",
        "      break\n",
        "print()\n",
        "print(\"Came out of for loop\")"
      ],
      "metadata": {
        "colab": {
          "base_uri": "https://localhost:8080/"
        },
        "id": "gAg5sQVbyKAO",
        "outputId": "9cb5b2cc-5741-4322-c242-4b148f25f0c4"
      },
      "execution_count": 17,
      "outputs": [
        {
          "output_type": "stream",
          "name": "stdout",
          "text": [
            "Current Team Score -->  [12, 23, 54, 26, 76, 31]\n",
            "Score:  12\n",
            "Total Score:  12\n",
            "Score:  23\n",
            "Total Score:  35\n",
            "Score:  54\n",
            "Total Score:  89\n",
            "Score:  26\n",
            "Total Score:  115\n",
            "******************************\n",
            "Current Team Score -->  [12, 34, 54, 23, 53, 23, 53]\n",
            "Score:  12\n",
            "Total Score:  12\n",
            "Score:  34\n",
            "Total Score:  46\n",
            "Score:  54\n",
            "Total Score:  100\n",
            "******************************\n",
            "Current Team Score -->  [1, 2, 4, 52, 5]\n",
            "Score:  1\n",
            "Total Score:  1\n",
            "Score:  2\n",
            "Total Score:  3\n",
            "Score:  4\n",
            "Total Score:  7\n",
            "Score:  52\n",
            "Total Score:  59\n",
            "Score:  5\n",
            "Total Score:  64\n",
            "\n",
            "Came out of for loop\n"
          ]
        }
      ]
    },
    {
      "cell_type": "code",
      "source": [
        "for curr_team_score in team_scores:\n",
        "  print(\"Current Team Score --> \", curr_team_score)\n",
        "  total_score = 0\n",
        "  for score in curr_team_score:\n",
        "    print(\"Score: \", score)\n",
        "    total_score += score\n",
        "    print(\"Total Score: \", total_score)\n",
        "    if total_score >= 100:\n",
        "      print(\"*\"*30)\n",
        "      break\n",
        "  if len(curr_team_score) > 5:\n",
        "    break\n",
        "print()\n",
        "print(\"Came out of for loop\")"
      ],
      "metadata": {
        "colab": {
          "base_uri": "https://localhost:8080/"
        },
        "id": "iJFHN8s-y3WV",
        "outputId": "e6076b42-3262-414b-8bf5-95def3ed64ce"
      },
      "execution_count": 18,
      "outputs": [
        {
          "output_type": "stream",
          "name": "stdout",
          "text": [
            "Current Team Score -->  [12, 23, 54, 26, 76, 31]\n",
            "Score:  12\n",
            "Total Score:  12\n",
            "Score:  23\n",
            "Total Score:  35\n",
            "Score:  54\n",
            "Total Score:  89\n",
            "Score:  26\n",
            "Total Score:  115\n",
            "******************************\n",
            "\n",
            "Came out of for loop\n"
          ]
        }
      ]
    },
    {
      "cell_type": "markdown",
      "source": [
        "## **Continue Statement**"
      ],
      "metadata": {
        "id": "xckS2gG43gsH"
      }
    },
    {
      "cell_type": "code",
      "source": [
        "l = [12, 32, 0, -10, -5, 200, 100]\n",
        "\n",
        "for val in l:\n",
        "  if(val < 0):\n",
        "    continue\n",
        "  print(val)"
      ],
      "metadata": {
        "colab": {
          "base_uri": "https://localhost:8080/"
        },
        "id": "ibvI59TtzQ15",
        "outputId": "87712961-6d0e-4ea2-cdf7-2e926bd6c952"
      },
      "execution_count": 20,
      "outputs": [
        {
          "output_type": "stream",
          "name": "stdout",
          "text": [
            "12\n",
            "32\n",
            "0\n",
            "200\n",
            "100\n"
          ]
        }
      ]
    },
    {
      "cell_type": "code",
      "source": [
        "l = [12, 32, 0, -10, -5, 200, 100]\n",
        "non_negative_num = 0\n",
        "for val in l:\n",
        "  print(\"Current value: \", val)\n",
        "  if(val < 0):\n",
        "    continue\n",
        "  non_negative_num += val\n",
        "  print('Current non negative value: ', val)\n",
        "print(\"Sum of non negative value: \", non_negative_num)"
      ],
      "metadata": {
        "colab": {
          "base_uri": "https://localhost:8080/"
        },
        "id": "ejXDEiS505_A",
        "outputId": "465747e0-d1f2-4ebc-aca3-b7f421e1a29b"
      },
      "execution_count": 22,
      "outputs": [
        {
          "output_type": "stream",
          "name": "stdout",
          "text": [
            "Current value:  12\n",
            "Current non negative value:  12\n",
            "Current value:  32\n",
            "Current non negative value:  32\n",
            "Current value:  0\n",
            "Current non negative value:  0\n",
            "Current value:  -10\n",
            "Current value:  -5\n",
            "Current value:  200\n",
            "Current non negative value:  200\n",
            "Current value:  100\n",
            "Current non negative value:  100\n",
            "Sum of non negative value:  344\n"
          ]
        }
      ]
    },
    {
      "cell_type": "code",
      "source": [
        "l = [1,2,3,4,5,6,5,4,2]\n",
        "\n",
        "for value in l:\n",
        "  print(\"value: -->\",value)\n",
        "  if value==5:\n",
        "    continue\n",
        "  print(\"VENKY\")\n",
        "  print(\"Python\")\n",
        "  print(\"ANy value\")"
      ],
      "metadata": {
        "colab": {
          "base_uri": "https://localhost:8080/"
        },
        "id": "2w2KxvPI3tCa",
        "outputId": "d4dc659a-c314-4e60-c1f5-95c617dd34bb"
      },
      "execution_count": 23,
      "outputs": [
        {
          "output_type": "stream",
          "name": "stdout",
          "text": [
            "value: --> 1\n",
            "VENKY\n",
            "Python\n",
            "ANy value\n",
            "value: --> 2\n",
            "VENKY\n",
            "Python\n",
            "ANy value\n",
            "value: --> 3\n",
            "VENKY\n",
            "Python\n",
            "ANy value\n",
            "value: --> 4\n",
            "VENKY\n",
            "Python\n",
            "ANy value\n",
            "value: --> 5\n",
            "value: --> 6\n",
            "VENKY\n",
            "Python\n",
            "ANy value\n",
            "value: --> 5\n",
            "value: --> 4\n",
            "VENKY\n",
            "Python\n",
            "ANy value\n",
            "value: --> 2\n",
            "VENKY\n",
            "Python\n",
            "ANy value\n"
          ]
        }
      ]
    },
    {
      "cell_type": "markdown",
      "source": [
        "## **Pass Statement**"
      ],
      "metadata": {
        "id": "xlZ1eACM3jmf"
      }
    },
    {
      "cell_type": "code",
      "source": [
        "l = [[9.5,8.2,7.3,5], [5.6,9.8,10,7.1,6], [6.2,7.5,9.3]]\n",
        "\n",
        "for cgpa_list in l:\n",
        "  for curr_cgpa in cgpa_list:\n",
        "     # Currently don't know what to decide we use pass\n",
        "\n",
        "  print(\"Award Cermony in College\")\n",
        "  print(\"Parties in College\")"
      ],
      "metadata": {
        "colab": {
          "base_uri": "https://localhost:8080/",
          "height": 106
        },
        "id": "RTyu4VrT1X5u",
        "outputId": "5fa77e3b-5f70-4299-8a2f-a881005d56c5"
      },
      "execution_count": 25,
      "outputs": [
        {
          "output_type": "error",
          "ename": "IndentationError",
          "evalue": "expected an indented block after 'for' statement on line 4 (<ipython-input-25-a41836d283a1>, line 7)",
          "traceback": [
            "\u001b[0;36m  File \u001b[0;32m\"<ipython-input-25-a41836d283a1>\"\u001b[0;36m, line \u001b[0;32m7\u001b[0m\n\u001b[0;31m    print(\"Award Cermony in College\")\u001b[0m\n\u001b[0m    ^\u001b[0m\n\u001b[0;31mIndentationError\u001b[0m\u001b[0;31m:\u001b[0m expected an indented block after 'for' statement on line 4\n"
          ]
        }
      ]
    },
    {
      "cell_type": "code",
      "source": [
        "l = [[9.5,8.2,7.3,5], [5.6,9.8,10,7.1,6], [6.2,7.5,9.3]]\n",
        "\n",
        "for cgpa_list in l:\n",
        "  for curr_cgpa in cgpa_list:\n",
        "     # Currently don't know what to decide we use pass\n",
        "     pass\n",
        "  print(\"Award Cermony in College\")\n",
        "  print(\"Parties in College\")"
      ],
      "metadata": {
        "colab": {
          "base_uri": "https://localhost:8080/"
        },
        "id": "VWZImN8B4M2G",
        "outputId": "bf5aa258-1095-4595-c4bb-aa42d4d3ff8c"
      },
      "execution_count": 26,
      "outputs": [
        {
          "output_type": "stream",
          "name": "stdout",
          "text": [
            "Award Cermony in College\n",
            "Parties in College\n",
            "Award Cermony in College\n",
            "Parties in College\n",
            "Award Cermony in College\n",
            "Parties in College\n"
          ]
        }
      ]
    },
    {
      "cell_type": "code",
      "source": [
        "l = [[9.5,8.2,7.3,5], [5.6,9.8,10,7.1,6], [6.2,7.5,9.3]]\n",
        "\n",
        "for cgpa_list in l:\n",
        "  for curr_cgpa in cgpa_list:\n",
        "     # Currently don't know what to decide we use pass\n",
        "     pass\n",
        "     print(curr_cgpa)\n",
        "  print(\"Award Cermony in College\")\n",
        "  print(\"Parties in College\")"
      ],
      "metadata": {
        "colab": {
          "base_uri": "https://localhost:8080/"
        },
        "id": "TT9B1P7A4U3R",
        "outputId": "4ddd4148-c6e7-466d-c4de-c2b3f7a0341a"
      },
      "execution_count": 27,
      "outputs": [
        {
          "output_type": "stream",
          "name": "stdout",
          "text": [
            "9.5\n",
            "8.2\n",
            "7.3\n",
            "5\n",
            "Award Cermony in College\n",
            "Parties in College\n",
            "5.6\n",
            "9.8\n",
            "10\n",
            "7.1\n",
            "6\n",
            "Award Cermony in College\n",
            "Parties in College\n",
            "6.2\n",
            "7.5\n",
            "9.3\n",
            "Award Cermony in College\n",
            "Parties in College\n"
          ]
        }
      ]
    },
    {
      "cell_type": "code",
      "source": [
        "l = [10, 20, 30, 40]\n",
        "\n",
        "for val in l:\n",
        "  if val > 20:\n",
        "    continue\n",
        "  print(\"Value: \", val)"
      ],
      "metadata": {
        "colab": {
          "base_uri": "https://localhost:8080/"
        },
        "id": "bgMUtjQa40A-",
        "outputId": "d29e327b-79e7-4209-96f0-cfe625c4fd82"
      },
      "execution_count": 28,
      "outputs": [
        {
          "output_type": "stream",
          "name": "stdout",
          "text": [
            "Value:  10\n",
            "Value:  20\n"
          ]
        }
      ]
    },
    {
      "cell_type": "code",
      "source": [
        "l = [10, 20, 30, 40]\n",
        "\n",
        "for val in l:\n",
        "  if val > 20:\n",
        "    pass  # Will not do anything --> Empty function\n",
        "  print(\"Value: \", val)"
      ],
      "metadata": {
        "colab": {
          "base_uri": "https://localhost:8080/"
        },
        "id": "F5wkLIFk5hO6",
        "outputId": "892d7966-782f-4579-f077-f1db3e96a801"
      },
      "execution_count": 29,
      "outputs": [
        {
          "output_type": "stream",
          "name": "stdout",
          "text": [
            "Value:  10\n",
            "Value:  20\n",
            "Value:  30\n",
            "Value:  40\n"
          ]
        }
      ]
    },
    {
      "cell_type": "code",
      "source": [
        "l = [10,20,30,40]\n",
        "\n",
        "for value in l:\n",
        "  if value>20:\n",
        "    # adding a line single comment\n",
        "  print(\"Value: \", value)"
      ],
      "metadata": {
        "colab": {
          "base_uri": "https://localhost:8080/",
          "height": 106
        },
        "id": "qk_BJVx95lKd",
        "outputId": "22fd6df3-9020-4116-9440-d7b0ff8df253"
      },
      "execution_count": 30,
      "outputs": [
        {
          "output_type": "error",
          "ename": "IndentationError",
          "evalue": "expected an indented block after 'if' statement on line 4 (<ipython-input-30-270a9c82fd1c>, line 6)",
          "traceback": [
            "\u001b[0;36m  File \u001b[0;32m\"<ipython-input-30-270a9c82fd1c>\"\u001b[0;36m, line \u001b[0;32m6\u001b[0m\n\u001b[0;31m    print(\"Value: \", value)\u001b[0m\n\u001b[0m    ^\u001b[0m\n\u001b[0;31mIndentationError\u001b[0m\u001b[0;31m:\u001b[0m expected an indented block after 'if' statement on line 4\n"
          ]
        }
      ]
    },
    {
      "cell_type": "markdown",
      "source": [
        "### **Else With Loops**\n",
        "- **If there is no break statement in the loop then the else block will be executed**"
      ],
      "metadata": {
        "id": "r0-31G7V9JtT"
      }
    },
    {
      "cell_type": "code",
      "source": [
        "l = [10, 20, 30, 40, 50, 60]\n",
        "total_val = 0\n",
        "for val in l:\n",
        "  total_val += val\n",
        "  print(\"Current Total Vale: \", total_val)\n",
        "else:\n",
        "  print('In Else block of for loop')\n",
        "\n",
        "print(\"Outside for loop\")"
      ],
      "metadata": {
        "colab": {
          "base_uri": "https://localhost:8080/"
        },
        "id": "5lod_YOx7Mnw",
        "outputId": "bdfee94f-0318-44d9-9012-1f329fb19a72"
      },
      "execution_count": 32,
      "outputs": [
        {
          "output_type": "stream",
          "name": "stdout",
          "text": [
            "Current Total Vale:  10\n",
            "Current Total Vale:  30\n",
            "Current Total Vale:  60\n",
            "Current Total Vale:  100\n",
            "Current Total Vale:  150\n",
            "Current Total Vale:  210\n",
            "In Else block of for loop\n",
            "Outside for loop\n"
          ]
        }
      ]
    },
    {
      "cell_type": "code",
      "source": [
        "l = [10, 20, 30, 40, 50, 60]\n",
        "total_val = 0\n",
        "for val in l:\n",
        "  total_val += val\n",
        "  print(\"Current Total Vale: \", total_val)\n",
        "  if val == 45:\n",
        "    break\n",
        "else:\n",
        "  print('In Else block of for loop')\n",
        "\n",
        "print(\"Outside for loop\")"
      ],
      "metadata": {
        "colab": {
          "base_uri": "https://localhost:8080/"
        },
        "id": "EkWYLvDk9tfZ",
        "outputId": "bb4b8168-8400-4d70-8a3d-684c45601777"
      },
      "execution_count": 35,
      "outputs": [
        {
          "output_type": "stream",
          "name": "stdout",
          "text": [
            "Current Total Vale:  10\n",
            "Current Total Vale:  30\n",
            "Current Total Vale:  60\n",
            "Current Total Vale:  100\n",
            "Current Total Vale:  150\n",
            "Current Total Vale:  210\n",
            "In Else block of for loop\n",
            "Outside for loop\n"
          ]
        }
      ]
    },
    {
      "cell_type": "code",
      "source": [
        "l = [10, 20, 30, 45, 50, 60]\n",
        "total_val = 0\n",
        "for val in l:\n",
        "  total_val += val\n",
        "  print(\"Current Total Vale: \", total_val)\n",
        "  if val == 45:\n",
        "    break\n",
        "else:\n",
        "  print('In Else block of for loop')\n",
        "\n",
        "print(\"Outside for loop\")"
      ],
      "metadata": {
        "colab": {
          "base_uri": "https://localhost:8080/"
        },
        "id": "kOGusuDf96vM",
        "outputId": "4510dce2-dcba-4c18-bfef-1ee8fb676f6b"
      },
      "execution_count": 36,
      "outputs": [
        {
          "output_type": "stream",
          "name": "stdout",
          "text": [
            "Current Total Vale:  10\n",
            "Current Total Vale:  30\n",
            "Current Total Vale:  60\n",
            "Current Total Vale:  105\n",
            "Outside for loop\n"
          ]
        }
      ]
    },
    {
      "cell_type": "code",
      "source": [
        "rcb_main_5 = [\"virat\", \"faf\", \"maxi\", \"dhoni\", \"rohit\"]\n",
        "\n",
        "for player in rcb_main_5:\n",
        "  print(\"Current Player: \", player)\n",
        "  if player == \"abd\":\n",
        "    break\n",
        "else:\n",
        "  print(\"Else block of for loop\")\n",
        "print(\"Outside for loop\")"
      ],
      "metadata": {
        "colab": {
          "base_uri": "https://localhost:8080/"
        },
        "id": "YoBpjtxk-BlV",
        "outputId": "3d9fb57c-211b-4366-ada3-e0778ff1345a"
      },
      "execution_count": 38,
      "outputs": [
        {
          "output_type": "stream",
          "name": "stdout",
          "text": [
            "Current Player:  virat\n",
            "Current Player:  faf\n",
            "Current Player:  maxi\n",
            "Current Player:  dhoni\n",
            "Current Player:  rohit\n",
            "Else block of for loop\n",
            "Outside for loop\n"
          ]
        }
      ]
    },
    {
      "cell_type": "code",
      "source": [
        "rcb_main_5 = [\"virat\", \"faf\", \"maxi\", \"abd\", \"dhoni\", \"rohit\"]\n",
        "\n",
        "for player in rcb_main_5:\n",
        "  print(\"Current Player: \", player)\n",
        "  if player == \"abd\":\n",
        "    print(\"Inside Break\")\n",
        "    break\n",
        "else:\n",
        "  print(\"Else block of for loop\")\n",
        "print(\"Outside for loop\")"
      ],
      "metadata": {
        "colab": {
          "base_uri": "https://localhost:8080/"
        },
        "id": "0bb1ldZJ_KpE",
        "outputId": "5e27fa89-b021-4aa5-a452-ed36653158a8"
      },
      "execution_count": 41,
      "outputs": [
        {
          "output_type": "stream",
          "name": "stdout",
          "text": [
            "Current Player:  virat\n",
            "Current Player:  faf\n",
            "Current Player:  maxi\n",
            "Current Player:  abd\n",
            "Inside Break\n",
            "Outside for loop\n"
          ]
        }
      ]
    },
    {
      "cell_type": "code",
      "source": [
        "l = [[1, 2, 3, 4, 5], [6, 7, 9, 11]]\n",
        "\n",
        "for curr_list in l:\n",
        "  for val in curr_list:\n",
        "    if val == 5:\n",
        "      break\n",
        "  else:\n",
        "    print(\"Else block of inner loop\")\n",
        "else:\n",
        "  print(\"Els block of outer loop\")\n",
        "\n",
        "print(\"Outside of loop\")"
      ],
      "metadata": {
        "colab": {
          "base_uri": "https://localhost:8080/"
        },
        "id": "g2zeFAEDAVxF",
        "outputId": "8e06dd5b-90f2-46fc-b439-220660fc7f9e"
      },
      "execution_count": 42,
      "outputs": [
        {
          "output_type": "stream",
          "name": "stdout",
          "text": [
            "Else block of inner loop\n",
            "Els block of outer loop\n",
            "Outside of loop\n"
          ]
        }
      ]
    },
    {
      "cell_type": "code",
      "source": [
        "i = 0\n",
        "n = 10\n",
        "\n",
        "while i < n:\n",
        "  print(\"Value i: \", i)\n",
        "  if i == 7 and i < 5:\n",
        "    break\n",
        "  i += 1\n",
        "else:\n",
        "  print(\"Else block of while loop\")\n",
        "print(\"Outside while loop\")\n"
      ],
      "metadata": {
        "colab": {
          "base_uri": "https://localhost:8080/"
        },
        "id": "rCymRKQABKXp",
        "outputId": "6f29b9d6-d6b9-4744-ce55-21dd2a3a97d4"
      },
      "execution_count": 43,
      "outputs": [
        {
          "output_type": "stream",
          "name": "stdout",
          "text": [
            "Value i:  0\n",
            "Value i:  1\n",
            "Value i:  2\n",
            "Value i:  3\n",
            "Value i:  4\n",
            "Value i:  5\n",
            "Value i:  6\n",
            "Value i:  7\n",
            "Value i:  8\n",
            "Value i:  9\n",
            "Else block of while loop\n",
            "Outside while loop\n"
          ]
        }
      ]
    },
    {
      "cell_type": "code",
      "source": [
        "i = 0\n",
        "n = 10\n",
        "\n",
        "while i < n:\n",
        "  print(\"Value i: \", i)\n",
        "  if i == 7:\n",
        "    print(\"Shanmukh\")\n",
        "  i += 1\n",
        "else:\n",
        "  print(\"Else block of while loop\")\n",
        "print(\"Outside while loop\")"
      ],
      "metadata": {
        "colab": {
          "base_uri": "https://localhost:8080/"
        },
        "id": "NEL6djGrCM8r",
        "outputId": "e4aa128e-513c-45ea-bd56-68cc86f4dd1e"
      },
      "execution_count": 45,
      "outputs": [
        {
          "output_type": "stream",
          "name": "stdout",
          "text": [
            "Value i:  0\n",
            "Value i:  1\n",
            "Value i:  2\n",
            "Value i:  3\n",
            "Value i:  4\n",
            "Value i:  5\n",
            "Value i:  6\n",
            "Value i:  7\n",
            "Shanmukh\n",
            "Value i:  8\n",
            "Value i:  9\n",
            "Else block of while loop\n",
            "Outside while loop\n"
          ]
        }
      ]
    },
    {
      "cell_type": "code",
      "source": [
        "i = 0\n",
        "n = 10\n",
        "\n",
        "while i < n:\n",
        "  print(\"Value i: \", i)\n",
        "  if i == 7:\n",
        "    print(\"Inside if block\")\n",
        "    break\n",
        "  i += 1\n",
        "else:\n",
        "  print(\"Else block of while loop\")\n",
        "print(\"Outside while loop\")"
      ],
      "metadata": {
        "colab": {
          "base_uri": "https://localhost:8080/"
        },
        "id": "sjShEaMDCWJM",
        "outputId": "7c17187f-c97b-4fd0-e444-701dab44b22a"
      },
      "execution_count": 46,
      "outputs": [
        {
          "output_type": "stream",
          "name": "stdout",
          "text": [
            "Value i:  0\n",
            "Value i:  1\n",
            "Value i:  2\n",
            "Value i:  3\n",
            "Value i:  4\n",
            "Value i:  5\n",
            "Value i:  6\n",
            "Value i:  7\n",
            "Inside if block\n",
            "Outside while loop\n"
          ]
        }
      ]
    },
    {
      "cell_type": "code",
      "source": [
        "# i = 1\n",
        "# while i < 10:\n",
        "#   print(\"Value of i: \", i)\n",
        "#   i = i // 2\n",
        "# # Infinite Loop\n"
      ],
      "metadata": {
        "id": "r7QbDM-4Cg9D"
      },
      "execution_count": 48,
      "outputs": []
    },
    {
      "cell_type": "code",
      "source": [
        "count = 0\n",
        "for i in range(3):\n",
        "  for j in range(3):\n",
        "    if (i + j) < 3:\n",
        "      count += 1\n",
        "print(count)"
      ],
      "metadata": {
        "colab": {
          "base_uri": "https://localhost:8080/"
        },
        "id": "DsTx4rK5DMhw",
        "outputId": "67bce891-4879-4acb-dded-b9588c80f0df"
      },
      "execution_count": 50,
      "outputs": [
        {
          "output_type": "stream",
          "name": "stdout",
          "text": [
            "6\n"
          ]
        }
      ]
    },
    {
      "cell_type": "code",
      "source": [
        "count = 0\n",
        "for i in range(4):\n",
        "  for j in range(4):\n",
        "    if i == 2 and j > 1:\n",
        "      continue\n",
        "    count += 1\n",
        "print(count)"
      ],
      "metadata": {
        "colab": {
          "base_uri": "https://localhost:8080/"
        },
        "id": "mP0ePKuhEHAe",
        "outputId": "cb639ae0-9e0d-4a71-f04c-e917888545f5"
      },
      "execution_count": 51,
      "outputs": [
        {
          "output_type": "stream",
          "name": "stdout",
          "text": [
            "14\n"
          ]
        }
      ]
    },
    {
      "cell_type": "code",
      "source": [
        "k = 0\n",
        "for i in range(5):\n",
        "  for j in range(i, 5):\n",
        "    k += i + j\n",
        "print(k)"
      ],
      "metadata": {
        "colab": {
          "base_uri": "https://localhost:8080/"
        },
        "id": "OuZ7hgayKvPw",
        "outputId": "8ccd4d46-c025-4e99-867d-8c2272645441"
      },
      "execution_count": 53,
      "outputs": [
        {
          "output_type": "stream",
          "name": "stdout",
          "text": [
            "60\n"
          ]
        }
      ]
    },
    {
      "cell_type": "code",
      "source": [],
      "metadata": {
        "id": "Qd0aNjXWL5ta"
      },
      "execution_count": null,
      "outputs": []
    }
  ]
}