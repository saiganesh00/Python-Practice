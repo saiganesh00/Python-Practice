{
  "nbformat": 4,
  "nbformat_minor": 0,
  "metadata": {
    "colab": {
      "provenance": [],
      "authorship_tag": "ABX9TyOwYg6K9+9+vGlOCP7kBghL",
      "include_colab_link": true
    },
    "kernelspec": {
      "name": "python3",
      "display_name": "Python 3"
    },
    "language_info": {
      "name": "python"
    }
  },
  "cells": [
    {
      "cell_type": "markdown",
      "metadata": {
        "id": "view-in-github",
        "colab_type": "text"
      },
      "source": [
        "<a href=\"https://colab.research.google.com/github/saiganesh00/Python-Practice/blob/main/Python_Class_15.ipynb\" target=\"_parent\"><img src=\"https://colab.research.google.com/assets/colab-badge.svg\" alt=\"Open In Colab\"/></a>"
      ]
    },
    {
      "cell_type": "markdown",
      "source": [
        "## **Problem Solving**"
      ],
      "metadata": {
        "id": "oGIskrQtSzPv"
      }
    },
    {
      "cell_type": "markdown",
      "source": [
        "### **Which of the following is valid ?**\n",
        "- 1. x + y = 2\n",
        "- 2. x * x = 3\n",
        "- 3. xy = 5\n",
        "- 4. x - y = 12\n",
        "\n",
        "**Ans: 3**"
      ],
      "metadata": {
        "id": "MZi-w3BqTx1J"
      }
    },
    {
      "cell_type": "code",
      "execution_count": null,
      "metadata": {
        "colab": {
          "base_uri": "https://localhost:8080/"
        },
        "id": "iIlV5HD-SFwt",
        "outputId": "148acba6-fb76-426f-b6a5-daa5dc5e6daa"
      },
      "outputs": [
        {
          "output_type": "stream",
          "name": "stdout",
          "text": [
            "umbrella ella ella ella \n"
          ]
        }
      ],
      "source": [
        "once = \"umbr\"\n",
        "repeat = \"ella\"\n",
        "u = once + (repeat + \" \")*4\n",
        "print(u)"
      ]
    },
    {
      "cell_type": "code",
      "source": [
        "us_gold = 46\n",
        "uk_gold = 27\n",
        "ru_gold = 1\n",
        "\n",
        "total_gold = us_gold + uk_gold + ru_gold\n",
        "print(total_gold)\n",
        "ru_gold += 100\n",
        "print(total_gold)"
      ],
      "metadata": {
        "colab": {
          "base_uri": "https://localhost:8080/"
        },
        "id": "NffZt2iWUtUJ",
        "outputId": "eeefed0b-5f13-43eb-9081-a8c6d4b3df5e"
      },
      "execution_count": null,
      "outputs": [
        {
          "output_type": "stream",
          "name": "stdout",
          "text": [
            "74\n",
            "74\n"
          ]
        }
      ]
    },
    {
      "cell_type": "markdown",
      "source": [
        "### **Which of the following is a valid variable ?**\n",
        "- 1. For\n",
        "- 2. While\n",
        "- 3. In\n",
        "- 4. 123In\n",
        "\n",
        "**Ans: 1, 2, 3**"
      ],
      "metadata": {
        "id": "kumULCqNWTMQ"
      }
    },
    {
      "cell_type": "markdown",
      "source": [
        "### **What is printed when you type \"Right\" in the input entry of the following code ?**\n"
      ],
      "metadata": {
        "id": "DsZ28-eRWx9D"
      }
    },
    {
      "cell_type": "code",
      "source": [
        "n = input(\"Type Something: \")\n",
        "while n == \"right\":\n",
        "  print(\"You are correct\")\n",
        "print(\"Incorrect answer\")"
      ],
      "metadata": {
        "colab": {
          "base_uri": "https://localhost:8080/"
        },
        "id": "w-NpTOdbUyd0",
        "outputId": "88a06f46-ba98-4df6-dde3-1423e0a1ddeb"
      },
      "execution_count": null,
      "outputs": [
        {
          "output_type": "stream",
          "name": "stdout",
          "text": [
            "Type Something: Right\n",
            "Incorrect answer\n"
          ]
        }
      ]
    },
    {
      "cell_type": "markdown",
      "source": [
        "### **What does the below code print ?**"
      ],
      "metadata": {
        "id": "CfbIk2llXruy"
      }
    },
    {
      "cell_type": "code",
      "source": [
        "s = \"6:00 is 6.0001 and 6.0002\"\n",
        "new_str = \"\"\n",
        "new_str += s[0]\n",
        "new_str += s[4::30]\n",
        "new_str += s[13:10:-1]\n",
        "print(new_str)"
      ],
      "metadata": {
        "colab": {
          "base_uri": "https://localhost:8080/"
        },
        "id": "DLvoiLPBXbxl",
        "outputId": "bbd57c6d-89e1-4af3-e19b-75d368c6e24e"
      },
      "execution_count": null,
      "outputs": [
        {
          "output_type": "stream",
          "name": "stdout",
          "text": [
            "6 100\n"
          ]
        }
      ]
    },
    {
      "cell_type": "markdown",
      "source": [
        "### **How many times \"GATE DA\" will be printed in below code ?**\n"
      ],
      "metadata": {
        "id": "syqznek5ad5T"
      }
    },
    {
      "cell_type": "code",
      "source": [
        "s1 = \"mit u rock\"\n",
        "s2 = \"i rule mit\"\n",
        "\n",
        "if len(s1) == len(s2):\n",
        "  for char1 in s1:\n",
        "    for char2 in s2:\n",
        "      if char1 == char2:\n",
        "        print(\"GATE DA\")\n",
        "        break"
      ],
      "metadata": {
        "colab": {
          "base_uri": "https://localhost:8080/"
        },
        "id": "v6Qy5lBqYFG1",
        "outputId": "99e102d3-0ba6-4a43-fc09-e530282fba9f"
      },
      "execution_count": null,
      "outputs": [
        {
          "output_type": "stream",
          "name": "stdout",
          "text": [
            "GATE DA\n",
            "GATE DA\n",
            "GATE DA\n",
            "GATE DA\n",
            "GATE DA\n",
            "GATE DA\n",
            "GATE DA\n"
          ]
        }
      ]
    },
    {
      "cell_type": "markdown",
      "source": [
        "### **What does the below code print ?**"
      ],
      "metadata": {
        "id": "FskO_NGvdeKz"
      }
    },
    {
      "cell_type": "code",
      "source": [
        "l = [\"life\", \"answer\", 42, 0]\n",
        "for v in l:\n",
        "  if v == 0:\n",
        "    l[v] = \"Venky\"\n",
        "  elif v == 42:\n",
        "    l[3] = \"Venky\"\n",
        "    l[1] = 0\n",
        "print(l)"
      ],
      "metadata": {
        "colab": {
          "base_uri": "https://localhost:8080/"
        },
        "id": "JZvKUcaRa_cf",
        "outputId": "2a8c4995-e2e4-4b76-cc39-13d139926dae"
      },
      "execution_count": null,
      "outputs": [
        {
          "output_type": "stream",
          "name": "stdout",
          "text": [
            "['life', 0, 42, 'Venky']\n"
          ]
        }
      ]
    },
    {
      "cell_type": "markdown",
      "source": [
        "### **What is the value of l3 after the execution of the program?**"
      ],
      "metadata": {
        "id": "ZaJJNPSfgA8Q"
      }
    },
    {
      "cell_type": "code",
      "source": [
        "l1 = ['re']\n",
        "l2 = ['mi']\n",
        "l3 = ['do']\n",
        "l4 = l1 + l2\n",
        "l3.extend(l4)\n",
        "l3.sort()\n",
        "del l3[0]\n",
        "l3.append(['fa', 'la'])\n",
        "print(l3)"
      ],
      "metadata": {
        "colab": {
          "base_uri": "https://localhost:8080/"
        },
        "id": "MP_wNb0-dXPc",
        "outputId": "b4735aab-c55d-451a-89d5-3331e60c04f3"
      },
      "execution_count": null,
      "outputs": [
        {
          "output_type": "stream",
          "name": "stdout",
          "text": [
            "['mi', 're', ['fa', 'la']]\n"
          ]
        }
      ]
    },
    {
      "cell_type": "markdown",
      "source": [
        "### **What does the below code print ?**"
      ],
      "metadata": {
        "id": "h7tjkwe0h1LH"
      }
    },
    {
      "cell_type": "code",
      "source": [
        "l = 3\n",
        "for i in range(len(l)):\n",
        "  print(i)"
      ],
      "metadata": {
        "colab": {
          "base_uri": "https://localhost:8080/",
          "height": 176
        },
        "id": "rlrDlHLDgs5I",
        "outputId": "fbd37d39-bbaa-4794-d07f-485adf44b847"
      },
      "execution_count": null,
      "outputs": [
        {
          "output_type": "error",
          "ename": "TypeError",
          "evalue": "object of type 'int' has no len()",
          "traceback": [
            "\u001b[0;31m---------------------------------------------------------------------------\u001b[0m",
            "\u001b[0;31mTypeError\u001b[0m                                 Traceback (most recent call last)",
            "\u001b[0;32m<ipython-input-1-8e018571d295>\u001b[0m in \u001b[0;36m<cell line: 2>\u001b[0;34m()\u001b[0m\n\u001b[1;32m      1\u001b[0m \u001b[0ml\u001b[0m \u001b[0;34m=\u001b[0m \u001b[0;36m3\u001b[0m\u001b[0;34m\u001b[0m\u001b[0;34m\u001b[0m\u001b[0m\n\u001b[0;32m----> 2\u001b[0;31m \u001b[0;32mfor\u001b[0m \u001b[0mi\u001b[0m \u001b[0;32min\u001b[0m \u001b[0mrange\u001b[0m\u001b[0;34m(\u001b[0m\u001b[0mlen\u001b[0m\u001b[0;34m(\u001b[0m\u001b[0ml\u001b[0m\u001b[0;34m)\u001b[0m\u001b[0;34m)\u001b[0m\u001b[0;34m:\u001b[0m\u001b[0;34m\u001b[0m\u001b[0;34m\u001b[0m\u001b[0m\n\u001b[0m\u001b[1;32m      3\u001b[0m   \u001b[0mprint\u001b[0m\u001b[0;34m(\u001b[0m\u001b[0mi\u001b[0m\u001b[0;34m)\u001b[0m\u001b[0;34m\u001b[0m\u001b[0;34m\u001b[0m\u001b[0m\n",
            "\u001b[0;31mTypeError\u001b[0m: object of type 'int' has no len()"
          ]
        }
      ]
    },
    {
      "cell_type": "markdown",
      "source": [
        "### **What does the below code print ?**"
      ],
      "metadata": {
        "id": "AT2L7dsK8E-Z"
      }
    },
    {
      "cell_type": "code",
      "source": [
        "l = 3\n",
        "for i in range(len(l)):\n",
        "  print(i)"
      ],
      "metadata": {
        "id": "NRAR8BUdiEDj",
        "outputId": "af1893ef-7c54-4202-b1c6-515670976fce",
        "colab": {
          "base_uri": "https://localhost:8080/",
          "height": 176
        }
      },
      "execution_count": null,
      "outputs": [
        {
          "output_type": "error",
          "ename": "TypeError",
          "evalue": "object of type 'int' has no len()",
          "traceback": [
            "\u001b[0;31m---------------------------------------------------------------------------\u001b[0m",
            "\u001b[0;31mTypeError\u001b[0m                                 Traceback (most recent call last)",
            "\u001b[0;32m<ipython-input-1-8e018571d295>\u001b[0m in \u001b[0;36m<cell line: 2>\u001b[0;34m()\u001b[0m\n\u001b[1;32m      1\u001b[0m \u001b[0ml\u001b[0m \u001b[0;34m=\u001b[0m \u001b[0;36m3\u001b[0m\u001b[0;34m\u001b[0m\u001b[0;34m\u001b[0m\u001b[0m\n\u001b[0;32m----> 2\u001b[0;31m \u001b[0;32mfor\u001b[0m \u001b[0mi\u001b[0m \u001b[0;32min\u001b[0m \u001b[0mrange\u001b[0m\u001b[0;34m(\u001b[0m\u001b[0mlen\u001b[0m\u001b[0;34m(\u001b[0m\u001b[0ml\u001b[0m\u001b[0;34m)\u001b[0m\u001b[0;34m)\u001b[0m\u001b[0;34m:\u001b[0m\u001b[0;34m\u001b[0m\u001b[0;34m\u001b[0m\u001b[0m\n\u001b[0m\u001b[1;32m      3\u001b[0m   \u001b[0mprint\u001b[0m\u001b[0;34m(\u001b[0m\u001b[0mi\u001b[0m\u001b[0;34m)\u001b[0m\u001b[0;34m\u001b[0m\u001b[0;34m\u001b[0m\u001b[0m\n",
            "\u001b[0;31mTypeError\u001b[0m: object of type 'int' has no len()"
          ]
        }
      ]
    },
    {
      "cell_type": "markdown",
      "source": [
        "### **What does the below code print ?**"
      ],
      "metadata": {
        "id": "NBvJA904qLYR"
      }
    },
    {
      "cell_type": "code",
      "source": [
        "l1 = ['bacon', 'eggs']\n",
        "l2 = ['toast', 'jam']\n",
        "brunch = l1\n",
        "l1.append('juice')\n",
        "brunch.extend(l2)\n",
        "print(brunch)"
      ],
      "metadata": {
        "id": "gX9zpim-Mr17",
        "colab": {
          "base_uri": "https://localhost:8080/"
        },
        "outputId": "954ea058-d55d-472c-f53c-9ba77afdcbba"
      },
      "execution_count": null,
      "outputs": [
        {
          "output_type": "stream",
          "name": "stdout",
          "text": [
            "['bacon', 'eggs', 'juice', 'toast', 'jam']\n"
          ]
        }
      ]
    },
    {
      "cell_type": "markdown",
      "source": [
        "### **What is the output of the below code ?**"
      ],
      "metadata": {
        "id": "t8bzk0HfRaLX"
      }
    },
    {
      "cell_type": "code",
      "source": [
        "any([2 > 8, 4 > 2, 1 > 2])"
      ],
      "metadata": {
        "id": "mXvFJXrdrLzH",
        "colab": {
          "base_uri": "https://localhost:8080/"
        },
        "outputId": "47eb253e-bdf1-4946-9709-74dc3ee4515c"
      },
      "execution_count": 1,
      "outputs": [
        {
          "output_type": "execute_result",
          "data": {
            "text/plain": [
              "True"
            ]
          },
          "metadata": {},
          "execution_count": 1
        }
      ]
    },
    {
      "cell_type": "code",
      "source": [
        "all([2 > 8, 4 > 2, 1 > 2])"
      ],
      "metadata": {
        "colab": {
          "base_uri": "https://localhost:8080/"
        },
        "id": "q5PaG717UVyY",
        "outputId": "7de0269b-5f60-4a30-a976-92e644950700"
      },
      "execution_count": 3,
      "outputs": [
        {
          "output_type": "execute_result",
          "data": {
            "text/plain": [
              "False"
            ]
          },
          "metadata": {},
          "execution_count": 3
        }
      ]
    },
    {
      "cell_type": "markdown",
      "source": [
        "### **What is the output of the below code ?**"
      ],
      "metadata": {
        "id": "5UUOnipMVQqT"
      }
    },
    {
      "cell_type": "code",
      "source": [
        "all(3, 0.4, 2)"
      ],
      "metadata": {
        "colab": {
          "base_uri": "https://localhost:8080/",
          "height": 141
        },
        "id": "EsrEIPe_U9-8",
        "outputId": "baf66be3-558e-4ab7-ef5f-9e73b67cd6a8"
      },
      "execution_count": 4,
      "outputs": [
        {
          "output_type": "error",
          "ename": "TypeError",
          "evalue": "all() takes exactly one argument (3 given)",
          "traceback": [
            "\u001b[0;31m---------------------------------------------------------------------------\u001b[0m",
            "\u001b[0;31mTypeError\u001b[0m                                 Traceback (most recent call last)",
            "\u001b[0;32m<ipython-input-4-8ab6340c7a5a>\u001b[0m in \u001b[0;36m<cell line: 1>\u001b[0;34m()\u001b[0m\n\u001b[0;32m----> 1\u001b[0;31m \u001b[0mall\u001b[0m\u001b[0;34m(\u001b[0m\u001b[0;36m3\u001b[0m\u001b[0;34m,\u001b[0m \u001b[0;36m0.4\u001b[0m\u001b[0;34m,\u001b[0m \u001b[0;36m2\u001b[0m\u001b[0;34m)\u001b[0m\u001b[0;34m\u001b[0m\u001b[0;34m\u001b[0m\u001b[0m\n\u001b[0m",
            "\u001b[0;31mTypeError\u001b[0m: all() takes exactly one argument (3 given)"
          ]
        }
      ]
    },
    {
      "cell_type": "code",
      "source": [
        "all([3, 0.4, 2])"
      ],
      "metadata": {
        "colab": {
          "base_uri": "https://localhost:8080/"
        },
        "id": "-8nBzmTyVWwb",
        "outputId": "b8917e63-497c-4031-d3b1-3506eb706aa6"
      },
      "execution_count": 5,
      "outputs": [
        {
          "output_type": "execute_result",
          "data": {
            "text/plain": [
              "True"
            ]
          },
          "metadata": {},
          "execution_count": 5
        }
      ]
    },
    {
      "cell_type": "code",
      "source": [
        "bool(0.4)"
      ],
      "metadata": {
        "colab": {
          "base_uri": "https://localhost:8080/"
        },
        "id": "j0EhDQL_VZf6",
        "outputId": "cc3aeb84-c8e7-4dba-9dd2-dc72ac6af543"
      },
      "execution_count": 6,
      "outputs": [
        {
          "output_type": "execute_result",
          "data": {
            "text/plain": [
              "True"
            ]
          },
          "metadata": {},
          "execution_count": 6
        }
      ]
    },
    {
      "cell_type": "markdown",
      "source": [
        "### **Find the output of below code ?**"
      ],
      "metadata": {
        "id": "X_t1bGjoV6TM"
      }
    },
    {
      "cell_type": "code",
      "source": [
        "sum(2, 4, 6)"
      ],
      "metadata": {
        "colab": {
          "base_uri": "https://localhost:8080/",
          "height": 141
        },
        "id": "E920FyzaVjZ6",
        "outputId": "3386e9a4-77eb-4cc6-942c-896102a8e4f4"
      },
      "execution_count": 7,
      "outputs": [
        {
          "output_type": "error",
          "ename": "TypeError",
          "evalue": "sum() takes at most 2 arguments (3 given)",
          "traceback": [
            "\u001b[0;31m---------------------------------------------------------------------------\u001b[0m",
            "\u001b[0;31mTypeError\u001b[0m                                 Traceback (most recent call last)",
            "\u001b[0;32m<ipython-input-7-e554e4d1a1ed>\u001b[0m in \u001b[0;36m<cell line: 1>\u001b[0;34m()\u001b[0m\n\u001b[0;32m----> 1\u001b[0;31m \u001b[0msum\u001b[0m\u001b[0;34m(\u001b[0m\u001b[0;36m2\u001b[0m\u001b[0;34m,\u001b[0m \u001b[0;36m4\u001b[0m\u001b[0;34m,\u001b[0m \u001b[0;36m6\u001b[0m\u001b[0;34m)\u001b[0m\u001b[0;34m\u001b[0m\u001b[0;34m\u001b[0m\u001b[0m\n\u001b[0m",
            "\u001b[0;31mTypeError\u001b[0m: sum() takes at most 2 arguments (3 given)"
          ]
        }
      ]
    },
    {
      "cell_type": "code",
      "source": [
        "sum([2, 4, 6])"
      ],
      "metadata": {
        "colab": {
          "base_uri": "https://localhost:8080/"
        },
        "id": "Zvq4Jou-WdiH",
        "outputId": "348ec285-70e9-45c0-94f9-eddb84c16fc6"
      },
      "execution_count": 8,
      "outputs": [
        {
          "output_type": "execute_result",
          "data": {
            "text/plain": [
              "12"
            ]
          },
          "metadata": {},
          "execution_count": 8
        }
      ]
    },
    {
      "cell_type": "markdown",
      "source": [
        "### **Find the output of below code ?**"
      ],
      "metadata": {
        "id": "sjjzpCheWvPO"
      }
    },
    {
      "cell_type": "code",
      "source": [
        "all([])"
      ],
      "metadata": {
        "colab": {
          "base_uri": "https://localhost:8080/"
        },
        "id": "12-U5ssjWfVy",
        "outputId": "567408ee-f138-47b2-af7a-066e91775de5"
      },
      "execution_count": 9,
      "outputs": [
        {
          "output_type": "execute_result",
          "data": {
            "text/plain": [
              "True"
            ]
          },
          "metadata": {},
          "execution_count": 9
        }
      ]
    },
    {
      "cell_type": "code",
      "source": [
        "any([])"
      ],
      "metadata": {
        "colab": {
          "base_uri": "https://localhost:8080/"
        },
        "id": "8FLuOPjPW54C",
        "outputId": "18e1a281-1485-42c9-fd25-88ef3485d456"
      },
      "execution_count": 10,
      "outputs": [
        {
          "output_type": "execute_result",
          "data": {
            "text/plain": [
              "False"
            ]
          },
          "metadata": {},
          "execution_count": 10
        }
      ]
    },
    {
      "cell_type": "code",
      "source": [
        "sum([1, 2, 3], 4)"
      ],
      "metadata": {
        "colab": {
          "base_uri": "https://localhost:8080/"
        },
        "id": "jx_UBasBW7Hh",
        "outputId": "3cff3a3d-e02c-4c6c-ccd6-5343882f947e"
      },
      "execution_count": 11,
      "outputs": [
        {
          "output_type": "execute_result",
          "data": {
            "text/plain": [
              "10"
            ]
          },
          "metadata": {},
          "execution_count": 11
        }
      ]
    },
    {
      "cell_type": "code",
      "source": [
        "sum([], [])"
      ],
      "metadata": {
        "colab": {
          "base_uri": "https://localhost:8080/"
        },
        "id": "sQaPtCHsXe0H",
        "outputId": "47502c46-372b-405a-9877-0df61412f536"
      },
      "execution_count": 12,
      "outputs": [
        {
          "output_type": "execute_result",
          "data": {
            "text/plain": [
              "[]"
            ]
          },
          "metadata": {},
          "execution_count": 12
        }
      ]
    },
    {
      "cell_type": "code",
      "source": [
        "sum([1, 2, 3], [2, 2])"
      ],
      "metadata": {
        "colab": {
          "base_uri": "https://localhost:8080/",
          "height": 141
        },
        "id": "kNAmIl8TXiAY",
        "outputId": "7c14f011-8c83-46ed-9bd2-ca2818d654b9"
      },
      "execution_count": 13,
      "outputs": [
        {
          "output_type": "error",
          "ename": "TypeError",
          "evalue": "can only concatenate list (not \"int\") to list",
          "traceback": [
            "\u001b[0;31m---------------------------------------------------------------------------\u001b[0m",
            "\u001b[0;31mTypeError\u001b[0m                                 Traceback (most recent call last)",
            "\u001b[0;32m<ipython-input-13-1cf245597275>\u001b[0m in \u001b[0;36m<cell line: 1>\u001b[0;34m()\u001b[0m\n\u001b[0;32m----> 1\u001b[0;31m \u001b[0msum\u001b[0m\u001b[0;34m(\u001b[0m\u001b[0;34m[\u001b[0m\u001b[0;36m1\u001b[0m\u001b[0;34m,\u001b[0m \u001b[0;36m2\u001b[0m\u001b[0;34m,\u001b[0m \u001b[0;36m3\u001b[0m\u001b[0;34m]\u001b[0m\u001b[0;34m,\u001b[0m \u001b[0;34m[\u001b[0m\u001b[0;36m2\u001b[0m\u001b[0;34m,\u001b[0m \u001b[0;36m2\u001b[0m\u001b[0;34m]\u001b[0m\u001b[0;34m)\u001b[0m\u001b[0;34m\u001b[0m\u001b[0;34m\u001b[0m\u001b[0m\n\u001b[0m",
            "\u001b[0;31mTypeError\u001b[0m: can only concatenate list (not \"int\") to list"
          ]
        }
      ]
    },
    {
      "cell_type": "code",
      "source": [
        "sum['1', '2', '3']"
      ],
      "metadata": {
        "colab": {
          "base_uri": "https://localhost:8080/",
          "height": 141
        },
        "id": "aYFDXsblX2ZL",
        "outputId": "eb6e706f-30f7-4388-9266-e5a9471de3c0"
      },
      "execution_count": 15,
      "outputs": [
        {
          "output_type": "error",
          "ename": "TypeError",
          "evalue": "'builtin_function_or_method' object is not subscriptable",
          "traceback": [
            "\u001b[0;31m---------------------------------------------------------------------------\u001b[0m",
            "\u001b[0;31mTypeError\u001b[0m                                 Traceback (most recent call last)",
            "\u001b[0;32m<ipython-input-15-ee619be9d974>\u001b[0m in \u001b[0;36m<cell line: 1>\u001b[0;34m()\u001b[0m\n\u001b[0;32m----> 1\u001b[0;31m \u001b[0msum\u001b[0m\u001b[0;34m[\u001b[0m\u001b[0;34m'1'\u001b[0m\u001b[0;34m,\u001b[0m \u001b[0;34m'2'\u001b[0m\u001b[0;34m,\u001b[0m \u001b[0;34m'3'\u001b[0m\u001b[0;34m]\u001b[0m\u001b[0;34m\u001b[0m\u001b[0;34m\u001b[0m\u001b[0m\n\u001b[0m",
            "\u001b[0;31mTypeError\u001b[0m: 'builtin_function_or_method' object is not subscriptable"
          ]
        }
      ]
    },
    {
      "cell_type": "code",
      "source": [
        "sum([2, 4, 6], 10)"
      ],
      "metadata": {
        "colab": {
          "base_uri": "https://localhost:8080/"
        },
        "id": "VrOEhguAXlEi",
        "outputId": "796860a9-9144-4828-ade6-6f5e880d67ba"
      },
      "execution_count": 16,
      "outputs": [
        {
          "output_type": "execute_result",
          "data": {
            "text/plain": [
              "22"
            ]
          },
          "metadata": {},
          "execution_count": 16
        }
      ]
    },
    {
      "cell_type": "markdown",
      "source": [
        "### **What is the output of following code ?**"
      ],
      "metadata": {
        "id": "LBYrIByMYQwc"
      }
    },
    {
      "cell_type": "code",
      "source": [
        "min(max(False, -3, -4), 2, 7)"
      ],
      "metadata": {
        "colab": {
          "base_uri": "https://localhost:8080/"
        },
        "id": "rb4oUIbXXyNC",
        "outputId": "094e6b7c-624f-4a55-b3b7-1804a166b263"
      },
      "execution_count": 17,
      "outputs": [
        {
          "output_type": "execute_result",
          "data": {
            "text/plain": [
              "False"
            ]
          },
          "metadata": {},
          "execution_count": 17
        }
      ]
    },
    {
      "cell_type": "code",
      "source": [
        "max(False, -3, -4)"
      ],
      "metadata": {
        "colab": {
          "base_uri": "https://localhost:8080/"
        },
        "id": "1WGQ2e6KYboI",
        "outputId": "0137d1a4-1144-4f77-a3f9-7ec87ba105f3"
      },
      "execution_count": 18,
      "outputs": [
        {
          "output_type": "execute_result",
          "data": {
            "text/plain": [
              "False"
            ]
          },
          "metadata": {},
          "execution_count": 18
        }
      ]
    },
    {
      "cell_type": "markdown",
      "source": [
        "### **What is the output of following code ?**"
      ],
      "metadata": {
        "id": "IpNz3PP3ZP_E"
      }
    },
    {
      "cell_type": "code",
      "source": [
        "list(enumerate([2, 3]))"
      ],
      "metadata": {
        "colab": {
          "base_uri": "https://localhost:8080/"
        },
        "id": "RIQAuokOYgQD",
        "outputId": "cd172bef-eaa4-407b-f547-362798a1c544"
      },
      "execution_count": 19,
      "outputs": [
        {
          "output_type": "execute_result",
          "data": {
            "text/plain": [
              "[(0, 2), (1, 3)]"
            ]
          },
          "metadata": {},
          "execution_count": 19
        }
      ]
    },
    {
      "cell_type": "markdown",
      "source": [
        "### **What does the below code print ?**"
      ],
      "metadata": {
        "id": "37UTUlV3Z8tF"
      }
    },
    {
      "cell_type": "code",
      "source": [
        "complex('1-2j')"
      ],
      "metadata": {
        "colab": {
          "base_uri": "https://localhost:8080/"
        },
        "id": "ufoRBkIeZyrg",
        "outputId": "42eb035a-ae9b-47af-a5c1-e196240fa546"
      },
      "execution_count": 21,
      "outputs": [
        {
          "output_type": "execute_result",
          "data": {
            "text/plain": [
              "(1-2j)"
            ]
          },
          "metadata": {},
          "execution_count": 21
        }
      ]
    },
    {
      "cell_type": "code",
      "source": [
        "complex('1 - 2j')"
      ],
      "metadata": {
        "colab": {
          "base_uri": "https://localhost:8080/",
          "height": 141
        },
        "id": "zTvLQFneZUIP",
        "outputId": "8b1dd8aa-13cb-4e7d-c0cb-3d92bbc488bd"
      },
      "execution_count": 22,
      "outputs": [
        {
          "output_type": "error",
          "ename": "ValueError",
          "evalue": "complex() arg is a malformed string",
          "traceback": [
            "\u001b[0;31m---------------------------------------------------------------------------\u001b[0m",
            "\u001b[0;31mValueError\u001b[0m                                Traceback (most recent call last)",
            "\u001b[0;32m<ipython-input-22-2567e0f1d30a>\u001b[0m in \u001b[0;36m<cell line: 1>\u001b[0;34m()\u001b[0m\n\u001b[0;32m----> 1\u001b[0;31m \u001b[0mcomplex\u001b[0m\u001b[0;34m(\u001b[0m\u001b[0;34m'1 - 2j'\u001b[0m\u001b[0;34m)\u001b[0m\u001b[0;34m\u001b[0m\u001b[0;34m\u001b[0m\u001b[0m\n\u001b[0m",
            "\u001b[0;31mValueError\u001b[0m: complex() arg is a malformed string"
          ]
        }
      ]
    },
    {
      "cell_type": "markdown",
      "source": [
        "### **Find the output ?**"
      ],
      "metadata": {
        "id": "rNf--sNaa4-t"
      }
    },
    {
      "cell_type": "code",
      "source": [
        "float('1e-003') # 1 * 10 ^ (-3)"
      ],
      "metadata": {
        "colab": {
          "base_uri": "https://localhost:8080/"
        },
        "id": "8Rk3kKSmaiJY",
        "outputId": "42cc01ac-4899-4f75-cb03-f2d6e88374aa"
      },
      "execution_count": 23,
      "outputs": [
        {
          "output_type": "execute_result",
          "data": {
            "text/plain": [
              "0.001"
            ]
          },
          "metadata": {},
          "execution_count": 23
        }
      ]
    },
    {
      "cell_type": "code",
      "source": [
        "float('2e+003') # 2 * 10 ^ (3)"
      ],
      "metadata": {
        "colab": {
          "base_uri": "https://localhost:8080/"
        },
        "id": "GFWEfiWXbCIf",
        "outputId": "85b12d8a-80d6-4aa8-f7e1-8acaf2a7389a"
      },
      "execution_count": 24,
      "outputs": [
        {
          "output_type": "execute_result",
          "data": {
            "text/plain": [
              "2000.0"
            ]
          },
          "metadata": {},
          "execution_count": 24
        }
      ]
    },
    {
      "cell_type": "code",
      "source": [
        "float()"
      ],
      "metadata": {
        "colab": {
          "base_uri": "https://localhost:8080/"
        },
        "id": "1RjGd_E7bGs2",
        "outputId": "a1478270-db0f-47dd-d726-1fb08edb9a7a"
      },
      "execution_count": 25,
      "outputs": [
        {
          "output_type": "execute_result",
          "data": {
            "text/plain": [
              "0.0"
            ]
          },
          "metadata": {},
          "execution_count": 25
        }
      ]
    },
    {
      "cell_type": "code",
      "source": [
        "complex()"
      ],
      "metadata": {
        "colab": {
          "base_uri": "https://localhost:8080/"
        },
        "id": "dZs8GjKIbXsY",
        "outputId": "02762d4c-6828-43bc-9119-31b9473d0ebd"
      },
      "execution_count": 26,
      "outputs": [
        {
          "output_type": "execute_result",
          "data": {
            "text/plain": [
              "0j"
            ]
          },
          "metadata": {},
          "execution_count": 26
        }
      ]
    },
    {
      "cell_type": "code",
      "source": [
        "float('     -12345\\n')"
      ],
      "metadata": {
        "colab": {
          "base_uri": "https://localhost:8080/"
        },
        "id": "FL-SFDZubYj_",
        "outputId": "09592509-0a1b-492e-b75f-decf5f103c38"
      },
      "execution_count": 27,
      "outputs": [
        {
          "output_type": "execute_result",
          "data": {
            "text/plain": [
              "-12345.0"
            ]
          },
          "metadata": {},
          "execution_count": 27
        }
      ]
    },
    {
      "cell_type": "markdown",
      "source": [
        "### **What will be the output of following code ?**"
      ],
      "metadata": {
        "id": "jt1uLURZcuB9"
      }
    },
    {
      "cell_type": "code",
      "source": [
        "virat = Rohit\n",
        "virat += Sachin"
      ],
      "metadata": {
        "colab": {
          "base_uri": "https://localhost:8080/",
          "height": 158
        },
        "id": "7UtIyhC_cFpW",
        "outputId": "37fcb058-edb5-42b7-eda5-6e8721568578"
      },
      "execution_count": 28,
      "outputs": [
        {
          "output_type": "error",
          "ename": "NameError",
          "evalue": "name 'Rohit' is not defined",
          "traceback": [
            "\u001b[0;31m---------------------------------------------------------------------------\u001b[0m",
            "\u001b[0;31mNameError\u001b[0m                                 Traceback (most recent call last)",
            "\u001b[0;32m<ipython-input-28-0d23800b94c1>\u001b[0m in \u001b[0;36m<cell line: 1>\u001b[0;34m()\u001b[0m\n\u001b[0;32m----> 1\u001b[0;31m \u001b[0mvirat\u001b[0m \u001b[0;34m=\u001b[0m \u001b[0mRohit\u001b[0m\u001b[0;34m\u001b[0m\u001b[0;34m\u001b[0m\u001b[0m\n\u001b[0m\u001b[1;32m      2\u001b[0m \u001b[0mvirat\u001b[0m \u001b[0;34m+=\u001b[0m \u001b[0mSachin\u001b[0m\u001b[0;34m\u001b[0m\u001b[0;34m\u001b[0m\u001b[0m\n",
            "\u001b[0;31mNameError\u001b[0m: name 'Rohit' is not defined"
          ]
        }
      ]
    },
    {
      "cell_type": "code",
      "source": [
        "print(~~~~~~5)"
      ],
      "metadata": {
        "colab": {
          "base_uri": "https://localhost:8080/"
        },
        "id": "Ma1dk4yoc5gl",
        "outputId": "d38c2516-eac5-4948-f964-4b806a6e833a"
      },
      "execution_count": 30,
      "outputs": [
        {
          "output_type": "stream",
          "name": "stdout",
          "text": [
            "5\n"
          ]
        }
      ]
    },
    {
      "cell_type": "code",
      "source": [
        "x = 0b101  # binary\n",
        "print(x)"
      ],
      "metadata": {
        "colab": {
          "base_uri": "https://localhost:8080/"
        },
        "id": "Bf9EBIZ8d0mg",
        "outputId": "fda975d2-8330-4a2d-8781-a71a7ae63301"
      },
      "execution_count": 32,
      "outputs": [
        {
          "output_type": "stream",
          "name": "stdout",
          "text": [
            "5\n"
          ]
        }
      ]
    },
    {
      "cell_type": "code",
      "source": [
        "x = 0x4f5 # 5 * pow(16, 0) + 15 * pow(16, 1) + 4 * pow(16, 2) --> Hexadecimal\n",
        "print(x)"
      ],
      "metadata": {
        "colab": {
          "base_uri": "https://localhost:8080/"
        },
        "id": "H9NJMJ_Me2QE",
        "outputId": "3f4555cf-ccb0-45ea-902d-36e91ceb8a1c"
      },
      "execution_count": 34,
      "outputs": [
        {
          "output_type": "stream",
          "name": "stdout",
          "text": [
            "1269\n"
          ]
        }
      ]
    },
    {
      "cell_type": "code",
      "source": [
        "x = 12345\n",
        "print(x)"
      ],
      "metadata": {
        "colab": {
          "base_uri": "https://localhost:8080/"
        },
        "id": "rPBGbL7ve_zM",
        "outputId": "ccee1c9e-0cc2-4cae-f8f9-c1b5df758733"
      },
      "execution_count": 35,
      "outputs": [
        {
          "output_type": "stream",
          "name": "stdout",
          "text": [
            "12345\n"
          ]
        }
      ]
    },
    {
      "cell_type": "code",
      "source": [
        "x = 0o312 # octal\n",
        "print(x)"
      ],
      "metadata": {
        "colab": {
          "base_uri": "https://localhost:8080/"
        },
        "id": "iQS6JEh2fSlF",
        "outputId": "f05dc24f-6eab-44e0-e7d1-b4719ee8bac4"
      },
      "execution_count": 37,
      "outputs": [
        {
          "output_type": "stream",
          "name": "stdout",
          "text": [
            "202\n"
          ]
        }
      ]
    },
    {
      "cell_type": "markdown",
      "source": [
        "### **What is the ouput of following code ?**"
      ],
      "metadata": {
        "id": "sle_ups-f9ym"
      }
    },
    {
      "cell_type": "code",
      "source": [
        "x = ['ab', 'cd']\n",
        "\n",
        "for i in x:\n",
        "  print(i.upper())\n",
        "print(x)"
      ],
      "metadata": {
        "colab": {
          "base_uri": "https://localhost:8080/"
        },
        "id": "bz_LPiwQfket",
        "outputId": "ba03d69f-cbca-46b3-fdd1-b4c79ab5647c"
      },
      "execution_count": 41,
      "outputs": [
        {
          "output_type": "stream",
          "name": "stdout",
          "text": [
            "AB\n",
            "CD\n",
            "['ab', 'cd']\n"
          ]
        }
      ]
    },
    {
      "cell_type": "code",
      "source": [
        "x = ['ab', 'cd']\n",
        "for i in range(len(x)):\n",
        "  print(\"i: -->\", i)\n",
        "  x.append(x[i].upper())\n",
        "print(x)"
      ],
      "metadata": {
        "colab": {
          "base_uri": "https://localhost:8080/"
        },
        "id": "Kk6PpJgcgKRg",
        "outputId": "a531e697-377d-49c3-9d87-44e01681aae4"
      },
      "execution_count": 42,
      "outputs": [
        {
          "output_type": "stream",
          "name": "stdout",
          "text": [
            "i: --> 0\n",
            "i: --> 1\n",
            "['ab', 'cd', 'AB', 'CD']\n"
          ]
        }
      ]
    },
    {
      "cell_type": "code",
      "source": [],
      "metadata": {
        "id": "9Z-lK0g3j4kT"
      },
      "execution_count": null,
      "outputs": []
    }
  ]
}