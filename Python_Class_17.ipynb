{
  "nbformat": 4,
  "nbformat_minor": 0,
  "metadata": {
    "colab": {
      "provenance": [],
      "authorship_tag": "ABX9TyME6GUbG0aDNeiMVoQ8zAji",
      "include_colab_link": true
    },
    "kernelspec": {
      "name": "python3",
      "display_name": "Python 3"
    },
    "language_info": {
      "name": "python"
    }
  },
  "cells": [
    {
      "cell_type": "markdown",
      "metadata": {
        "id": "view-in-github",
        "colab_type": "text"
      },
      "source": [
        "<a href=\"https://colab.research.google.com/github/saiganesh00/Python-Practice/blob/main/Python_Class_17.ipynb\" target=\"_parent\"><img src=\"https://colab.research.google.com/assets/colab-badge.svg\" alt=\"Open In Colab\"/></a>"
      ]
    },
    {
      "cell_type": "markdown",
      "source": [
        "### **Functions**\n",
        "- **A function is a reusable block of code that performs a specific task**\n",
        "- **Syntax:**\n",
        "  - **def functione_name(arguments):**\n",
        "       - **Body of the function**\n",
        "       - **return expression**"
      ],
      "metadata": {
        "id": "V3GjShyoA-RY"
      }
    },
    {
      "cell_type": "code",
      "execution_count": 6,
      "metadata": {
        "colab": {
          "base_uri": "https://localhost:8080/"
        },
        "id": "dhpFj2AX9ZuB",
        "outputId": "b48db119-796a-4fae-8f0c-713d32a829c8"
      },
      "outputs": [
        {
          "output_type": "stream",
          "name": "stdout",
          "text": [
            "abc\n",
            "123\n",
            "6\n",
            "abbcca\n"
          ]
        }
      ],
      "source": [
        "f = 10\n",
        "if f % 2 == 0:\n",
        "  print(\"abc\")\n",
        "  print(123)\n",
        "  print(1 + 2 + 3)\n",
        "  print(\"ab\"+\"bc\"+\"ca\")\n",
        "else:\n",
        "  print(\"cba\")\n",
        "  print(321)\n",
        "  print(3 - 2 - 1)\n",
        "  print(\"ab\"*5)"
      ]
    },
    {
      "cell_type": "code",
      "source": [
        "def condition_checker(f):\n",
        "  if f % 2 == 0:\n",
        "    print(\"abc\")\n",
        "    print(123)\n",
        "    print(1 + 2 + 3)\n",
        "    print(\"ab\"+\"bc\"+\"ca\")\n",
        "  else:\n",
        "    print(\"cba\")\n",
        "    print(321)\n",
        "    print(3 - 2 - 1)\n",
        "    print(\"ab\"*5)"
      ],
      "metadata": {
        "id": "PC91QbNCCqdP"
      },
      "execution_count": 7,
      "outputs": []
    },
    {
      "cell_type": "code",
      "source": [
        "condition_checker(10)"
      ],
      "metadata": {
        "colab": {
          "base_uri": "https://localhost:8080/"
        },
        "id": "00V1QcIsD4Qp",
        "outputId": "c50603c1-1cfe-4327-82c0-d5af04eccbb6"
      },
      "execution_count": 8,
      "outputs": [
        {
          "output_type": "stream",
          "name": "stdout",
          "text": [
            "abc\n",
            "123\n",
            "6\n",
            "abbcca\n"
          ]
        }
      ]
    },
    {
      "cell_type": "code",
      "source": [
        "condition_checker(15)"
      ],
      "metadata": {
        "colab": {
          "base_uri": "https://localhost:8080/"
        },
        "id": "5rTr3osdD7OL",
        "outputId": "902c3a02-f511-4373-a000-3dbf2b818465"
      },
      "execution_count": 5,
      "outputs": [
        {
          "output_type": "stream",
          "name": "stdout",
          "text": [
            "cba\n",
            "321\n",
            "0\n",
            "ababababab\n"
          ]
        }
      ]
    },
    {
      "cell_type": "code",
      "source": [
        "def intro_to_python():\n",
        "  pass\n",
        "\n",
        "def teach_datatypes():\n",
        "  pass\n",
        "\n",
        "def teach_functions():\n",
        "  pass\n",
        "\n",
        "def teach_python():\n",
        "  a = intro_to_python()\n",
        "  b = teach_datatypes()\n",
        "  c = teach_functions()"
      ],
      "metadata": {
        "id": "MhQSRATID88X"
      },
      "execution_count": 9,
      "outputs": []
    },
    {
      "cell_type": "code",
      "source": [
        "# defining a function\n",
        "\n",
        "def python_function():\n",
        "  print(\"Welcome to Functions class\")\n",
        "  l = [100,200,300,400]\n",
        "  return l\n",
        "\n",
        "# calling a function\n",
        "\n",
        "func_return = python_function()\n",
        "print(func_return)\n",
        "print(type(func_return))"
      ],
      "metadata": {
        "colab": {
          "base_uri": "https://localhost:8080/"
        },
        "id": "MBHE5x2VGpBK",
        "outputId": "11aa96e7-9505-4099-cb34-632663a9d36f"
      },
      "execution_count": 10,
      "outputs": [
        {
          "output_type": "stream",
          "name": "stdout",
          "text": [
            "Welcome to Functions class\n",
            "[100, 200, 300, 400]\n",
            "<class 'list'>\n"
          ]
        }
      ]
    },
    {
      "cell_type": "code",
      "source": [
        "def func_name(name):\n",
        "  print(\"Name: \", name)\n",
        "  return name * 10\n",
        "\n",
        "val = func_name(\"Virat\")\n",
        "print(val)\n",
        "print(type(val))"
      ],
      "metadata": {
        "colab": {
          "base_uri": "https://localhost:8080/"
        },
        "id": "lRwzPtCvGrqk",
        "outputId": "4edf37b0-61c8-499d-86cc-1098b3450816"
      },
      "execution_count": 11,
      "outputs": [
        {
          "output_type": "stream",
          "name": "stdout",
          "text": [
            "Name:  Virat\n",
            "ViratViratViratViratViratViratViratViratViratVirat\n",
            "<class 'str'>\n"
          ]
        }
      ]
    },
    {
      "cell_type": "code",
      "source": [
        "# passing the arguments to the functions\n",
        "\n",
        "def f_name(name):\n",
        "  print(\"Entered Name : {}\".format(name))\n",
        "  return name*2\n",
        "\n",
        "ret_val = f_name(\"Virat\")\n",
        "print(ret_val)\n",
        "print(type(ret_val))"
      ],
      "metadata": {
        "colab": {
          "base_uri": "https://localhost:8080/"
        },
        "id": "ARSyZgDuH1Cf",
        "outputId": "8d0d4c7c-70ac-4fc1-ac66-3dc2cdadc743"
      },
      "execution_count": 12,
      "outputs": [
        {
          "output_type": "stream",
          "name": "stdout",
          "text": [
            "Entered Name : Virat\n",
            "ViratVirat\n",
            "<class 'str'>\n"
          ]
        }
      ]
    },
    {
      "cell_type": "code",
      "source": [
        "def f_name(name):\n",
        "  print(\"Entered Name : {}\".format(name))\n",
        "  return name*2\n",
        "\n",
        "ret_val = f_name([1,2,3])\n",
        "print(ret_val)\n",
        "print(type(ret_val))"
      ],
      "metadata": {
        "colab": {
          "base_uri": "https://localhost:8080/"
        },
        "id": "Ufz61QCMJIfP",
        "outputId": "9b738db1-7e23-447c-b0d9-0925773440c3"
      },
      "execution_count": 13,
      "outputs": [
        {
          "output_type": "stream",
          "name": "stdout",
          "text": [
            "Entered Name : [1, 2, 3]\n",
            "[1, 2, 3, 1, 2, 3]\n",
            "<class 'list'>\n"
          ]
        }
      ]
    },
    {
      "cell_type": "code",
      "source": [
        "def sub_calculator(num):\n",
        "  print(\"Entered Num : {}\".format(num))\n",
        "  a = 100\n",
        "  print(\"abc\")\n",
        "  print(num*5)\n",
        "  print(num+\"5\")\n",
        "  return a-int(num)\n",
        "\n",
        "ret_val = sub_calculator(\"50\")\n",
        "print(ret_val)\n",
        "print(type(ret_val))"
      ],
      "metadata": {
        "colab": {
          "base_uri": "https://localhost:8080/"
        },
        "id": "9icRLciUJNRU",
        "outputId": "78b65e3f-6211-4953-f367-5c0159135799"
      },
      "execution_count": 15,
      "outputs": [
        {
          "output_type": "stream",
          "name": "stdout",
          "text": [
            "Entered Num : 50\n",
            "abc\n",
            "5050505050\n",
            "505\n",
            "50\n",
            "<class 'int'>\n"
          ]
        }
      ]
    },
    {
      "cell_type": "code",
      "source": [
        "def sub_calculator(num):\n",
        "  print(\"Entered Num : {}\".format(num))\n",
        "  a = 100\n",
        "  print(\"abc\")\n",
        "  print(num*5)\n",
        "  print(num+\"5\")\n",
        "  return a-num\n",
        "\n",
        "ret_val = sub_calculator(\"50\")\n",
        "print(ret_val)\n",
        "print(type(ret_val))"
      ],
      "metadata": {
        "colab": {
          "base_uri": "https://localhost:8080/",
          "height": 401
        },
        "id": "cORswA_KJXeT",
        "outputId": "b3934dfd-7c2e-41a2-ab7b-af991bcbdace"
      },
      "execution_count": 16,
      "outputs": [
        {
          "output_type": "stream",
          "name": "stdout",
          "text": [
            "Entered Num : 50\n",
            "abc\n",
            "5050505050\n",
            "505\n"
          ]
        },
        {
          "output_type": "error",
          "ename": "TypeError",
          "evalue": "unsupported operand type(s) for -: 'int' and 'str'",
          "traceback": [
            "\u001b[0;31m---------------------------------------------------------------------------\u001b[0m",
            "\u001b[0;31mTypeError\u001b[0m                                 Traceback (most recent call last)",
            "\u001b[0;32m<ipython-input-16-eb714e582bbf>\u001b[0m in \u001b[0;36m<cell line: 9>\u001b[0;34m()\u001b[0m\n\u001b[1;32m      7\u001b[0m   \u001b[0;32mreturn\u001b[0m \u001b[0ma\u001b[0m\u001b[0;34m-\u001b[0m\u001b[0mnum\u001b[0m\u001b[0;34m\u001b[0m\u001b[0;34m\u001b[0m\u001b[0m\n\u001b[1;32m      8\u001b[0m \u001b[0;34m\u001b[0m\u001b[0m\n\u001b[0;32m----> 9\u001b[0;31m \u001b[0mret_val\u001b[0m \u001b[0;34m=\u001b[0m \u001b[0msub_calculator\u001b[0m\u001b[0;34m(\u001b[0m\u001b[0;34m\"50\"\u001b[0m\u001b[0;34m)\u001b[0m\u001b[0;34m\u001b[0m\u001b[0;34m\u001b[0m\u001b[0m\n\u001b[0m\u001b[1;32m     10\u001b[0m \u001b[0mprint\u001b[0m\u001b[0;34m(\u001b[0m\u001b[0mret_val\u001b[0m\u001b[0;34m)\u001b[0m\u001b[0;34m\u001b[0m\u001b[0;34m\u001b[0m\u001b[0m\n\u001b[1;32m     11\u001b[0m \u001b[0mprint\u001b[0m\u001b[0;34m(\u001b[0m\u001b[0mtype\u001b[0m\u001b[0;34m(\u001b[0m\u001b[0mret_val\u001b[0m\u001b[0;34m)\u001b[0m\u001b[0;34m)\u001b[0m\u001b[0;34m\u001b[0m\u001b[0;34m\u001b[0m\u001b[0m\n",
            "\u001b[0;32m<ipython-input-16-eb714e582bbf>\u001b[0m in \u001b[0;36msub_calculator\u001b[0;34m(num)\u001b[0m\n\u001b[1;32m      5\u001b[0m   \u001b[0mprint\u001b[0m\u001b[0;34m(\u001b[0m\u001b[0mnum\u001b[0m\u001b[0;34m*\u001b[0m\u001b[0;36m5\u001b[0m\u001b[0;34m)\u001b[0m\u001b[0;34m\u001b[0m\u001b[0;34m\u001b[0m\u001b[0m\n\u001b[1;32m      6\u001b[0m   \u001b[0mprint\u001b[0m\u001b[0;34m(\u001b[0m\u001b[0mnum\u001b[0m\u001b[0;34m+\u001b[0m\u001b[0;34m\"5\"\u001b[0m\u001b[0;34m)\u001b[0m\u001b[0;34m\u001b[0m\u001b[0;34m\u001b[0m\u001b[0m\n\u001b[0;32m----> 7\u001b[0;31m   \u001b[0;32mreturn\u001b[0m \u001b[0ma\u001b[0m\u001b[0;34m-\u001b[0m\u001b[0mnum\u001b[0m\u001b[0;34m\u001b[0m\u001b[0;34m\u001b[0m\u001b[0m\n\u001b[0m\u001b[1;32m      8\u001b[0m \u001b[0;34m\u001b[0m\u001b[0m\n\u001b[1;32m      9\u001b[0m \u001b[0mret_val\u001b[0m \u001b[0;34m=\u001b[0m \u001b[0msub_calculator\u001b[0m\u001b[0;34m(\u001b[0m\u001b[0;34m\"50\"\u001b[0m\u001b[0;34m)\u001b[0m\u001b[0;34m\u001b[0m\u001b[0;34m\u001b[0m\u001b[0m\n",
            "\u001b[0;31mTypeError\u001b[0m: unsupported operand type(s) for -: 'int' and 'str'"
          ]
        }
      ]
    },
    {
      "cell_type": "code",
      "source": [
        "def f_name(name):\n",
        "  print(\"Entered Name : {}\".format(name))\n",
        "  return name*2\n",
        "\n",
        "ret_val = f_name()\n",
        "print(ret_val)\n",
        "print(type(ret_val))"
      ],
      "metadata": {
        "colab": {
          "base_uri": "https://localhost:8080/",
          "height": 211
        },
        "id": "kJkUUq4BJqH2",
        "outputId": "a717414e-2ce8-4e61-f317-96489d32eadc"
      },
      "execution_count": 17,
      "outputs": [
        {
          "output_type": "error",
          "ename": "TypeError",
          "evalue": "f_name() missing 1 required positional argument: 'name'",
          "traceback": [
            "\u001b[0;31m---------------------------------------------------------------------------\u001b[0m",
            "\u001b[0;31mTypeError\u001b[0m                                 Traceback (most recent call last)",
            "\u001b[0;32m<ipython-input-17-1a3d5dbfa375>\u001b[0m in \u001b[0;36m<cell line: 5>\u001b[0;34m()\u001b[0m\n\u001b[1;32m      3\u001b[0m   \u001b[0;32mreturn\u001b[0m \u001b[0mname\u001b[0m\u001b[0;34m*\u001b[0m\u001b[0;36m2\u001b[0m\u001b[0;34m\u001b[0m\u001b[0;34m\u001b[0m\u001b[0m\n\u001b[1;32m      4\u001b[0m \u001b[0;34m\u001b[0m\u001b[0m\n\u001b[0;32m----> 5\u001b[0;31m \u001b[0mret_val\u001b[0m \u001b[0;34m=\u001b[0m \u001b[0mf_name\u001b[0m\u001b[0;34m(\u001b[0m\u001b[0;34m)\u001b[0m\u001b[0;34m\u001b[0m\u001b[0;34m\u001b[0m\u001b[0m\n\u001b[0m\u001b[1;32m      6\u001b[0m \u001b[0mprint\u001b[0m\u001b[0;34m(\u001b[0m\u001b[0mret_val\u001b[0m\u001b[0;34m)\u001b[0m\u001b[0;34m\u001b[0m\u001b[0;34m\u001b[0m\u001b[0m\n\u001b[1;32m      7\u001b[0m \u001b[0mprint\u001b[0m\u001b[0;34m(\u001b[0m\u001b[0mtype\u001b[0m\u001b[0;34m(\u001b[0m\u001b[0mret_val\u001b[0m\u001b[0;34m)\u001b[0m\u001b[0;34m)\u001b[0m\u001b[0;34m\u001b[0m\u001b[0;34m\u001b[0m\u001b[0m\n",
            "\u001b[0;31mTypeError\u001b[0m: f_name() missing 1 required positional argument: 'name'"
          ]
        }
      ]
    },
    {
      "cell_type": "code",
      "source": [
        "def info_data(name, age, occupation):\n",
        "  print(\"Name: {}\".format(name))\n",
        "  print(\"Age: {}\".format(age))\n",
        "  print(\"Occupation: {}\".format(occupation))\n",
        "\n",
        "ret_val = info_data(\"Venky\", 26, \"ML Engineer\")\n",
        "print(ret_val)\n",
        "print(type(ret_val))"
      ],
      "metadata": {
        "colab": {
          "base_uri": "https://localhost:8080/"
        },
        "id": "DNbhY7eFJtjv",
        "outputId": "3ab4f9e8-acea-4416-8dfe-e4777d0db042"
      },
      "execution_count": 18,
      "outputs": [
        {
          "output_type": "stream",
          "name": "stdout",
          "text": [
            "Name: Venky\n",
            "Age: 26\n",
            "Occupation: ML Engineer\n",
            "None\n",
            "<class 'NoneType'>\n"
          ]
        }
      ]
    },
    {
      "cell_type": "code",
      "source": [
        "def info_data(name, age, occupation):\n",
        "  print(\"Name: {}\".format(name))\n",
        "  print(\"Age: {}\".format(age))\n",
        "  print(\"Occupation: {}\".format(occupation))\n",
        "\n",
        "ret_val = info_data(26, \"ML Engineer\", [12,23])\n",
        "print(ret_val)\n",
        "print(type(ret_val))"
      ],
      "metadata": {
        "colab": {
          "base_uri": "https://localhost:8080/"
        },
        "id": "ZDwXvsRELyBI",
        "outputId": "806bf276-18e6-46ce-87bd-8d3c69110384"
      },
      "execution_count": 20,
      "outputs": [
        {
          "output_type": "stream",
          "name": "stdout",
          "text": [
            "Name: 26\n",
            "Age: ML Engineer\n",
            "Occupation: [12, 23]\n",
            "None\n",
            "<class 'NoneType'>\n"
          ]
        }
      ]
    },
    {
      "cell_type": "code",
      "source": [
        "# to pass any number of arguments, number of arguments is unknown\n",
        "\n",
        "def string_concatenation(*s):\n",
        "  print(s)\n",
        "  print(type(s))\n",
        "\n",
        "string_concatenation(\"a\", \"b\", \"c\")"
      ],
      "metadata": {
        "colab": {
          "base_uri": "https://localhost:8080/"
        },
        "id": "kbYiBwbtKhLa",
        "outputId": "39ea76b0-c51c-48d3-e862-48336eb7e3e4"
      },
      "execution_count": 19,
      "outputs": [
        {
          "output_type": "stream",
          "name": "stdout",
          "text": [
            "('a', 'b', 'c')\n",
            "<class 'tuple'>\n"
          ]
        }
      ]
    },
    {
      "cell_type": "code",
      "source": [
        "def string_concatenation(*s):\n",
        "  print(s)\n",
        "  print(type(s))\n",
        "\n",
        "string_concatenation(\"a\")"
      ],
      "metadata": {
        "colab": {
          "base_uri": "https://localhost:8080/"
        },
        "id": "9IjYW-A5LuNx",
        "outputId": "f659165f-7f18-4dc9-993b-ab207384d778"
      },
      "execution_count": 21,
      "outputs": [
        {
          "output_type": "stream",
          "name": "stdout",
          "text": [
            "('a',)\n",
            "<class 'tuple'>\n"
          ]
        }
      ]
    },
    {
      "cell_type": "code",
      "source": [
        "def string_concatenation(*s):\n",
        "  print(s)\n",
        "  print(type(s))\n",
        "\n",
        "string_concatenation(\"\")"
      ],
      "metadata": {
        "colab": {
          "base_uri": "https://localhost:8080/"
        },
        "id": "Jqf4zhH6L5RF",
        "outputId": "86950c9e-2e01-4d16-8aac-b60522733883"
      },
      "execution_count": 22,
      "outputs": [
        {
          "output_type": "stream",
          "name": "stdout",
          "text": [
            "('',)\n",
            "<class 'tuple'>\n"
          ]
        }
      ]
    },
    {
      "cell_type": "code",
      "source": [
        "def string_concatenation(*s):\n",
        "  print(s)\n",
        "  print(type(s))\n",
        "\n",
        "string_concatenation(\" \")"
      ],
      "metadata": {
        "colab": {
          "base_uri": "https://localhost:8080/"
        },
        "id": "jrQFVhN2MgeJ",
        "outputId": "b4965ceb-1e12-469e-a3a7-8779f60e7e49"
      },
      "execution_count": 23,
      "outputs": [
        {
          "output_type": "stream",
          "name": "stdout",
          "text": [
            "(' ',)\n",
            "<class 'tuple'>\n"
          ]
        }
      ]
    },
    {
      "cell_type": "code",
      "source": [
        "def string_concatenation(*s): # *args , *name\n",
        "  print(s)\n",
        "  print(type(s))\n",
        "\n",
        "string_concatenation()"
      ],
      "metadata": {
        "colab": {
          "base_uri": "https://localhost:8080/"
        },
        "id": "j2i9O4FuM8Ys",
        "outputId": "910d2e85-750d-438d-dbf9-6d11080a1759"
      },
      "execution_count": 24,
      "outputs": [
        {
          "output_type": "stream",
          "name": "stdout",
          "text": [
            "()\n",
            "<class 'tuple'>\n"
          ]
        }
      ]
    },
    {
      "cell_type": "code",
      "source": [
        "def string_concatenation(*s): # *args , *name\n",
        "  print(s)\n",
        "  print(type(s))\n",
        "\n",
        "string_concatenation(\"a\", \"b\", \"c\", 12,12.5,False, [1,2,3], (2,3,4), {2,3,4}, {1:2,2:3})"
      ],
      "metadata": {
        "colab": {
          "base_uri": "https://localhost:8080/"
        },
        "id": "1UwoDDxkMuYU",
        "outputId": "3892b9db-f497-49c5-f5a1-9e1015f84b15"
      },
      "execution_count": 25,
      "outputs": [
        {
          "output_type": "stream",
          "name": "stdout",
          "text": [
            "('a', 'b', 'c', 12, 12.5, False, [1, 2, 3], (2, 3, 4), {2, 3, 4}, {1: 2, 2: 3})\n",
            "<class 'tuple'>\n"
          ]
        }
      ]
    },
    {
      "cell_type": "code",
      "source": [
        "# Positional Arguments\n",
        "\n",
        "# keyword arguments\n",
        "\n",
        "def info_data(name, age, occupation):\n",
        "  print(\"Name: {}\".format(name))\n",
        "  print(\"Age: {}\".format(age))\n",
        "  print(\"Occupation: {}\".format(occupation))\n",
        "\n",
        "ret_val = info_data(\"Venky\", 26, \"ML Engineer\")\n",
        ""
      ],
      "metadata": {
        "colab": {
          "base_uri": "https://localhost:8080/"
        },
        "id": "PSEaS1y7NyDq",
        "outputId": "d9f1b5ae-2c42-46c1-c68e-5801f8c1d51d"
      },
      "execution_count": 27,
      "outputs": [
        {
          "output_type": "stream",
          "name": "stdout",
          "text": [
            "Name: Venky\n",
            "Age: 26\n",
            "Occupation: ML Engineer\n"
          ]
        }
      ]
    },
    {
      "cell_type": "code",
      "source": [
        "# keyword arguments\n",
        "\n",
        "def info_data(name, age, occupation):\n",
        "  print(\"Name: {}\".format(name))\n",
        "  print(\"Age: {}\".format(age))\n",
        "  print(\"Occupation: {}\".format(occupation))\n",
        "\n",
        "ret_val = info_data(occupation = \"ML Engineer\", name = \"Venky\", age = 26)"
      ],
      "metadata": {
        "colab": {
          "base_uri": "https://localhost:8080/"
        },
        "id": "Qxsb27CUNAQ5",
        "outputId": "f3507273-8596-4e12-af97-2b20cd9cb9ba"
      },
      "execution_count": 28,
      "outputs": [
        {
          "output_type": "stream",
          "name": "stdout",
          "text": [
            "Name: Venky\n",
            "Age: 26\n",
            "Occupation: ML Engineer\n"
          ]
        }
      ]
    },
    {
      "cell_type": "code",
      "source": [
        "ret_val = info_data(occupation = \"ML Engineer\", name_2 = \"Venky\", age = 26)"
      ],
      "metadata": {
        "colab": {
          "base_uri": "https://localhost:8080/",
          "height": 158
        },
        "id": "AJZJciwONuWa",
        "outputId": "7d35d74c-3ad4-4946-a3f4-3bea067946ce"
      },
      "execution_count": 29,
      "outputs": [
        {
          "output_type": "error",
          "ename": "TypeError",
          "evalue": "info_data() got an unexpected keyword argument 'name_2'",
          "traceback": [
            "\u001b[0;31m---------------------------------------------------------------------------\u001b[0m",
            "\u001b[0;31mTypeError\u001b[0m                                 Traceback (most recent call last)",
            "\u001b[0;32m<ipython-input-29-5145c8ba2bf0>\u001b[0m in \u001b[0;36m<cell line: 1>\u001b[0;34m()\u001b[0m\n\u001b[0;32m----> 1\u001b[0;31m \u001b[0mret_val\u001b[0m \u001b[0;34m=\u001b[0m \u001b[0minfo_data\u001b[0m\u001b[0;34m(\u001b[0m\u001b[0moccupation\u001b[0m \u001b[0;34m=\u001b[0m \u001b[0;34m\"ML Engineer\"\u001b[0m\u001b[0;34m,\u001b[0m \u001b[0mname_2\u001b[0m \u001b[0;34m=\u001b[0m \u001b[0;34m\"Venky\"\u001b[0m\u001b[0;34m,\u001b[0m \u001b[0mage\u001b[0m \u001b[0;34m=\u001b[0m \u001b[0;36m26\u001b[0m\u001b[0;34m)\u001b[0m\u001b[0;34m\u001b[0m\u001b[0;34m\u001b[0m\u001b[0m\n\u001b[0m",
            "\u001b[0;31mTypeError\u001b[0m: info_data() got an unexpected keyword argument 'name_2'"
          ]
        }
      ]
    },
    {
      "cell_type": "code",
      "source": [
        "# let say we don't know how many keyword arguments were there, i.e keyword arguments is unknown\n",
        "\n",
        "def info_data(**k): # **kwargs, **knames\n",
        "  print(k)\n",
        "  print(type(k))\n",
        "\n",
        "info_data(name = \"Venky\", occupation = \"ML Engineer\", age = 26)"
      ],
      "metadata": {
        "colab": {
          "base_uri": "https://localhost:8080/"
        },
        "id": "H43YZcC9PYUq",
        "outputId": "f0da60dc-1f56-4b6d-8896-d93d81e76423"
      },
      "execution_count": 30,
      "outputs": [
        {
          "output_type": "stream",
          "name": "stdout",
          "text": [
            "{'name': 'Venky', 'occupation': 'ML Engineer', 'age': 26}\n",
            "<class 'dict'>\n"
          ]
        }
      ]
    },
    {
      "cell_type": "code",
      "source": [
        "def info_data(**k):\n",
        "  print(k)\n",
        "  print(type(k))\n",
        "\n",
        "info_data(name = \"Venky\", occupation = \"ML Engineer\", age = 26, teaching_subjects = ['Calculus', 'Python', 'Aptitude'])"
      ],
      "metadata": {
        "colab": {
          "base_uri": "https://localhost:8080/"
        },
        "id": "ld_NXJsyPeHs",
        "outputId": "d9cb5303-d32a-4adf-fcdd-3203fa190b25"
      },
      "execution_count": 31,
      "outputs": [
        {
          "output_type": "stream",
          "name": "stdout",
          "text": [
            "{'name': 'Venky', 'occupation': 'ML Engineer', 'age': 26, 'teaching_subjects': ['Calculus', 'Python', 'Aptitude']}\n",
            "<class 'dict'>\n"
          ]
        }
      ]
    },
    {
      "cell_type": "code",
      "source": [
        "info_data(\"Venky\", \"ML Engineer\", 26,['Calculus', 'Python', 'Aptitude'])"
      ],
      "metadata": {
        "colab": {
          "base_uri": "https://localhost:8080/",
          "height": 141
        },
        "id": "6ETp3qAxQCDD",
        "outputId": "a5ac3220-0449-4de1-cd11-f8ee1677f215"
      },
      "execution_count": 32,
      "outputs": [
        {
          "output_type": "error",
          "ename": "TypeError",
          "evalue": "info_data() takes 0 positional arguments but 4 were given",
          "traceback": [
            "\u001b[0;31m---------------------------------------------------------------------------\u001b[0m",
            "\u001b[0;31mTypeError\u001b[0m                                 Traceback (most recent call last)",
            "\u001b[0;32m<ipython-input-32-1cb702eaef81>\u001b[0m in \u001b[0;36m<cell line: 1>\u001b[0;34m()\u001b[0m\n\u001b[0;32m----> 1\u001b[0;31m \u001b[0minfo_data\u001b[0m\u001b[0;34m(\u001b[0m\u001b[0;34m\"Venky\"\u001b[0m\u001b[0;34m,\u001b[0m \u001b[0;34m\"ML Engineer\"\u001b[0m\u001b[0;34m,\u001b[0m \u001b[0;36m26\u001b[0m\u001b[0;34m,\u001b[0m\u001b[0;34m[\u001b[0m\u001b[0;34m'Calculus'\u001b[0m\u001b[0;34m,\u001b[0m \u001b[0;34m'Python'\u001b[0m\u001b[0;34m,\u001b[0m \u001b[0;34m'Aptitude'\u001b[0m\u001b[0;34m]\u001b[0m\u001b[0;34m)\u001b[0m\u001b[0;34m\u001b[0m\u001b[0;34m\u001b[0m\u001b[0m\n\u001b[0m",
            "\u001b[0;31mTypeError\u001b[0m: info_data() takes 0 positional arguments but 4 were given"
          ]
        }
      ]
    },
    {
      "cell_type": "code",
      "source": [
        "# default parameter value\n",
        "\n",
        "def my_info(country=\"India\"):\n",
        "  print(\"I'm from {}\".format(country))\n",
        "  return \"-------------------\"\n",
        "print(my_info())\n",
        "print(my_info(\"Russia\"))"
      ],
      "metadata": {
        "colab": {
          "base_uri": "https://localhost:8080/"
        },
        "id": "UQKqPaOpQs-B",
        "outputId": "13e9582a-5b79-4925-a1b6-d192c5474085"
      },
      "execution_count": 35,
      "outputs": [
        {
          "output_type": "stream",
          "name": "stdout",
          "text": [
            "I'm from India\n",
            "-------------------\n",
            "I'm from Russia\n",
            "-------------------\n"
          ]
        }
      ]
    },
    {
      "cell_type": "code",
      "source": [
        "def my_info(country=\"India\", name = \"Srinivas\"):\n",
        "  print(\"I'm {} and I'm from {}\".format(name, country))\n",
        "\n",
        "my_info()"
      ],
      "metadata": {
        "colab": {
          "base_uri": "https://localhost:8080/"
        },
        "id": "sMG-LGgTQwFB",
        "outputId": "77af4c21-8d58-48fe-90d1-93d412f4ae8c"
      },
      "execution_count": 39,
      "outputs": [
        {
          "output_type": "stream",
          "name": "stdout",
          "text": [
            "I'm Srinivas and I'm from India\n"
          ]
        }
      ]
    },
    {
      "cell_type": "code",
      "source": [
        "my_info(name = \"Shanmukh\", country = \"US\")"
      ],
      "metadata": {
        "colab": {
          "base_uri": "https://localhost:8080/"
        },
        "id": "dpSonmgmRJ8O",
        "outputId": "af1774ef-e9d7-4d96-fb93-a78650d43a2e"
      },
      "execution_count": 40,
      "outputs": [
        {
          "output_type": "stream",
          "name": "stdout",
          "text": [
            "I'm Shanmukh and I'm from US\n"
          ]
        }
      ]
    },
    {
      "cell_type": "code",
      "source": [
        "my_info(\"Shanmukh\", \"US\")"
      ],
      "metadata": {
        "colab": {
          "base_uri": "https://localhost:8080/"
        },
        "id": "-hY8cH0HRSRO",
        "outputId": "5da36ff8-2309-4b9c-c13b-342d6ef1e5fa"
      },
      "execution_count": 41,
      "outputs": [
        {
          "output_type": "stream",
          "name": "stdout",
          "text": [
            "I'm US and I'm from Shanmukh\n"
          ]
        }
      ]
    },
    {
      "cell_type": "code",
      "source": [
        "# pass statements\n",
        "\n",
        "def func(*args):\n",
        "  pass\n",
        "\n",
        "func()"
      ],
      "metadata": {
        "id": "SMjuN_T1TFc-"
      },
      "execution_count": 42,
      "outputs": []
    },
    {
      "cell_type": "markdown",
      "source": [
        "### **Positional Only Arguments**"
      ],
      "metadata": {
        "id": "Sexi-1H3WBlq"
      }
    },
    {
      "cell_type": "code",
      "source": [
        "def my_func(a):\n",
        "  print(a)\n",
        "\n",
        "my_func(3)"
      ],
      "metadata": {
        "colab": {
          "base_uri": "https://localhost:8080/"
        },
        "id": "Vr-Wi9F2V803",
        "outputId": "1ddce711-d396-45c2-a5f9-23a93c494921"
      },
      "execution_count": 43,
      "outputs": [
        {
          "output_type": "stream",
          "name": "stdout",
          "text": [
            "3\n"
          ]
        }
      ]
    },
    {
      "cell_type": "code",
      "source": [
        "my_func(a = 3)"
      ],
      "metadata": {
        "colab": {
          "base_uri": "https://localhost:8080/"
        },
        "id": "9Bfla6_CWK-e",
        "outputId": "58c8a54a-7df0-4751-ffd4-83f938bc0215"
      },
      "execution_count": 44,
      "outputs": [
        {
          "output_type": "stream",
          "name": "stdout",
          "text": [
            "3\n"
          ]
        }
      ]
    },
    {
      "cell_type": "code",
      "source": [
        "# add \",/\" after the positional arguments to indicate the function takes only positional arguments\n",
        "\n",
        "def my_func(a,/):\n",
        "  print(a)\n",
        "\n",
        "my_func(3)"
      ],
      "metadata": {
        "colab": {
          "base_uri": "https://localhost:8080/"
        },
        "id": "7yA5Yt0bWZ4w",
        "outputId": "89864b33-1aa3-40ea-b446-eb938022b559"
      },
      "execution_count": 45,
      "outputs": [
        {
          "output_type": "stream",
          "name": "stdout",
          "text": [
            "3\n"
          ]
        }
      ]
    },
    {
      "cell_type": "code",
      "source": [
        "my_func(a = 3)"
      ],
      "metadata": {
        "colab": {
          "base_uri": "https://localhost:8080/",
          "height": 158
        },
        "id": "oxVqh3cSWefB",
        "outputId": "d0e593cf-df17-48c5-b0c5-2b3791394ae8"
      },
      "execution_count": 46,
      "outputs": [
        {
          "output_type": "error",
          "ename": "TypeError",
          "evalue": "my_func() got some positional-only arguments passed as keyword arguments: 'a'",
          "traceback": [
            "\u001b[0;31m---------------------------------------------------------------------------\u001b[0m",
            "\u001b[0;31mTypeError\u001b[0m                                 Traceback (most recent call last)",
            "\u001b[0;32m<ipython-input-46-d61aa39cd22d>\u001b[0m in \u001b[0;36m<cell line: 1>\u001b[0;34m()\u001b[0m\n\u001b[0;32m----> 1\u001b[0;31m \u001b[0mmy_func\u001b[0m\u001b[0;34m(\u001b[0m\u001b[0ma\u001b[0m \u001b[0;34m=\u001b[0m \u001b[0;36m3\u001b[0m\u001b[0;34m)\u001b[0m\u001b[0;34m\u001b[0m\u001b[0;34m\u001b[0m\u001b[0m\n\u001b[0m",
            "\u001b[0;31mTypeError\u001b[0m: my_func() got some positional-only arguments passed as keyword arguments: 'a'"
          ]
        }
      ]
    },
    {
      "cell_type": "markdown",
      "source": [
        "### **Keyword Only Arguments**"
      ],
      "metadata": {
        "id": "tpv6-v-xXRUA"
      }
    },
    {
      "cell_type": "code",
      "source": [
        "def my_func(*, x):\n",
        "  print(x)"
      ],
      "metadata": {
        "id": "g8aJy1KkWgla"
      },
      "execution_count": 47,
      "outputs": []
    },
    {
      "cell_type": "code",
      "source": [
        "my_func(4)"
      ],
      "metadata": {
        "colab": {
          "base_uri": "https://localhost:8080/",
          "height": 141
        },
        "id": "xMfZLM3LXiR2",
        "outputId": "f10a3634-fd01-440c-a352-0befbeb29796"
      },
      "execution_count": 48,
      "outputs": [
        {
          "output_type": "error",
          "ename": "TypeError",
          "evalue": "my_func() takes 0 positional arguments but 1 was given",
          "traceback": [
            "\u001b[0;31m---------------------------------------------------------------------------\u001b[0m",
            "\u001b[0;31mTypeError\u001b[0m                                 Traceback (most recent call last)",
            "\u001b[0;32m<ipython-input-48-5ba485cf7743>\u001b[0m in \u001b[0;36m<cell line: 1>\u001b[0;34m()\u001b[0m\n\u001b[0;32m----> 1\u001b[0;31m \u001b[0mmy_func\u001b[0m\u001b[0;34m(\u001b[0m\u001b[0;36m4\u001b[0m\u001b[0;34m)\u001b[0m\u001b[0;34m\u001b[0m\u001b[0;34m\u001b[0m\u001b[0m\n\u001b[0m",
            "\u001b[0;31mTypeError\u001b[0m: my_func() takes 0 positional arguments but 1 was given"
          ]
        }
      ]
    },
    {
      "cell_type": "code",
      "source": [
        "my_func(x = 4)"
      ],
      "metadata": {
        "colab": {
          "base_uri": "https://localhost:8080/"
        },
        "id": "HFEi6DI3Xj66",
        "outputId": "5197b302-38b4-4150-fa78-7bddc7b2e170"
      },
      "execution_count": 49,
      "outputs": [
        {
          "output_type": "stream",
          "name": "stdout",
          "text": [
            "4\n"
          ]
        }
      ]
    },
    {
      "cell_type": "code",
      "source": [
        "def my_function(*, x, y):\n",
        "  print(x)\n",
        "  print(y)\n",
        "  return"
      ],
      "metadata": {
        "id": "Pjh8PeCIXlog"
      },
      "execution_count": 50,
      "outputs": []
    },
    {
      "cell_type": "code",
      "source": [
        "my_function(x = 4, y = 5)"
      ],
      "metadata": {
        "colab": {
          "base_uri": "https://localhost:8080/"
        },
        "id": "S88heZ23YcFk",
        "outputId": "d8286938-439b-4c5d-8bb9-fa7e72d5addc"
      },
      "execution_count": 51,
      "outputs": [
        {
          "output_type": "stream",
          "name": "stdout",
          "text": [
            "4\n",
            "5\n"
          ]
        }
      ]
    },
    {
      "cell_type": "code",
      "source": [
        "my_function(4, 5)"
      ],
      "metadata": {
        "colab": {
          "base_uri": "https://localhost:8080/",
          "height": 141
        },
        "id": "aeuPpfY6Ye1y",
        "outputId": "7959bb1c-8ac6-473c-c3d2-aa02cb557b22"
      },
      "execution_count": 52,
      "outputs": [
        {
          "output_type": "error",
          "ename": "TypeError",
          "evalue": "my_function() takes 0 positional arguments but 2 were given",
          "traceback": [
            "\u001b[0;31m---------------------------------------------------------------------------\u001b[0m",
            "\u001b[0;31mTypeError\u001b[0m                                 Traceback (most recent call last)",
            "\u001b[0;32m<ipython-input-52-4b3b2adfc4a8>\u001b[0m in \u001b[0;36m<cell line: 1>\u001b[0;34m()\u001b[0m\n\u001b[0;32m----> 1\u001b[0;31m \u001b[0mmy_function\u001b[0m\u001b[0;34m(\u001b[0m\u001b[0;36m4\u001b[0m\u001b[0;34m,\u001b[0m \u001b[0;36m5\u001b[0m\u001b[0;34m)\u001b[0m\u001b[0;34m\u001b[0m\u001b[0;34m\u001b[0m\u001b[0m\n\u001b[0m",
            "\u001b[0;31mTypeError\u001b[0m: my_function() takes 0 positional arguments but 2 were given"
          ]
        }
      ]
    },
    {
      "cell_type": "code",
      "source": [
        "\n",
        "# combining positional only arguments and keyword only arguments\n",
        "\n",
        "def pos_key_func(a,b,/,*,c,d):\n",
        "  print(\"Values of a {} b {} c {} d {}\".format(a,b,c,d))"
      ],
      "metadata": {
        "id": "EaiH_PJbYiHo"
      },
      "execution_count": 53,
      "outputs": []
    },
    {
      "cell_type": "code",
      "source": [
        "pos_key_func(1, 2, c = 3, d = 4)"
      ],
      "metadata": {
        "colab": {
          "base_uri": "https://localhost:8080/"
        },
        "id": "OhCa8U0HY1Qc",
        "outputId": "c55093b4-a5ef-47e9-d902-c0abd197d127"
      },
      "execution_count": 54,
      "outputs": [
        {
          "output_type": "stream",
          "name": "stdout",
          "text": [
            "Values of a 1 b 2 c 3 d 4\n"
          ]
        }
      ]
    },
    {
      "cell_type": "code",
      "source": [
        "pos_key_func(1, 2, 3, 4)"
      ],
      "metadata": {
        "colab": {
          "base_uri": "https://localhost:8080/",
          "height": 141
        },
        "id": "mRySH1l7Y7fb",
        "outputId": "95c784cf-f82e-4724-f610-60c073f3cdec"
      },
      "execution_count": 55,
      "outputs": [
        {
          "output_type": "error",
          "ename": "TypeError",
          "evalue": "pos_key_func() takes 2 positional arguments but 4 were given",
          "traceback": [
            "\u001b[0;31m---------------------------------------------------------------------------\u001b[0m",
            "\u001b[0;31mTypeError\u001b[0m                                 Traceback (most recent call last)",
            "\u001b[0;32m<ipython-input-55-1db082412720>\u001b[0m in \u001b[0;36m<cell line: 1>\u001b[0;34m()\u001b[0m\n\u001b[0;32m----> 1\u001b[0;31m \u001b[0mpos_key_func\u001b[0m\u001b[0;34m(\u001b[0m\u001b[0;36m1\u001b[0m\u001b[0;34m,\u001b[0m \u001b[0;36m2\u001b[0m\u001b[0;34m,\u001b[0m \u001b[0;36m3\u001b[0m\u001b[0;34m,\u001b[0m \u001b[0;36m4\u001b[0m\u001b[0;34m)\u001b[0m\u001b[0;34m\u001b[0m\u001b[0;34m\u001b[0m\u001b[0m\n\u001b[0m",
            "\u001b[0;31mTypeError\u001b[0m: pos_key_func() takes 2 positional arguments but 4 were given"
          ]
        }
      ]
    },
    {
      "cell_type": "code",
      "source": [
        "pos_key_func(a = 1, b = 2, c = 3, d = 4)"
      ],
      "metadata": {
        "colab": {
          "base_uri": "https://localhost:8080/",
          "height": 158
        },
        "id": "UpMwwWZdZZ2s",
        "outputId": "8cd52420-7ccb-4299-84e0-08036dca3c4b"
      },
      "execution_count": 56,
      "outputs": [
        {
          "output_type": "error",
          "ename": "TypeError",
          "evalue": "pos_key_func() got some positional-only arguments passed as keyword arguments: 'a, b'",
          "traceback": [
            "\u001b[0;31m---------------------------------------------------------------------------\u001b[0m",
            "\u001b[0;31mTypeError\u001b[0m                                 Traceback (most recent call last)",
            "\u001b[0;32m<ipython-input-56-b5fe558cce3b>\u001b[0m in \u001b[0;36m<cell line: 1>\u001b[0;34m()\u001b[0m\n\u001b[0;32m----> 1\u001b[0;31m \u001b[0mpos_key_func\u001b[0m\u001b[0;34m(\u001b[0m\u001b[0ma\u001b[0m \u001b[0;34m=\u001b[0m \u001b[0;36m1\u001b[0m\u001b[0;34m,\u001b[0m \u001b[0mb\u001b[0m \u001b[0;34m=\u001b[0m \u001b[0;36m2\u001b[0m\u001b[0;34m,\u001b[0m \u001b[0mc\u001b[0m \u001b[0;34m=\u001b[0m \u001b[0;36m3\u001b[0m\u001b[0;34m,\u001b[0m \u001b[0md\u001b[0m \u001b[0;34m=\u001b[0m \u001b[0;36m4\u001b[0m\u001b[0;34m)\u001b[0m\u001b[0;34m\u001b[0m\u001b[0;34m\u001b[0m\u001b[0m\n\u001b[0m",
            "\u001b[0;31mTypeError\u001b[0m: pos_key_func() got some positional-only arguments passed as keyword arguments: 'a, b'"
          ]
        }
      ]
    },
    {
      "cell_type": "code",
      "source": [
        "def my_func(*s, **k):\n",
        "  print(s)\n",
        "  print(type(s))\n",
        "  print(k)\n",
        "  print(type(k))"
      ],
      "metadata": {
        "id": "VRU9vJRZZhru"
      },
      "execution_count": 59,
      "outputs": []
    },
    {
      "cell_type": "code",
      "source": [
        "my_func(1.5,1,True, [1,2,3],(1,2,3),{1,2,3}, name = \"Venky\", age = 26, occupation = \"Teaching\")"
      ],
      "metadata": {
        "colab": {
          "base_uri": "https://localhost:8080/"
        },
        "id": "seK9O28caYvl",
        "outputId": "5374f7e3-9957-4512-e459-158b082d8d8f"
      },
      "execution_count": 60,
      "outputs": [
        {
          "output_type": "stream",
          "name": "stdout",
          "text": [
            "(1.5, 1, True, [1, 2, 3], (1, 2, 3), {1, 2, 3})\n",
            "<class 'tuple'>\n",
            "{'name': 'Venky', 'age': 26, 'occupation': 'Teaching'}\n",
            "<class 'dict'>\n"
          ]
        }
      ]
    },
    {
      "cell_type": "code",
      "source": [
        "# docstring\n",
        "\n",
        "def pythonOperators(a,b):\n",
        "  \"\"\"\n",
        "  Description: This function prints basic python operations like addtion, sub, mul and remainder operators\n",
        "  Inputs: a, b\n",
        "  Returns: None\n",
        "  \"\"\"\n",
        "  print(\"Addition: {}\".format(a+b))\n",
        "  print(\"Sub: {}\".format(a-b))\n",
        "  print(\"Mul: {}\".format(a*b))\n",
        "  print(\"Remainder: {}\".format(a%b))\n",
        "  print(\"Div: {}\".format(a/b))"
      ],
      "metadata": {
        "id": "qN40cfxOaf3q"
      },
      "execution_count": 63,
      "outputs": []
    },
    {
      "cell_type": "code",
      "source": [
        "pythonOperators(15, 5)"
      ],
      "metadata": {
        "colab": {
          "base_uri": "https://localhost:8080/"
        },
        "id": "omi7WwOkcIm3",
        "outputId": "b150e5b6-6c48-4fbb-f291-3fd7b573c2d6"
      },
      "execution_count": 64,
      "outputs": [
        {
          "output_type": "stream",
          "name": "stdout",
          "text": [
            "Addition: 20\n",
            "Sub: 10\n",
            "Mul: 75\n",
            "Remainder: 0\n",
            "Div: 3.0\n"
          ]
        }
      ]
    },
    {
      "cell_type": "code",
      "source": [
        "help(pythonOperators)"
      ],
      "metadata": {
        "colab": {
          "base_uri": "https://localhost:8080/"
        },
        "id": "br-mB7RTdVc0",
        "outputId": "bbb057bf-8010-47bd-de73-21367384b711"
      },
      "execution_count": 65,
      "outputs": [
        {
          "output_type": "stream",
          "name": "stdout",
          "text": [
            "Help on function pythonOperators in module __main__:\n",
            "\n",
            "pythonOperators(a, b)\n",
            "    Description: This function prints basic python operations like addtion, sub, mul and remainder operators\n",
            "    Inputs: a, b\n",
            "    Returns: None\n",
            "\n"
          ]
        }
      ]
    },
    {
      "cell_type": "markdown",
      "source": [
        "### **Passing variables to the function**"
      ],
      "metadata": {
        "id": "94UwBv8Pb8we"
      }
    },
    {
      "cell_type": "code",
      "source": [
        "def my_func(a):\n",
        "  print(\"Inside Function\")\n",
        "  print(a)\n",
        "  print(type(a))\n",
        "  print(id(a))\n",
        "  print(\"Returning the value of a\")\n",
        "  return a\n",
        "\n",
        "b = 100\n",
        "print(b)\n",
        "print(id(b))\n",
        "c = my_func(b)\n",
        "print(c)\n",
        "print(id(c))"
      ],
      "metadata": {
        "colab": {
          "base_uri": "https://localhost:8080/"
        },
        "id": "M1OKVR-pb6Z5",
        "outputId": "0e854f58-a4d5-406f-a1b0-43428dc1f154"
      },
      "execution_count": 67,
      "outputs": [
        {
          "output_type": "stream",
          "name": "stdout",
          "text": [
            "100\n",
            "138495302274384\n",
            "Inside Function\n",
            "100\n",
            "<class 'int'>\n",
            "138495302274384\n",
            "Returning the value of a\n",
            "100\n",
            "138495302274384\n"
          ]
        }
      ]
    },
    {
      "cell_type": "code",
      "source": [
        "def myFunc(a): # a = b\n",
        "  print(\"Inside Function\")\n",
        "  print(\"a: {}, id: {}\".format(a, id(a)))\n",
        "  a += 120\n",
        "  print(\"a: {}, id: {}\".format(a, id(a)))\n",
        "  print(\"Returning From Function\")\n",
        "  return a\n",
        "\n",
        "b = 100\n",
        "print(\"b: {}, id: {}\".format(b, id(b)))\n",
        "c = myFunc(b) # c = a\n",
        "print(\"c: {}, id: {}\".format(c, id(c)))\n",
        "print(\"b: {}, id: {}\".format(b, id(b)))"
      ],
      "metadata": {
        "colab": {
          "base_uri": "https://localhost:8080/"
        },
        "id": "dCl56UmOeYNa",
        "outputId": "eaf42256-3095-4b1d-bb53-75335c5340dc"
      },
      "execution_count": 68,
      "outputs": [
        {
          "output_type": "stream",
          "name": "stdout",
          "text": [
            "b: 100, id: 138495302274384\n",
            "Inside Function\n",
            "a: 100, id: 138495302274384\n",
            "a: 220, id: 138495302278224\n",
            "Returning From Function\n",
            "c: 220, id: 138495302278224\n",
            "b: 100, id: 138495302274384\n"
          ]
        }
      ]
    },
    {
      "cell_type": "code",
      "source": [
        "def myFunc(a): # a = b\n",
        "  print(\"Inside Function\")\n",
        "  print(\"a: {}, id: {}\".format(a,id(a)))\n",
        "  a[2] = 2000000\n",
        "  print(\"a: {}, id: {}\".format(a,id(a)))\n",
        "  print(\"Returning From Function\")\n",
        "  return a\n",
        "\n",
        "b = [10,20,30,40]\n",
        "print(\"b: {}, id: {}\".format(b,id(b)))\n",
        "c = myFunc(b) # c = a\n",
        "print(\"c: {}, id: {}\".format(c,id(c)))\n",
        "print(\"b: {}, id: {}\".format(b,id(b)))"
      ],
      "metadata": {
        "colab": {
          "base_uri": "https://localhost:8080/"
        },
        "id": "rF0geJEGfZJe",
        "outputId": "3fc473e7-ce80-476d-acfc-74970372ef3f"
      },
      "execution_count": 69,
      "outputs": [
        {
          "output_type": "stream",
          "name": "stdout",
          "text": [
            "b: [10, 20, 30, 40], id: 138494018109696\n",
            "Inside Function\n",
            "a: [10, 20, 30, 40], id: 138494018109696\n",
            "a: [10, 20, 2000000, 40], id: 138494018109696\n",
            "Returning From Function\n",
            "c: [10, 20, 2000000, 40], id: 138494018109696\n",
            "b: [10, 20, 2000000, 40], id: 138494018109696\n"
          ]
        }
      ]
    },
    {
      "cell_type": "code",
      "source": [
        "a = 100\n",
        "print(a)\n",
        "print(id(a))\n",
        "\n",
        "a += 50\n",
        "print(a)\n",
        "print(id(a))\n",
        ""
      ],
      "metadata": {
        "colab": {
          "base_uri": "https://localhost:8080/"
        },
        "id": "p5wNkz5uhZbD",
        "outputId": "7cb627db-d0a3-4c24-bb21-d234d4d4b3bb"
      },
      "execution_count": 70,
      "outputs": [
        {
          "output_type": "stream",
          "name": "stdout",
          "text": [
            "100\n",
            "138495302274384\n",
            "150\n",
            "138495302275984\n"
          ]
        }
      ]
    },
    {
      "cell_type": "code",
      "source": [
        "def myfun(a):\n",
        "  print(\"Before variable update in function: {}\".format(a))\n",
        "  a = 100\n",
        "  print(\"Inside Function: {}\".format(a))\n",
        "\n",
        "a = 200\n",
        "print(\"Before calling function: {}\".format(a))\n",
        "myfun(a)\n",
        "print(\"After calling function, Outside the function: {}\".format(a))"
      ],
      "metadata": {
        "colab": {
          "base_uri": "https://localhost:8080/"
        },
        "id": "onZ3biyfhhml",
        "outputId": "0a532e0d-fa30-45d0-a5a9-fb5b80bb336c"
      },
      "execution_count": 71,
      "outputs": [
        {
          "output_type": "stream",
          "name": "stdout",
          "text": [
            "Before calling function: 200\n",
            "Before variable update in function: 200\n",
            "Inside Function: 100\n",
            "After calling function, Outside the function: 200\n"
          ]
        }
      ]
    },
    {
      "cell_type": "code",
      "source": [
        "def myfun(_c):\n",
        "  print(\"Before variable update in function: {}\".format(_c))\n",
        "  _c = 100\n",
        "  print(\"Inside Function: {}\".format(_c))\n",
        "\n",
        "b = 200\n",
        "print(\"Before calling function: {}\".format(b))\n",
        "myfun(b)\n",
        "print(\"After calling function, Outside the function: {}\".format(_c))"
      ],
      "metadata": {
        "colab": {
          "base_uri": "https://localhost:8080/",
          "height": 228
        },
        "id": "25jDGtCQhqIo",
        "outputId": "0c8cdaea-fcb8-4534-c225-60aa1f6c3db0"
      },
      "execution_count": 72,
      "outputs": [
        {
          "output_type": "stream",
          "name": "stdout",
          "text": [
            "Before calling function: 200\n",
            "Before variable update in function: 200\n",
            "Inside Function: 100\n"
          ]
        },
        {
          "output_type": "error",
          "ename": "NameError",
          "evalue": "name '_c' is not defined",
          "traceback": [
            "\u001b[0;31m---------------------------------------------------------------------------\u001b[0m",
            "\u001b[0;31mNameError\u001b[0m                                 Traceback (most recent call last)",
            "\u001b[0;32m<ipython-input-72-4cdc07149dce>\u001b[0m in \u001b[0;36m<cell line: 9>\u001b[0;34m()\u001b[0m\n\u001b[1;32m      7\u001b[0m \u001b[0mprint\u001b[0m\u001b[0;34m(\u001b[0m\u001b[0;34m\"Before calling function: {}\"\u001b[0m\u001b[0;34m.\u001b[0m\u001b[0mformat\u001b[0m\u001b[0;34m(\u001b[0m\u001b[0mb\u001b[0m\u001b[0;34m)\u001b[0m\u001b[0;34m)\u001b[0m\u001b[0;34m\u001b[0m\u001b[0;34m\u001b[0m\u001b[0m\n\u001b[1;32m      8\u001b[0m \u001b[0mmyfun\u001b[0m\u001b[0;34m(\u001b[0m\u001b[0mb\u001b[0m\u001b[0;34m)\u001b[0m\u001b[0;34m\u001b[0m\u001b[0;34m\u001b[0m\u001b[0m\n\u001b[0;32m----> 9\u001b[0;31m \u001b[0mprint\u001b[0m\u001b[0;34m(\u001b[0m\u001b[0;34m\"After calling function, Outside the function: {}\"\u001b[0m\u001b[0;34m.\u001b[0m\u001b[0mformat\u001b[0m\u001b[0;34m(\u001b[0m\u001b[0m_c\u001b[0m\u001b[0;34m)\u001b[0m\u001b[0;34m)\u001b[0m\u001b[0;34m\u001b[0m\u001b[0;34m\u001b[0m\u001b[0m\n\u001b[0m",
            "\u001b[0;31mNameError\u001b[0m: name '_c' is not defined"
          ]
        }
      ]
    },
    {
      "cell_type": "code",
      "source": [
        "def myfunc(a):\n",
        "  a = 2457\n",
        "  print(\"ID Inside function: {}\".format(id(a)))\n",
        "\n",
        "a = 2457\n",
        "myfunc(a)\n",
        "print(\"ID Outside function: {}\".format(id(a)))"
      ],
      "metadata": {
        "colab": {
          "base_uri": "https://localhost:8080/"
        },
        "id": "cJEizq-xigk0",
        "outputId": "d1340efa-f40c-4815-a447-8adcd8ddd2f7"
      },
      "execution_count": 74,
      "outputs": [
        {
          "output_type": "stream",
          "name": "stdout",
          "text": [
            "ID Inside function: 138494019314544\n",
            "ID Outside function: 138494019313328\n"
          ]
        }
      ]
    },
    {
      "cell_type": "code",
      "source": [
        "def myfunc(a):\n",
        "  a = [1, 2, 3, 4, 5]\n",
        "  print(\"ID Inside function: {}\".format(id(a)))\n",
        "\n",
        "a = [1, 2, 3, 4, 5]\n",
        "myfunc(a)\n",
        "print(\"ID Outside function: {}\".format(id(a)))"
      ],
      "metadata": {
        "colab": {
          "base_uri": "https://localhost:8080/"
        },
        "id": "Dnsg2BKVjfZa",
        "outputId": "34a2b953-59fb-43d3-b764-03f94c5d7cc5"
      },
      "execution_count": 75,
      "outputs": [
        {
          "output_type": "stream",
          "name": "stdout",
          "text": [
            "ID Inside function: 138494892028672\n",
            "ID Outside function: 138494018185024\n"
          ]
        }
      ]
    },
    {
      "cell_type": "code",
      "source": [
        "a = 2457\n",
        "b = 2457\n",
        "\n",
        "print(id(a))\n",
        "print(id(b))"
      ],
      "metadata": {
        "colab": {
          "base_uri": "https://localhost:8080/"
        },
        "id": "rJvPvCcIkaas",
        "outputId": "5d0e2b41-388b-48e9-a62c-c6c128f6536e"
      },
      "execution_count": 76,
      "outputs": [
        {
          "output_type": "stream",
          "name": "stdout",
          "text": [
            "138494019320784\n",
            "138494019313040\n"
          ]
        }
      ]
    },
    {
      "cell_type": "code",
      "source": [
        "def func():\n",
        "  a = [1, 2, 3]\n",
        "  b = [1, 2, 3]\n",
        "  print(id(a))\n",
        "  print(id(b))\n",
        "\n",
        "func()"
      ],
      "metadata": {
        "colab": {
          "base_uri": "https://localhost:8080/"
        },
        "id": "gigvpG8dmAK5",
        "outputId": "b1293bb8-0232-4178-c73c-fe246748d0d4"
      },
      "execution_count": 78,
      "outputs": [
        {
          "output_type": "stream",
          "name": "stdout",
          "text": [
            "138494016537984\n",
            "138495296745856\n"
          ]
        }
      ]
    },
    {
      "cell_type": "code",
      "source": [
        "def func():\n",
        "  a = 2457\n",
        "  b = 2457\n",
        "  print(id(a))\n",
        "  print(id(b))\n",
        "\n",
        "func()"
      ],
      "metadata": {
        "colab": {
          "base_uri": "https://localhost:8080/"
        },
        "id": "Fu2qG5QPlAJC",
        "outputId": "ef1ba41b-eced-44ed-d226-4fb6c7ee083f"
      },
      "execution_count": 79,
      "outputs": [
        {
          "output_type": "stream",
          "name": "stdout",
          "text": [
            "138494019319440\n",
            "138494019319440\n"
          ]
        }
      ]
    },
    {
      "cell_type": "code",
      "source": [
        "def func():\n",
        "  a = 24890000000\n",
        "  b = 24890000000\n",
        "  print(id(a))\n",
        "  print(id(b))\n",
        "\n",
        "func()"
      ],
      "metadata": {
        "colab": {
          "base_uri": "https://localhost:8080/"
        },
        "id": "lz0l6laGl33_",
        "outputId": "bff098ff-2438-485c-8e51-ce8605d51835"
      },
      "execution_count": 81,
      "outputs": [
        {
          "output_type": "stream",
          "name": "stdout",
          "text": [
            "138494019321392\n",
            "138494019321392\n"
          ]
        }
      ]
    },
    {
      "cell_type": "code",
      "source": [
        "a = 24890000000\n",
        "b = 24890000000\n",
        "print(id(a))\n",
        "print(id(b))"
      ],
      "metadata": {
        "colab": {
          "base_uri": "https://localhost:8080/"
        },
        "id": "dZ0Lr9uwmRSe",
        "outputId": "d5c5fa1f-ab13-4dbc-86fb-efae2cefd918"
      },
      "execution_count": 82,
      "outputs": [
        {
          "output_type": "stream",
          "name": "stdout",
          "text": [
            "138494019315760\n",
            "138494019316976\n"
          ]
        }
      ]
    },
    {
      "cell_type": "code",
      "source": [
        "def func(a):\n",
        "  a = list(a)\n",
        "  a[0] = 100  # scope of this variable a is limited to this particular function, outside the function if you call this variable, u will get error\n",
        "  return tuple(a)\n",
        "\n",
        "b = (10,20,30)\n",
        "c = func(b)\n",
        "print(b)\n",
        "print(c)"
      ],
      "metadata": {
        "colab": {
          "base_uri": "https://localhost:8080/"
        },
        "id": "MaizoDmimX35",
        "outputId": "7abf24da-6ffa-4aa9-ff21-e3d7e9a49428"
      },
      "execution_count": 83,
      "outputs": [
        {
          "output_type": "stream",
          "name": "stdout",
          "text": [
            "(10, 20, 30)\n",
            "(100, 20, 30)\n"
          ]
        }
      ]
    },
    {
      "cell_type": "code",
      "source": [],
      "metadata": {
        "id": "8bQmqRFznTPW"
      },
      "execution_count": null,
      "outputs": []
    }
  ]
}