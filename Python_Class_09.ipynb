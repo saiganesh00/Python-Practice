{
  "nbformat": 4,
  "nbformat_minor": 0,
  "metadata": {
    "colab": {
      "provenance": [],
      "authorship_tag": "ABX9TyN64CRouvQ7Vx/TbF7o1fB4",
      "include_colab_link": true
    },
    "kernelspec": {
      "name": "python3",
      "display_name": "Python 3"
    },
    "language_info": {
      "name": "python"
    }
  },
  "cells": [
    {
      "cell_type": "markdown",
      "metadata": {
        "id": "view-in-github",
        "colab_type": "text"
      },
      "source": [
        "<a href=\"https://colab.research.google.com/github/saiganesh00/Python-Practice/blob/main/Python_Class_09.ipynb\" target=\"_parent\"><img src=\"https://colab.research.google.com/assets/colab-badge.svg\" alt=\"Open In Colab\"/></a>"
      ]
    },
    {
      "cell_type": "code",
      "execution_count": 2,
      "metadata": {
        "colab": {
          "base_uri": "https://localhost:8080/"
        },
        "id": "my1h10j_R9em",
        "outputId": "0710af9d-e011-41fd-897b-dcced7c90a93"
      },
      "outputs": [
        {
          "output_type": "stream",
          "name": "stdout",
          "text": [
            "ShanmukhMaddimsetti\n",
            "Shanmukh Maddimsetti\n"
          ]
        }
      ],
      "source": [
        "# Concatenate operator(+)\n",
        "\n",
        "print('Shanmukh' + 'Maddimsetti')\n",
        "print('Shanmukh ' + 'Maddimsetti')"
      ]
    },
    {
      "cell_type": "code",
      "source": [
        "# String repetition operator(*)\n",
        "\n",
        "print('Python' * 2)\n",
        "print('Python ' * 2)\n",
        "print('Python' * 5)\n",
        "print('Python' * 0)\n",
        "print('Python' * -1)"
      ],
      "metadata": {
        "colab": {
          "base_uri": "https://localhost:8080/"
        },
        "id": "b_eL1xjdS-2L",
        "outputId": "8f6bdcbb-69ca-4bc8-b9fe-f4ef578e4aef"
      },
      "execution_count": 3,
      "outputs": [
        {
          "output_type": "stream",
          "name": "stdout",
          "text": [
            "PythonPython\n",
            "Python Python \n",
            "PythonPythonPythonPythonPython\n",
            "\n",
            "\n"
          ]
        }
      ]
    },
    {
      "cell_type": "code",
      "source": [
        "# String Comparision\n",
        "\n",
        "print(\"String\" == \"String\")\n",
        "print(\"String\" == \"string\")"
      ],
      "metadata": {
        "colab": {
          "base_uri": "https://localhost:8080/"
        },
        "id": "W7PWk0YXUSlg",
        "outputId": "9177c96e-def5-403c-f687-ec1391dd59c4"
      },
      "execution_count": 4,
      "outputs": [
        {
          "output_type": "stream",
          "name": "stdout",
          "text": [
            "True\n",
            "False\n"
          ]
        }
      ]
    },
    {
      "cell_type": "code",
      "source": [
        "print(\"String\" != \"String\")\n",
        "print(\"String\" != \"string\")"
      ],
      "metadata": {
        "colab": {
          "base_uri": "https://localhost:8080/"
        },
        "id": "RM4T3goBUwVn",
        "outputId": "2e24308e-2fd7-4037-837e-57f96d5ee370"
      },
      "execution_count": 5,
      "outputs": [
        {
          "output_type": "stream",
          "name": "stdout",
          "text": [
            "False\n",
            "True\n"
          ]
        }
      ]
    },
    {
      "cell_type": "code",
      "source": [
        "print(\"String\" <= \"String\")\n",
        "print(\"String\" <= \"string\")\n",
        "print(ord(\"s\"))\n",
        "print(ord(\"S\"))"
      ],
      "metadata": {
        "colab": {
          "base_uri": "https://localhost:8080/"
        },
        "id": "HrXTFLN6U1Vm",
        "outputId": "fc1016e4-6a73-48b3-a264-a4281e722009"
      },
      "execution_count": 6,
      "outputs": [
        {
          "output_type": "stream",
          "name": "stdout",
          "text": [
            "True\n",
            "True\n",
            "115\n",
            "83\n"
          ]
        }
      ]
    },
    {
      "cell_type": "code",
      "source": [
        "print(\"String\" < \"String\")\n",
        "print(\"String\" < \"string\")"
      ],
      "metadata": {
        "colab": {
          "base_uri": "https://localhost:8080/"
        },
        "id": "Zn10g3gOVCfU",
        "outputId": "3ca00ef1-defa-4aef-d777-1f5159891dc0"
      },
      "execution_count": 7,
      "outputs": [
        {
          "output_type": "stream",
          "name": "stdout",
          "text": [
            "False\n",
            "True\n"
          ]
        }
      ]
    },
    {
      "cell_type": "code",
      "source": [
        "print(\"String\" >= \"String\")\n",
        "print(\"String\" >= \"string\")"
      ],
      "metadata": {
        "colab": {
          "base_uri": "https://localhost:8080/"
        },
        "id": "LXfh71NmVIFf",
        "outputId": "c50a9d54-4988-44e6-ce53-4714a32ed45b"
      },
      "execution_count": 8,
      "outputs": [
        {
          "output_type": "stream",
          "name": "stdout",
          "text": [
            "True\n",
            "False\n"
          ]
        }
      ]
    },
    {
      "cell_type": "code",
      "source": [
        "print(\"String\" > \"String\")\n",
        "print(\"String\" > \"string\")"
      ],
      "metadata": {
        "colab": {
          "base_uri": "https://localhost:8080/"
        },
        "id": "ewwrsdDZVR6L",
        "outputId": "3212eaf4-44e0-4f16-b53d-26195a1ef333"
      },
      "execution_count": 9,
      "outputs": [
        {
          "output_type": "stream",
          "name": "stdout",
          "text": [
            "False\n",
            "False\n"
          ]
        }
      ]
    },
    {
      "cell_type": "code",
      "source": [
        "# membership operator\n",
        "\n",
        "print(\"mu\" in \"Shanmukh\")\n",
        "print(\"muh\" in \"Shanmukh\")"
      ],
      "metadata": {
        "colab": {
          "base_uri": "https://localhost:8080/"
        },
        "id": "nvY1Mq9xVU-V",
        "outputId": "84f60183-73a3-44a6-d338-8269cc97a9d8"
      },
      "execution_count": 11,
      "outputs": [
        {
          "output_type": "stream",
          "name": "stdout",
          "text": [
            "True\n",
            "False\n"
          ]
        }
      ]
    },
    {
      "cell_type": "code",
      "source": [
        "print(\"mu\" not in \"Shanmukh\")\n",
        "print(\"muh\" not in \"Shanmukh\")"
      ],
      "metadata": {
        "colab": {
          "base_uri": "https://localhost:8080/"
        },
        "id": "8O3skBNTWXnc",
        "outputId": "e0c40ecf-951f-450b-8437-927303fea11d"
      },
      "execution_count": 12,
      "outputs": [
        {
          "output_type": "stream",
          "name": "stdout",
          "text": [
            "False\n",
            "True\n"
          ]
        }
      ]
    },
    {
      "cell_type": "code",
      "source": [
        "# Escape Sequence joperator \\, \\n, \\b, \\ooo, \\xhh\n",
        "\n",
        "print(\"Today's Match \"India Vs Pak\"\")"
      ],
      "metadata": {
        "colab": {
          "base_uri": "https://localhost:8080/",
          "height": 106
        },
        "id": "QvR5GmDTWnfz",
        "outputId": "f5e1b0cb-0ae1-41c9-df2c-e2a2717e9ea3"
      },
      "execution_count": 13,
      "outputs": [
        {
          "output_type": "error",
          "ename": "SyntaxError",
          "evalue": "invalid syntax. Perhaps you forgot a comma? (<ipython-input-13-c295698cbfc7>, line 3)",
          "traceback": [
            "\u001b[0;36m  File \u001b[0;32m\"<ipython-input-13-c295698cbfc7>\"\u001b[0;36m, line \u001b[0;32m3\u001b[0m\n\u001b[0;31m    print(\"Today's Match \"India Vs Pak\"\")\u001b[0m\n\u001b[0m          ^\u001b[0m\n\u001b[0;31mSyntaxError\u001b[0m\u001b[0;31m:\u001b[0m invalid syntax. Perhaps you forgot a comma?\n"
          ]
        }
      ]
    },
    {
      "cell_type": "code",
      "source": [
        "print(\"Today's Match: \\\"India Vs Pak\\\"\")"
      ],
      "metadata": {
        "colab": {
          "base_uri": "https://localhost:8080/"
        },
        "id": "nQrfblRtXDw0",
        "outputId": "2294b7f3-b6c9-4dcc-bb6c-9289b48cb9c6"
      },
      "execution_count": 14,
      "outputs": [
        {
          "output_type": "stream",
          "name": "stdout",
          "text": [
            "Today's Match: \"India Vs Pak\"\n"
          ]
        }
      ]
    },
    {
      "cell_type": "code",
      "source": [
        "print('Today\\'s Match: \\'India Vs Pak\\'')"
      ],
      "metadata": {
        "colab": {
          "base_uri": "https://localhost:8080/"
        },
        "id": "3Lfwj4oyXLbp",
        "outputId": "6636f880-6b5b-42c9-93fd-e41008f6431f"
      },
      "execution_count": 15,
      "outputs": [
        {
          "output_type": "stream",
          "name": "stdout",
          "text": [
            "Today's Match: 'India Vs Pak'\n"
          ]
        }
      ]
    },
    {
      "cell_type": "code",
      "source": [
        "print(\"Match1\\nMatch2\")"
      ],
      "metadata": {
        "colab": {
          "base_uri": "https://localhost:8080/"
        },
        "id": "sFe5ghhBXYR4",
        "outputId": "9d48bdde-432f-4545-ed64-069dbb739da2"
      },
      "execution_count": 16,
      "outputs": [
        {
          "output_type": "stream",
          "name": "stdout",
          "text": [
            "Match1\n",
            "Match2\n"
          ]
        }
      ]
    },
    {
      "cell_type": "code",
      "source": [
        "print(\"Hello World! \\b\")"
      ],
      "metadata": {
        "colab": {
          "base_uri": "https://localhost:8080/"
        },
        "id": "wuC5TQ3YXjNR",
        "outputId": "b1ba0771-cbfd-4882-fed6-f539d90775ce"
      },
      "execution_count": 17,
      "outputs": [
        {
          "output_type": "stream",
          "name": "stdout",
          "text": [
            "Hello World! \b\n"
          ]
        }
      ]
    },
    {
      "cell_type": "code",
      "source": [
        "print(\"Hello World!\\b\")\n",
        "print(\"Hello\\b World!\")\n",
        "print(\"Hello \\bWorld!\")"
      ],
      "metadata": {
        "colab": {
          "base_uri": "https://localhost:8080/"
        },
        "id": "gwxi_PrbX6my",
        "outputId": "396950e8-bad6-4404-827c-eadcf775f58d"
      },
      "execution_count": 19,
      "outputs": [
        {
          "output_type": "stream",
          "name": "stdout",
          "text": [
            "Hello World!\b\n",
            "Hello\b World!\n",
            "Hello \bWorld!\n"
          ]
        }
      ]
    },
    {
      "cell_type": "code",
      "source": [
        "# \\ooo --> octal number 141 = 97 = a\n",
        "\n",
        "print(\"\\141\")\n",
        "print(\"\\141\\142\")"
      ],
      "metadata": {
        "colab": {
          "base_uri": "https://localhost:8080/"
        },
        "id": "OEHKvss3YOY-",
        "outputId": "fb9f7771-d766-4475-980a-f3f31d09425a"
      },
      "execution_count": 21,
      "outputs": [
        {
          "output_type": "stream",
          "name": "stdout",
          "text": [
            "a\n",
            "ab\n"
          ]
        }
      ]
    },
    {
      "cell_type": "code",
      "source": [
        "print(\"\\1412\")"
      ],
      "metadata": {
        "colab": {
          "base_uri": "https://localhost:8080/"
        },
        "id": "wKmkzFmyYy__",
        "outputId": "d65c5169-100c-4571-d7dd-50eb3bfd3f12"
      },
      "execution_count": 22,
      "outputs": [
        {
          "output_type": "stream",
          "name": "stdout",
          "text": [
            "a2\n"
          ]
        }
      ]
    },
    {
      "cell_type": "code",
      "source": [
        "print(\"\\14123456789\")"
      ],
      "metadata": {
        "colab": {
          "base_uri": "https://localhost:8080/"
        },
        "id": "2YU2ROqKacBp",
        "outputId": "468d8a8f-b56e-4556-b6fb-55a2848852e8"
      },
      "execution_count": 23,
      "outputs": [
        {
          "output_type": "stream",
          "name": "stdout",
          "text": [
            "a23456789\n"
          ]
        }
      ]
    },
    {
      "cell_type": "code",
      "source": [
        "# \\xhh -> Hex --> \\x65 = 101 =chr(101) = e\n",
        "\n",
        "print(\"\\x65\")"
      ],
      "metadata": {
        "colab": {
          "base_uri": "https://localhost:8080/"
        },
        "id": "BuH_IdVgahcF",
        "outputId": "fb895b0a-0b60-4ceb-bfa6-17ab3ec50b7b"
      },
      "execution_count": 24,
      "outputs": [
        {
          "output_type": "stream",
          "name": "stdout",
          "text": [
            "e\n"
          ]
        }
      ]
    },
    {
      "cell_type": "markdown",
      "source": [
        "## **String Formatting**"
      ],
      "metadata": {
        "id": "JQg2zjoqzQGj"
      }
    },
    {
      "cell_type": "code",
      "source": [
        "# String formatting operator\n",
        "\n",
        "subject = input('Enter the subject name: ')\n",
        "print(\"Python class is happening now\")"
      ],
      "metadata": {
        "colab": {
          "base_uri": "https://localhost:8080/"
        },
        "id": "N7DeakQabOuG",
        "outputId": "cefb0509-680c-4963-f6d2-eed5630e26d0"
      },
      "execution_count": 26,
      "outputs": [
        {
          "output_type": "stream",
          "name": "stdout",
          "text": [
            "Enter the subject name: Java\n",
            "Python class is happening now\n"
          ]
        }
      ]
    },
    {
      "cell_type": "code",
      "source": [
        "print(\"%s class is happening now\"%subject)\n",
        "print(\"{} class is happening now\".format(subject))"
      ],
      "metadata": {
        "colab": {
          "base_uri": "https://localhost:8080/"
        },
        "id": "7V4bstbJb_SJ",
        "outputId": "dfa49ca8-89a1-4096-b4c8-e89477319d6f"
      },
      "execution_count": 27,
      "outputs": [
        {
          "output_type": "stream",
          "name": "stdout",
          "text": [
            "Java class is happening now\n",
            "Java class is happening now\n"
          ]
        }
      ]
    },
    {
      "cell_type": "code",
      "source": [
        "name = \"Shanmukh\"\n",
        "age = 22\n",
        "print(\"I'm Shanmukh and age is 26\")\n",
        "print(\"I'm %s and age id %d\"%(name, age))\n"
      ],
      "metadata": {
        "colab": {
          "base_uri": "https://localhost:8080/"
        },
        "id": "EnvdpgJTceMV",
        "outputId": "a64dfce4-a1e9-4228-9a4f-81406c8aa147"
      },
      "execution_count": 29,
      "outputs": [
        {
          "output_type": "stream",
          "name": "stdout",
          "text": [
            "I'm Shanmukh and age is 26\n",
            "I'm Shanmukh and age id 22\n"
          ]
        }
      ]
    },
    {
      "cell_type": "code",
      "source": [
        "name = \"Shanmukh\"\n",
        "city = \"Ravulapalem\"\n",
        "\n",
        "print(\"I'm %s and I live in %s\"%(name, city))\n",
        "print(\"I'm %s and I live in %s\"%(city, name))"
      ],
      "metadata": {
        "colab": {
          "base_uri": "https://localhost:8080/"
        },
        "id": "r-NmmzjQcuvQ",
        "outputId": "54301791-1b97-4aaf-c684-885439e286f6"
      },
      "execution_count": 31,
      "outputs": [
        {
          "output_type": "stream",
          "name": "stdout",
          "text": [
            "I'm Shanmukh and I live in Ravulapalem\n",
            "I'm Ravulapalem and I live in Shanmukh\n"
          ]
        }
      ]
    },
    {
      "cell_type": "code",
      "source": [
        "print(\"I'm %s and I live in %d\"%(name, age))"
      ],
      "metadata": {
        "colab": {
          "base_uri": "https://localhost:8080/"
        },
        "id": "Vy5oMag2dir2",
        "outputId": "3cdb38b5-28e2-4d2a-8dba-9f2b2f6ec503"
      },
      "execution_count": 32,
      "outputs": [
        {
          "output_type": "stream",
          "name": "stdout",
          "text": [
            "I'm Shanmukh and I live in 22\n"
          ]
        }
      ]
    },
    {
      "cell_type": "code",
      "source": [
        "print(\"I'm %s and I live in %d\"%(age, name))"
      ],
      "metadata": {
        "colab": {
          "base_uri": "https://localhost:8080/",
          "height": 141
        },
        "id": "gdXYD6p5dr12",
        "outputId": "cacf6c07-89bf-423b-9186-3266c1cc0118"
      },
      "execution_count": 33,
      "outputs": [
        {
          "output_type": "error",
          "ename": "TypeError",
          "evalue": "%d format: a real number is required, not str",
          "traceback": [
            "\u001b[0;31m---------------------------------------------------------------------------\u001b[0m",
            "\u001b[0;31mTypeError\u001b[0m                                 Traceback (most recent call last)",
            "\u001b[0;32m<ipython-input-33-739c0beeb8f5>\u001b[0m in \u001b[0;36m<cell line: 1>\u001b[0;34m()\u001b[0m\n\u001b[0;32m----> 1\u001b[0;31m \u001b[0mprint\u001b[0m\u001b[0;34m(\u001b[0m\u001b[0;34m\"I'm %s and I live in %d\"\u001b[0m\u001b[0;34m%\u001b[0m\u001b[0;34m(\u001b[0m\u001b[0mage\u001b[0m\u001b[0;34m,\u001b[0m \u001b[0mname\u001b[0m\u001b[0;34m)\u001b[0m\u001b[0;34m)\u001b[0m\u001b[0;34m\u001b[0m\u001b[0;34m\u001b[0m\u001b[0m\n\u001b[0m",
            "\u001b[0;31mTypeError\u001b[0m: %d format: a real number is required, not str"
          ]
        }
      ]
    },
    {
      "cell_type": "code",
      "source": [
        "# String formating\n",
        "\n",
        "name  = 'Shanmukh'\n",
        "age = 22\n",
        "\n",
        "print(\"My name is {} and I'm {} years old\".format(name, age))"
      ],
      "metadata": {
        "colab": {
          "base_uri": "https://localhost:8080/"
        },
        "id": "wG_oipHasUBq",
        "outputId": "1e63a50e-bb0f-4f5a-aea8-c1e1c0254d8d"
      },
      "execution_count": 61,
      "outputs": [
        {
          "output_type": "stream",
          "name": "stdout",
          "text": [
            "My name is Shanmukh and I'm 22 years old\n"
          ]
        }
      ]
    },
    {
      "cell_type": "code",
      "source": [
        "# Positional arguments\n",
        "\n",
        "name  = 'Shanmukh'\n",
        "age = 22\n",
        "\n",
        "print(\"My name is {0} and I'm {1} years old\".format(name, age))"
      ],
      "metadata": {
        "colab": {
          "base_uri": "https://localhost:8080/"
        },
        "id": "-xMape0LtZp8",
        "outputId": "bd12ddd1-1adb-4333-f79f-30d252e4bce0"
      },
      "execution_count": 63,
      "outputs": [
        {
          "output_type": "stream",
          "name": "stdout",
          "text": [
            "My name is Shanmukh and I'm 22 years old\n"
          ]
        }
      ]
    },
    {
      "cell_type": "code",
      "source": [
        "# Positional arguments\n",
        "\n",
        "name  = 'Shanmukh'\n",
        "age = 22\n",
        "\n",
        "print(\"My name is {0} and I'm {1} years old\".format(name, age))"
      ],
      "metadata": {
        "colab": {
          "base_uri": "https://localhost:8080/"
        },
        "id": "WVn4URfYsXDZ",
        "outputId": "ea2e9aa9-aa59-47be-9696-0bd881f5ea0a"
      },
      "execution_count": 64,
      "outputs": [
        {
          "output_type": "stream",
          "name": "stdout",
          "text": [
            "My name is Shanmukh and I'm 22 years old\n"
          ]
        }
      ]
    },
    {
      "cell_type": "code",
      "source": [
        "# Positional arguments\n",
        "\n",
        "name  = 'Shanmukh'\n",
        "age = 22\n",
        "\n",
        "print(\"My name is {0} and I'm {2} years old\".format(name, age, 23))"
      ],
      "metadata": {
        "colab": {
          "base_uri": "https://localhost:8080/"
        },
        "id": "reyU3BasuFZF",
        "outputId": "711fba01-98bc-4c28-e48e-4353a6cccae1"
      },
      "execution_count": 66,
      "outputs": [
        {
          "output_type": "stream",
          "name": "stdout",
          "text": [
            "My name is Shanmukh and I'm 23 years old\n"
          ]
        }
      ]
    },
    {
      "cell_type": "code",
      "source": [
        "# Key Word  arguments\n",
        "\n",
        "name  = 'Shanmukh'\n",
        "age = 22\n",
        "\n",
        "print(\"My name is {name} and I'm {age} years old\".format(name = \"Srinivas\", age = \"20\"))"
      ],
      "metadata": {
        "colab": {
          "base_uri": "https://localhost:8080/"
        },
        "id": "Tr3h-IxWtm6u",
        "outputId": "83e99071-6a05-4278-c22f-96bf50712a8f"
      },
      "execution_count": 65,
      "outputs": [
        {
          "output_type": "stream",
          "name": "stdout",
          "text": [
            "My name is Srinivas and I'm 20 years old\n"
          ]
        }
      ]
    },
    {
      "cell_type": "code",
      "source": [
        "# Key Word  arguments\n",
        "\n",
        "name  = 'Shanmukh'\n",
        "age = 22\n",
        "\n",
        "print(\"My name is {name} and I'm {age} years old\".format(age = \"20\", name = \"Srinivas\"))"
      ],
      "metadata": {
        "colab": {
          "base_uri": "https://localhost:8080/"
        },
        "id": "eW5FrZnHuXVD",
        "outputId": "de1a1798-fb26-48c5-d073-335db9439628"
      },
      "execution_count": 67,
      "outputs": [
        {
          "output_type": "stream",
          "name": "stdout",
          "text": [
            "My name is Srinivas and I'm 20 years old\n"
          ]
        }
      ]
    },
    {
      "cell_type": "code",
      "source": [
        "# Key Word  arguments\n",
        "\n",
        "name  = 'Shanmukh'\n",
        "age = 22\n",
        "\n",
        "print(\"My name is {name} and I'm {age} years old\".format(age = \"20\", name = \"Srinivas\"))"
      ],
      "metadata": {
        "id": "54RohH8Ct3Ez"
      },
      "execution_count": null,
      "outputs": []
    },
    {
      "cell_type": "code",
      "source": [
        "print(\"My name is {0} and I'm {age} years old.\".format(\"Venky\", age=26))\n",
        "print(\"My name is {1} and I'm {age} years old.\".format(\"Venky\", \"Viky\", age=26))"
      ],
      "metadata": {
        "colab": {
          "base_uri": "https://localhost:8080/"
        },
        "id": "usmkHPEhvkkP",
        "outputId": "ae201c88-9026-450f-c022-dded018d6bac"
      },
      "execution_count": 69,
      "outputs": [
        {
          "output_type": "stream",
          "name": "stdout",
          "text": [
            "My name is Venky and I'm 26 years old.\n",
            "My name is Viky and I'm 26 years old.\n"
          ]
        }
      ]
    },
    {
      "cell_type": "code",
      "source": [
        "# KeyWord Arguments shouldn't follow positional args\n",
        "\n",
        "print(\"My name is {1} and I'm {age} years old.\".format(age=26, \"Venky\"))"
      ],
      "metadata": {
        "colab": {
          "base_uri": "https://localhost:8080/",
          "height": 106
        },
        "id": "_bVpjNzWvrns",
        "outputId": "f8885f84-dfc8-405d-a1d8-da40c5a83fca"
      },
      "execution_count": 70,
      "outputs": [
        {
          "output_type": "error",
          "ename": "SyntaxError",
          "evalue": "positional argument follows keyword argument (<ipython-input-70-a8161a89519d>, line 3)",
          "traceback": [
            "\u001b[0;36m  File \u001b[0;32m\"<ipython-input-70-a8161a89519d>\"\u001b[0;36m, line \u001b[0;32m3\u001b[0m\n\u001b[0;31m    print(\"My name is {1} and I'm {age} years old.\".format(age=26, \"Venky\"))\u001b[0m\n\u001b[0m                                                                          ^\u001b[0m\n\u001b[0;31mSyntaxError\u001b[0m\u001b[0;31m:\u001b[0m positional argument follows keyword argument\n"
          ]
        }
      ]
    },
    {
      "cell_type": "code",
      "source": [
        "score = 12.5\n",
        "print(\"Score is: %f\"%score)"
      ],
      "metadata": {
        "colab": {
          "base_uri": "https://localhost:8080/"
        },
        "id": "TfaCLykfdxwG",
        "outputId": "3dea17fe-a84c-462c-cfa0-d0456977fbc1"
      },
      "execution_count": 34,
      "outputs": [
        {
          "output_type": "stream",
          "name": "stdout",
          "text": [
            "Score is: 12.500000\n"
          ]
        }
      ]
    },
    {
      "cell_type": "code",
      "source": [
        "score = 12\n",
        "print(\"Score is: %f\"%score)"
      ],
      "metadata": {
        "colab": {
          "base_uri": "https://localhost:8080/"
        },
        "id": "PPphpT8Nd61S",
        "outputId": "900091da-4d89-4d54-f78c-3a05e5299fdc"
      },
      "execution_count": 35,
      "outputs": [
        {
          "output_type": "stream",
          "name": "stdout",
          "text": [
            "Score is: 12.000000\n"
          ]
        }
      ]
    },
    {
      "cell_type": "code",
      "source": [
        "score1 = 12.9365473900\n",
        "score2 = 12\n",
        "print(\"Score is: %f\"%score1)\n",
        "print(\"Score is: %f\"%score2)"
      ],
      "metadata": {
        "colab": {
          "base_uri": "https://localhost:8080/"
        },
        "id": "qYENTd84d9zl",
        "outputId": "0bb26112-0956-4995-cc85-a30eae43136f"
      },
      "execution_count": 36,
      "outputs": [
        {
          "output_type": "stream",
          "name": "stdout",
          "text": [
            "Score is: 12.936547\n",
            "Score is: 12.000000\n"
          ]
        }
      ]
    },
    {
      "cell_type": "code",
      "source": [
        "print(\"Score is: %d\"%score1)\n",
        "print(\"Score is: %d\"%score2)"
      ],
      "metadata": {
        "colab": {
          "base_uri": "https://localhost:8080/"
        },
        "id": "JiM8QN7rePb2",
        "outputId": "1f796275-1142-4ad9-dbb4-eb7cc932c6df"
      },
      "execution_count": 37,
      "outputs": [
        {
          "output_type": "stream",
          "name": "stdout",
          "text": [
            "Score is: 12\n",
            "Score is: 12\n"
          ]
        }
      ]
    },
    {
      "cell_type": "code",
      "source": [
        "print(\"Score is: %s\"%score1)"
      ],
      "metadata": {
        "colab": {
          "base_uri": "https://localhost:8080/"
        },
        "id": "gLeP4khHeUz9",
        "outputId": "ca71cc17-36dd-44ce-e579-41eb4e99553e"
      },
      "execution_count": 38,
      "outputs": [
        {
          "output_type": "stream",
          "name": "stdout",
          "text": [
            "Score is: 12.93654739\n"
          ]
        }
      ]
    },
    {
      "cell_type": "code",
      "source": [
        "# Integer arguments\n",
        "\n",
        "print(\"Class ends around {:d} AM\".format(9))"
      ],
      "metadata": {
        "colab": {
          "base_uri": "https://localhost:8080/"
        },
        "id": "sPTHwZtnvYQd",
        "outputId": "04c6b25d-eecf-4704-def4-58330652143a"
      },
      "execution_count": 68,
      "outputs": [
        {
          "output_type": "stream",
          "name": "stdout",
          "text": [
            "Class ends around 9 AM\n"
          ]
        }
      ]
    },
    {
      "cell_type": "code",
      "source": [
        "print(\"Class ends around {:d} AM\".format(9.30))"
      ],
      "metadata": {
        "colab": {
          "base_uri": "https://localhost:8080/",
          "height": 141
        },
        "id": "TerMKgYJv_42",
        "outputId": "15e3432c-5049-43bf-8b7b-989e6bb2550c"
      },
      "execution_count": 71,
      "outputs": [
        {
          "output_type": "error",
          "ename": "ValueError",
          "evalue": "Unknown format code 'd' for object of type 'float'",
          "traceback": [
            "\u001b[0;31m---------------------------------------------------------------------------\u001b[0m",
            "\u001b[0;31mValueError\u001b[0m                                Traceback (most recent call last)",
            "\u001b[0;32m<ipython-input-71-aaf4d4ba707e>\u001b[0m in \u001b[0;36m<cell line: 1>\u001b[0;34m()\u001b[0m\n\u001b[0;32m----> 1\u001b[0;31m \u001b[0mprint\u001b[0m\u001b[0;34m(\u001b[0m\u001b[0;34m\"Class ends around {:d} AM\"\u001b[0m\u001b[0;34m.\u001b[0m\u001b[0mformat\u001b[0m\u001b[0;34m(\u001b[0m\u001b[0;36m9.30\u001b[0m\u001b[0;34m)\u001b[0m\u001b[0;34m)\u001b[0m\u001b[0;34m\u001b[0m\u001b[0;34m\u001b[0m\u001b[0m\n\u001b[0m",
            "\u001b[0;31mValueError\u001b[0m: Unknown format code 'd' for object of type 'float'"
          ]
        }
      ]
    },
    {
      "cell_type": "code",
      "source": [
        "print(\"Class ends around {:d} AM\".format(\"9\"))"
      ],
      "metadata": {
        "colab": {
          "base_uri": "https://localhost:8080/",
          "height": 141
        },
        "id": "ziMGfpwNwDpi",
        "outputId": "538c2c32-8301-4efe-a500-1f39dea50470"
      },
      "execution_count": 72,
      "outputs": [
        {
          "output_type": "error",
          "ename": "ValueError",
          "evalue": "Unknown format code 'd' for object of type 'str'",
          "traceback": [
            "\u001b[0;31m---------------------------------------------------------------------------\u001b[0m",
            "\u001b[0;31mValueError\u001b[0m                                Traceback (most recent call last)",
            "\u001b[0;32m<ipython-input-72-2d81bc3ed0c1>\u001b[0m in \u001b[0;36m<cell line: 1>\u001b[0;34m()\u001b[0m\n\u001b[0;32m----> 1\u001b[0;31m \u001b[0mprint\u001b[0m\u001b[0;34m(\u001b[0m\u001b[0;34m\"Class ends around {:d} AM\"\u001b[0m\u001b[0;34m.\u001b[0m\u001b[0mformat\u001b[0m\u001b[0;34m(\u001b[0m\u001b[0;34m\"9\"\u001b[0m\u001b[0;34m)\u001b[0m\u001b[0;34m)\u001b[0m\u001b[0;34m\u001b[0m\u001b[0;34m\u001b[0m\u001b[0m\n\u001b[0m",
            "\u001b[0;31mValueError\u001b[0m: Unknown format code 'd' for object of type 'str'"
          ]
        }
      ]
    },
    {
      "cell_type": "code",
      "source": [
        "# float arguments\n",
        "\n",
        "print(\"Float value is given by {:f} \".format(120.4568976))\n",
        "print(\"Float round off to 2 digits: {:.2f} \".format(120.4568976))\n",
        "print(\"Float round off to 2 digits: {:.3f} \".format(120.4568976))"
      ],
      "metadata": {
        "colab": {
          "base_uri": "https://localhost:8080/"
        },
        "id": "vynyMUxKwJxU",
        "outputId": "7507e399-7c64-49a2-99e9-ced7d1f4171c"
      },
      "execution_count": 73,
      "outputs": [
        {
          "output_type": "stream",
          "name": "stdout",
          "text": [
            "Float value is given by 120.456898 \n",
            "Float round off to 2 digits: 120.46 \n",
            "Float round off to 2 digits: 120.457 \n"
          ]
        }
      ]
    },
    {
      "cell_type": "code",
      "source": [
        "# padding\n",
        "\n",
        "print(\"Learning padding for decimal number {:10d}\".format(12897))\n",
        "print(\"Learning padding for float number {:8.3f}\".format(10.5678))\n",
        "print(\"Learning padding for decimal number {:010d}\".format(12897))\n",
        "print(\"Learning padding for float number {:08.3f}\".format(10.5678))\n",
        "print(\"Learning padding for decimal number {:010d}\".format(12897))\n",
        "print(\"Learning padding for float number {:10.3f}\".format(10.5678))"
      ],
      "metadata": {
        "colab": {
          "base_uri": "https://localhost:8080/"
        },
        "id": "EXRYQs3OwOdX",
        "outputId": "45295517-c0a1-4be1-f072-530272a36686"
      },
      "execution_count": 74,
      "outputs": [
        {
          "output_type": "stream",
          "name": "stdout",
          "text": [
            "Learning padding for decimal number      12897\n",
            "Learning padding for float number   10.568\n",
            "Learning padding for decimal number 0000012897\n",
            "Learning padding for float number 0010.568\n",
            "Learning padding for decimal number 0000012897\n",
            "Learning padding for float number     10.568\n"
          ]
        }
      ]
    },
    {
      "cell_type": "code",
      "source": [
        "# integer with left alignment\n",
        "print(\"Left Alignment Integer: {:<5d}\".format(12))\n",
        "print(\"Right Alignment Integer: {:>5d}\".format(12))\n",
        "print(\"Center Alignment Integer: {:^5d}\".format(12))\n",
        "\n",
        "print(\"Left Alignment Integer: {:<05d}\".format(12))\n",
        "print(\"Right Alignment Integer: {:>05d}\".format(12))\n",
        "print(\"Center Alignment Integer: {:^05d}\".format(12))\n",
        "print(\"Center Alignment Integer: {:^06d}\".format(12))\n",
        "print(\"Center Alignment Integer: {:^07d}\".format(12))"
      ],
      "metadata": {
        "colab": {
          "base_uri": "https://localhost:8080/"
        },
        "id": "rzeEvZywwWBk",
        "outputId": "34ba7869-147f-4a5a-b4f6-e930994c009c"
      },
      "execution_count": 75,
      "outputs": [
        {
          "output_type": "stream",
          "name": "stdout",
          "text": [
            "Left Alignment Integer: 12   \n",
            "Right Alignment Integer:    12\n",
            "Center Alignment Integer:  12  \n",
            "Left Alignment Integer: 12000\n",
            "Right Alignment Integer: 00012\n",
            "Center Alignment Integer: 01200\n",
            "Center Alignment Integer: 001200\n",
            "Center Alignment Integer: 0012000\n"
          ]
        }
      ]
    },
    {
      "cell_type": "code",
      "source": [
        "# strings\n",
        "print(\"Left Alignment Integer: {:*<20}\".format(\"ABCDEFGHIJ\"))\n",
        "print(\"Right Alignment Integer: {:#>20}\".format(\"Venkatesh\"))\n",
        "print(\"Center Alignment Integer: {:0^20}\".format(\"Venkatesh\"))"
      ],
      "metadata": {
        "colab": {
          "base_uri": "https://localhost:8080/"
        },
        "id": "rqQ7UnJNy7ZT",
        "outputId": "36d08407-ee4c-4bd3-8d9a-dd1256f33a79"
      },
      "execution_count": 78,
      "outputs": [
        {
          "output_type": "stream",
          "name": "stdout",
          "text": [
            "Left Alignment Integer: ABCDEFGHIJ**********\n",
            "Right Alignment Integer: ###########Venkatesh\n",
            "Center Alignment Integer: 00000Venkatesh000000\n"
          ]
        }
      ]
    },
    {
      "cell_type": "code",
      "source": [
        "# truncating the strings\n",
        "\n",
        "print(\"Truncated String: {:.3}\".format(\"Python\"))\n",
        "print(\"Truncated String: {:.2}\".format(\"Python\"))\n",
        "print(\"Truncated String with RA: {:*>10.2}\".format(\"Python\"))\n",
        "print(\"Truncated String with LA: {:*<10.2}\".format(\"Python\"))\n",
        "print(\"Truncated String with LA: {:*^10.2}\".format(\"Python\"))"
      ],
      "metadata": {
        "colab": {
          "base_uri": "https://localhost:8080/"
        },
        "id": "JDQ-7PAg1z1c",
        "outputId": "5ca5bb6e-54f7-4696-f936-064a6ea6c583"
      },
      "execution_count": 79,
      "outputs": [
        {
          "output_type": "stream",
          "name": "stdout",
          "text": [
            "Truncated String: Pyt\n",
            "Truncated String: Py\n",
            "Truncated String with RA: ********Py\n",
            "Truncated String with LA: Py********\n",
            "Truncated String with LA: ****Py****\n"
          ]
        }
      ]
    },
    {
      "cell_type": "code",
      "source": [
        "\n",
        "print(\"Binary Value: {:b}, Octal Value: {:o}, Hex Value: {:x}\".format(12))"
      ],
      "metadata": {
        "colab": {
          "base_uri": "https://localhost:8080/",
          "height": 158
        },
        "id": "sQzPXo2W1zom",
        "outputId": "85249dad-f935-4c50-837a-41a3c9e27b5c"
      },
      "execution_count": 80,
      "outputs": [
        {
          "output_type": "error",
          "ename": "IndexError",
          "evalue": "Replacement index 1 out of range for positional args tuple",
          "traceback": [
            "\u001b[0;31m---------------------------------------------------------------------------\u001b[0m",
            "\u001b[0;31mIndexError\u001b[0m                                Traceback (most recent call last)",
            "\u001b[0;32m<ipython-input-80-3ad453ac2923>\u001b[0m in \u001b[0;36m<cell line: 1>\u001b[0;34m()\u001b[0m\n\u001b[0;32m----> 1\u001b[0;31m \u001b[0mprint\u001b[0m\u001b[0;34m(\u001b[0m\u001b[0;34m\"Binary Value: {:b}, Octal Value: {:o}, Hex Value: {:x}\"\u001b[0m\u001b[0;34m.\u001b[0m\u001b[0mformat\u001b[0m\u001b[0;34m(\u001b[0m\u001b[0;36m12\u001b[0m\u001b[0;34m)\u001b[0m\u001b[0;34m)\u001b[0m\u001b[0;34m\u001b[0m\u001b[0;34m\u001b[0m\u001b[0m\n\u001b[0m",
            "\u001b[0;31mIndexError\u001b[0m: Replacement index 1 out of range for positional args tuple"
          ]
        }
      ]
    },
    {
      "cell_type": "code",
      "source": [
        "\n",
        "print(\"Binary Value: {0:b}, Octal Value: {0:o}, Hex Value: {0:x}\".format(12))"
      ],
      "metadata": {
        "colab": {
          "base_uri": "https://localhost:8080/"
        },
        "id": "aIulwNGo2xLA",
        "outputId": "9dd71283-d036-47f5-faa1-54e98b3bd20d"
      },
      "execution_count": 82,
      "outputs": [
        {
          "output_type": "stream",
          "name": "stdout",
          "text": [
            "Binary Value: 1100, Octal Value: 14, Hex Value: c\n"
          ]
        }
      ]
    },
    {
      "cell_type": "code",
      "source": [
        "\n",
        "print(\"Binary Value: {:b}, Octal Value: {:o}, Hex Value: {:x}\".format(12, 14, 16))"
      ],
      "metadata": {
        "colab": {
          "base_uri": "https://localhost:8080/"
        },
        "id": "qTEpFNMW249G",
        "outputId": "945bf413-4b4e-42d8-ac90-4332bcca6801"
      },
      "execution_count": 83,
      "outputs": [
        {
          "output_type": "stream",
          "name": "stdout",
          "text": [
            "Binary Value: 1100, Octal Value: 16, Hex Value: 10\n"
          ]
        }
      ]
    },
    {
      "cell_type": "code",
      "source": [
        "1_000 + 1_000"
      ],
      "metadata": {
        "colab": {
          "base_uri": "https://localhost:8080/"
        },
        "id": "Eeavjq_b4WHT",
        "outputId": "d379b43f-58c1-4559-9dc9-84aa00d04cfa"
      },
      "execution_count": 87,
      "outputs": [
        {
          "output_type": "execute_result",
          "data": {
            "text/plain": [
              "2000"
            ]
          },
          "metadata": {},
          "execution_count": 87
        }
      ]
    },
    {
      "cell_type": "code",
      "source": [
        "1_000_000 + 1_000"
      ],
      "metadata": {
        "colab": {
          "base_uri": "https://localhost:8080/"
        },
        "id": "Py5htf-B35Jn",
        "outputId": "da992035-0095-4ae6-9567-5f180486ba3b"
      },
      "execution_count": 84,
      "outputs": [
        {
          "output_type": "execute_result",
          "data": {
            "text/plain": [
              "1001000"
            ]
          },
          "metadata": {},
          "execution_count": 84
        }
      ]
    },
    {
      "cell_type": "code",
      "source": [
        "1,000 + 1,000 # It takes it as 1, 000 + 1, 000"
      ],
      "metadata": {
        "colab": {
          "base_uri": "https://localhost:8080/"
        },
        "id": "FDi26fWO4Bjm",
        "outputId": "dec923d6-da22-4a84-c1a6-7508e29cd95c"
      },
      "execution_count": 86,
      "outputs": [
        {
          "output_type": "execute_result",
          "data": {
            "text/plain": [
              "(1, 1, 0)"
            ]
          },
          "metadata": {},
          "execution_count": 86
        }
      ]
    },
    {
      "cell_type": "markdown",
      "source": [
        "## **String Slicing**"
      ],
      "metadata": {
        "id": "GwgMmEEBzXPB"
      }
    },
    {
      "cell_type": "code",
      "source": [
        "# String Slicing\n",
        "\n",
        "info = \"I'm Shanmukh and I work as a full stack developer\"\n",
        "print(info[5: 10])"
      ],
      "metadata": {
        "colab": {
          "base_uri": "https://localhost:8080/"
        },
        "id": "gTGd7skBesU_",
        "outputId": "34a4c9ec-a55a-4c2f-c942-2763fe019a1a"
      },
      "execution_count": 39,
      "outputs": [
        {
          "output_type": "stream",
          "name": "stdout",
          "text": [
            "hanmu\n"
          ]
        }
      ]
    },
    {
      "cell_type": "code",
      "source": [
        "print(info[5:])"
      ],
      "metadata": {
        "colab": {
          "base_uri": "https://localhost:8080/"
        },
        "id": "786x5yQOgpJD",
        "outputId": "61e5f30f-cfd5-4bc2-8511-bf5f148e8984"
      },
      "execution_count": 40,
      "outputs": [
        {
          "output_type": "stream",
          "name": "stdout",
          "text": [
            "hanmukh and I work as a full stack developer\n"
          ]
        }
      ]
    },
    {
      "cell_type": "code",
      "source": [
        "len(info)"
      ],
      "metadata": {
        "colab": {
          "base_uri": "https://localhost:8080/"
        },
        "id": "uzUFxUTWhkms",
        "outputId": "e6e2aaeb-e875-4b35-834c-a527ef0c905f"
      },
      "execution_count": 41,
      "outputs": [
        {
          "output_type": "execute_result",
          "data": {
            "text/plain": [
              "49"
            ]
          },
          "metadata": {},
          "execution_count": 41
        }
      ]
    },
    {
      "cell_type": "code",
      "source": [
        "info[:]"
      ],
      "metadata": {
        "colab": {
          "base_uri": "https://localhost:8080/",
          "height": 35
        },
        "id": "Bn3vmnG8iOdh",
        "outputId": "45af83fb-c7e6-4ced-b0b3-4f3cbaacb211"
      },
      "execution_count": 42,
      "outputs": [
        {
          "output_type": "execute_result",
          "data": {
            "text/plain": [
              "\"I'm Shanmukh and I work as a full stack developer\""
            ],
            "application/vnd.google.colaboratory.intrinsic+json": {
              "type": "string"
            }
          },
          "metadata": {},
          "execution_count": 42
        }
      ]
    },
    {
      "cell_type": "code",
      "source": [
        "info[5: 55]"
      ],
      "metadata": {
        "colab": {
          "base_uri": "https://localhost:8080/",
          "height": 35
        },
        "id": "t1KGzo9miQuI",
        "outputId": "25e3efc9-a4e2-49bc-b6fc-d60536134dfa"
      },
      "execution_count": 43,
      "outputs": [
        {
          "output_type": "execute_result",
          "data": {
            "text/plain": [
              "'hanmukh and I work as a full stack developer'"
            ],
            "application/vnd.google.colaboratory.intrinsic+json": {
              "type": "string"
            }
          },
          "metadata": {},
          "execution_count": 43
        }
      ]
    },
    {
      "cell_type": "code",
      "source": [
        "info[:20]"
      ],
      "metadata": {
        "colab": {
          "base_uri": "https://localhost:8080/",
          "height": 35
        },
        "id": "EIZe4brAiVRs",
        "outputId": "0f5e0c70-dbd7-4277-cf25-521a1a3e3a7a"
      },
      "execution_count": 44,
      "outputs": [
        {
          "output_type": "execute_result",
          "data": {
            "text/plain": [
              "\"I'm Shanmukh and I w\""
            ],
            "application/vnd.google.colaboratory.intrinsic+json": {
              "type": "string"
            }
          },
          "metadata": {},
          "execution_count": 44
        }
      ]
    },
    {
      "cell_type": "code",
      "source": [
        "st = \"abcdefghijklmnopqrstuvwxyz\"\n",
        "print(st[::2])"
      ],
      "metadata": {
        "colab": {
          "base_uri": "https://localhost:8080/"
        },
        "id": "nY2o4trfi0G0",
        "outputId": "46a2b4f6-a2e2-4646-fdc0-bd50ffd076c5"
      },
      "execution_count": 47,
      "outputs": [
        {
          "output_type": "stream",
          "name": "stdout",
          "text": [
            "acegikmoqsuwy\n"
          ]
        }
      ]
    },
    {
      "cell_type": "code",
      "source": [
        "print(st[1:26:2])"
      ],
      "metadata": {
        "colab": {
          "base_uri": "https://localhost:8080/"
        },
        "id": "gzv96rB4jLfa",
        "outputId": "41f52c6c-5846-4368-ebcf-c1f9b987cf78"
      },
      "execution_count": 48,
      "outputs": [
        {
          "output_type": "stream",
          "name": "stdout",
          "text": [
            "bdfhjlnprtvxz\n"
          ]
        }
      ]
    },
    {
      "cell_type": "code",
      "source": [
        "print(st[::3])"
      ],
      "metadata": {
        "colab": {
          "base_uri": "https://localhost:8080/"
        },
        "id": "Z2kLa9Y_juPs",
        "outputId": "3af5c558-30c2-4657-d62e-5a6bd403498a"
      },
      "execution_count": 49,
      "outputs": [
        {
          "output_type": "stream",
          "name": "stdout",
          "text": [
            "adgjmpsvy\n"
          ]
        }
      ]
    },
    {
      "cell_type": "code",
      "source": [
        "print(st[20 : 10 : -1])"
      ],
      "metadata": {
        "colab": {
          "base_uri": "https://localhost:8080/"
        },
        "id": "BbSLjbu8j0zf",
        "outputId": "deb8064e-286b-4ca4-991e-220e9a19f3dc"
      },
      "execution_count": 52,
      "outputs": [
        {
          "output_type": "stream",
          "name": "stdout",
          "text": [
            "utsrqponml\n"
          ]
        }
      ]
    },
    {
      "cell_type": "code",
      "source": [
        "print(st[20 : 10 : -2])"
      ],
      "metadata": {
        "colab": {
          "base_uri": "https://localhost:8080/"
        },
        "id": "noDVx70xlSMR",
        "outputId": "25a75901-0b12-40e6-f553-6b23bb6052c0"
      },
      "execution_count": 53,
      "outputs": [
        {
          "output_type": "stream",
          "name": "stdout",
          "text": [
            "usqom\n"
          ]
        }
      ]
    },
    {
      "cell_type": "code",
      "source": [
        "print(st[20 : 10 : 0])"
      ],
      "metadata": {
        "colab": {
          "base_uri": "https://localhost:8080/",
          "height": 141
        },
        "id": "4t8qiDUhlkNd",
        "outputId": "2fa9aa56-2213-4de4-cf44-d77f094c6816"
      },
      "execution_count": 54,
      "outputs": [
        {
          "output_type": "error",
          "ename": "ValueError",
          "evalue": "slice step cannot be zero",
          "traceback": [
            "\u001b[0;31m---------------------------------------------------------------------------\u001b[0m",
            "\u001b[0;31mValueError\u001b[0m                                Traceback (most recent call last)",
            "\u001b[0;32m<ipython-input-54-400aa145c5ad>\u001b[0m in \u001b[0;36m<cell line: 1>\u001b[0;34m()\u001b[0m\n\u001b[0;32m----> 1\u001b[0;31m \u001b[0mprint\u001b[0m\u001b[0;34m(\u001b[0m\u001b[0mst\u001b[0m\u001b[0;34m[\u001b[0m\u001b[0;36m20\u001b[0m \u001b[0;34m:\u001b[0m \u001b[0;36m10\u001b[0m \u001b[0;34m:\u001b[0m \u001b[0;36m0\u001b[0m\u001b[0;34m]\u001b[0m\u001b[0;34m)\u001b[0m\u001b[0;34m\u001b[0m\u001b[0;34m\u001b[0m\u001b[0m\n\u001b[0m",
            "\u001b[0;31mValueError\u001b[0m: slice step cannot be zero"
          ]
        }
      ]
    },
    {
      "cell_type": "code",
      "source": [
        "# String reversal\n",
        "\n",
        "print(st[::-1])"
      ],
      "metadata": {
        "colab": {
          "base_uri": "https://localhost:8080/"
        },
        "id": "stD5sc-fln7A",
        "outputId": "acff84c7-7a6b-4f3e-91ce-8ef557c8969d"
      },
      "execution_count": 56,
      "outputs": [
        {
          "output_type": "stream",
          "name": "stdout",
          "text": [
            "zyxwvutsrqponmlkjihgfedcba\n"
          ]
        }
      ]
    },
    {
      "cell_type": "code",
      "source": [
        "print(st[::-2])"
      ],
      "metadata": {
        "colab": {
          "base_uri": "https://localhost:8080/"
        },
        "id": "i5ffTNjvpvLK",
        "outputId": "1dfa64af-d5bb-4a4b-d436-9883e2187370"
      },
      "execution_count": 59,
      "outputs": [
        {
          "output_type": "stream",
          "name": "stdout",
          "text": [
            "zxvtrpnljhfdb\n"
          ]
        }
      ]
    },
    {
      "cell_type": "code",
      "source": [
        "print(st[-23: -10])"
      ],
      "metadata": {
        "colab": {
          "base_uri": "https://localhost:8080/"
        },
        "id": "3tmCuKatlv88",
        "outputId": "b705b9a0-7d3e-43e3-c6f2-953c258153e6"
      },
      "execution_count": 57,
      "outputs": [
        {
          "output_type": "stream",
          "name": "stdout",
          "text": [
            "defghijklmnop\n"
          ]
        }
      ]
    },
    {
      "cell_type": "code",
      "source": [
        "print(st[-23: -10: -1])"
      ],
      "metadata": {
        "colab": {
          "base_uri": "https://localhost:8080/"
        },
        "id": "an1G8WUJm6en",
        "outputId": "dbb15098-a8fb-4783-9848-5a77a89710fc"
      },
      "execution_count": 58,
      "outputs": [
        {
          "output_type": "stream",
          "name": "stdout",
          "text": [
            "\n"
          ]
        }
      ]
    },
    {
      "cell_type": "markdown",
      "source": [
        "## **F - Strings**"
      ],
      "metadata": {
        "id": "gec_kb3O4nZ4"
      }
    },
    {
      "cell_type": "code",
      "source": [
        "name = \"Virat\"\n",
        "age =35\n",
        "\n",
        "print(f\"My name is {name} and my age is {age}\")\n",
        "print(F\"My name is {name} and my age is {age}\")"
      ],
      "metadata": {
        "colab": {
          "base_uri": "https://localhost:8080/"
        },
        "id": "9jbq56oAnM9y",
        "outputId": "b8546e1b-6a45-4427-9cea-2b456a157cf6"
      },
      "execution_count": 90,
      "outputs": [
        {
          "output_type": "stream",
          "name": "stdout",
          "text": [
            "My name is Virat and my age is 35\n",
            "My name is Virat and my age is 35\n"
          ]
        }
      ]
    },
    {
      "cell_type": "code",
      "source": [
        "float_val = 12.678\n",
        "print(f\"Float Value: {float_val: .2f}\")"
      ],
      "metadata": {
        "colab": {
          "base_uri": "https://localhost:8080/"
        },
        "id": "oLRYzW_msNkh",
        "outputId": "c9d97875-1a10-43f9-c186-8981576da26d"
      },
      "execution_count": 91,
      "outputs": [
        {
          "output_type": "stream",
          "name": "stdout",
          "text": [
            "Float Value:  12.68\n"
          ]
        }
      ]
    },
    {
      "cell_type": "code",
      "source": [],
      "metadata": {
        "id": "UGJRYL6Y5UHs"
      },
      "execution_count": null,
      "outputs": []
    }
  ]
}