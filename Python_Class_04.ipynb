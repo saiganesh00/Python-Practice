{
  "nbformat": 4,
  "nbformat_minor": 0,
  "metadata": {
    "colab": {
      "provenance": [],
      "authorship_tag": "ABX9TyM0j62Fh8D7zpMQKTD5vNDY",
      "include_colab_link": true
    },
    "kernelspec": {
      "name": "python3",
      "display_name": "Python 3"
    },
    "language_info": {
      "name": "python"
    }
  },
  "cells": [
    {
      "cell_type": "markdown",
      "metadata": {
        "id": "view-in-github",
        "colab_type": "text"
      },
      "source": [
        "<a href=\"https://colab.research.google.com/github/saiganesh00/Python-Practice/blob/main/Python_Class_04.ipynb\" target=\"_parent\"><img src=\"https://colab.research.google.com/assets/colab-badge.svg\" alt=\"Open In Colab\"/></a>"
      ]
    },
    {
      "cell_type": "markdown",
      "source": [
        "## **Type Casting**\n",
        "\n",
        "- **Type casting is a method to convert one data type to another data type to perform certain operations**\n",
        "- **Implicit Type Casting: In this method, python converts the datatype into another datatype automatically.**\n",
        "- **Explicit Type Casting: Python needs user involvement to convert the data type**"
      ],
      "metadata": {
        "id": "XxWxGuzbQCaj"
      }
    },
    {
      "cell_type": "code",
      "execution_count": 1,
      "metadata": {
        "colab": {
          "base_uri": "https://localhost:8080/"
        },
        "id": "OcYhCuF2OMlL",
        "outputId": "08ae8fb9-9ce6-443d-f7db-384bbca01136"
      },
      "outputs": [
        {
          "output_type": "stream",
          "name": "stdout",
          "text": [
            "<class 'int'>\n",
            "<class 'float'>\n",
            "10.0\n",
            "<class 'float'>\n"
          ]
        }
      ],
      "source": [
        "# Implicit type conversion\n",
        "\n",
        "a = 7\n",
        "print(type(a))\n",
        "b = 3.0\n",
        "print(type(b))\n",
        "c = a+b\n",
        "print(c)\n",
        "print(type(c))"
      ]
    },
    {
      "cell_type": "code",
      "source": [
        "# Explicit type conversion\n",
        "\n",
        "print(type(a))\n",
        "b = 3.0\n",
        "print(type(b))\n",
        "c = int(a+b)\n",
        "print(c)\n",
        "print(type(c))"
      ],
      "metadata": {
        "colab": {
          "base_uri": "https://localhost:8080/"
        },
        "id": "-Q-apMyISbp5",
        "outputId": "5accdc95-d01e-450b-9553-3ede1ae32452"
      },
      "execution_count": 2,
      "outputs": [
        {
          "output_type": "stream",
          "name": "stdout",
          "text": [
            "<class 'int'>\n",
            "<class 'float'>\n",
            "10\n",
            "<class 'int'>\n"
          ]
        }
      ]
    },
    {
      "cell_type": "markdown",
      "source": [
        "- **int(): takes float or string as an argument and returns int**\n",
        "- **float(): takes int or string as an argument and returns float**\n",
        "- **str(): takes int or float as argument and returns string**"
      ],
      "metadata": {
        "id": "2VceZcvdTHFK"
      }
    },
    {
      "cell_type": "code",
      "source": [
        "# int()\n",
        "\n",
        "a = 8.5\n",
        "i_1 = int(a)\n",
        "print(i_1)\n",
        "print(type(i_1))\n",
        "\n",
        "b = \"10\"\n",
        "i_2 = int(b)\n",
        "print(i_2)\n",
        "print(type(i_2))\n",
        "\n",
        "# Inorder to convert a string to int, the number should be integer\n",
        "\n",
        "# c = \"3.14\"\n",
        "# i_3 = int(c)\n",
        "# print(i_3)\n",
        "# print(type(i_3))\n",
        "\n",
        "# d = \"abc\"\n",
        "# i_4 = int(d)\n",
        "# print(i_4)\n",
        "# print(type(i_4))"
      ],
      "metadata": {
        "colab": {
          "base_uri": "https://localhost:8080/"
        },
        "id": "a88LgxKsSoW6",
        "outputId": "b2ebc0b2-e6d2-47b1-c622-999886f22e9f"
      },
      "execution_count": 5,
      "outputs": [
        {
          "output_type": "stream",
          "name": "stdout",
          "text": [
            "8\n",
            "<class 'int'>\n",
            "10\n",
            "<class 'int'>\n"
          ]
        }
      ]
    },
    {
      "cell_type": "code",
      "source": [
        "# float()\n",
        "\n",
        "a = 8\n",
        "i_1 = float(a)\n",
        "print(i_1)\n",
        "print(type(i_1))\n",
        "\n",
        "b = \"8\"\n",
        "i_2 = float(b)\n",
        "print(i_2)\n",
        "print(type(i_2))\n",
        "\n",
        "c = \"3.14\"\n",
        "i_3 = float(c)\n",
        "print(i_3)\n",
        "print(type(i_3))\n",
        "\n",
        "# Inorder to convert a string to int, the number should be number\n",
        "# d = \"abc\"\n",
        "# i_4 = int(d)\n",
        "# print(i_4)\n",
        "# print(type(i_4))"
      ],
      "metadata": {
        "colab": {
          "base_uri": "https://localhost:8080/"
        },
        "id": "gQLUWwylUkYj",
        "outputId": "acc59b93-434b-457b-de88-6ccfa394fe06"
      },
      "execution_count": 6,
      "outputs": [
        {
          "output_type": "stream",
          "name": "stdout",
          "text": [
            "8.0\n",
            "<class 'float'>\n",
            "8.0\n",
            "<class 'float'>\n",
            "3.14\n",
            "<class 'float'>\n"
          ]
        }
      ]
    },
    {
      "cell_type": "code",
      "source": [
        "# str()\n",
        "\n",
        "a = 8\n",
        "i_1 = str(a)\n",
        "print(i_1)\n",
        "print(type(i_1))\n",
        "\n",
        "b = 10.5\n",
        "i_2 = str(b)\n",
        "print(i_2)\n",
        "print(type(i_2))\n"
      ],
      "metadata": {
        "colab": {
          "base_uri": "https://localhost:8080/"
        },
        "id": "lad8GMzFUzSc",
        "outputId": "13984310-8dba-4845-80d4-cf9c4e61a989"
      },
      "execution_count": 7,
      "outputs": [
        {
          "output_type": "stream",
          "name": "stdout",
          "text": [
            "8\n",
            "<class 'str'>\n",
            "10.5\n",
            "<class 'str'>\n"
          ]
        }
      ]
    },
    {
      "cell_type": "markdown",
      "source": [
        "## **Operators:**\n",
        "####**Symbol that performs specific operation between two operands**\n",
        "- **Arthmetic Operators:**\n",
        "    - **Addition(+)**\n",
        "    - **Subtraction(-)**\n",
        "    - **Multiplcation(*)**\n",
        "    - **Division(/)**\n",
        "    - **Modulus(%)**\n",
        "- **Comparision Operators:**\n",
        "    - **(>), (>=), (<), (<=), (==), (!=)**\n",
        "- **Assignment Operators:**\n",
        "    - **(=), (+=), (-=), (*=), (/=), (//=)**\n",
        "    - Ex: a = 5\n",
        "- **Bitwise Operators**\n",
        "    - **Bitwise AND(&)**\n",
        "    - **Bitwise OR(|)**\n",
        "    - **Negation(~)**\n",
        "    - **Left Shift(<<)**\n",
        "    - **Right Shift(>>)**\n",
        "- **Logical Operators**\n",
        "    - **and**\n",
        "    - **or**\n",
        "    - **not**\n",
        "- **Membership Operators:**\n",
        "  The membership of a value in python data structure\n",
        "\n",
        "    - **(in)**\n",
        "    - **(not in)**\n",
        "- **Identity Operators**\n",
        "\n",
        "    - **(is)**\n",
        "    - **(is not)**"
      ],
      "metadata": {
        "id": "rJ01C0j2WXzL"
      }
    },
    {
      "cell_type": "markdown",
      "source": [
        "**Arithmetic Operators**"
      ],
      "metadata": {
        "id": "efKLuAqAau9M"
      }
    },
    {
      "cell_type": "code",
      "source": [
        "a = 10\n",
        "b = 5\n",
        "\n",
        "print(\"+\", a+b)\n",
        "print(\"-\", a-b)\n",
        "print(\"*\", a*b)\n",
        "print(\"/\", a/b)\n",
        "print(\"%\", a%b)\n",
        "print(\"//\", a//b)\n",
        "print(\"**\", a**b)"
      ],
      "metadata": {
        "colab": {
          "base_uri": "https://localhost:8080/"
        },
        "id": "cI7vaezHVjiz",
        "outputId": "a1fa1298-2bb8-4e63-ec2f-6d66523f8b72"
      },
      "execution_count": 8,
      "outputs": [
        {
          "output_type": "stream",
          "name": "stdout",
          "text": [
            "+ 15\n",
            "- 5\n",
            "* 50\n",
            "/ 2.0\n",
            "% 0\n",
            "// 2\n",
            "** 100000\n"
          ]
        }
      ]
    },
    {
      "cell_type": "code",
      "source": [
        "-7 // 2"
      ],
      "metadata": {
        "colab": {
          "base_uri": "https://localhost:8080/"
        },
        "id": "Re7H4j-EbQR_",
        "outputId": "31cb1dfd-e228-49ac-fefb-d9a6f4938c8f"
      },
      "execution_count": 9,
      "outputs": [
        {
          "output_type": "execute_result",
          "data": {
            "text/plain": [
              "-4"
            ]
          },
          "metadata": {},
          "execution_count": 9
        }
      ]
    },
    {
      "cell_type": "code",
      "source": [
        "12.5 % 7.5"
      ],
      "metadata": {
        "colab": {
          "base_uri": "https://localhost:8080/"
        },
        "id": "u7U1-lvXhxut",
        "outputId": "cbc1983c-5a9f-4630-be2c-803a9480b280"
      },
      "execution_count": 12,
      "outputs": [
        {
          "output_type": "execute_result",
          "data": {
            "text/plain": [
              "5.0"
            ]
          },
          "metadata": {},
          "execution_count": 12
        }
      ]
    },
    {
      "cell_type": "markdown",
      "source": [
        "**Comparision Operators**"
      ],
      "metadata": {
        "id": "PgXIz1B7dfRN"
      }
    },
    {
      "cell_type": "code",
      "source": [
        "a = 10\n",
        "b = 5\n",
        "\n",
        "print(\"==\", a==b)\n",
        "print(\"!=\", a!=b)\n",
        "print(\">=\", a>=b)\n",
        "print(\"<=\", a<=b)\n",
        "print(\"> \", a>b)\n",
        "print(\"< \", a<b)\n"
      ],
      "metadata": {
        "colab": {
          "base_uri": "https://localhost:8080/"
        },
        "id": "tBAzIMPxbn0T",
        "outputId": "1d1c4530-6068-445c-ede6-bcc3d5b52dc9"
      },
      "execution_count": 11,
      "outputs": [
        {
          "output_type": "stream",
          "name": "stdout",
          "text": [
            "== False\n",
            "!= True\n",
            ">= True\n",
            "<= False\n",
            ">  True\n",
            "<  False\n"
          ]
        }
      ]
    },
    {
      "cell_type": "code",
      "source": [
        "print(0 == 0.0)\n",
        "print(1 == 1.0)\n",
        "print(True == 1)\n",
        "print(False == 0)\n"
      ],
      "metadata": {
        "colab": {
          "base_uri": "https://localhost:8080/"
        },
        "id": "9IaLNAUfdyn8",
        "outputId": "b3ee4d85-0b1f-4b40-96b3-57d53fa6c5de"
      },
      "execution_count": 13,
      "outputs": [
        {
          "output_type": "stream",
          "name": "stdout",
          "text": [
            "True\n",
            "True\n",
            "True\n",
            "True\n"
          ]
        }
      ]
    },
    {
      "cell_type": "markdown",
      "source": [
        "**Logical Operators**"
      ],
      "metadata": {
        "id": "U1SSomRRjgNZ"
      }
    },
    {
      "cell_type": "code",
      "source": [
        "# and, or, not\n",
        "\n",
        "x = 5\n",
        "y = 10\n",
        "\n",
        "print(x > 4 and y < 12)\n",
        "print(x > 4 and y < 10)\n",
        "print(x > 6 and y < 10)\n",
        "print(x > 6 and y < 12)\n",
        "print()\n",
        "print(x > 4 or y < 12)\n",
        "print(x > 4 or y < 10)\n",
        "print(x > 6 or y < 10)\n",
        "print(x > 6 or y < 12)"
      ],
      "metadata": {
        "colab": {
          "base_uri": "https://localhost:8080/"
        },
        "id": "PcNZ6fMdjfX4",
        "outputId": "fd1f86ba-e08e-4e74-8abd-70b8c2df04a9"
      },
      "execution_count": 14,
      "outputs": [
        {
          "output_type": "stream",
          "name": "stdout",
          "text": [
            "True\n",
            "False\n",
            "False\n",
            "False\n",
            "\n",
            "True\n",
            "True\n",
            "False\n",
            "True\n"
          ]
        }
      ]
    },
    {
      "cell_type": "code",
      "source": [
        "a = 8\n",
        "b = 5\n",
        "c = 12\n",
        "\n",
        "print(a and b and c)"
      ],
      "metadata": {
        "colab": {
          "base_uri": "https://localhost:8080/"
        },
        "id": "HTcVA-_GkZ9j",
        "outputId": "536a4b56-a95a-48fc-c849-4dd6e34cf24d"
      },
      "execution_count": 15,
      "outputs": [
        {
          "output_type": "stream",
          "name": "stdout",
          "text": [
            "12\n"
          ]
        }
      ]
    },
    {
      "cell_type": "code",
      "source": [
        "a = 8\n",
        "b = 0\n",
        "c = 12\n",
        "\n",
        "print(a and b and c)"
      ],
      "metadata": {
        "colab": {
          "base_uri": "https://localhost:8080/"
        },
        "id": "jbCFLn2zlWNV",
        "outputId": "576c5438-d61b-4054-d16e-b7252b7d450f"
      },
      "execution_count": 16,
      "outputs": [
        {
          "output_type": "stream",
          "name": "stdout",
          "text": [
            "0\n"
          ]
        }
      ]
    },
    {
      "cell_type": "code",
      "source": [
        "a = 8\n",
        "b = 0\n",
        "c = 12\n",
        "\n",
        "print(a or b or c)"
      ],
      "metadata": {
        "colab": {
          "base_uri": "https://localhost:8080/"
        },
        "id": "D8OzDs9vmeTd",
        "outputId": "137531fc-c071-4329-d4f2-a2bf8302eaaf"
      },
      "execution_count": 19,
      "outputs": [
        {
          "output_type": "stream",
          "name": "stdout",
          "text": [
            "8\n"
          ]
        }
      ]
    },
    {
      "cell_type": "code",
      "source": [
        "a = 0\n",
        "b = 10\n",
        "c = 12\n",
        "\n",
        "print(a or b or c)"
      ],
      "metadata": {
        "colab": {
          "base_uri": "https://localhost:8080/"
        },
        "id": "S_eSM6FzoSmP",
        "outputId": "2fa21b57-1e68-4170-bbcf-2d645d06cf43"
      },
      "execution_count": 20,
      "outputs": [
        {
          "output_type": "stream",
          "name": "stdout",
          "text": [
            "10\n"
          ]
        }
      ]
    },
    {
      "cell_type": "code",
      "source": [
        "a = -1\n",
        "b = -3\n",
        "c = -5\n",
        "\n",
        "print(a or b or c)\n",
        "print(a and b and c)\n"
      ],
      "metadata": {
        "colab": {
          "base_uri": "https://localhost:8080/"
        },
        "id": "juxHhYb3obwi",
        "outputId": "e32f8bbf-18f6-46f4-dbc4-1cbeb22a8a2b"
      },
      "execution_count": 21,
      "outputs": [
        {
          "output_type": "stream",
          "name": "stdout",
          "text": [
            "-1\n",
            "-5\n"
          ]
        }
      ]
    },
    {
      "cell_type": "code",
      "source": [
        "not(False)"
      ],
      "metadata": {
        "colab": {
          "base_uri": "https://localhost:8080/"
        },
        "id": "Jk_OJNaWpZ5_",
        "outputId": "1199c3de-da0f-4ee1-c406-92957108efe8"
      },
      "execution_count": 22,
      "outputs": [
        {
          "output_type": "execute_result",
          "data": {
            "text/plain": [
              "True"
            ]
          },
          "metadata": {},
          "execution_count": 22
        }
      ]
    },
    {
      "cell_type": "code",
      "source": [
        "not(True)"
      ],
      "metadata": {
        "colab": {
          "base_uri": "https://localhost:8080/"
        },
        "id": "LUtUp8VXpbUY",
        "outputId": "daa2478f-9a08-4406-f1e7-18c2a6f3c066"
      },
      "execution_count": 23,
      "outputs": [
        {
          "output_type": "execute_result",
          "data": {
            "text/plain": [
              "False"
            ]
          },
          "metadata": {},
          "execution_count": 23
        }
      ]
    },
    {
      "cell_type": "code",
      "source": [
        "a = 10\n",
        "b = 5\n",
        "c = 12\n",
        "d = 0\n",
        "\n",
        "print(a and b and c)\n",
        "print(d or a or c)\n",
        "print(not(a and d and c))\n",
        "print(not(d or d or c))"
      ],
      "metadata": {
        "colab": {
          "base_uri": "https://localhost:8080/"
        },
        "id": "qs4iDx1bpc5X",
        "outputId": "04eec081-6371-423e-c970-a1f1cfe35576"
      },
      "execution_count": 26,
      "outputs": [
        {
          "output_type": "stream",
          "name": "stdout",
          "text": [
            "12\n",
            "10\n",
            "True\n",
            "False\n"
          ]
        }
      ]
    },
    {
      "cell_type": "code",
      "source": [],
      "metadata": {
        "id": "H2W3ebqfpsFG"
      },
      "execution_count": null,
      "outputs": []
    }
  ]
}