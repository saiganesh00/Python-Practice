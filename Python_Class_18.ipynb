{
  "nbformat": 4,
  "nbformat_minor": 0,
  "metadata": {
    "colab": {
      "provenance": [],
      "authorship_tag": "ABX9TyP/eR11u4qGMeVN7QJMLiCY",
      "include_colab_link": true
    },
    "kernelspec": {
      "name": "python3",
      "display_name": "Python 3"
    },
    "language_info": {
      "name": "python"
    }
  },
  "cells": [
    {
      "cell_type": "markdown",
      "metadata": {
        "id": "view-in-github",
        "colab_type": "text"
      },
      "source": [
        "<a href=\"https://colab.research.google.com/github/saiganesh00/Python-Practice/blob/main/Python_Class_18.ipynb\" target=\"_parent\"><img src=\"https://colab.research.google.com/assets/colab-badge.svg\" alt=\"Open In Colab\"/></a>"
      ]
    },
    {
      "cell_type": "markdown",
      "source": [
        "### **Anonymous Function:**\n",
        "- Lambda Function"
      ],
      "metadata": {
        "id": "wpqRJly0DN3v"
      }
    },
    {
      "cell_type": "code",
      "execution_count": 1,
      "metadata": {
        "colab": {
          "base_uri": "https://localhost:8080/",
          "height": 193
        },
        "id": "sL6f0aXl-LDY",
        "outputId": "10b037d5-3f71-42d3-f6ec-a638e3d1c815"
      },
      "outputs": [
        {
          "output_type": "stream",
          "name": "stdout",
          "text": [
            "Local Variable - a:  100\n"
          ]
        },
        {
          "output_type": "error",
          "ename": "NameError",
          "evalue": "name 'a' is not defined",
          "traceback": [
            "\u001b[0;31m---------------------------------------------------------------------------\u001b[0m",
            "\u001b[0;31mNameError\u001b[0m                                 Traceback (most recent call last)",
            "\u001b[0;32m<ipython-input-1-d065524e2d73>\u001b[0m in \u001b[0;36m<cell line: 9>\u001b[0;34m()\u001b[0m\n\u001b[1;32m      7\u001b[0m \u001b[0;34m\u001b[0m\u001b[0m\n\u001b[1;32m      8\u001b[0m \u001b[0mfunc_a\u001b[0m\u001b[0;34m(\u001b[0m\u001b[0;34m)\u001b[0m\u001b[0;34m\u001b[0m\u001b[0;34m\u001b[0m\u001b[0m\n\u001b[0;32m----> 9\u001b[0;31m \u001b[0mprint\u001b[0m\u001b[0;34m(\u001b[0m\u001b[0;34m\"Access Local Variable - a from outside the function: \"\u001b[0m\u001b[0;34m,\u001b[0m \u001b[0ma\u001b[0m\u001b[0;34m)\u001b[0m\u001b[0;34m\u001b[0m\u001b[0;34m\u001b[0m\u001b[0m\n\u001b[0m",
            "\u001b[0;31mNameError\u001b[0m: name 'a' is not defined"
          ]
        }
      ],
      "source": [
        "# Global variables vs Local Variables\n",
        "\n",
        "def func_a():\n",
        "  # local_variable\n",
        "  a = 100\n",
        "  print(\"Local Variable - a: \", a)\n",
        "\n",
        "func_a()\n",
        "print(\"Access Local Variable - a from outside the function: \", a)"
      ]
    },
    {
      "cell_type": "code",
      "source": [
        "# global variable\n",
        "\n",
        "b = 100 # global variable\n",
        "\n",
        "def func_b():\n",
        "  print(\"Access Global Variable -b Inside Function: \", b)\n",
        "\n",
        "def func_new():\n",
        "  print(\"Accessing b: \", b)\n",
        "\n",
        "\n",
        "print(\"Access Global Variable - b Outside Function: \", b)\n",
        "func_b()\n",
        "func_new()"
      ],
      "metadata": {
        "colab": {
          "base_uri": "https://localhost:8080/"
        },
        "id": "Ve353A_oDszQ",
        "outputId": "be37fcdf-bef8-402a-b06b-c8992a9ae2f6"
      },
      "execution_count": 3,
      "outputs": [
        {
          "output_type": "stream",
          "name": "stdout",
          "text": [
            "Access Global Variable - b Outside Function:  100\n",
            "Access Global Variable -b Inside Function:  100\n",
            "Accessing b:  100\n"
          ]
        }
      ]
    },
    {
      "cell_type": "code",
      "source": [
        "# Global variable vs Local Variable\n",
        "\n",
        "def func_c():\n",
        "  c = 200\n",
        "  print(\"Value of c inside function: \", c)\n",
        "\n",
        "c = 1000\n",
        "print(\"Global Variable: \", c)\n",
        "func_c()\n",
        "print(\"Global Variable: \", c)"
      ],
      "metadata": {
        "colab": {
          "base_uri": "https://localhost:8080/"
        },
        "id": "y52ZfEHADzF2",
        "outputId": "4ddbbcb4-d251-4b25-ce1b-5e1c9ef8bd33"
      },
      "execution_count": 4,
      "outputs": [
        {
          "output_type": "stream",
          "name": "stdout",
          "text": [
            "Global Variable:  1000\n",
            "Value of c inside function:  200\n",
            "Global Variable:  1000\n"
          ]
        }
      ]
    },
    {
      "cell_type": "code",
      "source": [
        "def func_d(d):\n",
        "  print(\"Global Variable: \", d)\n",
        "  d += 500\n",
        "  print(\"Changing d inside function: \", d)\n",
        "d = 1000\n",
        "print('Intializing d: ', d)\n",
        "d += 500\n",
        "print(\"Modifying d: \", d)\n",
        "func_d(d)\n",
        "print(\"Outside function, d changed to: \", d)"
      ],
      "metadata": {
        "colab": {
          "base_uri": "https://localhost:8080/"
        },
        "id": "pzb43HXxGDui",
        "outputId": "247fc83e-bb83-4886-b000-84e28308b4bd"
      },
      "execution_count": 6,
      "outputs": [
        {
          "output_type": "stream",
          "name": "stdout",
          "text": [
            "Intializing d:  1000\n",
            "Modifying d:  1500\n",
            "Global Variable:  1500\n",
            "Changing d inside function:  2000\n",
            "Outside function, d changed to:  1500\n"
          ]
        }
      ]
    },
    {
      "cell_type": "code",
      "source": [
        "# purpose of global keyword\n",
        "\n",
        "def func_d():\n",
        "  print(\"Global Variable: \", d)\n",
        "  d += 500\n",
        "  print(\"Changing d inside function: \", d)\n",
        "d = 1000\n",
        "print('Intializing d: ', d)\n",
        "d += 500\n",
        "print(\"Modifying d: \", d)\n",
        "func_d()\n",
        "print(\"Outside function, d changed to: \", d)"
      ],
      "metadata": {
        "colab": {
          "base_uri": "https://localhost:8080/",
          "height": 349
        },
        "id": "PrsIP7SYFF2_",
        "outputId": "f1d166cc-6786-4a06-ad6f-cfcdd0032b47"
      },
      "execution_count": 12,
      "outputs": [
        {
          "output_type": "stream",
          "name": "stdout",
          "text": [
            "Intializing d:  1000\n",
            "Modifying d:  1500\n"
          ]
        },
        {
          "output_type": "error",
          "ename": "UnboundLocalError",
          "evalue": "local variable 'd' referenced before assignment",
          "traceback": [
            "\u001b[0;31m---------------------------------------------------------------------------\u001b[0m",
            "\u001b[0;31mUnboundLocalError\u001b[0m                         Traceback (most recent call last)",
            "\u001b[0;32m<ipython-input-12-522bcf796453>\u001b[0m in \u001b[0;36m<cell line: 11>\u001b[0;34m()\u001b[0m\n\u001b[1;32m      9\u001b[0m \u001b[0md\u001b[0m \u001b[0;34m+=\u001b[0m \u001b[0;36m500\u001b[0m\u001b[0;34m\u001b[0m\u001b[0;34m\u001b[0m\u001b[0m\n\u001b[1;32m     10\u001b[0m \u001b[0mprint\u001b[0m\u001b[0;34m(\u001b[0m\u001b[0;34m\"Modifying d: \"\u001b[0m\u001b[0;34m,\u001b[0m \u001b[0md\u001b[0m\u001b[0;34m)\u001b[0m\u001b[0;34m\u001b[0m\u001b[0;34m\u001b[0m\u001b[0m\n\u001b[0;32m---> 11\u001b[0;31m \u001b[0mfunc_d\u001b[0m\u001b[0;34m(\u001b[0m\u001b[0;34m)\u001b[0m\u001b[0;34m\u001b[0m\u001b[0;34m\u001b[0m\u001b[0m\n\u001b[0m\u001b[1;32m     12\u001b[0m \u001b[0mprint\u001b[0m\u001b[0;34m(\u001b[0m\u001b[0;34m\"Outside function, d changed to: \"\u001b[0m\u001b[0;34m,\u001b[0m \u001b[0md\u001b[0m\u001b[0;34m)\u001b[0m\u001b[0;34m\u001b[0m\u001b[0;34m\u001b[0m\u001b[0m\n",
            "\u001b[0;32m<ipython-input-12-522bcf796453>\u001b[0m in \u001b[0;36mfunc_d\u001b[0;34m()\u001b[0m\n\u001b[1;32m      2\u001b[0m \u001b[0;34m\u001b[0m\u001b[0m\n\u001b[1;32m      3\u001b[0m \u001b[0;32mdef\u001b[0m \u001b[0mfunc_d\u001b[0m\u001b[0;34m(\u001b[0m\u001b[0;34m)\u001b[0m\u001b[0;34m:\u001b[0m\u001b[0;34m\u001b[0m\u001b[0;34m\u001b[0m\u001b[0m\n\u001b[0;32m----> 4\u001b[0;31m   \u001b[0mprint\u001b[0m\u001b[0;34m(\u001b[0m\u001b[0;34m\"Global Variable: \"\u001b[0m\u001b[0;34m,\u001b[0m \u001b[0md\u001b[0m\u001b[0;34m)\u001b[0m\u001b[0;34m\u001b[0m\u001b[0;34m\u001b[0m\u001b[0m\n\u001b[0m\u001b[1;32m      5\u001b[0m   \u001b[0md\u001b[0m \u001b[0;34m+=\u001b[0m \u001b[0;36m500\u001b[0m\u001b[0;34m\u001b[0m\u001b[0;34m\u001b[0m\u001b[0m\n\u001b[1;32m      6\u001b[0m   \u001b[0mprint\u001b[0m\u001b[0;34m(\u001b[0m\u001b[0;34m\"Changing d inside function: \"\u001b[0m\u001b[0;34m,\u001b[0m \u001b[0md\u001b[0m\u001b[0;34m)\u001b[0m\u001b[0;34m\u001b[0m\u001b[0;34m\u001b[0m\u001b[0m\n",
            "\u001b[0;31mUnboundLocalError\u001b[0m: local variable 'd' referenced before assignment"
          ]
        }
      ]
    },
    {
      "cell_type": "code",
      "source": [
        "# purpose of global keyword\n",
        "\n",
        "def func_d():\n",
        "  global d\n",
        "  print(\"Global Variable: \", d)\n",
        "  d += 500\n",
        "  print(\"Changing d inside function: \", d)\n",
        "d = 1000\n",
        "print(\"Intializing d: \", d)\n",
        "d += 500\n",
        "print(\"Modifying d: \", d)\n",
        "func_d()\n",
        "print(\"Outside function, d changed to: \", d)"
      ],
      "metadata": {
        "colab": {
          "base_uri": "https://localhost:8080/"
        },
        "id": "IJXSSvFPGmsL",
        "outputId": "03cb40d4-5105-4e59-9ad9-b11ee6b7a1b6"
      },
      "execution_count": 11,
      "outputs": [
        {
          "output_type": "stream",
          "name": "stdout",
          "text": [
            "Intializing d:  1000\n",
            "Modifying d:  1500\n",
            "Global Variable:  1500\n",
            "Changing d inside function:  2000\n",
            "Outside function, d changed to:  2000\n"
          ]
        }
      ]
    },
    {
      "cell_type": "code",
      "source": [
        "# Nested Functions\n",
        "\n",
        "def outer_function():\n",
        "  x = 1000\n",
        "  y = 2000\n",
        "  def inner_function():\n",
        "    print(\"Accessing outer function variables: \")\n",
        "    print(\"X: \", x, \"Y: \", y)\n",
        "  inner_function()\n",
        "\n",
        "outer_function()"
      ],
      "metadata": {
        "colab": {
          "base_uri": "https://localhost:8080/"
        },
        "id": "qLRCRpESG_VT",
        "outputId": "e87e6a75-cfc7-49fe-f50c-43ebd1b0e1e5"
      },
      "execution_count": 13,
      "outputs": [
        {
          "output_type": "stream",
          "name": "stdout",
          "text": [
            "Accessing outer function variables: \n",
            "X:  1000 Y:  2000\n"
          ]
        }
      ]
    },
    {
      "cell_type": "code",
      "source": [
        "def outer_function():\n",
        "  x = 1000\n",
        "  y = 2000\n",
        "  def inner_function():\n",
        "    global x\n",
        "    x = 5000\n",
        "    x += 15000\n",
        "    print(\"Inner Function:  x -> {}, y -> {}\".format(x, y))\n",
        "  inner_function()\n",
        "  print(\"outer Function:  x -> {}, y -> {}\".format(x, y))\n",
        "\n",
        "outer_function()\n",
        "print(\"Values outside outer:  x -> {}\".format(x))"
      ],
      "metadata": {
        "colab": {
          "base_uri": "https://localhost:8080/"
        },
        "id": "YnzxbQvqJ9lB",
        "outputId": "ad78e9fd-d28d-47c9-b124-cdc2d2e074ce"
      },
      "execution_count": 15,
      "outputs": [
        {
          "output_type": "stream",
          "name": "stdout",
          "text": [
            "Inner Function:  x -> 20000, y -> 2000\n",
            "outer Function:  x -> 1000, y -> 2000\n",
            "Values outside outer:  x -> 20000\n"
          ]
        }
      ]
    },
    {
      "cell_type": "code",
      "source": [
        "def outer():\n",
        "  v = 500\n",
        "  def inner():\n",
        "    global player\n",
        "    player = \"Rohit\"\n",
        "    print(v)\n",
        "  inner()\n",
        "\n",
        "outer()\n",
        "print(player)"
      ],
      "metadata": {
        "colab": {
          "base_uri": "https://localhost:8080/"
        },
        "id": "vbhQ2n9EMRXr",
        "outputId": "ea89262e-6fbd-41dc-de7d-4f0535b50f83"
      },
      "execution_count": 17,
      "outputs": [
        {
          "output_type": "stream",
          "name": "stdout",
          "text": [
            "500\n",
            "Rohit\n"
          ]
        }
      ]
    },
    {
      "cell_type": "code",
      "source": [
        "def func_outer():\n",
        "  # code block - outer func\n",
        "  global x\n",
        "  x = 1000\n",
        "  y = 2000\n",
        "  def func_inner():\n",
        "    global x\n",
        "    x = 5000\n",
        "    x += 10000\n",
        "    print(\"Inner func: x -> {}, y ->{}\".format(x,y))\n",
        "  func_inner()\n",
        "  print(\"Outer Func: x-->\", x)\n",
        "\n",
        "func_outer()\n",
        "print(\"x outside the outer/main function : x ->\", x)"
      ],
      "metadata": {
        "colab": {
          "base_uri": "https://localhost:8080/"
        },
        "id": "DoIQqKyHNkBf",
        "outputId": "9756c326-c60b-4b2e-d823-be69a0ec3655"
      },
      "execution_count": 18,
      "outputs": [
        {
          "output_type": "stream",
          "name": "stdout",
          "text": [
            "Inner func: x -> 15000, y ->2000\n",
            "Outer Func: x--> 15000\n",
            "x outside the outer/main function : x -> 15000\n"
          ]
        }
      ]
    },
    {
      "cell_type": "code",
      "source": [
        "def func_outer():\n",
        "  # code block - outer func\n",
        "  v1 = 1000 # local variable\n",
        "  def func_inner(v1):\n",
        "    v1 += 10000\n",
        "    print(\"Inner func: v1 -> {}\".format(v1))\n",
        "  func_inner(v1)\n",
        "  print(\"Outer Func: v1-->\", v1) # v1 -> 11000\n",
        "\n",
        "func_outer()\n",
        "#print(\"v1 outside the outer/main function : v1 ->\", v1)"
      ],
      "metadata": {
        "colab": {
          "base_uri": "https://localhost:8080/"
        },
        "id": "A9JCvt5HOyDJ",
        "outputId": "2b480b2b-6c4f-465b-b4ab-09d6be147193"
      },
      "execution_count": 20,
      "outputs": [
        {
          "output_type": "stream",
          "name": "stdout",
          "text": [
            "Inner func: v1 -> 11000\n",
            "Outer Func: v1--> 1000\n"
          ]
        }
      ]
    },
    {
      "cell_type": "code",
      "source": [
        "# use of \"nonlocal\" keyword comes into picture\n",
        "\n",
        "def func_outer():\n",
        "  # code block - outer func\n",
        "  v1 = 1000 # local variable to outer function\n",
        "  def func_inner():\n",
        "    nonlocal v1\n",
        "    v1 += 1000\n",
        "    print(\"Inner func: v1 -> {}\".format(v1))\n",
        "  func_inner()\n",
        "  print(\"Outer Func: v1-->\", v1) # v1 -> 2000\n",
        "\n",
        "func_outer()\n",
        "print(\"in main code: v1-->\",v1)"
      ],
      "metadata": {
        "colab": {
          "base_uri": "https://localhost:8080/",
          "height": 211
        },
        "id": "yz3PwGhYPFZi",
        "outputId": "328a88fa-1b4c-43c2-ff8d-82403be8f595"
      },
      "execution_count": 22,
      "outputs": [
        {
          "output_type": "stream",
          "name": "stdout",
          "text": [
            "Inner func: v1 -> 2000\n",
            "Outer Func: v1--> 2000\n"
          ]
        },
        {
          "output_type": "error",
          "ename": "NameError",
          "evalue": "name 'v1' is not defined",
          "traceback": [
            "\u001b[0;31m---------------------------------------------------------------------------\u001b[0m",
            "\u001b[0;31mNameError\u001b[0m                                 Traceback (most recent call last)",
            "\u001b[0;32m<ipython-input-22-434c55969863>\u001b[0m in \u001b[0;36m<cell line: 14>\u001b[0;34m()\u001b[0m\n\u001b[1;32m     12\u001b[0m \u001b[0;34m\u001b[0m\u001b[0m\n\u001b[1;32m     13\u001b[0m \u001b[0mfunc_outer\u001b[0m\u001b[0;34m(\u001b[0m\u001b[0;34m)\u001b[0m\u001b[0;34m\u001b[0m\u001b[0;34m\u001b[0m\u001b[0m\n\u001b[0;32m---> 14\u001b[0;31m \u001b[0mprint\u001b[0m\u001b[0;34m(\u001b[0m\u001b[0;34m\"in main code: v1-->\"\u001b[0m\u001b[0;34m,\u001b[0m\u001b[0mv1\u001b[0m\u001b[0;34m)\u001b[0m\u001b[0;34m\u001b[0m\u001b[0;34m\u001b[0m\u001b[0m\n\u001b[0m",
            "\u001b[0;31mNameError\u001b[0m: name 'v1' is not defined"
          ]
        }
      ]
    },
    {
      "cell_type": "code",
      "source": [
        "# use of \"nonlocal\" keyword comes into picture\n",
        "\n",
        "def func_outer():\n",
        "  # code block - outer func\n",
        "  v1 = 1000 # local variable to outer function\n",
        "  def func_inner():\n",
        "    nonlocal v1\n",
        "    v1 += 1000\n",
        "    print(\"Inner func: v1 -> {}\".format(v1))\n",
        "  func_inner()\n",
        "  print(\"Outer Func: v1-->\", v1) # v1 -> 2000\n",
        "\n",
        "func_outer()"
      ],
      "metadata": {
        "colab": {
          "base_uri": "https://localhost:8080/"
        },
        "id": "7MmhMhBCP15y",
        "outputId": "43ccc37d-5bcf-4e55-d187-ee7388ef6626"
      },
      "execution_count": 23,
      "outputs": [
        {
          "output_type": "stream",
          "name": "stdout",
          "text": [
            "Inner func: v1 -> 2000\n",
            "Outer Func: v1--> 2000\n"
          ]
        }
      ]
    },
    {
      "cell_type": "code",
      "source": [
        "def func_outer():\n",
        "  # code block - outer func\n",
        "  v1 = 1000 # local variable to outer function\n",
        "  def func_inner():\n",
        "    # local variable to inner function\n",
        "    v1 = 1000\n",
        "    v1 += 1000\n",
        "    print(\"Inner func: v1 -> {}\".format(v1))\n",
        "  func_inner()\n",
        "  print(\"Outer Func: v1-->\", v1) # v1 -> 2000\n",
        "\n",
        "func_outer()\n",
        "print(\"main code: v1-->\", v1)"
      ],
      "metadata": {
        "colab": {
          "base_uri": "https://localhost:8080/",
          "height": 211
        },
        "id": "65sYXJ9STTLo",
        "outputId": "3dba759c-4d96-4667-b3d8-5c5ab922397c"
      },
      "execution_count": 25,
      "outputs": [
        {
          "output_type": "stream",
          "name": "stdout",
          "text": [
            "Inner func: v1 -> 2000\n",
            "Outer Func: v1--> 1000\n"
          ]
        },
        {
          "output_type": "error",
          "ename": "NameError",
          "evalue": "name 'v1' is not defined",
          "traceback": [
            "\u001b[0;31m---------------------------------------------------------------------------\u001b[0m",
            "\u001b[0;31mNameError\u001b[0m                                 Traceback (most recent call last)",
            "\u001b[0;32m<ipython-input-25-55a262712b7f>\u001b[0m in \u001b[0;36m<cell line: 13>\u001b[0;34m()\u001b[0m\n\u001b[1;32m     11\u001b[0m \u001b[0;34m\u001b[0m\u001b[0m\n\u001b[1;32m     12\u001b[0m \u001b[0mfunc_outer\u001b[0m\u001b[0;34m(\u001b[0m\u001b[0;34m)\u001b[0m\u001b[0;34m\u001b[0m\u001b[0;34m\u001b[0m\u001b[0m\n\u001b[0;32m---> 13\u001b[0;31m \u001b[0mprint\u001b[0m\u001b[0;34m(\u001b[0m\u001b[0;34m\"main code: v1-->\"\u001b[0m\u001b[0;34m,\u001b[0m \u001b[0mv1\u001b[0m\u001b[0;34m)\u001b[0m\u001b[0;34m\u001b[0m\u001b[0;34m\u001b[0m\u001b[0m\n\u001b[0m",
            "\u001b[0;31mNameError\u001b[0m: name 'v1' is not defined"
          ]
        }
      ]
    },
    {
      "cell_type": "code",
      "source": [
        "def func_outer():\n",
        "  # code block - outer func\n",
        "  v1 = 1000 # local variable to outer function\n",
        "  def func_inner():\n",
        "    # local variable to inner function\n",
        "    global v1\n",
        "    v1 = 5000\n",
        "    v1 += 1000\n",
        "    print(\"Inner func: v1 -> {}\".format(v1))\n",
        "  func_inner()\n",
        "  print(\"Outer Func: v1-->\", v1) # v1 -> 2000\n",
        "\n",
        "func_outer()\n",
        "print(\"main code: v1-->\", v1)"
      ],
      "metadata": {
        "colab": {
          "base_uri": "https://localhost:8080/"
        },
        "id": "XFv9kuDsTf0p",
        "outputId": "c17cd23a-0c7f-422b-c43f-831338da0d2a"
      },
      "execution_count": 26,
      "outputs": [
        {
          "output_type": "stream",
          "name": "stdout",
          "text": [
            "Inner func: v1 -> 6000\n",
            "Outer Func: v1--> 1000\n",
            "main code: v1--> 6000\n"
          ]
        }
      ]
    },
    {
      "cell_type": "code",
      "source": [
        "def func_outer():\n",
        "  # code block - outer func\n",
        "  v2 = 1000 # local variable to outer function\n",
        "  def func_inner():\n",
        "    # local variable to inner function\n",
        "    nonlocal v2\n",
        "    v2 += 1000\n",
        "    print(\"Inner func: v2 -> {}\".format(v2))\n",
        "  func_inner()\n",
        "  print(\"Outer Func: v2-->\", v2) # v1 -> 2000\n",
        "\n",
        "func_outer()\n",
        "print(\"main code: v1-->\", v2)"
      ],
      "metadata": {
        "colab": {
          "base_uri": "https://localhost:8080/",
          "height": 211
        },
        "id": "yxjk-u6WTnPg",
        "outputId": "ad4ab7d6-e3e5-4c95-8509-61a9093f4bab"
      },
      "execution_count": 27,
      "outputs": [
        {
          "output_type": "stream",
          "name": "stdout",
          "text": [
            "Inner func: v2 -> 2000\n",
            "Outer Func: v2--> 2000\n"
          ]
        },
        {
          "output_type": "error",
          "ename": "NameError",
          "evalue": "name 'v2' is not defined",
          "traceback": [
            "\u001b[0;31m---------------------------------------------------------------------------\u001b[0m",
            "\u001b[0;31mNameError\u001b[0m                                 Traceback (most recent call last)",
            "\u001b[0;32m<ipython-input-27-d34cb9f8f51a>\u001b[0m in \u001b[0;36m<cell line: 13>\u001b[0;34m()\u001b[0m\n\u001b[1;32m     11\u001b[0m \u001b[0;34m\u001b[0m\u001b[0m\n\u001b[1;32m     12\u001b[0m \u001b[0mfunc_outer\u001b[0m\u001b[0;34m(\u001b[0m\u001b[0;34m)\u001b[0m\u001b[0;34m\u001b[0m\u001b[0;34m\u001b[0m\u001b[0m\n\u001b[0;32m---> 13\u001b[0;31m \u001b[0mprint\u001b[0m\u001b[0;34m(\u001b[0m\u001b[0;34m\"main code: v1-->\"\u001b[0m\u001b[0;34m,\u001b[0m \u001b[0mv2\u001b[0m\u001b[0;34m)\u001b[0m\u001b[0;34m\u001b[0m\u001b[0;34m\u001b[0m\u001b[0m\n\u001b[0m",
            "\u001b[0;31mNameError\u001b[0m: name 'v2' is not defined"
          ]
        }
      ]
    },
    {
      "cell_type": "code",
      "source": [
        "def func_outer():\n",
        "  # code block - outer func\n",
        "  v2 = 1000 # local variable to outer function\n",
        "  def func_inner():\n",
        "    # local variable to inner function\n",
        "    nonlocal v3\n",
        "    v2 += 1000\n",
        "    print(\"Inner func: v2 -> {}\".format(v2))\n",
        "  func_inner()\n",
        "  print(\"Outer Func: v2-->\", v2) # v1 -> 2000\n",
        "\n",
        "func_outer()\n",
        "print(\"main code: v1-->\", v2)"
      ],
      "metadata": {
        "colab": {
          "base_uri": "https://localhost:8080/",
          "height": 106
        },
        "id": "RmMvg_5BTrHL",
        "outputId": "6ee7e517-e291-4ddc-d972-8fef56050126"
      },
      "execution_count": 28,
      "outputs": [
        {
          "output_type": "error",
          "ename": "SyntaxError",
          "evalue": "no binding for nonlocal 'v3' found (<ipython-input-28-29058747efe2>, line 6)",
          "traceback": [
            "\u001b[0;36m  File \u001b[0;32m\"<ipython-input-28-29058747efe2>\"\u001b[0;36m, line \u001b[0;32m6\u001b[0m\n\u001b[0;31m    nonlocal v3\u001b[0m\n\u001b[0m    ^\u001b[0m\n\u001b[0;31mSyntaxError\u001b[0m\u001b[0;31m:\u001b[0m no binding for nonlocal 'v3' found\n"
          ]
        }
      ]
    },
    {
      "cell_type": "code",
      "source": [
        "def func_outer():\n",
        "  # code block - outer func\n",
        "  v2 = 1000 # local variable to outer function\n",
        "  def func_inner():\n",
        "    # local variable to inner function\n",
        "    v2 = 5000 # local variable to inner function\n",
        "    print(\"Inner func: v2 -> {}\".format(v2))\n",
        "    def func_insideInner():\n",
        "      nonlocal v2\n",
        "      print(\"Func inside inner: -->\",v2)\n",
        "    func_insideInner()\n",
        "\n",
        "  func_inner()\n",
        "  print(\"Outer Func: v2-->\", v2) # v1 -> 2000\n",
        "\n",
        "func_outer()"
      ],
      "metadata": {
        "colab": {
          "base_uri": "https://localhost:8080/"
        },
        "id": "Ov9_lcSkWHvg",
        "outputId": "39688b56-a7b2-42ad-c041-8ab249552374"
      },
      "execution_count": 29,
      "outputs": [
        {
          "output_type": "stream",
          "name": "stdout",
          "text": [
            "Inner func: v2 -> 5000\n",
            "Func inside inner: --> 5000\n",
            "Outer Func: v2--> 1000\n"
          ]
        }
      ]
    },
    {
      "cell_type": "code",
      "source": [
        "def calculator(a,b):\n",
        "  print(\"Calculations is printed below: \")\n",
        "  def add(a,b):\n",
        "    print(\"a+b: -->\",a+b)\n",
        "\n",
        "  def sub(a,b):\n",
        "    print(\"a-b: -->\",a-b)\n",
        "\n",
        "  add(a,b)\n",
        "  sub(a,b)\n",
        "\n",
        "calculator(15,10)"
      ],
      "metadata": {
        "colab": {
          "base_uri": "https://localhost:8080/"
        },
        "id": "b6NLc9lPWV_7",
        "outputId": "d0d43c9b-26e3-40cc-b498-62d163e06603"
      },
      "execution_count": 35,
      "outputs": [
        {
          "output_type": "stream",
          "name": "stdout",
          "text": [
            "Calculations is printed below: \n",
            "a+b: --> 25\n",
            "a-b: --> 5\n"
          ]
        }
      ]
    },
    {
      "cell_type": "code",
      "source": [
        "\n",
        "def calculator(a,b):\n",
        "  print(\"Calculations is printed below: \")\n",
        "  def add(a,b):\n",
        "    print(\"a+b: -->\",a+b)\n",
        "\n",
        "  def sub(a,b):\n",
        "    print(\"a-b: -->\",a-b)\n",
        "\n",
        "  add(a,b)\n",
        "  sub(a,b)\n",
        "\n",
        "  global expose_add_func\n",
        "  expose_add_func = add\n",
        "  global expose_sub_func\n",
        "  expose_sub_func = sub"
      ],
      "metadata": {
        "id": "MtnhfrcCYXfC"
      },
      "execution_count": null,
      "outputs": []
    },
    {
      "cell_type": "code",
      "source": [
        "expose_add_func(10, 2)"
      ],
      "metadata": {
        "colab": {
          "base_uri": "https://localhost:8080/"
        },
        "id": "gW3C6h-pYnch",
        "outputId": "80c05be4-6902-4497-8efe-6021dc23525b"
      },
      "execution_count": 39,
      "outputs": [
        {
          "output_type": "stream",
          "name": "stdout",
          "text": [
            "a+b: --> 12\n"
          ]
        }
      ]
    },
    {
      "cell_type": "code",
      "source": [
        "expose_sub_func(23, 3)"
      ],
      "metadata": {
        "colab": {
          "base_uri": "https://localhost:8080/"
        },
        "id": "B1ZNuVnKYqcL",
        "outputId": "8d022e8f-3f8a-4791-83ae-c239e620cfbe"
      },
      "execution_count": 41,
      "outputs": [
        {
          "output_type": "stream",
          "name": "stdout",
          "text": [
            "a-b: --> 20\n"
          ]
        }
      ]
    },
    {
      "cell_type": "code",
      "source": [
        "calculator(15, 10)"
      ],
      "metadata": {
        "colab": {
          "base_uri": "https://localhost:8080/"
        },
        "id": "QCniGih4Yuib",
        "outputId": "67d19701-0c35-4a40-c718-272ebfdfb534"
      },
      "execution_count": 38,
      "outputs": [
        {
          "output_type": "stream",
          "name": "stdout",
          "text": [
            "Calculations is printed below: \n",
            "a+b: --> 25\n",
            "a-b: --> 5\n"
          ]
        }
      ]
    },
    {
      "cell_type": "code",
      "source": [
        "def calculator(a,b):\n",
        "  print(\"Calculations is printed below: \")\n",
        "  def add(a,b):\n",
        "    print(\"a+b: -->\",a+b)\n",
        "\n",
        "  def sub(a,b):\n",
        "    print(\"a-b: -->\",a-b)\n",
        "\n",
        "  return add"
      ],
      "metadata": {
        "id": "tBiAoB6IXXNS"
      },
      "execution_count": 44,
      "outputs": []
    },
    {
      "cell_type": "code",
      "source": [
        "add_fun = calculator(10, 20)"
      ],
      "metadata": {
        "colab": {
          "base_uri": "https://localhost:8080/"
        },
        "id": "AccJSUiFXtZ-",
        "outputId": "c4dfecca-339c-476b-d2c6-1a2d7b2ef7f9"
      },
      "execution_count": 50,
      "outputs": [
        {
          "output_type": "stream",
          "name": "stdout",
          "text": [
            "Calculations is printed below: \n"
          ]
        }
      ]
    },
    {
      "cell_type": "code",
      "source": [
        "add_fun(12, 24)"
      ],
      "metadata": {
        "colab": {
          "base_uri": "https://localhost:8080/"
        },
        "id": "Z9p7cGMzXxcu",
        "outputId": "168e9fb4-ae01-4b07-8fab-82584bf1bf69"
      },
      "execution_count": 51,
      "outputs": [
        {
          "output_type": "stream",
          "name": "stdout",
          "text": [
            "a+b: --> 36\n"
          ]
        }
      ]
    },
    {
      "cell_type": "code",
      "source": [
        "# higher order function\n",
        "\n",
        "def calculate(a,b, *operation):\n",
        "  print(operation)\n",
        "  print(operation[0](a,b), operation[1](a,b), operation[2](a,b))\n",
        "\n",
        "def add(a, b):\n",
        "  return a + b\n",
        "\n",
        "def sub(a, b):\n",
        "  return a - b\n",
        "\n",
        "def multiply(a, b):\n",
        "  return a * b\n",
        "\n",
        "calculate(10, 15, sub, add, multiply)"
      ],
      "metadata": {
        "colab": {
          "base_uri": "https://localhost:8080/"
        },
        "id": "1QzbOjPWXyh_",
        "outputId": "412eefd0-a653-44b4-e9c8-1aabe2f20007"
      },
      "execution_count": 56,
      "outputs": [
        {
          "output_type": "stream",
          "name": "stdout",
          "text": [
            "(<function sub at 0x797e5ebef370>, <function add at 0x797ea2ca72e0>, <function multiply at 0x797e5ebefd90>)\n",
            "-5 25 150\n"
          ]
        }
      ]
    },
    {
      "cell_type": "code",
      "source": [],
      "metadata": {
        "id": "Y8MK2NH0Zrzv"
      },
      "execution_count": 56,
      "outputs": []
    }
  ]
}