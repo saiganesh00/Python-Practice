{
  "nbformat": 4,
  "nbformat_minor": 0,
  "metadata": {
    "colab": {
      "provenance": [],
      "authorship_tag": "ABX9TyP5jNZ4BlIYCJAINbn7h0eu",
      "include_colab_link": true
    },
    "kernelspec": {
      "name": "python3",
      "display_name": "Python 3"
    },
    "language_info": {
      "name": "python"
    }
  },
  "cells": [
    {
      "cell_type": "markdown",
      "metadata": {
        "id": "view-in-github",
        "colab_type": "text"
      },
      "source": [
        "<a href=\"https://colab.research.google.com/github/saiganesh00/Python-Practice/blob/main/Python_Class_20.ipynb\" target=\"_parent\"><img src=\"https://colab.research.google.com/assets/colab-badge.svg\" alt=\"Open In Colab\"/></a>"
      ]
    },
    {
      "cell_type": "markdown",
      "source": [
        "### **Recursion Continued**"
      ],
      "metadata": {
        "id": "3ZKF6z5nID3t"
      }
    },
    {
      "cell_type": "code",
      "source": [
        "def get_fibanocii(num):\n",
        "  if num == 0:\n",
        "    return 0\n",
        "  elif num == 1:\n",
        "    return 1\n",
        "  else:\n",
        "    return get_fibanocii(num-1) + get_fibanocii(num-2)"
      ],
      "metadata": {
        "id": "D6q6rit7IUoZ"
      },
      "execution_count": 5,
      "outputs": []
    },
    {
      "cell_type": "code",
      "source": [
        "for i in range(10):\n",
        "  print(get_fibanocii(i), end = \" \")"
      ],
      "metadata": {
        "colab": {
          "base_uri": "https://localhost:8080/"
        },
        "id": "K4sjd2mKMmjh",
        "outputId": "075c2072-0a04-464c-a0e8-55f632eb4b51"
      },
      "execution_count": 7,
      "outputs": [
        {
          "output_type": "stream",
          "name": "stdout",
          "text": [
            "0 1 1 2 3 5 8 13 21 34 "
          ]
        }
      ]
    },
    {
      "cell_type": "code",
      "source": [
        "def find_factorial(num):\n",
        "  if num == 0:\n",
        "    return 1\n",
        "  else:\n",
        "    return num * find_factorial(num-1)"
      ],
      "metadata": {
        "id": "qu4CCTIEOODq"
      },
      "execution_count": 8,
      "outputs": []
    },
    {
      "cell_type": "code",
      "source": [
        "for i in range(10):\n",
        "  print(find_factorial(i), end = \" \")"
      ],
      "metadata": {
        "colab": {
          "base_uri": "https://localhost:8080/"
        },
        "id": "jC7dIPkdOTWO",
        "outputId": "92bd1727-b889-4231-9d30-31da897e294b"
      },
      "execution_count": 9,
      "outputs": [
        {
          "output_type": "stream",
          "name": "stdout",
          "text": [
            "1 1 2 6 24 120 720 5040 40320 362880 "
          ]
        }
      ]
    },
    {
      "cell_type": "code",
      "source": [
        "def find_power(base, power):\n",
        "  if power == 0:\n",
        "    return 1\n",
        "  else:\n",
        "    return base * find_power(base, power-1)"
      ],
      "metadata": {
        "id": "DPjNqAKzOeCF"
      },
      "execution_count": 10,
      "outputs": []
    },
    {
      "cell_type": "code",
      "source": [
        "for i in range(10):\n",
        "  print(find_power(2, i), end = \" \")"
      ],
      "metadata": {
        "colab": {
          "base_uri": "https://localhost:8080/"
        },
        "id": "RwFmqFJXOn24",
        "outputId": "bdfae45c-a619-414e-eda9-8c7930d28fec"
      },
      "execution_count": 11,
      "outputs": [
        {
          "output_type": "stream",
          "name": "stdout",
          "text": [
            "1 2 4 8 16 32 64 128 256 512 "
          ]
        }
      ]
    },
    {
      "cell_type": "code",
      "source": [
        "def find_sum(num):\n",
        "  if num == 0:\n",
        "    return 0\n",
        "  else:\n",
        "    return num + find_sum(num-1)"
      ],
      "metadata": {
        "id": "V3jgtxrEOsaU"
      },
      "execution_count": 12,
      "outputs": []
    },
    {
      "cell_type": "code",
      "source": [
        "for i in range(10):\n",
        "  print(find_sum(i), end = \" \")"
      ],
      "metadata": {
        "colab": {
          "base_uri": "https://localhost:8080/"
        },
        "id": "uobxL9ypPJFu",
        "outputId": "05ae47bd-aa56-4d50-e56d-4fa8a31ac27e"
      },
      "execution_count": 13,
      "outputs": [
        {
          "output_type": "stream",
          "name": "stdout",
          "text": [
            "0 1 3 6 10 15 21 28 36 45 "
          ]
        }
      ]
    },
    {
      "cell_type": "code",
      "source": [
        "def find_product(num):\n",
        "  if num == 0:\n",
        "    return 1\n",
        "  else:\n",
        "    return num * find_product(num-1)"
      ],
      "metadata": {
        "id": "tUt-tJZkPPkB"
      },
      "execution_count": 14,
      "outputs": []
    },
    {
      "cell_type": "code",
      "source": [
        "for i in range(10):\n",
        "  print(find_product(i), end = \" \")"
      ],
      "metadata": {
        "colab": {
          "base_uri": "https://localhost:8080/"
        },
        "id": "4EbAS5CKPWvr",
        "outputId": "bfb5bba1-676d-4009-ea62-1b171fc2b50d"
      },
      "execution_count": 15,
      "outputs": [
        {
          "output_type": "stream",
          "name": "stdout",
          "text": [
            "1 1 2 6 24 120 720 5040 40320 362880 "
          ]
        }
      ]
    },
    {
      "cell_type": "code",
      "source": [
        "def find_max(arr, n):\n",
        "  if n == 1:\n",
        "    return arr[0]\n",
        "  else:\n",
        "    return max(arr[n-1], find_max(arr, n-1))"
      ],
      "metadata": {
        "id": "yTsICqc9PZI7"
      },
      "execution_count": 16,
      "outputs": []
    },
    {
      "cell_type": "code",
      "source": [
        "l = [1,2,3,4,5,6,7,8,9,10]\n",
        "print(find_max(l, len(l)))"
      ],
      "metadata": {
        "colab": {
          "base_uri": "https://localhost:8080/"
        },
        "id": "DIuUg53YPumk",
        "outputId": "3228008e-b6ee-4e86-94a7-db107dcfca41"
      },
      "execution_count": 17,
      "outputs": [
        {
          "output_type": "stream",
          "name": "stdout",
          "text": [
            "10\n"
          ]
        }
      ]
    },
    {
      "cell_type": "code",
      "source": [
        "def find_min(arr, n):\n",
        "  if n == 1:\n",
        "    return arr[0]\n",
        "  else:\n",
        "    return min(arr[n-1], find_min(arr, n-1))"
      ],
      "metadata": {
        "id": "WPC0-3H-P21j"
      },
      "execution_count": 18,
      "outputs": []
    },
    {
      "cell_type": "code",
      "source": [
        "l = [1,2,3,4,5,6,7,8,9,10]\n",
        "print(find_min(l, len(l)))"
      ],
      "metadata": {
        "colab": {
          "base_uri": "https://localhost:8080/"
        },
        "id": "GgtcItOWP6at",
        "outputId": "0e5c095f-8813-43b3-d543-c0721b38f833"
      },
      "execution_count": 20,
      "outputs": [
        {
          "output_type": "stream",
          "name": "stdout",
          "text": [
            "1\n"
          ]
        }
      ]
    },
    {
      "cell_type": "code",
      "source": [
        "def find_sum_of_digits(num):\n",
        "  if num == 0:\n",
        "    return 0\n",
        "  else:\n",
        "    return num%10 + find_sum_of_digits(num//10)"
      ],
      "metadata": {
        "id": "bcsGoaMXQmk5"
      },
      "execution_count": 21,
      "outputs": []
    },
    {
      "cell_type": "code",
      "source": [
        "for i in range(100):\n",
        "  print(find_sum_of_digits(i), end = \" \")"
      ],
      "metadata": {
        "colab": {
          "base_uri": "https://localhost:8080/"
        },
        "id": "8jZ3cCv-Q1Nw",
        "outputId": "060e1385-5b42-48ee-890a-ab8795ae536b"
      },
      "execution_count": 23,
      "outputs": [
        {
          "output_type": "stream",
          "name": "stdout",
          "text": [
            "0 1 2 3 4 5 6 7 8 9 1 2 3 4 5 6 7 8 9 10 2 3 4 5 6 7 8 9 10 11 3 4 5 6 7 8 9 10 11 12 4 5 6 7 8 9 10 11 12 13 5 6 7 8 9 10 11 12 13 14 6 7 8 9 10 11 12 13 14 15 7 8 9 10 11 12 13 14 15 16 8 9 10 11 12 13 14 15 16 17 9 10 11 12 13 14 15 16 17 18 "
          ]
        }
      ]
    },
    {
      "cell_type": "code",
      "source": [
        "def find_reverse(num):\n",
        "  if num == 0:\n",
        "    return 0\n",
        "  else:\n",
        "    return num%10 + find_reverse(num//10)*10"
      ],
      "metadata": {
        "id": "HU--DKaHQ9az"
      },
      "execution_count": 24,
      "outputs": []
    },
    {
      "cell_type": "code",
      "source": [
        "print(find_reverse(12345))"
      ],
      "metadata": {
        "colab": {
          "base_uri": "https://localhost:8080/"
        },
        "id": "tgNTwgmXRNOs",
        "outputId": "41b7da01-73c2-4275-a3ec-72d699418524"
      },
      "execution_count": 25,
      "outputs": [
        {
          "output_type": "stream",
          "name": "stdout",
          "text": [
            "12345\n"
          ]
        }
      ]
    },
    {
      "cell_type": "markdown",
      "source": [
        "### **GATE:**"
      ],
      "metadata": {
        "id": "YftSvaH_RbuJ"
      }
    },
    {
      "cell_type": "code",
      "source": [
        "def count(child_dict, i):\n",
        "  print(\"Value of i: \", i)\n",
        "  if i not in child_dict.keys():\n",
        "    print(\"Key not found\")\n",
        "    return 1\n",
        "  ans = 1\n",
        "  print(\"Child: \", child_dict[i])\n",
        "  print(\"Ans: \", ans)\n",
        "  for j in child_dict[i]:\n",
        "    ans += count(child_dict, j)\n",
        "  print(\"Ans: \", ans)\n",
        "  return ans"
      ],
      "metadata": {
        "id": "7YKN9ZSeRQvw"
      },
      "execution_count": 36,
      "outputs": []
    },
    {
      "cell_type": "code",
      "source": [
        "child_dict = {}\n",
        "child_dict[0] = [1, 2]\n",
        "child_dict[1] = [3, 4, 5]\n",
        "child_dict[2] = [6, 7, 8]\n",
        "# child_dict[3] = [8, 9, 10]\n",
        "# child_dict[4] = [11, 12]\n",
        "print(count(child_dict, 0))"
      ],
      "metadata": {
        "colab": {
          "base_uri": "https://localhost:8080/"
        },
        "id": "atCUCX3mSBRq",
        "outputId": "120d401f-73e9-4086-e31c-77355c8e4aa2"
      },
      "execution_count": 37,
      "outputs": [
        {
          "output_type": "stream",
          "name": "stdout",
          "text": [
            "Value of i:  0\n",
            "Child:  [1, 2]\n",
            "Ans:  1\n",
            "Value of i:  1\n",
            "Child:  [3, 4, 5]\n",
            "Ans:  1\n",
            "Value of i:  3\n",
            "Key not found\n",
            "Value of i:  4\n",
            "Key not found\n",
            "Value of i:  5\n",
            "Key not found\n",
            "Ans:  4\n",
            "Value of i:  2\n",
            "Child:  [6, 7, 8]\n",
            "Ans:  1\n",
            "Value of i:  6\n",
            "Key not found\n",
            "Value of i:  7\n",
            "Key not found\n",
            "Value of i:  8\n",
            "Key not found\n",
            "Ans:  4\n",
            "Ans:  9\n",
            "9\n"
          ]
        }
      ]
    },
    {
      "cell_type": "code",
      "source": [
        "# Consider the following Python function:\n",
        "def fun(D, s1, s2):\n",
        " if s1 < s2:\n",
        "  D[s1], D[s2] = D[s2], D[s1]\n",
        "  fun(D, s1+1, s2-1)\n",
        "\n",
        "d = [100, 200, 5, 6, 1000, 1, 10000, 12, 500]\n",
        "print(d)\n",
        "\n",
        "fun(d, 2, 5)\n",
        "print(d)"
      ],
      "metadata": {
        "colab": {
          "base_uri": "https://localhost:8080/"
        },
        "id": "j6BYIgrAShRj",
        "outputId": "6377081a-56f1-47cb-d5cd-e8341bead2a5"
      },
      "execution_count": 39,
      "outputs": [
        {
          "output_type": "stream",
          "name": "stdout",
          "text": [
            "[100, 200, 5, 6, 1000, 1, 10000, 12, 500]\n",
            "[100, 200, 1, 1000, 6, 5, 10000, 12, 500]\n"
          ]
        }
      ]
    },
    {
      "cell_type": "code",
      "source": [
        "def recur_func(a, b, c):\n",
        "  if a >= b and c < b:\n",
        "    return b\n",
        "  elif a >= b:\n",
        "    return recur_func(a, c, b)\n",
        "  else:\n",
        "    return recur_func(b, a, c)"
      ],
      "metadata": {
        "id": "zTXQN8l-XEpC"
      },
      "execution_count": 40,
      "outputs": []
    },
    {
      "cell_type": "code",
      "source": [
        "print(recur_func(1, 2, 3))"
      ],
      "metadata": {
        "colab": {
          "base_uri": "https://localhost:8080/"
        },
        "id": "LaNiKBzZacjF",
        "outputId": "8d46ee9d-053c-4155-a02d-d855e58e8c17"
      },
      "execution_count": 41,
      "outputs": [
        {
          "output_type": "stream",
          "name": "stdout",
          "text": [
            "2\n"
          ]
        }
      ]
    },
    {
      "cell_type": "code",
      "source": [
        "print(recur_func(2, 1, 3))"
      ],
      "metadata": {
        "colab": {
          "base_uri": "https://localhost:8080/"
        },
        "id": "18JVX6YOc2-H",
        "outputId": "0570b761-f795-48d1-c503-5efabf9e151f"
      },
      "execution_count": 42,
      "outputs": [
        {
          "output_type": "stream",
          "name": "stdout",
          "text": [
            "2\n"
          ]
        }
      ]
    },
    {
      "cell_type": "code",
      "source": [
        "print(recur_func(3, 1, 2))"
      ],
      "metadata": {
        "colab": {
          "base_uri": "https://localhost:8080/"
        },
        "id": "aETEYJhsc5rM",
        "outputId": "87cfef2b-e6f2-4f10-b19f-b42b41710ac6"
      },
      "execution_count": 44,
      "outputs": [
        {
          "output_type": "stream",
          "name": "stdout",
          "text": [
            "2\n"
          ]
        }
      ]
    },
    {
      "cell_type": "code",
      "source": [
        "print(recur_func(20, 10, 130))"
      ],
      "metadata": {
        "colab": {
          "base_uri": "https://localhost:8080/"
        },
        "id": "P7Ygd18Rc8GE",
        "outputId": "85dc7060-eae4-4f6f-ce16-b3e8101b8d0d"
      },
      "execution_count": 45,
      "outputs": [
        {
          "output_type": "stream",
          "name": "stdout",
          "text": [
            "20\n"
          ]
        }
      ]
    },
    {
      "cell_type": "code",
      "source": [
        "print(recur_func(10, 20, 30))"
      ],
      "metadata": {
        "colab": {
          "base_uri": "https://localhost:8080/"
        },
        "id": "WnlTnni_dJOR",
        "outputId": "07b397d3-9c8e-41d5-8609-3028c5283575"
      },
      "execution_count": 46,
      "outputs": [
        {
          "output_type": "stream",
          "name": "stdout",
          "text": [
            "20\n"
          ]
        }
      ]
    },
    {
      "cell_type": "code",
      "source": [
        "def myFun(n, sum):\n",
        "  k = j = 0\n",
        "  if n>0:\n",
        "    k = n%10\n",
        "    j = n//10\n",
        "    sum = sum+k\n",
        "    myFun(j, sum)\n",
        "    print(k)\n",
        "\n",
        "a = 2048\n",
        "sum = 0\n",
        "myFun(a, sum)\n",
        "print(sum)"
      ],
      "metadata": {
        "colab": {
          "base_uri": "https://localhost:8080/"
        },
        "id": "hhnyyBABeUyo",
        "outputId": "074b70b6-8008-493c-d024-d265d91321fe"
      },
      "execution_count": 49,
      "outputs": [
        {
          "output_type": "stream",
          "name": "stdout",
          "text": [
            "2\n",
            "0\n",
            "4\n",
            "8\n",
            "0\n"
          ]
        }
      ]
    },
    {
      "cell_type": "code",
      "source": [],
      "metadata": {
        "id": "M6lUjBPJf3wC"
      },
      "execution_count": null,
      "outputs": []
    }
  ]
}