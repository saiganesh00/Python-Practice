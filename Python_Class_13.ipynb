{
  "nbformat": 4,
  "nbformat_minor": 0,
  "metadata": {
    "colab": {
      "provenance": [],
      "authorship_tag": "ABX9TyM8nZkczBNbNCo2x0i3bQFM",
      "include_colab_link": true
    },
    "kernelspec": {
      "name": "python3",
      "display_name": "Python 3"
    },
    "language_info": {
      "name": "python"
    }
  },
  "cells": [
    {
      "cell_type": "markdown",
      "metadata": {
        "id": "view-in-github",
        "colab_type": "text"
      },
      "source": [
        "<a href=\"https://colab.research.google.com/github/saiganesh00/Python-Practice/blob/main/Python_Class_13.ipynb\" target=\"_parent\"><img src=\"https://colab.research.google.com/assets/colab-badge.svg\" alt=\"Open In Colab\"/></a>"
      ]
    },
    {
      "cell_type": "code",
      "execution_count": null,
      "metadata": {
        "id": "m2K_l8t-lLjB"
      },
      "outputs": [],
      "source": []
    },
    {
      "cell_type": "markdown",
      "source": [
        "## **Dictonary Operations**"
      ],
      "metadata": {
        "id": "Iiv3YS4xnmUF"
      }
    },
    {
      "cell_type": "code",
      "source": [
        "# Initialize a dictonary\n",
        "\n",
        "d = {}\n",
        "print(d)\n",
        "print(type(d))"
      ],
      "metadata": {
        "colab": {
          "base_uri": "https://localhost:8080/"
        },
        "id": "018x4v9Hnp-7",
        "outputId": "c3db6979-f34e-491f-8c5e-204bd80f5194"
      },
      "execution_count": 1,
      "outputs": [
        {
          "output_type": "stream",
          "name": "stdout",
          "text": [
            "{}\n",
            "<class 'dict'>\n"
          ]
        }
      ]
    },
    {
      "cell_type": "code",
      "source": [
        "d = {1, 2, 3}\n",
        "print(d)\n",
        "print(type(d))"
      ],
      "metadata": {
        "colab": {
          "base_uri": "https://localhost:8080/"
        },
        "id": "QK05TnMboTv7",
        "outputId": "99da16bd-e660-412d-c4ae-a0c7e22c4247"
      },
      "execution_count": 2,
      "outputs": [
        {
          "output_type": "stream",
          "name": "stdout",
          "text": [
            "{1, 2, 3}\n",
            "<class 'set'>\n"
          ]
        }
      ]
    },
    {
      "cell_type": "code",
      "source": [
        "d = {'A': 1, 'B': 2, 'C': 3}\n",
        "print(d)\n",
        "print(type(d))"
      ],
      "metadata": {
        "colab": {
          "base_uri": "https://localhost:8080/"
        },
        "id": "cgXKxnn9oXBY",
        "outputId": "c27fc917-0ef4-4cd6-d940-572745018849"
      },
      "execution_count": 3,
      "outputs": [
        {
          "output_type": "stream",
          "name": "stdout",
          "text": [
            "{'A': 1, 'B': 2, 'C': 3}\n",
            "<class 'dict'>\n"
          ]
        }
      ]
    },
    {
      "cell_type": "code",
      "source": [
        "d = dict()\n",
        "print(d)\n",
        "print(type(d))"
      ],
      "metadata": {
        "colab": {
          "base_uri": "https://localhost:8080/"
        },
        "id": "iAFGZLnsodon",
        "outputId": "5f452142-9cd9-427c-acdd-c2677874ea1b"
      },
      "execution_count": 4,
      "outputs": [
        {
          "output_type": "stream",
          "name": "stdout",
          "text": [
            "{}\n",
            "<class 'dict'>\n"
          ]
        }
      ]
    },
    {
      "cell_type": "code",
      "source": [
        "d = dict([])\n",
        "print(d)\n",
        "print(type(d))"
      ],
      "metadata": {
        "colab": {
          "base_uri": "https://localhost:8080/"
        },
        "id": "Mxk0qszFosTQ",
        "outputId": "8cf45abd-f1f2-4637-f1e4-1027c10f2d2a"
      },
      "execution_count": 5,
      "outputs": [
        {
          "output_type": "stream",
          "name": "stdout",
          "text": [
            "{}\n",
            "<class 'dict'>\n"
          ]
        }
      ]
    },
    {
      "cell_type": "code",
      "source": [
        "# Dictonary is ordered\n",
        "\n",
        "d = {'A': 1, 'B': 2, 'C': 3}\n",
        "print(d)\n",
        "print(type(d))"
      ],
      "metadata": {
        "colab": {
          "base_uri": "https://localhost:8080/"
        },
        "id": "CK242VKdo22e",
        "outputId": "a1271d09-77ec-48c4-ff7e-f1ba2aca65ce"
      },
      "execution_count": 6,
      "outputs": [
        {
          "output_type": "stream",
          "name": "stdout",
          "text": [
            "{'A': 1, 'B': 2, 'C': 3}\n",
            "<class 'dict'>\n"
          ]
        }
      ]
    },
    {
      "cell_type": "code",
      "source": [
        "d = {'B': 2, 'A': 1, 'C': 3}\n",
        "print(d)\n",
        "print(type(d))"
      ],
      "metadata": {
        "colab": {
          "base_uri": "https://localhost:8080/"
        },
        "id": "RHIm30dlpD3B",
        "outputId": "fed5bdfd-30ef-4367-8389-3f907819640f"
      },
      "execution_count": 7,
      "outputs": [
        {
          "output_type": "stream",
          "name": "stdout",
          "text": [
            "{'B': 2, 'A': 1, 'C': 3}\n",
            "<class 'dict'>\n"
          ]
        }
      ]
    },
    {
      "cell_type": "code",
      "source": [
        "# Indexing is done through keys\n",
        "\n",
        "d = {'A': 1, 'B': 2, 'C': 3}\n",
        "print(d)\n",
        "print(type(d))"
      ],
      "metadata": {
        "colab": {
          "base_uri": "https://localhost:8080/"
        },
        "id": "xuPkUnyMpLvU",
        "outputId": "460cfbd8-1b99-4868-9bfc-8f6b6a7308a5"
      },
      "execution_count": 8,
      "outputs": [
        {
          "output_type": "stream",
          "name": "stdout",
          "text": [
            "{'A': 1, 'B': 2, 'C': 3}\n",
            "<class 'dict'>\n"
          ]
        }
      ]
    },
    {
      "cell_type": "code",
      "source": [
        "print(d['A'])\n",
        "print(d['B'])\n",
        "print(d['C'])"
      ],
      "metadata": {
        "colab": {
          "base_uri": "https://localhost:8080/"
        },
        "id": "Mt2LOhdQqF08",
        "outputId": "2c853686-ea44-479e-8b6e-9048b1bd636c"
      },
      "execution_count": 9,
      "outputs": [
        {
          "output_type": "stream",
          "name": "stdout",
          "text": [
            "1\n",
            "2\n",
            "3\n"
          ]
        }
      ]
    },
    {
      "cell_type": "code",
      "source": [
        "for key in d:\n",
        "  print(key, \" --> \", d[key])"
      ],
      "metadata": {
        "colab": {
          "base_uri": "https://localhost:8080/"
        },
        "id": "MC_zTy-DqN_B",
        "outputId": "6e6611bd-c98a-4403-faad-78894b637c0b"
      },
      "execution_count": 11,
      "outputs": [
        {
          "output_type": "stream",
          "name": "stdout",
          "text": [
            "A  -->  1\n",
            "B  -->  2\n",
            "C  -->  3\n"
          ]
        }
      ]
    },
    {
      "cell_type": "code",
      "source": [
        "# duplicates are not allowed\n",
        "# 1,1.0,True are treated same\n",
        "# 0,0.0, False are treated same\n",
        "\n",
        "d = {1: 'A', 1.0: \"F\", True: 'B', 0: 'Z', 0.0: 'FZ', False: 'BZ'}\n",
        "print(d)"
      ],
      "metadata": {
        "colab": {
          "base_uri": "https://localhost:8080/"
        },
        "id": "PVwLm7vhqRwa",
        "outputId": "61164e6e-438c-43eb-bfa8-3ab423638a29"
      },
      "execution_count": 12,
      "outputs": [
        {
          "output_type": "stream",
          "name": "stdout",
          "text": [
            "{1: 'B', 0: 'BZ'}\n"
          ]
        }
      ]
    },
    {
      "cell_type": "code",
      "source": [
        "d = {\"1\": \"A\", 1.0: \"BZ\", True: \"B\"}\n",
        "print(d)"
      ],
      "metadata": {
        "colab": {
          "base_uri": "https://localhost:8080/"
        },
        "id": "5od-RKlmrb2t",
        "outputId": "88cb1b3d-c863-4373-aae3-3f1cb9cc42c0"
      },
      "execution_count": 13,
      "outputs": [
        {
          "output_type": "stream",
          "name": "stdout",
          "text": [
            "{'1': 'A', 1.0: 'B'}\n"
          ]
        }
      ]
    },
    {
      "cell_type": "code",
      "source": [
        "d ={'A': 10, 'B': 20, 'A': 100}\n",
        "print(d)"
      ],
      "metadata": {
        "colab": {
          "base_uri": "https://localhost:8080/"
        },
        "id": "cxjC-h8BsVjI",
        "outputId": "34f89669-2072-4b75-d590-f36a0d4b1c78"
      },
      "execution_count": 14,
      "outputs": [
        {
          "output_type": "stream",
          "name": "stdout",
          "text": [
            "{'A': 100, 'B': 20}\n"
          ]
        }
      ]
    },
    {
      "cell_type": "code",
      "source": [
        "a = \"Shanmukh\"\n",
        "\n",
        "d = {a: 12}\n",
        "print(d)"
      ],
      "metadata": {
        "colab": {
          "base_uri": "https://localhost:8080/"
        },
        "id": "lwrUCnzLtDtU",
        "outputId": "8d6a7670-0dfc-476f-a51e-b59d487ecea8"
      },
      "execution_count": 18,
      "outputs": [
        {
          "output_type": "stream",
          "name": "stdout",
          "text": [
            "{'Shanmukh': 12}\n"
          ]
        }
      ]
    },
    {
      "cell_type": "code",
      "source": [
        "a = \"Srinivas\"\n",
        "print(d)"
      ],
      "metadata": {
        "colab": {
          "base_uri": "https://localhost:8080/"
        },
        "id": "RTw5g-4Lt_bo",
        "outputId": "b550e3f6-b4a9-42cc-fc7d-a16dceb2bc1b"
      },
      "execution_count": 19,
      "outputs": [
        {
          "output_type": "stream",
          "name": "stdout",
          "text": [
            "{'Shanmukh': 12}\n"
          ]
        }
      ]
    },
    {
      "cell_type": "code",
      "source": [
        "d = {'A': 12, 'B': 12, 'C': 12}\n",
        "print(d)"
      ],
      "metadata": {
        "colab": {
          "base_uri": "https://localhost:8080/"
        },
        "id": "6EUvyQHbtglF",
        "outputId": "2470ebdc-2f55-404a-b257-70d98286be77"
      },
      "execution_count": 20,
      "outputs": [
        {
          "output_type": "stream",
          "name": "stdout",
          "text": [
            "{'A': 12, 'B': 12, 'C': 12}\n"
          ]
        }
      ]
    },
    {
      "cell_type": "code",
      "source": [
        "# Dictonary Methods\n",
        "\n",
        "dict1 = dict(a = 10, b = 12, c = 50, d = [12, 20])\n",
        "print(dict1)\n",
        "print(type(dict1))"
      ],
      "metadata": {
        "colab": {
          "base_uri": "https://localhost:8080/"
        },
        "id": "1ktKx27ztwDh",
        "outputId": "48d653f1-6ca3-49bd-c23b-048f69360d78"
      },
      "execution_count": 21,
      "outputs": [
        {
          "output_type": "stream",
          "name": "stdout",
          "text": [
            "{'a': 10, 'b': 12, 'c': 50, 'd': [12, 20]}\n",
            "<class 'dict'>\n"
          ]
        }
      ]
    },
    {
      "cell_type": "code",
      "source": [
        "# copy\n",
        "\n",
        "d1 ={'A': 10, 'B': 20, 'C': 100}\n",
        "d2 = d1\n",
        "print(d1)\n",
        "print(id(d1))\n",
        "print(d2)\n",
        "print(id(d2))"
      ],
      "metadata": {
        "colab": {
          "base_uri": "https://localhost:8080/"
        },
        "id": "xcNenliiuaGZ",
        "outputId": "9f3ac67d-089b-4eb6-a538-7209c531c7ff"
      },
      "execution_count": 26,
      "outputs": [
        {
          "output_type": "stream",
          "name": "stdout",
          "text": [
            "{'A': 10, 'B': 20, 'C': 100}\n",
            "137784894666944\n",
            "{'A': 10, 'B': 20, 'C': 100}\n",
            "137784894666944\n"
          ]
        }
      ]
    },
    {
      "cell_type": "code",
      "source": [
        "print(d1)\n",
        "d1['A'] = 100\n",
        "print(d1)\n",
        "print(id(d1))\n",
        "print(d2)\n",
        "print(id(d2))"
      ],
      "metadata": {
        "colab": {
          "base_uri": "https://localhost:8080/"
        },
        "id": "UAvx1DDTu_vz",
        "outputId": "c6c7989e-340a-4c7d-8845-a2f42089c9b4"
      },
      "execution_count": 27,
      "outputs": [
        {
          "output_type": "stream",
          "name": "stdout",
          "text": [
            "{'A': 10, 'B': 20, 'C': 100}\n",
            "{'A': 100, 'B': 20, 'C': 100}\n",
            "137784894666944\n",
            "{'A': 100, 'B': 20, 'C': 100}\n",
            "137784894666944\n"
          ]
        }
      ]
    },
    {
      "cell_type": "code",
      "source": [
        "print(d1)\n",
        "\n",
        "d3 = d1.copy()\n",
        "d1['A'] = 10\n",
        "print(d1)\n",
        "print(d3)"
      ],
      "metadata": {
        "colab": {
          "base_uri": "https://localhost:8080/"
        },
        "id": "qQNCxSbevE3d",
        "outputId": "9708eb5c-c5e5-4ec9-8a25-447d2756be49"
      },
      "execution_count": 28,
      "outputs": [
        {
          "output_type": "stream",
          "name": "stdout",
          "text": [
            "{'A': 100, 'B': 20, 'C': 100}\n",
            "{'A': 10, 'B': 20, 'C': 100}\n",
            "{'A': 100, 'B': 20, 'C': 100}\n"
          ]
        }
      ]
    },
    {
      "cell_type": "code",
      "source": [
        "d1 = {'A': [10, 20, 30], 'B': 20, 'C': 30}\n",
        "d2 = d1.copy()\n",
        "print(d1)\n",
        "print(d2)\n",
        "\n",
        "d1['A'][1] = 100\n",
        "print(d1)\n",
        "print(d2)"
      ],
      "metadata": {
        "colab": {
          "base_uri": "https://localhost:8080/"
        },
        "id": "P1CDthf8vZr2",
        "outputId": "e5535b40-91f4-4469-dc5c-203aee0a08b1"
      },
      "execution_count": 29,
      "outputs": [
        {
          "output_type": "stream",
          "name": "stdout",
          "text": [
            "{'A': [10, 20, 30], 'B': 20, 'C': 30}\n",
            "{'A': [10, 20, 30], 'B': 20, 'C': 30}\n",
            "{'A': [10, 100, 30], 'B': 20, 'C': 30}\n",
            "{'A': [10, 100, 30], 'B': 20, 'C': 30}\n"
          ]
        }
      ]
    },
    {
      "cell_type": "code",
      "source": [
        "# deepcopy()\n",
        "\n",
        "import copy\n",
        "d1 = {'A': [10, 20, 30], 'B': 20, 'C': 30}\n",
        "d2 = copy.deepcopy(d1)\n",
        "print(d1)\n",
        "print(d2)\n",
        "\n",
        "d1['A'][1] = 100\n",
        "print(d1)\n",
        "print(d2)"
      ],
      "metadata": {
        "colab": {
          "base_uri": "https://localhost:8080/"
        },
        "id": "J4WG_33SvxpV",
        "outputId": "bc150bab-942b-42ee-e613-32d83204208e"
      },
      "execution_count": 31,
      "outputs": [
        {
          "output_type": "stream",
          "name": "stdout",
          "text": [
            "{'A': [10, 20, 30], 'B': 20, 'C': 30}\n",
            "{'A': [10, 20, 30], 'B': 20, 'C': 30}\n",
            "{'A': [10, 100, 30], 'B': 20, 'C': 30}\n",
            "{'A': [10, 20, 30], 'B': 20, 'C': 30}\n"
          ]
        }
      ]
    },
    {
      "cell_type": "code",
      "source": [
        "d1 = {'a': 10, 'b': 20, 'c': 30}\n",
        "d2 = dict(d1)\n",
        "print(d1)\n",
        "print(d2)\n",
        "d1['a'] = 100\n",
        "print(d1)\n",
        "print(d2)"
      ],
      "metadata": {
        "colab": {
          "base_uri": "https://localhost:8080/"
        },
        "id": "kecYTUiDv16-",
        "outputId": "477e825a-a0e7-4fb8-d7fc-dafbded7e6aa"
      },
      "execution_count": 32,
      "outputs": [
        {
          "output_type": "stream",
          "name": "stdout",
          "text": [
            "{'a': 10, 'b': 20, 'c': 30}\n",
            "{'a': 10, 'b': 20, 'c': 30}\n",
            "{'a': 100, 'b': 20, 'c': 30}\n",
            "{'a': 10, 'b': 20, 'c': 30}\n"
          ]
        }
      ]
    },
    {
      "cell_type": "code",
      "source": [
        "d1 = {'a': [100,200,300], 'b': 20, 'c': 30}\n",
        "\n",
        "d2 = dict(d1) # similar to d.copy() method\n",
        "\n",
        "\n",
        "print(d1)\n",
        "print(d2)\n",
        "\n",
        "d1['a'][1] = 1000\n",
        "print(d1)\n",
        "print(d2)"
      ],
      "metadata": {
        "colab": {
          "base_uri": "https://localhost:8080/"
        },
        "id": "rOjXbOotwXUg",
        "outputId": "02f7bea6-f523-41a1-ccbe-f8db84b93431"
      },
      "execution_count": 35,
      "outputs": [
        {
          "output_type": "stream",
          "name": "stdout",
          "text": [
            "{'a': [100, 200, 300], 'b': 20, 'c': 30}\n",
            "{'a': [100, 200, 300], 'b': 20, 'c': 30}\n",
            "{'a': [100, 1000, 300], 'b': 20, 'c': 30}\n",
            "{'a': [100, 1000, 300], 'b': 20, 'c': 30}\n"
          ]
        }
      ]
    },
    {
      "cell_type": "code",
      "source": [
        "d1 = {\"a\": 1, \"b\": 2}\n",
        "print(\"d1\")\n",
        "print(d1)\n",
        "print(id(d1))\n",
        "d2 = d1\n",
        "print(\"d2\")\n",
        "print(d2)\n",
        "print(id(d2))\n",
        "d3 = d1.copy()\n",
        "print(\"d3\")\n",
        "print(d3)\n",
        "print(id(d3))\n",
        "d4 = dict(d1)\n",
        "print(\"d4\")\n",
        "print(d4)\n",
        "print(id(d4))"
      ],
      "metadata": {
        "colab": {
          "base_uri": "https://localhost:8080/"
        },
        "id": "QisND8tMxkOS",
        "outputId": "41606f1b-e0c9-42a3-ba4c-d4055b682f74"
      },
      "execution_count": 36,
      "outputs": [
        {
          "output_type": "stream",
          "name": "stdout",
          "text": [
            "d1\n",
            "{'a': 1, 'b': 2}\n",
            "137784894681152\n",
            "d2\n",
            "{'a': 1, 'b': 2}\n",
            "137784894681152\n",
            "d3\n",
            "{'a': 1, 'b': 2}\n",
            "137784893620544\n",
            "d4\n",
            "{'a': 1, 'b': 2}\n",
            "137785261643520\n"
          ]
        }
      ]
    },
    {
      "cell_type": "code",
      "source": [
        "print(d1)\n",
        "d1['b'] = 1000\n",
        "\n",
        "print(d1)\n",
        "print(d2)\n",
        "print(d3)\n",
        "print(d4)"
      ],
      "metadata": {
        "colab": {
          "base_uri": "https://localhost:8080/"
        },
        "id": "_75bWFo7x0em",
        "outputId": "03280f00-16d0-41b4-b75f-78ea0907d007"
      },
      "execution_count": 37,
      "outputs": [
        {
          "output_type": "stream",
          "name": "stdout",
          "text": [
            "{'a': 1, 'b': 2}\n",
            "{'a': 1, 'b': 1000}\n",
            "{'a': 1, 'b': 1000}\n",
            "{'a': 1, 'b': 2}\n",
            "{'a': 1, 'b': 2}\n"
          ]
        }
      ]
    },
    {
      "cell_type": "code",
      "source": [
        "# Creating a dictonary using interables\n",
        "\n",
        "d1 = dict([('a', 2), ('b', 3), ('c', 4)])\n",
        "print(d1)"
      ],
      "metadata": {
        "colab": {
          "base_uri": "https://localhost:8080/"
        },
        "id": "UwGIrWNlyAGX",
        "outputId": "feeee079-e254-4f84-9b28-76c6870e34a1"
      },
      "execution_count": 38,
      "outputs": [
        {
          "output_type": "stream",
          "name": "stdout",
          "text": [
            "{'a': 2, 'b': 3, 'c': 4}\n"
          ]
        }
      ]
    },
    {
      "cell_type": "code",
      "source": [
        "d1 = dict((('a', 2), ('b', 3), ('c', 4)))\n",
        "print(d1)"
      ],
      "metadata": {
        "colab": {
          "base_uri": "https://localhost:8080/"
        },
        "id": "xFOIi85Byoj8",
        "outputId": "96e29ec6-64ce-443b-ef45-b19e5f0d123e"
      },
      "execution_count": 39,
      "outputs": [
        {
          "output_type": "stream",
          "name": "stdout",
          "text": [
            "{'a': 2, 'b': 3, 'c': 4}\n"
          ]
        }
      ]
    },
    {
      "cell_type": "code",
      "source": [
        "d1 = dict([('a', [1, 2, 3]), ('b', 3), ('c', 4)])\n",
        "print(d1)"
      ],
      "metadata": {
        "colab": {
          "base_uri": "https://localhost:8080/"
        },
        "id": "EauwzPcszKiC",
        "outputId": "ac1ccda3-39da-4b8f-bae6-3d601b615e2e"
      },
      "execution_count": 40,
      "outputs": [
        {
          "output_type": "stream",
          "name": "stdout",
          "text": [
            "{'a': [1, 2, 3], 'b': 3, 'c': 4}\n"
          ]
        }
      ]
    },
    {
      "cell_type": "code",
      "source": [
        "d1 = dict([('a', [1, 2, 3]), ('b', 3), ('c', 4)], virat = 120)\n",
        "print(d1)"
      ],
      "metadata": {
        "colab": {
          "base_uri": "https://localhost:8080/"
        },
        "id": "DjxUx5htzS9I",
        "outputId": "479f9b2e-763e-44d6-f82b-9ba16f9c2d0e"
      },
      "execution_count": 41,
      "outputs": [
        {
          "output_type": "stream",
          "name": "stdout",
          "text": [
            "{'a': [1, 2, 3], 'b': 3, 'c': 4, 'virat': 120}\n"
          ]
        }
      ]
    },
    {
      "cell_type": "code",
      "source": [
        "d1 = dict([('a', [1, 2, 3]), ('b', 3), ('c', 4)], virat = 120, rohit = 100)\n",
        "print(d1)"
      ],
      "metadata": {
        "colab": {
          "base_uri": "https://localhost:8080/"
        },
        "id": "LMPPynlGzb3u",
        "outputId": "82ea2e4c-6420-4793-87f1-5f8f64662adf"
      },
      "execution_count": 42,
      "outputs": [
        {
          "output_type": "stream",
          "name": "stdout",
          "text": [
            "{'a': [1, 2, 3], 'b': 3, 'c': 4, 'virat': 120, 'rohit': 100}\n"
          ]
        }
      ]
    },
    {
      "cell_type": "code",
      "source": [
        "## Creating dictonaries using fromkeys method --> default value is None\n",
        "\n",
        "students = ['venky', 'viky', 'abi', 'sai', 'vasanth']\n",
        "d = dict.fromkeys(students)\n",
        "print(d)"
      ],
      "metadata": {
        "colab": {
          "base_uri": "https://localhost:8080/"
        },
        "id": "_kRLoSgTzst3",
        "outputId": "fedd556d-33b8-4fda-e229-cbde44caed91"
      },
      "execution_count": 44,
      "outputs": [
        {
          "output_type": "stream",
          "name": "stdout",
          "text": [
            "{'venky': None, 'viky': None, 'abi': None, 'sai': None, 'vasanth': None}\n"
          ]
        }
      ]
    },
    {
      "cell_type": "code",
      "source": [
        "students = ['venky', 'viky', 'abi', 'sai', 'vasanth']\n",
        "d = dict.fromkeys(students, 0)\n",
        "print(d)"
      ],
      "metadata": {
        "colab": {
          "base_uri": "https://localhost:8080/"
        },
        "id": "MuMvIp293Edc",
        "outputId": "ab8895cb-9063-438b-a61b-ebb7a23a609f"
      },
      "execution_count": 45,
      "outputs": [
        {
          "output_type": "stream",
          "name": "stdout",
          "text": [
            "{'venky': 0, 'viky': 0, 'abi': 0, 'sai': 0, 'vasanth': 0}\n"
          ]
        }
      ]
    },
    {
      "cell_type": "code",
      "source": [
        "students = ['venky', 'viky', 'abi', 'sai', 'vasanth']\n",
        "d = dict.fromkeys(students, [1, 2, 3])\n",
        "print(d)"
      ],
      "metadata": {
        "colab": {
          "base_uri": "https://localhost:8080/"
        },
        "id": "4SWWJJj83QZ2",
        "outputId": "45470525-c31b-4d29-b80f-ca852e478fa0"
      },
      "execution_count": 46,
      "outputs": [
        {
          "output_type": "stream",
          "name": "stdout",
          "text": [
            "{'venky': [1, 2, 3], 'viky': [1, 2, 3], 'abi': [1, 2, 3], 'sai': [1, 2, 3], 'vasanth': [1, 2, 3]}\n"
          ]
        }
      ]
    },
    {
      "cell_type": "code",
      "source": [
        "# keys and values in dictonary\n",
        "\n",
        "d = {'a': [12, 20, 30], 'b': (20, 30, 40), 'c': {12, 30, 40}, 'd': {'A':1, 'B': 2}}\n",
        "print(d)"
      ],
      "metadata": {
        "colab": {
          "base_uri": "https://localhost:8080/"
        },
        "id": "ck1JSw7A3hJY",
        "outputId": "ed1e5ee9-bc5a-4661-9943-fd3231a4cbf4"
      },
      "execution_count": 47,
      "outputs": [
        {
          "output_type": "stream",
          "name": "stdout",
          "text": [
            "{'a': [12, 20, 30], 'b': (20, 30, 40), 'c': {40, 12, 30}, 'd': {'A': 1, 'B': 2}}\n"
          ]
        }
      ]
    },
    {
      "cell_type": "code",
      "source": [
        "# key in dictonary has to be immutable\n",
        "\n",
        "d = {(1, 2, 3): 'tuple'}\n",
        "print(d)"
      ],
      "metadata": {
        "colab": {
          "base_uri": "https://localhost:8080/"
        },
        "id": "vBbIoTAR4H6q",
        "outputId": "300dc621-9d0c-4c3f-ff25-3c4f918089e3"
      },
      "execution_count": 49,
      "outputs": [
        {
          "output_type": "stream",
          "name": "stdout",
          "text": [
            "{(1, 2, 3): 'tuple'}\n"
          ]
        }
      ]
    },
    {
      "cell_type": "code",
      "source": [
        "d = {[1, 2, 3]: 'list'}\n",
        "print(d)"
      ],
      "metadata": {
        "colab": {
          "base_uri": "https://localhost:8080/",
          "height": 158
        },
        "id": "7X8PfQai4V55",
        "outputId": "856f9ef1-6229-4d6e-ec37-f117e5c90aec"
      },
      "execution_count": 50,
      "outputs": [
        {
          "output_type": "error",
          "ename": "TypeError",
          "evalue": "unhashable type: 'list'",
          "traceback": [
            "\u001b[0;31m---------------------------------------------------------------------------\u001b[0m",
            "\u001b[0;31mTypeError\u001b[0m                                 Traceback (most recent call last)",
            "\u001b[0;32m<ipython-input-50-ae43bb7c02d3>\u001b[0m in \u001b[0;36m<cell line: 1>\u001b[0;34m()\u001b[0m\n\u001b[0;32m----> 1\u001b[0;31m \u001b[0md\u001b[0m \u001b[0;34m=\u001b[0m \u001b[0;34m{\u001b[0m\u001b[0;34m[\u001b[0m\u001b[0;36m1\u001b[0m\u001b[0;34m,\u001b[0m \u001b[0;36m2\u001b[0m\u001b[0;34m,\u001b[0m \u001b[0;36m3\u001b[0m\u001b[0;34m]\u001b[0m\u001b[0;34m:\u001b[0m \u001b[0;34m'list'\u001b[0m\u001b[0;34m}\u001b[0m\u001b[0;34m\u001b[0m\u001b[0;34m\u001b[0m\u001b[0m\n\u001b[0m\u001b[1;32m      2\u001b[0m \u001b[0mprint\u001b[0m\u001b[0;34m(\u001b[0m\u001b[0md\u001b[0m\u001b[0;34m)\u001b[0m\u001b[0;34m\u001b[0m\u001b[0;34m\u001b[0m\u001b[0m\n",
            "\u001b[0;31mTypeError\u001b[0m: unhashable type: 'list'"
          ]
        }
      ]
    },
    {
      "cell_type": "code",
      "source": [
        "# list, set, dictionaries - are mutable (so it cannot be passed as a key)\n",
        "\n",
        "d = {(12,30,[12,30]): \"A\"}\n",
        "print(d)"
      ],
      "metadata": {
        "colab": {
          "base_uri": "https://localhost:8080/",
          "height": 211
        },
        "outputId": "67fc45ea-372d-4c82-e275-d334647a82fa",
        "id": "R32vjg734f5W"
      },
      "execution_count": 51,
      "outputs": [
        {
          "output_type": "error",
          "ename": "TypeError",
          "evalue": "unhashable type: 'list'",
          "traceback": [
            "\u001b[0;31m---------------------------------------------------------------------------\u001b[0m",
            "\u001b[0;31mTypeError\u001b[0m                                 Traceback (most recent call last)",
            "\u001b[0;32m<ipython-input-51-68a3d77303c8>\u001b[0m in \u001b[0;36m<cell line: 3>\u001b[0;34m()\u001b[0m\n\u001b[1;32m      1\u001b[0m \u001b[0;31m# list, set, dictionaries - are mutable (so it cannot be passed as a key)\u001b[0m\u001b[0;34m\u001b[0m\u001b[0;34m\u001b[0m\u001b[0m\n\u001b[1;32m      2\u001b[0m \u001b[0;34m\u001b[0m\u001b[0m\n\u001b[0;32m----> 3\u001b[0;31m \u001b[0md\u001b[0m \u001b[0;34m=\u001b[0m \u001b[0;34m{\u001b[0m\u001b[0;34m(\u001b[0m\u001b[0;36m12\u001b[0m\u001b[0;34m,\u001b[0m\u001b[0;36m30\u001b[0m\u001b[0;34m,\u001b[0m\u001b[0;34m[\u001b[0m\u001b[0;36m12\u001b[0m\u001b[0;34m,\u001b[0m\u001b[0;36m30\u001b[0m\u001b[0;34m]\u001b[0m\u001b[0;34m)\u001b[0m\u001b[0;34m:\u001b[0m \u001b[0;34m\"A\"\u001b[0m\u001b[0;34m}\u001b[0m\u001b[0;34m\u001b[0m\u001b[0;34m\u001b[0m\u001b[0m\n\u001b[0m\u001b[1;32m      4\u001b[0m \u001b[0mprint\u001b[0m\u001b[0;34m(\u001b[0m\u001b[0md\u001b[0m\u001b[0;34m)\u001b[0m\u001b[0;34m\u001b[0m\u001b[0;34m\u001b[0m\u001b[0m\n\u001b[1;32m      5\u001b[0m \u001b[0;34m\u001b[0m\u001b[0m\n",
            "\u001b[0;31mTypeError\u001b[0m: unhashable type: 'list'"
          ]
        }
      ]
    },
    {
      "cell_type": "code",
      "source": [
        "d = {(12,30,(12,30)): \"A\"}\n",
        "print(d)\n",
        ""
      ],
      "metadata": {
        "colab": {
          "base_uri": "https://localhost:8080/"
        },
        "id": "z-_u5ZIr58Um",
        "outputId": "e580ff28-b8a3-4a09-9454-27f219c9cbe2"
      },
      "execution_count": 53,
      "outputs": [
        {
          "output_type": "stream",
          "name": "stdout",
          "text": [
            "{(12, 30, (12, 30)): 'A'}\n"
          ]
        }
      ]
    },
    {
      "cell_type": "code",
      "source": [
        "d = {\"a\": 12, \"b\": 13, \"c\": 100}\n",
        "print(len(d))"
      ],
      "metadata": {
        "colab": {
          "base_uri": "https://localhost:8080/"
        },
        "id": "ZAb_T1mV5INp",
        "outputId": "273c8c61-935d-4048-91ea-ca5f87f5e9f7"
      },
      "execution_count": 54,
      "outputs": [
        {
          "output_type": "stream",
          "name": "stdout",
          "text": [
            "3\n"
          ]
        }
      ]
    },
    {
      "cell_type": "code",
      "source": [
        "d = {\"a\": 12, \"b\": 13, \"c\": 100, 1:\"A\", \"1\": \"ABC\", 1.0:\"2\", False: \"True\"}\n",
        "print(d)\n",
        "print(len(d))"
      ],
      "metadata": {
        "colab": {
          "base_uri": "https://localhost:8080/"
        },
        "id": "G3qdrhIe5c3N",
        "outputId": "1e212ddf-c388-4810-ae3b-870b8fae8c32"
      },
      "execution_count": 55,
      "outputs": [
        {
          "output_type": "stream",
          "name": "stdout",
          "text": [
            "{'a': 12, 'b': 13, 'c': 100, 1: '2', '1': 'ABC', False: 'True'}\n",
            "6\n"
          ]
        }
      ]
    },
    {
      "cell_type": "code",
      "source": [
        "# keys(), values(), items()\n",
        "\n",
        "d = {\"Virat\": 55.4, \"Rohit\": 46.9, \"Sachin\": 60.9}\n",
        "\n",
        "print(d.keys())\n",
        "print(d.values())\n",
        "print(d.items())"
      ],
      "metadata": {
        "colab": {
          "base_uri": "https://localhost:8080/"
        },
        "id": "wiHShu7A6FdS",
        "outputId": "53439936-012f-426c-f9b9-390124757b7a"
      },
      "execution_count": 56,
      "outputs": [
        {
          "output_type": "stream",
          "name": "stdout",
          "text": [
            "dict_keys(['Virat', 'Rohit', 'Sachin'])\n",
            "dict_values([55.4, 46.9, 60.9])\n",
            "dict_items([('Virat', 55.4), ('Rohit', 46.9), ('Sachin', 60.9)])\n"
          ]
        }
      ]
    },
    {
      "cell_type": "code",
      "source": [
        "for key in d.keys():\n",
        "  print(\"Key ---> \", key)"
      ],
      "metadata": {
        "colab": {
          "base_uri": "https://localhost:8080/"
        },
        "id": "HFMtG2G26W4V",
        "outputId": "aa20d005-6064-4f5e-8b9b-c5ba5fd2cac3"
      },
      "execution_count": 57,
      "outputs": [
        {
          "output_type": "stream",
          "name": "stdout",
          "text": [
            "Key --->  Virat\n",
            "Key --->  Rohit\n",
            "Key --->  Sachin\n"
          ]
        }
      ]
    },
    {
      "cell_type": "code",
      "source": [
        "for val in d.values():\n",
        "  print(\"Value ---> \", val)"
      ],
      "metadata": {
        "colab": {
          "base_uri": "https://localhost:8080/"
        },
        "id": "nRjG6jcn60ES",
        "outputId": "9d6671a9-747b-455f-cdb3-9c4706f309da"
      },
      "execution_count": 59,
      "outputs": [
        {
          "output_type": "stream",
          "name": "stdout",
          "text": [
            "Value --->  55.4\n",
            "Value --->  46.9\n",
            "Value --->  60.9\n"
          ]
        }
      ]
    },
    {
      "cell_type": "code",
      "source": [
        "for item in d.items():\n",
        "  print(\"Items ---> \", item)"
      ],
      "metadata": {
        "colab": {
          "base_uri": "https://localhost:8080/"
        },
        "id": "-z4sG0ss64tU",
        "outputId": "0a809398-d935-451a-e474-2e5d68156d86"
      },
      "execution_count": 60,
      "outputs": [
        {
          "output_type": "stream",
          "name": "stdout",
          "text": [
            "Items --->  ('Virat', 55.4)\n",
            "Items --->  ('Rohit', 46.9)\n",
            "Items --->  ('Sachin', 60.9)\n"
          ]
        }
      ]
    },
    {
      "cell_type": "code",
      "source": [
        "for key, val in d.items():\n",
        "  print(\"Key --> \", key, \"Value --> \", val)"
      ],
      "metadata": {
        "colab": {
          "base_uri": "https://localhost:8080/"
        },
        "id": "dCMr2nT67L7O",
        "outputId": "3c89c52d-b3e7-4f5b-e08c-69aac37403e0"
      },
      "execution_count": 61,
      "outputs": [
        {
          "output_type": "stream",
          "name": "stdout",
          "text": [
            "Key -->  Virat Value -->  55.4\n",
            "Key -->  Rohit Value -->  46.9\n",
            "Key -->  Sachin Value -->  60.9\n"
          ]
        }
      ]
    },
    {
      "cell_type": "code",
      "source": [
        "# Accessing a value in dictonary\n",
        "\n",
        "d = {\"Virat\": 55.4, \"Rohit\": 46.9, \"Sachin\": 60.9}\n",
        "print(d)"
      ],
      "metadata": {
        "colab": {
          "base_uri": "https://localhost:8080/"
        },
        "id": "WMo_owNH7fjk",
        "outputId": "4100da44-7a31-43f2-cbce-2aca63a0b379"
      },
      "execution_count": 70,
      "outputs": [
        {
          "output_type": "stream",
          "name": "stdout",
          "text": [
            "{'Virat': 55.4, 'Rohit': 46.9, 'Sachin': 60.9}\n"
          ]
        }
      ]
    },
    {
      "cell_type": "code",
      "source": [
        "d['Virat']"
      ],
      "metadata": {
        "colab": {
          "base_uri": "https://localhost:8080/"
        },
        "id": "ara5ZDTf7y-G",
        "outputId": "8d36f6af-c73c-4bfc-f07a-74b31c5bf9b2"
      },
      "execution_count": 71,
      "outputs": [
        {
          "output_type": "execute_result",
          "data": {
            "text/plain": [
              "55.4"
            ]
          },
          "metadata": {},
          "execution_count": 71
        }
      ]
    },
    {
      "cell_type": "code",
      "source": [
        "d['Sky']"
      ],
      "metadata": {
        "colab": {
          "base_uri": "https://localhost:8080/",
          "height": 141
        },
        "id": "yhoHO3YO71A8",
        "outputId": "a3d8567c-6a85-47e3-e3ca-fc6e10c09e9b"
      },
      "execution_count": 72,
      "outputs": [
        {
          "output_type": "error",
          "ename": "KeyError",
          "evalue": "'Sky'",
          "traceback": [
            "\u001b[0;31m---------------------------------------------------------------------------\u001b[0m",
            "\u001b[0;31mKeyError\u001b[0m                                  Traceback (most recent call last)",
            "\u001b[0;32m<ipython-input-72-6765abbd3163>\u001b[0m in \u001b[0;36m<cell line: 1>\u001b[0;34m()\u001b[0m\n\u001b[0;32m----> 1\u001b[0;31m \u001b[0md\u001b[0m\u001b[0;34m[\u001b[0m\u001b[0;34m'Sky'\u001b[0m\u001b[0;34m]\u001b[0m\u001b[0;34m\u001b[0m\u001b[0;34m\u001b[0m\u001b[0m\n\u001b[0m",
            "\u001b[0;31mKeyError\u001b[0m: 'Sky'"
          ]
        }
      ]
    },
    {
      "cell_type": "code",
      "source": [
        "# get() method\n",
        "\n",
        "d = {\"Virat\": 55.4, \"Rohit\": 46.9, \"Sachin\": 60.9}\n",
        "\n",
        "d.get('Virat')"
      ],
      "metadata": {
        "colab": {
          "base_uri": "https://localhost:8080/"
        },
        "id": "54f453hu72_D",
        "outputId": "2e9943a9-511b-45f9-a17a-d139d693f9c8"
      },
      "execution_count": 73,
      "outputs": [
        {
          "output_type": "execute_result",
          "data": {
            "text/plain": [
              "55.4"
            ]
          },
          "metadata": {},
          "execution_count": 73
        }
      ]
    },
    {
      "cell_type": "code",
      "source": [
        "d.get('Sky')"
      ],
      "metadata": {
        "id": "Wxr9zFve76xF"
      },
      "execution_count": 74,
      "outputs": []
    },
    {
      "cell_type": "code",
      "source": [
        "x = d.get('Sky')\n",
        "print(x)"
      ],
      "metadata": {
        "colab": {
          "base_uri": "https://localhost:8080/"
        },
        "id": "_5F6ngOL78te",
        "outputId": "2a3d799d-02bf-4aa1-b8c6-ab835537da83"
      },
      "execution_count": 75,
      "outputs": [
        {
          "output_type": "stream",
          "name": "stdout",
          "text": [
            "None\n"
          ]
        }
      ]
    },
    {
      "cell_type": "code",
      "source": [
        "d.get(\"Sky\", -1) # get(key, default_val)"
      ],
      "metadata": {
        "colab": {
          "base_uri": "https://localhost:8080/"
        },
        "id": "LyYxD25a8HrL",
        "outputId": "911bf725-0794-4420-9ee9-2d7e5067e5d6"
      },
      "execution_count": 76,
      "outputs": [
        {
          "output_type": "execute_result",
          "data": {
            "text/plain": [
              "-1"
            ]
          },
          "metadata": {},
          "execution_count": 76
        }
      ]
    },
    {
      "cell_type": "code",
      "source": [
        "d.get(\"Sky\", \"Key Not Found\") # get(key, default_val)"
      ],
      "metadata": {
        "colab": {
          "base_uri": "https://localhost:8080/",
          "height": 35
        },
        "id": "XYl70_278Y2g",
        "outputId": "a840a22e-2cf9-4483-fea2-d3a4a4cf5084"
      },
      "execution_count": 77,
      "outputs": [
        {
          "output_type": "execute_result",
          "data": {
            "text/plain": [
              "'Key Not Found'"
            ],
            "application/vnd.google.colaboratory.intrinsic+json": {
              "type": "string"
            }
          },
          "metadata": {},
          "execution_count": 77
        }
      ]
    },
    {
      "cell_type": "code",
      "source": [
        "# Modifying a dictonary\n",
        "\n",
        "d = {\"Virat\": 55.4, \"Rohit\": 46.9, \"Sachin\": 60.9}\n",
        "print(d)"
      ],
      "metadata": {
        "colab": {
          "base_uri": "https://localhost:8080/"
        },
        "id": "w_dBiyr38bBV",
        "outputId": "e724c4db-4d79-4baf-e1f2-cf14bd3dc89a"
      },
      "execution_count": 78,
      "outputs": [
        {
          "output_type": "stream",
          "name": "stdout",
          "text": [
            "{'Virat': 55.4, 'Rohit': 46.9, 'Sachin': 60.9}\n"
          ]
        }
      ]
    },
    {
      "cell_type": "code",
      "source": [
        "print(d)\n",
        "d['Virat'] = [1, 2, 3]\n",
        "print(d)"
      ],
      "metadata": {
        "colab": {
          "base_uri": "https://localhost:8080/"
        },
        "id": "I2MgwAXC8mV7",
        "outputId": "b7a9a709-58ef-4499-8a7e-d323cb3b0aca"
      },
      "execution_count": 79,
      "outputs": [
        {
          "output_type": "stream",
          "name": "stdout",
          "text": [
            "{'Virat': 55.4, 'Rohit': 46.9, 'Sachin': 60.9}\n",
            "{'Virat': [1, 2, 3], 'Rohit': 46.9, 'Sachin': 60.9}\n"
          ]
        }
      ]
    },
    {
      "cell_type": "code",
      "source": [
        "'Virat' in d"
      ],
      "metadata": {
        "colab": {
          "base_uri": "https://localhost:8080/"
        },
        "id": "4NH5wEEf9Ffs",
        "outputId": "8f02bd8b-f591-4828-f2f9-1a6ad7d312a2"
      },
      "execution_count": 80,
      "outputs": [
        {
          "output_type": "execute_result",
          "data": {
            "text/plain": [
              "True"
            ]
          },
          "metadata": {},
          "execution_count": 80
        }
      ]
    },
    {
      "cell_type": "code",
      "source": [
        "'Virat' not in d"
      ],
      "metadata": {
        "colab": {
          "base_uri": "https://localhost:8080/"
        },
        "id": "yJ9ad1OH9PB5",
        "outputId": "a3747572-d33c-4d09-fc53-ae0190c59ad4"
      },
      "execution_count": 81,
      "outputs": [
        {
          "output_type": "execute_result",
          "data": {
            "text/plain": [
              "False"
            ]
          },
          "metadata": {},
          "execution_count": 81
        }
      ]
    },
    {
      "cell_type": "code",
      "source": [
        "'Sky' in d"
      ],
      "metadata": {
        "colab": {
          "base_uri": "https://localhost:8080/"
        },
        "id": "RE-iBAsW9QXL",
        "outputId": "2877f3a7-a505-4520-ac0b-0a78df53d01a"
      },
      "execution_count": 82,
      "outputs": [
        {
          "output_type": "execute_result",
          "data": {
            "text/plain": [
              "False"
            ]
          },
          "metadata": {},
          "execution_count": 82
        }
      ]
    },
    {
      "cell_type": "code",
      "source": [
        "'Sky' not in d"
      ],
      "metadata": {
        "colab": {
          "base_uri": "https://localhost:8080/"
        },
        "id": "utBNJqb69SmP",
        "outputId": "712a8b29-4649-4ca8-9fb8-7315fedfa06a"
      },
      "execution_count": 83,
      "outputs": [
        {
          "output_type": "execute_result",
          "data": {
            "text/plain": [
              "True"
            ]
          },
          "metadata": {},
          "execution_count": 83
        }
      ]
    },
    {
      "cell_type": "code",
      "source": [
        "d = {\"Virat\": \"Sky\", \"Rohit\": \"Pant\"}\n",
        "\n",
        "\"Sky\" in d"
      ],
      "metadata": {
        "colab": {
          "base_uri": "https://localhost:8080/"
        },
        "id": "QB8Wjxtj9Vhk",
        "outputId": "714f7bfe-9d9a-4e7e-8275-eb0f846c82aa"
      },
      "execution_count": 84,
      "outputs": [
        {
          "output_type": "execute_result",
          "data": {
            "text/plain": [
              "False"
            ]
          },
          "metadata": {},
          "execution_count": 84
        }
      ]
    },
    {
      "cell_type": "code",
      "source": [
        "\"Sky\" in d.values()"
      ],
      "metadata": {
        "colab": {
          "base_uri": "https://localhost:8080/"
        },
        "id": "nNqFgsoQ9gsK",
        "outputId": "7c7ca860-3665-4dfe-d381-9acc5503a497"
      },
      "execution_count": 85,
      "outputs": [
        {
          "output_type": "execute_result",
          "data": {
            "text/plain": [
              "True"
            ]
          },
          "metadata": {},
          "execution_count": 85
        }
      ]
    },
    {
      "cell_type": "code",
      "source": [
        "# update() method\n",
        "\n",
        "dict1 = {'name': 'Ram Charan', 'age': 33, 'profession': 'actor'}\n",
        "print(dict1)"
      ],
      "metadata": {
        "colab": {
          "base_uri": "https://localhost:8080/"
        },
        "id": "S-aiArsE9jOI",
        "outputId": "cb05d83a-bb5a-4115-dfa8-97a775a14c00"
      },
      "execution_count": 86,
      "outputs": [
        {
          "output_type": "stream",
          "name": "stdout",
          "text": [
            "{'name': 'Ram Charan', 'age': 33, 'profession': 'actor'}\n"
          ]
        }
      ]
    },
    {
      "cell_type": "code",
      "source": [
        "print(dict1)\n",
        "dict1.update(name = 'RC', age = 32)\n",
        "print(dict1)"
      ],
      "metadata": {
        "colab": {
          "base_uri": "https://localhost:8080/"
        },
        "id": "mRExnI6w-CAB",
        "outputId": "d8ec20e8-c237-4a70-cde4-1bb51b7f36b7"
      },
      "execution_count": 89,
      "outputs": [
        {
          "output_type": "stream",
          "name": "stdout",
          "text": [
            "{'name': 'Ram Charan', 'age': 33, 'profession': 'actor'}\n",
            "{'name': 'RC', 'age': 32, 'profession': 'actor'}\n"
          ]
        }
      ]
    },
    {
      "cell_type": "code",
      "source": [
        "my_dict = {\"name\": \"Venky\", \"age\": 26, \"profession\": \"teaching\"}\n",
        "print(my_dict)\n",
        "other_dict = {\"salary\": 1000, \"education\": \"Mtech\"}\n",
        "print(other_dict)\n",
        "my_dict.update(other_dict)\n",
        "my_dict"
      ],
      "metadata": {
        "colab": {
          "base_uri": "https://localhost:8080/"
        },
        "id": "dMBY2-Zl-QZ3",
        "outputId": "dded054b-a983-4435-a625-0233e42dedc7"
      },
      "execution_count": 94,
      "outputs": [
        {
          "output_type": "stream",
          "name": "stdout",
          "text": [
            "{'name': 'Venky', 'age': 26, 'profession': 'teaching'}\n",
            "{'salary': 1000, 'education': 'Mtech'}\n"
          ]
        },
        {
          "output_type": "execute_result",
          "data": {
            "text/plain": [
              "{'name': 'Venky',\n",
              " 'age': 26,\n",
              " 'profession': 'teaching',\n",
              " 'salary': 1000,\n",
              " 'education': 'Mtech'}"
            ]
          },
          "metadata": {},
          "execution_count": 94
        }
      ]
    },
    {
      "cell_type": "code",
      "source": [
        "my_dict"
      ],
      "metadata": {
        "colab": {
          "base_uri": "https://localhost:8080/"
        },
        "id": "GnPqbHAY-fAh",
        "outputId": "217f3960-fb30-4127-ef0f-422557b3d27d"
      },
      "execution_count": 93,
      "outputs": [
        {
          "output_type": "execute_result",
          "data": {
            "text/plain": [
              "{'name': 'Venky',\n",
              " 'age': 26,\n",
              " 'profession': 'teaching',\n",
              " 'salary': 1000,\n",
              " 'education': 'Mtech'}"
            ]
          },
          "metadata": {},
          "execution_count": 93
        }
      ]
    },
    {
      "cell_type": "code",
      "source": [
        "d = {'a': [1, 2]}\n",
        "print(d)\n",
        "d['a'].append(3)\n",
        "print(d)"
      ],
      "metadata": {
        "colab": {
          "base_uri": "https://localhost:8080/"
        },
        "id": "ucMiIt3L-h_R",
        "outputId": "2d914a61-263e-4ac7-bee4-227ef7cb2e07"
      },
      "execution_count": 95,
      "outputs": [
        {
          "output_type": "stream",
          "name": "stdout",
          "text": [
            "{'a': [1, 2]}\n",
            "{'a': [1, 2, 3]}\n"
          ]
        }
      ]
    },
    {
      "cell_type": "code",
      "source": [
        "my_dict = {\"name\": \"Venky\", \"age\": 26, \"profession\": \"teaching\"}\n",
        "print(my_dict)\n",
        "other_dict = ((\"salary\", 1000), (\"education\", \"Mtech\"))\n",
        "print(other_dict)\n",
        "my_dict.update(other_dict)\n",
        "my_dict"
      ],
      "metadata": {
        "colab": {
          "base_uri": "https://localhost:8080/"
        },
        "id": "OrGAOV7s_QeL",
        "outputId": "8483c45b-ef85-4d85-b433-99350d387784"
      },
      "execution_count": 96,
      "outputs": [
        {
          "output_type": "stream",
          "name": "stdout",
          "text": [
            "{'name': 'Venky', 'age': 26, 'profession': 'teaching'}\n",
            "(('salary', 1000), ('education', 'Mtech'))\n"
          ]
        },
        {
          "output_type": "execute_result",
          "data": {
            "text/plain": [
              "{'name': 'Venky',\n",
              " 'age': 26,\n",
              " 'profession': 'teaching',\n",
              " 'salary': 1000,\n",
              " 'education': 'Mtech'}"
            ]
          },
          "metadata": {},
          "execution_count": 96
        }
      ]
    },
    {
      "cell_type": "code",
      "source": [
        "# del method\n",
        "print(my_dict)\n",
        "del my_dict['salary']\n",
        "print(my_dict)"
      ],
      "metadata": {
        "colab": {
          "base_uri": "https://localhost:8080/"
        },
        "id": "1Xd4nIkTAFzB",
        "outputId": "9ac9dcbd-b5cd-4471-e0fa-7e7030d76561"
      },
      "execution_count": 97,
      "outputs": [
        {
          "output_type": "stream",
          "name": "stdout",
          "text": [
            "{'name': 'Venky', 'age': 26, 'profession': 'teaching', 'salary': 1000, 'education': 'Mtech'}\n",
            "{'name': 'Venky', 'age': 26, 'profession': 'teaching', 'education': 'Mtech'}\n"
          ]
        }
      ]
    },
    {
      "cell_type": "code",
      "source": [
        "del my_dict"
      ],
      "metadata": {
        "id": "Kuwi6GrVATfu"
      },
      "execution_count": 98,
      "outputs": []
    },
    {
      "cell_type": "code",
      "source": [
        "my_dict"
      ],
      "metadata": {
        "colab": {
          "base_uri": "https://localhost:8080/",
          "height": 141
        },
        "id": "s8NlvxKGAcZW",
        "outputId": "db38d11e-24fd-41dd-fca5-19e4acc82b71"
      },
      "execution_count": 99,
      "outputs": [
        {
          "output_type": "error",
          "ename": "NameError",
          "evalue": "name 'my_dict' is not defined",
          "traceback": [
            "\u001b[0;31m---------------------------------------------------------------------------\u001b[0m",
            "\u001b[0;31mNameError\u001b[0m                                 Traceback (most recent call last)",
            "\u001b[0;32m<ipython-input-99-23f353dd2d1f>\u001b[0m in \u001b[0;36m<cell line: 1>\u001b[0;34m()\u001b[0m\n\u001b[0;32m----> 1\u001b[0;31m \u001b[0mmy_dict\u001b[0m\u001b[0;34m\u001b[0m\u001b[0;34m\u001b[0m\u001b[0m\n\u001b[0m",
            "\u001b[0;31mNameError\u001b[0m: name 'my_dict' is not defined"
          ]
        }
      ]
    },
    {
      "cell_type": "code",
      "source": [
        "my_dict = {\"name\": \"Venky\", \"age\": 26, \"profession\": \"teaching\"}\n",
        "print(my_dict)"
      ],
      "metadata": {
        "colab": {
          "base_uri": "https://localhost:8080/"
        },
        "id": "842hldvzAdQM",
        "outputId": "21215c6f-3756-4e69-d8e0-2610abda6060"
      },
      "execution_count": 100,
      "outputs": [
        {
          "output_type": "stream",
          "name": "stdout",
          "text": [
            "{'name': 'Venky', 'age': 26, 'profession': 'teaching'}\n"
          ]
        }
      ]
    },
    {
      "cell_type": "code",
      "source": [
        "my_dict.clear()"
      ],
      "metadata": {
        "id": "yaooWAE5ApL4"
      },
      "execution_count": 101,
      "outputs": []
    },
    {
      "cell_type": "code",
      "source": [
        "my_dict"
      ],
      "metadata": {
        "colab": {
          "base_uri": "https://localhost:8080/"
        },
        "id": "Uoc02Vm4AsYg",
        "outputId": "d2a5a73b-52ed-4e48-dd63-0cf2b18094d2"
      },
      "execution_count": 102,
      "outputs": [
        {
          "output_type": "execute_result",
          "data": {
            "text/plain": [
              "{}"
            ]
          },
          "metadata": {},
          "execution_count": 102
        }
      ]
    },
    {
      "cell_type": "code",
      "source": [
        "other_dict = [\"salary\", 10000], [\"education\", \"btech\"]"
      ],
      "metadata": {
        "id": "4haU-c6ZAtNP"
      },
      "execution_count": 103,
      "outputs": []
    },
    {
      "cell_type": "code",
      "source": [
        "other_dict"
      ],
      "metadata": {
        "colab": {
          "base_uri": "https://localhost:8080/"
        },
        "id": "IQ6wCGaUAzJ7",
        "outputId": "b37e4e43-96ef-41a3-f460-3d6eee51dbae"
      },
      "execution_count": 104,
      "outputs": [
        {
          "output_type": "execute_result",
          "data": {
            "text/plain": [
              "(['salary', 10000], ['education', 'btech'])"
            ]
          },
          "metadata": {},
          "execution_count": 104
        }
      ]
    },
    {
      "cell_type": "code",
      "source": [],
      "metadata": {
        "id": "l4yTSL4ZA0oR"
      },
      "execution_count": null,
      "outputs": []
    }
  ]
}