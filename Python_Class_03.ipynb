{
  "nbformat": 4,
  "nbformat_minor": 0,
  "metadata": {
    "colab": {
      "provenance": [],
      "authorship_tag": "ABX9TyO5cHeIec86NLE4uH2HE8Bp",
      "include_colab_link": true
    },
    "kernelspec": {
      "name": "python3",
      "display_name": "Python 3"
    },
    "language_info": {
      "name": "python"
    }
  },
  "cells": [
    {
      "cell_type": "markdown",
      "metadata": {
        "id": "view-in-github",
        "colab_type": "text"
      },
      "source": [
        "<a href=\"https://colab.research.google.com/github/saiganesh00/Python-Practice/blob/main/Python_Class_03.ipynb\" target=\"_parent\"><img src=\"https://colab.research.google.com/assets/colab-badge.svg\" alt=\"Open In Colab\"/></a>"
      ]
    },
    {
      "cell_type": "markdown",
      "source": [
        "## **Range**\n",
        "\n",
        "- **Syntax: range(start, stop, step)**\n",
        "- **Default value of 'start' is 0**\n",
        "- **Default value of 'step' is 1**"
      ],
      "metadata": {
        "id": "qkQ_9ZpC1srh"
      }
    },
    {
      "cell_type": "code",
      "execution_count": 1,
      "metadata": {
        "colab": {
          "base_uri": "https://localhost:8080/"
        },
        "id": "XpdhIBxy0byq",
        "outputId": "fd36b878-d3df-497d-a4c1-2922a4f0398a"
      },
      "outputs": [
        {
          "output_type": "stream",
          "name": "stdout",
          "text": [
            "range(0, 5)\n",
            "<class 'range'>\n"
          ]
        }
      ],
      "source": [
        "range_val = range(0, 5)\n",
        "print(range_val)\n",
        "print(type(range_val))"
      ]
    },
    {
      "cell_type": "code",
      "source": [
        "list(range_val)"
      ],
      "metadata": {
        "colab": {
          "base_uri": "https://localhost:8080/"
        },
        "id": "tCl6NcFs2D3m",
        "outputId": "dc3b50e1-4d24-437b-e486-a183d18dd22b"
      },
      "execution_count": 2,
      "outputs": [
        {
          "output_type": "execute_result",
          "data": {
            "text/plain": [
              "[0, 1, 2, 3, 4]"
            ]
          },
          "metadata": {},
          "execution_count": 2
        }
      ]
    },
    {
      "cell_type": "code",
      "source": [
        "range_val_2 = range(10, 15)\n",
        "list(range_val_2)"
      ],
      "metadata": {
        "colab": {
          "base_uri": "https://localhost:8080/"
        },
        "id": "rI5O8GlY2iYK",
        "outputId": "127685a4-eee3-4bba-faec-f1b90583880d"
      },
      "execution_count": 5,
      "outputs": [
        {
          "output_type": "execute_result",
          "data": {
            "text/plain": [
              "[10, 11, 12, 13, 14]"
            ]
          },
          "metadata": {},
          "execution_count": 5
        }
      ]
    },
    {
      "cell_type": "code",
      "source": [
        "range_val_3 = range(10, 29, 3)\n",
        "list(range_val_3)"
      ],
      "metadata": {
        "colab": {
          "base_uri": "https://localhost:8080/"
        },
        "id": "BXEl_CXN26eI",
        "outputId": "d90e8f0d-c535-4056-8401-a5ae59be4ea5"
      },
      "execution_count": 4,
      "outputs": [
        {
          "output_type": "execute_result",
          "data": {
            "text/plain": [
              "[10, 13, 16, 19, 22, 25, 28]"
            ]
          },
          "metadata": {},
          "execution_count": 4
        }
      ]
    },
    {
      "cell_type": "code",
      "source": [
        "range_val_4 = range(-5)\n",
        "list(range_val_4)"
      ],
      "metadata": {
        "colab": {
          "base_uri": "https://localhost:8080/"
        },
        "id": "0gwg0LCN3c1U",
        "outputId": "7616e2a7-3d37-4267-f7ad-f22139584da5"
      },
      "execution_count": 7,
      "outputs": [
        {
          "output_type": "execute_result",
          "data": {
            "text/plain": [
              "[]"
            ]
          },
          "metadata": {},
          "execution_count": 7
        }
      ]
    },
    {
      "cell_type": "code",
      "source": [
        "range_val_5 = range(-5, 0)\n",
        "list(range_val_5)"
      ],
      "metadata": {
        "colab": {
          "base_uri": "https://localhost:8080/"
        },
        "id": "FVTZlhoP4d4u",
        "outputId": "f7d217bf-5c0e-41c0-e08c-3bdd0e922664"
      },
      "execution_count": 8,
      "outputs": [
        {
          "output_type": "execute_result",
          "data": {
            "text/plain": [
              "[-5, -4, -3, -2, -1]"
            ]
          },
          "metadata": {},
          "execution_count": 8
        }
      ]
    },
    {
      "cell_type": "code",
      "source": [
        "range_val_6 = range(0, -6, -1)\n",
        "list(range_val_6)"
      ],
      "metadata": {
        "colab": {
          "base_uri": "https://localhost:8080/"
        },
        "id": "2D04oOZo4oJ7",
        "outputId": "5ee1adb6-dd97-4286-9795-4bbc85954db6"
      },
      "execution_count": 9,
      "outputs": [
        {
          "output_type": "execute_result",
          "data": {
            "text/plain": [
              "[0, -1, -2, -3, -4, -5]"
            ]
          },
          "metadata": {},
          "execution_count": 9
        }
      ]
    },
    {
      "cell_type": "markdown",
      "source": [
        "## **Set**\n",
        "- **A set is a collection of unordered and unindexed data type**\n",
        "- **A set is unchangeble**\n",
        "- **Duplicates are not allowed int set**\n",
        "- **Defined by using \"{}\"**"
      ],
      "metadata": {
        "id": "C08N3VEU5hJV"
      }
    },
    {
      "cell_type": "code",
      "source": [
        "set_1 = {1, 2, 3, 4, 5}\n",
        "print(set_1)\n",
        "print(type(set_1))"
      ],
      "metadata": {
        "colab": {
          "base_uri": "https://localhost:8080/"
        },
        "id": "RX5-IIaU410Y",
        "outputId": "fad5ee7e-1fcd-4845-dee9-c420e244e569"
      },
      "execution_count": 10,
      "outputs": [
        {
          "output_type": "stream",
          "name": "stdout",
          "text": [
            "{1, 2, 3, 4, 5}\n",
            "<class 'set'>\n"
          ]
        }
      ]
    },
    {
      "cell_type": "code",
      "source": [
        "set_2 = set((1, 2, 3, 4, 5))\n",
        "print(set_2)\n",
        "print(type(set_2))"
      ],
      "metadata": {
        "colab": {
          "base_uri": "https://localhost:8080/"
        },
        "id": "-fhz6k4S6JbC",
        "outputId": "87eebb4e-ded0-44a5-c93e-e82ddebb7e9a"
      },
      "execution_count": 12,
      "outputs": [
        {
          "output_type": "stream",
          "name": "stdout",
          "text": [
            "{1, 2, 3, 4, 5}\n",
            "<class 'set'>\n"
          ]
        }
      ]
    },
    {
      "cell_type": "code",
      "source": [
        "# Set is unordered\n",
        "\n",
        "set_3 = {1, 2, 3, 2.5, 1.5, \"Virat\", \"Rajini\", \"RBR\"}\n",
        "print(set_3)"
      ],
      "metadata": {
        "colab": {
          "base_uri": "https://localhost:8080/"
        },
        "id": "UwRkF2l26XTq",
        "outputId": "a57aa5b4-445b-4c45-cef4-d07d1b3d92a4"
      },
      "execution_count": 15,
      "outputs": [
        {
          "output_type": "stream",
          "name": "stdout",
          "text": [
            "{1, 2, 2.5, 3, 1.5, 'RBR', 'Rajini', 'Virat'}\n"
          ]
        }
      ]
    },
    {
      "cell_type": "code",
      "source": [
        "# Set is unindexed\n",
        "\n",
        "set_3[0]"
      ],
      "metadata": {
        "colab": {
          "base_uri": "https://localhost:8080/",
          "height": 176
        },
        "id": "t2TIIza56qwT",
        "outputId": "8134ff4a-0982-4ac4-92a0-742d857ab7a9"
      },
      "execution_count": 16,
      "outputs": [
        {
          "output_type": "error",
          "ename": "TypeError",
          "evalue": "'set' object is not subscriptable",
          "traceback": [
            "\u001b[0;31m---------------------------------------------------------------------------\u001b[0m",
            "\u001b[0;31mTypeError\u001b[0m                                 Traceback (most recent call last)",
            "\u001b[0;32m<ipython-input-16-d2289633692f>\u001b[0m in \u001b[0;36m<cell line: 3>\u001b[0;34m()\u001b[0m\n\u001b[1;32m      1\u001b[0m \u001b[0;31m# Set is unindexed\u001b[0m\u001b[0;34m\u001b[0m\u001b[0;34m\u001b[0m\u001b[0m\n\u001b[1;32m      2\u001b[0m \u001b[0;34m\u001b[0m\u001b[0m\n\u001b[0;32m----> 3\u001b[0;31m \u001b[0mset_3\u001b[0m\u001b[0;34m[\u001b[0m\u001b[0;36m0\u001b[0m\u001b[0;34m]\u001b[0m\u001b[0;34m\u001b[0m\u001b[0;34m\u001b[0m\u001b[0m\n\u001b[0m",
            "\u001b[0;31mTypeError\u001b[0m: 'set' object is not subscriptable"
          ]
        }
      ]
    },
    {
      "cell_type": "code",
      "source": [
        "2 == 2.0"
      ],
      "metadata": {
        "colab": {
          "base_uri": "https://localhost:8080/"
        },
        "id": "Xqek_lZW7LUL",
        "outputId": "01e064b3-5ec5-4ad6-edb3-9edb575fbdcb"
      },
      "execution_count": 17,
      "outputs": [
        {
          "output_type": "execute_result",
          "data": {
            "text/plain": [
              "True"
            ]
          },
          "metadata": {},
          "execution_count": 17
        }
      ]
    },
    {
      "cell_type": "code",
      "source": [
        "set_4 = {1, 1.0, 2, 2.0, 3, 3.0}\n",
        "print(set_4)"
      ],
      "metadata": {
        "colab": {
          "base_uri": "https://localhost:8080/"
        },
        "id": "5yL2WgkD7VWd",
        "outputId": "5e004dea-6760-4e32-c93b-2f4a22e313ea"
      },
      "execution_count": 18,
      "outputs": [
        {
          "output_type": "stream",
          "name": "stdout",
          "text": [
            "{1, 2, 3}\n"
          ]
        }
      ]
    },
    {
      "cell_type": "code",
      "source": [
        "print(set_3)\n",
        "set_3.add(\"Virat\")\n",
        "print(set_3)"
      ],
      "metadata": {
        "colab": {
          "base_uri": "https://localhost:8080/"
        },
        "id": "GBZbuMNg7cqO",
        "outputId": "913f04f7-0a13-4975-9997-ae450a791aa8"
      },
      "execution_count": 19,
      "outputs": [
        {
          "output_type": "stream",
          "name": "stdout",
          "text": [
            "{1, 2, 2.5, 3, 1.5, 'RBR', 'Rajini', 'Virat'}\n",
            "{1, 2, 2.5, 3, 1.5, 'RBR', 'Rajini', 'Virat'}\n"
          ]
        }
      ]
    },
    {
      "cell_type": "code",
      "source": [
        "set_3.add(\"Rajini\")\n",
        "print(set_3)"
      ],
      "metadata": {
        "colab": {
          "base_uri": "https://localhost:8080/"
        },
        "id": "RmeAvDut7sa7",
        "outputId": "71801a6e-a84e-4e3f-c87d-2dd570034d62"
      },
      "execution_count": 20,
      "outputs": [
        {
          "output_type": "stream",
          "name": "stdout",
          "text": [
            "{1, 2, 2.5, 3, 1.5, 'RBR', 'Rajini', 'Virat'}\n"
          ]
        }
      ]
    },
    {
      "cell_type": "code",
      "source": [
        "set_3.add(\"Vijay\")\n",
        "print(set_3)"
      ],
      "metadata": {
        "colab": {
          "base_uri": "https://localhost:8080/"
        },
        "id": "i7sKn3Im71QQ",
        "outputId": "d6150407-f4b9-41f2-b090-cffd7f5b5c86"
      },
      "execution_count": 21,
      "outputs": [
        {
          "output_type": "stream",
          "name": "stdout",
          "text": [
            "{1, 2, 2.5, 3, 1.5, 'RBR', 'Vijay', 'Rajini', 'Virat'}\n"
          ]
        }
      ]
    },
    {
      "cell_type": "code",
      "source": [
        "True == 1"
      ],
      "metadata": {
        "colab": {
          "base_uri": "https://localhost:8080/"
        },
        "id": "79YaGQ6Q768I",
        "outputId": "96bc926d-4e54-404e-ba49-94f83bd8f988"
      },
      "execution_count": 22,
      "outputs": [
        {
          "output_type": "execute_result",
          "data": {
            "text/plain": [
              "True"
            ]
          },
          "metadata": {},
          "execution_count": 22
        }
      ]
    },
    {
      "cell_type": "code",
      "source": [
        "False == 0"
      ],
      "metadata": {
        "colab": {
          "base_uri": "https://localhost:8080/"
        },
        "id": "7vJvMdU_8-c-",
        "outputId": "7950c769-85a6-4666-d870-fd232ca2d70e"
      },
      "execution_count": 23,
      "outputs": [
        {
          "output_type": "execute_result",
          "data": {
            "text/plain": [
              "True"
            ]
          },
          "metadata": {},
          "execution_count": 23
        }
      ]
    },
    {
      "cell_type": "code",
      "source": [
        "set_5 = {\"Virat\", \"123\", 1, 12, 1.3, True, False, 0.5}\n",
        "print(set_5)"
      ],
      "metadata": {
        "colab": {
          "base_uri": "https://localhost:8080/"
        },
        "id": "VEcfu4Qh9B6P",
        "outputId": "3f177862-a2c4-4274-bd69-5e9b44504e5e"
      },
      "execution_count": 24,
      "outputs": [
        {
          "output_type": "stream",
          "name": "stdout",
          "text": [
            "{False, 1, 1.3, 0.5, 12, '123', 'Virat'}\n"
          ]
        }
      ]
    },
    {
      "cell_type": "code",
      "source": [
        "set_5 = {\"Virat\", \"123\", True, 12, 1.3, 1, False, 0.5}\n",
        "print(set_5)"
      ],
      "metadata": {
        "colab": {
          "base_uri": "https://localhost:8080/"
        },
        "id": "Juq23lSD9Mia",
        "outputId": "0855679e-44c2-47c7-9126-9458d8927176"
      },
      "execution_count": 25,
      "outputs": [
        {
          "output_type": "stream",
          "name": "stdout",
          "text": [
            "{False, True, 1.3, 0.5, 12, '123', 'Virat'}\n"
          ]
        }
      ]
    },
    {
      "cell_type": "code",
      "source": [
        "set_5[0] = \"Scahin\""
      ],
      "metadata": {
        "colab": {
          "base_uri": "https://localhost:8080/",
          "height": 141
        },
        "id": "c1uD9QyrAJw1",
        "outputId": "4ce6a930-0a83-4291-b75f-41aab70a8a7d"
      },
      "execution_count": 28,
      "outputs": [
        {
          "output_type": "error",
          "ename": "TypeError",
          "evalue": "'set' object does not support item assignment",
          "traceback": [
            "\u001b[0;31m---------------------------------------------------------------------------\u001b[0m",
            "\u001b[0;31mTypeError\u001b[0m                                 Traceback (most recent call last)",
            "\u001b[0;32m<ipython-input-28-1a1d52e29201>\u001b[0m in \u001b[0;36m<cell line: 1>\u001b[0;34m()\u001b[0m\n\u001b[0;32m----> 1\u001b[0;31m \u001b[0mset_5\u001b[0m\u001b[0;34m[\u001b[0m\u001b[0;36m0\u001b[0m\u001b[0;34m]\u001b[0m \u001b[0;34m=\u001b[0m \u001b[0;34m\"Scahin\"\u001b[0m\u001b[0;34m\u001b[0m\u001b[0;34m\u001b[0m\u001b[0m\n\u001b[0m",
            "\u001b[0;31mTypeError\u001b[0m: 'set' object does not support item assignment"
          ]
        }
      ]
    },
    {
      "cell_type": "code",
      "source": [
        "# Mutability of set\n",
        "\n",
        "set_a = {1, 2, 5, 9, 10.2, \"Kamal\", \"Gayle\"}\n",
        "print(id(set_a))"
      ],
      "metadata": {
        "colab": {
          "base_uri": "https://localhost:8080/"
        },
        "id": "qr_IVDay9Vl9",
        "outputId": "9b8ac454-7f87-459b-9fa3-caa40489744a"
      },
      "execution_count": 26,
      "outputs": [
        {
          "output_type": "stream",
          "name": "stdout",
          "text": [
            "135602014493760\n"
          ]
        }
      ]
    },
    {
      "cell_type": "code",
      "source": [
        "set_a.add(\"Sachin\")\n",
        "print(id(set_a))"
      ],
      "metadata": {
        "colab": {
          "base_uri": "https://localhost:8080/"
        },
        "id": "lI3PF_N8_MJU",
        "outputId": "6c34f346-134c-45b2-9328-66bae8ab02de"
      },
      "execution_count": 27,
      "outputs": [
        {
          "output_type": "stream",
          "name": "stdout",
          "text": [
            "135602014493760\n"
          ]
        }
      ]
    },
    {
      "cell_type": "code",
      "source": [
        "set_b = {\"1\", \"2\", 1.2}\n",
        "print(set_b)"
      ],
      "metadata": {
        "colab": {
          "base_uri": "https://localhost:8080/"
        },
        "id": "7RSAJ6bn_XOH",
        "outputId": "ee73d17d-4707-4128-8fa3-6a4133155a2e"
      },
      "execution_count": 29,
      "outputs": [
        {
          "output_type": "stream",
          "name": "stdout",
          "text": [
            "{'2', '1', 1.2}\n"
          ]
        }
      ]
    },
    {
      "cell_type": "code",
      "source": [
        "set_b.add([1, 2, 3]) # List cannot be added to a set"
      ],
      "metadata": {
        "colab": {
          "base_uri": "https://localhost:8080/",
          "height": 141
        },
        "id": "P518YY6RAaRP",
        "outputId": "da5aedf0-4a8e-4bd1-905d-ba3099590133"
      },
      "execution_count": 30,
      "outputs": [
        {
          "output_type": "error",
          "ename": "TypeError",
          "evalue": "unhashable type: 'list'",
          "traceback": [
            "\u001b[0;31m---------------------------------------------------------------------------\u001b[0m",
            "\u001b[0;31mTypeError\u001b[0m                                 Traceback (most recent call last)",
            "\u001b[0;32m<ipython-input-30-41cb78cfd98d>\u001b[0m in \u001b[0;36m<cell line: 1>\u001b[0;34m()\u001b[0m\n\u001b[0;32m----> 1\u001b[0;31m \u001b[0mset_b\u001b[0m\u001b[0;34m.\u001b[0m\u001b[0madd\u001b[0m\u001b[0;34m(\u001b[0m\u001b[0;34m[\u001b[0m\u001b[0;36m1\u001b[0m\u001b[0;34m,\u001b[0m \u001b[0;36m2\u001b[0m\u001b[0;34m,\u001b[0m \u001b[0;36m3\u001b[0m\u001b[0;34m]\u001b[0m\u001b[0;34m)\u001b[0m\u001b[0;34m\u001b[0m\u001b[0;34m\u001b[0m\u001b[0m\n\u001b[0m",
            "\u001b[0;31mTypeError\u001b[0m: unhashable type: 'list'"
          ]
        }
      ]
    },
    {
      "cell_type": "code",
      "source": [
        "set_b.add((1, 2, 3))  # tuple can be added to a set\n",
        "print(set_b)"
      ],
      "metadata": {
        "colab": {
          "base_uri": "https://localhost:8080/"
        },
        "id": "Yk7dXX-4AexO",
        "outputId": "51f11dd0-e3dc-4a39-9a01-c1a8d3264e15"
      },
      "execution_count": 32,
      "outputs": [
        {
          "output_type": "stream",
          "name": "stdout",
          "text": [
            "{'2', '1', 1.2, (1, 2, 3)}\n"
          ]
        }
      ]
    },
    {
      "cell_type": "code",
      "source": [
        "# Tuples are immutable\n",
        "\n",
        "tuple1 = (1, 2, 4)\n",
        "print(id(tuple1))\n",
        "tuple1.add(5)\n",
        "print(id(tuple1))"
      ],
      "metadata": {
        "colab": {
          "base_uri": "https://localhost:8080/",
          "height": 211
        },
        "id": "kOnft-sFAj2o",
        "outputId": "db774701-8f81-4166-9e2a-78636779c7aa"
      },
      "execution_count": 33,
      "outputs": [
        {
          "output_type": "stream",
          "name": "stdout",
          "text": [
            "135602014389824\n"
          ]
        },
        {
          "output_type": "error",
          "ename": "AttributeError",
          "evalue": "'tuple' object has no attribute 'add'",
          "traceback": [
            "\u001b[0;31m---------------------------------------------------------------------------\u001b[0m",
            "\u001b[0;31mAttributeError\u001b[0m                            Traceback (most recent call last)",
            "\u001b[0;32m<ipython-input-33-c54f1f364f1d>\u001b[0m in \u001b[0;36m<cell line: 3>\u001b[0;34m()\u001b[0m\n\u001b[1;32m      1\u001b[0m \u001b[0mtuple1\u001b[0m \u001b[0;34m=\u001b[0m \u001b[0;34m(\u001b[0m\u001b[0;36m1\u001b[0m\u001b[0;34m,\u001b[0m \u001b[0;36m2\u001b[0m\u001b[0;34m,\u001b[0m \u001b[0;36m4\u001b[0m\u001b[0;34m)\u001b[0m\u001b[0;34m\u001b[0m\u001b[0;34m\u001b[0m\u001b[0m\n\u001b[1;32m      2\u001b[0m \u001b[0mprint\u001b[0m\u001b[0;34m(\u001b[0m\u001b[0mid\u001b[0m\u001b[0;34m(\u001b[0m\u001b[0mtuple1\u001b[0m\u001b[0;34m)\u001b[0m\u001b[0;34m)\u001b[0m\u001b[0;34m\u001b[0m\u001b[0;34m\u001b[0m\u001b[0m\n\u001b[0;32m----> 3\u001b[0;31m \u001b[0mtuple1\u001b[0m\u001b[0;34m.\u001b[0m\u001b[0madd\u001b[0m\u001b[0;34m(\u001b[0m\u001b[0;36m5\u001b[0m\u001b[0;34m)\u001b[0m\u001b[0;34m\u001b[0m\u001b[0;34m\u001b[0m\u001b[0m\n\u001b[0m\u001b[1;32m      4\u001b[0m \u001b[0mprint\u001b[0m\u001b[0;34m(\u001b[0m\u001b[0mid\u001b[0m\u001b[0;34m(\u001b[0m\u001b[0mtuple1\u001b[0m\u001b[0;34m)\u001b[0m\u001b[0;34m)\u001b[0m\u001b[0;34m\u001b[0m\u001b[0;34m\u001b[0m\u001b[0m\n",
            "\u001b[0;31mAttributeError\u001b[0m: 'tuple' object has no attribute 'add'"
          ]
        }
      ]
    },
    {
      "cell_type": "markdown",
      "source": [
        "## **Frozen Set**\n",
        "- **Unordered**\n",
        "- **Duplicates not allowed**\n",
        "- **Immutable**"
      ],
      "metadata": {
        "id": "R5cC-ZF7Eb_L"
      }
    },
    {
      "cell_type": "code",
      "source": [
        "frozen_set_1 = frozenset((1, 2, 1.0, \"KKR\", \"CSK\", \"MI\"))\n",
        "print(frozen_set_1)\n",
        "print(type(frozen_set_1))"
      ],
      "metadata": {
        "colab": {
          "base_uri": "https://localhost:8080/"
        },
        "id": "FnkctDpcCnMu",
        "outputId": "6e4fcce5-9803-459f-b51a-44a40a1055c5"
      },
      "execution_count": 34,
      "outputs": [
        {
          "output_type": "stream",
          "name": "stdout",
          "text": [
            "frozenset({1, 2, 'KKR', 'MI', 'CSK'})\n",
            "<class 'frozenset'>\n"
          ]
        }
      ]
    },
    {
      "cell_type": "markdown",
      "source": [
        "## **Dictonary**\n",
        "- **Dictonaries are used to store data value in key value pairs**\n",
        "- **A dictonary is a collection which is ordered, changeble and do not allow duplicates**"
      ],
      "metadata": {
        "id": "HOWEvq4qFfDR"
      }
    },
    {
      "cell_type": "code",
      "source": [
        "scores = {\"A\": 65, \"B\": 45, \"C\": 43, \"D\": 23}\n",
        "print(scores)\n",
        "print(type(scores))\n",
        "print(id(scores))"
      ],
      "metadata": {
        "colab": {
          "base_uri": "https://localhost:8080/"
        },
        "id": "Nsk2By3-E6Xi",
        "outputId": "0a4260f1-b5c6-4ae6-d6d5-f663d21741e5"
      },
      "execution_count": 36,
      "outputs": [
        {
          "output_type": "stream",
          "name": "stdout",
          "text": [
            "{'A': 65, 'B': 45, 'C': 43, 'D': 23}\n",
            "<class 'dict'>\n",
            "135601647466752\n"
          ]
        }
      ]
    },
    {
      "cell_type": "code",
      "source": [
        "scores.update({\"E\": 55})\n",
        "print(scores)\n",
        "print(id(scores))"
      ],
      "metadata": {
        "colab": {
          "base_uri": "https://localhost:8080/"
        },
        "id": "GVBCx5q6GY6q",
        "outputId": "d9793259-5aea-4ab9-a7b6-4489f71c05f2"
      },
      "execution_count": 39,
      "outputs": [
        {
          "output_type": "stream",
          "name": "stdout",
          "text": [
            "{'A': 65, 'B': 45, 'C': 43, 'D': 23, 'E': 55}\n",
            "135601647466752\n"
          ]
        }
      ]
    },
    {
      "cell_type": "code",
      "source": [
        "scores[\"A\"]"
      ],
      "metadata": {
        "colab": {
          "base_uri": "https://localhost:8080/"
        },
        "id": "gF_8sEX1HO8m",
        "outputId": "9a5d1647-bab0-4e0f-f9c8-fb9218cecfe1"
      },
      "execution_count": 40,
      "outputs": [
        {
          "output_type": "execute_result",
          "data": {
            "text/plain": [
              "65"
            ]
          },
          "metadata": {},
          "execution_count": 40
        }
      ]
    },
    {
      "cell_type": "code",
      "source": [
        "print(scores)\n",
        "scores.update({\"E\": 12})\n",
        "print(scores)"
      ],
      "metadata": {
        "colab": {
          "base_uri": "https://localhost:8080/"
        },
        "id": "oI_JyZAGIHiv",
        "outputId": "1fd5808b-9c97-442d-d13b-600198d9eb85"
      },
      "execution_count": 41,
      "outputs": [
        {
          "output_type": "stream",
          "name": "stdout",
          "text": [
            "{'A': 65, 'B': 45, 'C': 43, 'D': 23, 'E': 55}\n",
            "{'A': 65, 'B': 45, 'C': 43, 'D': 23, 'E': 12}\n"
          ]
        }
      ]
    },
    {
      "cell_type": "code",
      "source": [
        "dict_a = {\"Virat\": [55, 65, 50, 70], \"Rohit\": [70, 65, 78, 80]}\n",
        "print(dict_a)"
      ],
      "metadata": {
        "colab": {
          "base_uri": "https://localhost:8080/"
        },
        "id": "v8SXDCmOIUZ2",
        "outputId": "0b9cbbff-3296-4e7f-d50a-704269f03c6d"
      },
      "execution_count": 42,
      "outputs": [
        {
          "output_type": "stream",
          "name": "stdout",
          "text": [
            "{'Virat': [55, 65, 50, 70], 'Rohit': [70, 65, 78, 80]}\n"
          ]
        }
      ]
    },
    {
      "cell_type": "code",
      "source": [
        "dict_b = {\"Virat\": (55, 65, 50, 70), \"Rohit\": (70, 65, 78, 80)}\n",
        "print(dict_b)"
      ],
      "metadata": {
        "colab": {
          "base_uri": "https://localhost:8080/"
        },
        "id": "pxVGg2XSJmh3",
        "outputId": "63d901e7-e631-4770-c61c-751caa7f33c4"
      },
      "execution_count": 44,
      "outputs": [
        {
          "output_type": "stream",
          "name": "stdout",
          "text": [
            "{'Virat': (55, 65, 50, 70), 'Rohit': (70, 65, 78, 80)}\n"
          ]
        }
      ]
    },
    {
      "cell_type": "code",
      "source": [
        "# Only immutable data types are allowed to be a key\n",
        "\n",
        "dict_c = {(1, 3): \"str\", 2 : 4}\n",
        "print(dict_c)"
      ],
      "metadata": {
        "colab": {
          "base_uri": "https://localhost:8080/"
        },
        "id": "nU4yfjj7Jyf6",
        "outputId": "d1e096b1-d410-4393-d3d2-89b3d27a64a3"
      },
      "execution_count": 45,
      "outputs": [
        {
          "output_type": "stream",
          "name": "stdout",
          "text": [
            "{(1, 3): 'str', 2: 4}\n"
          ]
        }
      ]
    },
    {
      "cell_type": "code",
      "source": [
        "dict_d = {frozenset((1, 3)): \"str\", 2 : 4}\n",
        "print(dict_d)"
      ],
      "metadata": {
        "colab": {
          "base_uri": "https://localhost:8080/"
        },
        "id": "rwIuS-KWKtTi",
        "outputId": "2527a1c4-d3ab-4ff6-9402-76d4f4189d9b"
      },
      "execution_count": 46,
      "outputs": [
        {
          "output_type": "stream",
          "name": "stdout",
          "text": [
            "{frozenset({1, 3}): 'str', 2: 4}\n"
          ]
        }
      ]
    },
    {
      "cell_type": "markdown",
      "source": [
        "## **Boolean**\n",
        "- **Allowed either \"True\" or \"False\"**"
      ],
      "metadata": {
        "id": "8KbInO4MLgZ3"
      }
    },
    {
      "cell_type": "code",
      "source": [
        "print(bool(False))\n",
        "print(bool(0))\n",
        "print(bool(0.0))\n",
        "print(bool(None))"
      ],
      "metadata": {
        "colab": {
          "base_uri": "https://localhost:8080/"
        },
        "id": "SU93A8SkLayW",
        "outputId": "7bcb9573-1189-4d73-a517-bcd468464566"
      },
      "execution_count": 48,
      "outputs": [
        {
          "output_type": "stream",
          "name": "stdout",
          "text": [
            "False\n",
            "False\n",
            "False\n",
            "False\n"
          ]
        }
      ]
    },
    {
      "cell_type": "code",
      "source": [
        "print(bool(True))\n",
        "print(bool(1))\n",
        "print(bool(1.0))\n",
        "print(bool(\"String\"))\n",
        "print(bool([1, 2]))\n",
        "print(bool((1, 2)))"
      ],
      "metadata": {
        "colab": {
          "base_uri": "https://localhost:8080/"
        },
        "id": "mqPph5HPL1yj",
        "outputId": "982af2c6-a871-495d-f09d-823108d650fc"
      },
      "execution_count": 49,
      "outputs": [
        {
          "output_type": "stream",
          "name": "stdout",
          "text": [
            "True\n",
            "True\n",
            "True\n",
            "True\n",
            "True\n",
            "True\n"
          ]
        }
      ]
    },
    {
      "cell_type": "code",
      "source": [],
      "metadata": {
        "id": "KVyQHI7sMIfu"
      },
      "execution_count": null,
      "outputs": []
    },
    {
      "cell_type": "code",
      "source": [
        "bool('0')"
      ],
      "metadata": {
        "colab": {
          "base_uri": "https://localhost:8080/"
        },
        "id": "D4rNSv6wMLDl",
        "outputId": "c4ef1f40-42b8-4aa3-ab24-ee4c86976910"
      },
      "execution_count": 50,
      "outputs": [
        {
          "output_type": "execute_result",
          "data": {
            "text/plain": [
              "True"
            ]
          },
          "metadata": {},
          "execution_count": 50
        }
      ]
    },
    {
      "cell_type": "code",
      "source": [
        "print(bool([]))\n",
        "print(bool(()))\n",
        "print(bool({}))\n",
        "print(bool(\"\"))"
      ],
      "metadata": {
        "colab": {
          "base_uri": "https://localhost:8080/"
        },
        "id": "TmxsX7SxMM3i",
        "outputId": "47c1c340-ab3b-41d8-9945-66d810178675"
      },
      "execution_count": 51,
      "outputs": [
        {
          "output_type": "stream",
          "name": "stdout",
          "text": [
            "False\n",
            "False\n",
            "False\n",
            "False\n"
          ]
        }
      ]
    },
    {
      "cell_type": "code",
      "source": [
        "print(bool(\" \"))"
      ],
      "metadata": {
        "colab": {
          "base_uri": "https://localhost:8080/"
        },
        "id": "b4nithHEMXvr",
        "outputId": "9d366c06-21f5-4547-f5b2-d83e74d4db8c"
      },
      "execution_count": 52,
      "outputs": [
        {
          "output_type": "stream",
          "name": "stdout",
          "text": [
            "True\n"
          ]
        }
      ]
    },
    {
      "cell_type": "markdown",
      "source": [
        "## **None**\n"
      ],
      "metadata": {
        "id": "Jk9mJd1nNGuK"
      }
    },
    {
      "cell_type": "code",
      "source": [
        "a = None\n",
        "print(type(a))"
      ],
      "metadata": {
        "colab": {
          "base_uri": "https://localhost:8080/"
        },
        "id": "Ji20wbleMZ-W",
        "outputId": "eec6b16a-e525-454e-a060-afe53a7d1847"
      },
      "execution_count": 54,
      "outputs": [
        {
          "output_type": "stream",
          "name": "stdout",
          "text": [
            "<class 'NoneType'>\n"
          ]
        }
      ]
    },
    {
      "cell_type": "code",
      "source": [
        "name = input(\"Enter your name: \")\n",
        "print(name)\n",
        "print(type(name))"
      ],
      "metadata": {
        "colab": {
          "base_uri": "https://localhost:8080/"
        },
        "id": "sF6ZID-MNNgd",
        "outputId": "0ad480d9-0914-4202-bcb8-e7d4d4c3a2be"
      },
      "execution_count": 56,
      "outputs": [
        {
          "output_type": "stream",
          "name": "stdout",
          "text": [
            "Enter your name: Shanmukh\n",
            "Shanmukh\n",
            "<class 'str'>\n"
          ]
        }
      ]
    },
    {
      "cell_type": "code",
      "source": [
        "marks = input(\"Enter Your Marks: \")\n",
        "print(marks)\n",
        "print(type(marks))"
      ],
      "metadata": {
        "colab": {
          "base_uri": "https://localhost:8080/"
        },
        "id": "SILlIY3zOSKn",
        "outputId": "649bfad8-fa77-4df7-bcec-cec64a175b01"
      },
      "execution_count": 57,
      "outputs": [
        {
          "output_type": "stream",
          "name": "stdout",
          "text": [
            "Enter Your Marks: 23\n",
            "23\n",
            "<class 'str'>\n"
          ]
        }
      ]
    },
    {
      "cell_type": "code",
      "source": [
        "marks = int(input(\"Enter Your Marks: \"))\n",
        "print(marks)\n",
        "print(type(marks))"
      ],
      "metadata": {
        "colab": {
          "base_uri": "https://localhost:8080/"
        },
        "id": "dav3DBdwOs4_",
        "outputId": "75e090af-953c-4a51-cac7-8906107c9157"
      },
      "execution_count": 58,
      "outputs": [
        {
          "output_type": "stream",
          "name": "stdout",
          "text": [
            "Enter Your Marks: 23\n",
            "23\n",
            "<class 'int'>\n"
          ]
        }
      ]
    },
    {
      "cell_type": "code",
      "source": [],
      "metadata": {
        "id": "gOmSP7m0O0CI"
      },
      "execution_count": null,
      "outputs": []
    }
  ]
}