{
  "nbformat": 4,
  "nbformat_minor": 0,
  "metadata": {
    "colab": {
      "provenance": [],
      "authorship_tag": "ABX9TyNOKBAOLNdrWD8OvObTb2P6",
      "include_colab_link": true
    },
    "kernelspec": {
      "name": "python3",
      "display_name": "Python 3"
    },
    "language_info": {
      "name": "python"
    }
  },
  "cells": [
    {
      "cell_type": "markdown",
      "metadata": {
        "id": "view-in-github",
        "colab_type": "text"
      },
      "source": [
        "<a href=\"https://colab.research.google.com/github/saiganesh00/Python-Practice/blob/main/Python_Class_02.ipynb\" target=\"_parent\"><img src=\"https://colab.research.google.com/assets/colab-badge.svg\" alt=\"Open In Colab\"/></a>"
      ]
    },
    {
      "cell_type": "markdown",
      "source": [
        "# **DAY - 02**"
      ],
      "metadata": {
        "id": "8v43qgP84muO"
      }
    },
    {
      "cell_type": "markdown",
      "source": [
        "## **Data Types**"
      ],
      "metadata": {
        "id": "g3XBLGHY41eo"
      }
    },
    {
      "cell_type": "code",
      "execution_count": null,
      "metadata": {
        "colab": {
          "base_uri": "https://localhost:8080/"
        },
        "id": "_eEmu5wf3hz9",
        "outputId": "e5a75bb7-7940-4a36-8447-086f273f7ff7"
      },
      "outputs": [
        {
          "output_type": "stream",
          "name": "stdout",
          "text": [
            "abc\n",
            "Hello\n"
          ]
        }
      ],
      "source": [
        "print(\"abc\")\n",
        "print(\"Hello\")"
      ]
    },
    {
      "cell_type": "code",
      "source": [
        "print(\"abc\")  print(\"Hello\")"
      ],
      "metadata": {
        "colab": {
          "base_uri": "https://localhost:8080/",
          "height": 106
        },
        "id": "a5K4FRj07Ef0",
        "outputId": "b388c9a0-5ba1-4670-80ba-85b21abf82b7"
      },
      "execution_count": null,
      "outputs": [
        {
          "output_type": "error",
          "ename": "SyntaxError",
          "evalue": "invalid syntax (<ipython-input-2-a083aec26778>, line 1)",
          "traceback": [
            "\u001b[0;36m  File \u001b[0;32m\"<ipython-input-2-a083aec26778>\"\u001b[0;36m, line \u001b[0;32m1\u001b[0m\n\u001b[0;31m    print(\"abc\")  print(\"Hello\")\u001b[0m\n\u001b[0m                  ^\u001b[0m\n\u001b[0;31mSyntaxError\u001b[0m\u001b[0;31m:\u001b[0m invalid syntax\n"
          ]
        }
      ]
    },
    {
      "cell_type": "code",
      "source": [
        "# \"Semicolon(;) --> acts as a separator for statements\"\n",
        "\n",
        "print(\"abc\"); print(\"Hello\")"
      ],
      "metadata": {
        "colab": {
          "base_uri": "https://localhost:8080/"
        },
        "id": "c42xGkto7UL2",
        "outputId": "1764952d-7e7f-4ded-f6ad-40b51fde7230"
      },
      "execution_count": null,
      "outputs": [
        {
          "output_type": "stream",
          "name": "stdout",
          "text": [
            "abc\n",
            "Hello\n"
          ]
        }
      ]
    },
    {
      "cell_type": "code",
      "source": [
        "welcome_message = \"Welcome to Python Class\"\n",
        "print(welcome_message)"
      ],
      "metadata": {
        "colab": {
          "base_uri": "https://localhost:8080/"
        },
        "id": "-WgXuXJ_7X9U",
        "outputId": "10b84110-7c7d-4957-8a96-21315be9e21c"
      },
      "execution_count": null,
      "outputs": [
        {
          "output_type": "stream",
          "name": "stdout",
          "text": [
            "Welcome to Python Class\n"
          ]
        }
      ]
    },
    {
      "cell_type": "code",
      "source": [
        "_ = 100\n",
        "print(_)"
      ],
      "metadata": {
        "id": "hzC7B2gQ8Vwx",
        "colab": {
          "base_uri": "https://localhost:8080/"
        },
        "outputId": "7af60eac-a4d1-4565-ac0f-36a5e48e5df6"
      },
      "execution_count": 5,
      "outputs": [
        {
          "output_type": "stream",
          "name": "stdout",
          "text": [
            "100\n"
          ]
        }
      ]
    },
    {
      "cell_type": "markdown",
      "source": [
        "## **Keywords in Python**"
      ],
      "metadata": {
        "id": "lBNgAOtQ9cTr"
      }
    },
    {
      "cell_type": "code",
      "source": [
        "# List of Python keywords\n",
        "\n",
        "import keyword\n",
        "keyword.kwlist"
      ],
      "metadata": {
        "colab": {
          "base_uri": "https://localhost:8080/"
        },
        "id": "vgwgq0il8_uM",
        "outputId": "4512753a-487f-498a-cd87-2e75689f71f2"
      },
      "execution_count": 7,
      "outputs": [
        {
          "output_type": "execute_result",
          "data": {
            "text/plain": [
              "['False',\n",
              " 'None',\n",
              " 'True',\n",
              " 'and',\n",
              " 'as',\n",
              " 'assert',\n",
              " 'async',\n",
              " 'await',\n",
              " 'break',\n",
              " 'class',\n",
              " 'continue',\n",
              " 'def',\n",
              " 'del',\n",
              " 'elif',\n",
              " 'else',\n",
              " 'except',\n",
              " 'finally',\n",
              " 'for',\n",
              " 'from',\n",
              " 'global',\n",
              " 'if',\n",
              " 'import',\n",
              " 'in',\n",
              " 'is',\n",
              " 'lambda',\n",
              " 'nonlocal',\n",
              " 'not',\n",
              " 'or',\n",
              " 'pass',\n",
              " 'raise',\n",
              " 'return',\n",
              " 'try',\n",
              " 'while',\n",
              " 'with',\n",
              " 'yield']"
            ]
          },
          "metadata": {},
          "execution_count": 7
        }
      ]
    },
    {
      "cell_type": "code",
      "source": [
        "print(len(keyword.kwlist)) # 35 keywords in Python"
      ],
      "metadata": {
        "colab": {
          "base_uri": "https://localhost:8080/"
        },
        "id": "XPtkdpVn9UEd",
        "outputId": "29d5be9d-e1da-4756-baeb-97cdf6c05796"
      },
      "execution_count": 9,
      "outputs": [
        {
          "output_type": "stream",
          "name": "stdout",
          "text": [
            "35\n"
          ]
        }
      ]
    },
    {
      "cell_type": "markdown",
      "source": [
        "## **Inbuilt Functions**"
      ],
      "metadata": {
        "id": "dL_HrS-H9xpo"
      }
    },
    {
      "cell_type": "code",
      "source": [
        "name = \"Shanmukh\""
      ],
      "metadata": {
        "id": "CBD_3CdF9ohi"
      },
      "execution_count": 10,
      "outputs": []
    },
    {
      "cell_type": "code",
      "source": [
        "print(name)"
      ],
      "metadata": {
        "colab": {
          "base_uri": "https://localhost:8080/"
        },
        "id": "qrWDnj5K-BSm",
        "outputId": "7a0e651e-1308-43e7-bc5c-8dce6ddb131b"
      },
      "execution_count": 11,
      "outputs": [
        {
          "output_type": "stream",
          "name": "stdout",
          "text": [
            "Shanmukh\n"
          ]
        }
      ]
    },
    {
      "cell_type": "code",
      "source": [
        "print(len(name))"
      ],
      "metadata": {
        "colab": {
          "base_uri": "https://localhost:8080/"
        },
        "id": "GqOCi14G-CzL",
        "outputId": "a343985c-c34c-4e30-8ef9-72c669ec8149"
      },
      "execution_count": 12,
      "outputs": [
        {
          "output_type": "stream",
          "name": "stdout",
          "text": [
            "8\n"
          ]
        }
      ]
    },
    {
      "cell_type": "code",
      "source": [
        "len(name)"
      ],
      "metadata": {
        "colab": {
          "base_uri": "https://localhost:8080/"
        },
        "id": "vLvwu9R_-GVw",
        "outputId": "d1197b83-cda1-49e8-9e42-ee5c827363ab"
      },
      "execution_count": 13,
      "outputs": [
        {
          "output_type": "execute_result",
          "data": {
            "text/plain": [
              "8"
            ]
          },
          "metadata": {},
          "execution_count": 13
        }
      ]
    },
    {
      "cell_type": "markdown",
      "source": [
        "### **Comments**"
      ],
      "metadata": {
        "id": "_h5iEDO3BttY"
      }
    },
    {
      "cell_type": "code",
      "source": [
        "# --> Single Line Comments"
      ],
      "metadata": {
        "id": "5V_J7HrrBzSa"
      },
      "execution_count": 14,
      "outputs": []
    },
    {
      "cell_type": "code",
      "source": [
        "\"\"\"\n",
        "This is a multi-line commnets\n",
        "we have to use tiple quoutes for multi line comments\n",
        "\"\"\"\n",
        "print(\"comments\")"
      ],
      "metadata": {
        "colab": {
          "base_uri": "https://localhost:8080/"
        },
        "id": "cT2vNOJ9B3Ag",
        "outputId": "de9d3040-e570-4ae8-e52e-62c9a6b2c717"
      },
      "execution_count": 18,
      "outputs": [
        {
          "output_type": "stream",
          "name": "stdout",
          "text": [
            "comments\n"
          ]
        }
      ]
    },
    {
      "cell_type": "markdown",
      "source": [
        "### **Strings**\n",
        "\n",
        "- **A String a sequence of characters, enclosed between either \"\" or ''**"
      ],
      "metadata": {
        "id": "tCq1E8EDBTLz"
      }
    },
    {
      "cell_type": "code",
      "source": [
        "string1 = \"Hey!, This is a string\"\n",
        "print(string1)\n",
        "print(type(string1))\n",
        "string2 = \"Hey!, This is a string\"\n",
        "print(string1)\n",
        "print(type(string2))"
      ],
      "metadata": {
        "colab": {
          "base_uri": "https://localhost:8080/"
        },
        "id": "lUiipDC0_CB8",
        "outputId": "bfe20bce-9192-406a-f9f2-50935752316b"
      },
      "execution_count": 20,
      "outputs": [
        {
          "output_type": "stream",
          "name": "stdout",
          "text": [
            "Hey!, This is a string\n",
            "<class 'str'>\n",
            "Hey!, This is a string\n",
            "<class 'str'>\n"
          ]
        }
      ]
    },
    {
      "cell_type": "code",
      "source": [
        "string3 = str(\"Hey!, This is a string\")\n",
        "print(string3)\n",
        "print(type(string3))"
      ],
      "metadata": {
        "colab": {
          "base_uri": "https://localhost:8080/"
        },
        "id": "xKQtUqISCygZ",
        "outputId": "c99ec1c8-ce1c-42f4-bf8b-9798a9362b3d"
      },
      "execution_count": 21,
      "outputs": [
        {
          "output_type": "stream",
          "name": "stdout",
          "text": [
            "Hey!, This is a string\n",
            "<class 'str'>\n"
          ]
        }
      ]
    },
    {
      "cell_type": "code",
      "source": [
        "# Strings will return the same id, only when the integers or strings are small\n",
        "\n",
        "print(id(string1))\n",
        "print(id(string2))\n",
        "print(id(string3))"
      ],
      "metadata": {
        "colab": {
          "base_uri": "https://localhost:8080/"
        },
        "id": "mnbpYMzbDQv9",
        "outputId": "e59172e8-805e-454d-9cc5-6417e78ed743"
      },
      "execution_count": 22,
      "outputs": [
        {
          "output_type": "stream",
          "name": "stdout",
          "text": [
            "133191863351728\n",
            "133191863345728\n",
            "133191864498048\n"
          ]
        }
      ]
    },
    {
      "cell_type": "code",
      "source": [
        "# value <= 256, same id\n",
        "\n",
        "a = 256\n",
        "b = 256\n",
        "print(id(a))\n",
        "print(id(b))"
      ],
      "metadata": {
        "colab": {
          "base_uri": "https://localhost:8080/"
        },
        "id": "pVMFeNnsDWpn",
        "outputId": "225eb327-b31b-4bc2-a95b-fa283995eb42"
      },
      "execution_count": 23,
      "outputs": [
        {
          "output_type": "stream",
          "name": "stdout",
          "text": [
            "133192772460752\n",
            "133192772460752\n"
          ]
        }
      ]
    },
    {
      "cell_type": "code",
      "source": [
        "# value > 256, different id\n",
        "\n",
        "c = 257\n",
        "d = 257\n",
        "print(id(c))\n",
        "print(id(d))"
      ],
      "metadata": {
        "colab": {
          "base_uri": "https://localhost:8080/"
        },
        "id": "sLvFaCIoEeRa",
        "outputId": "5050b7e2-6ae1-4ab3-babc-662365afced0"
      },
      "execution_count": 24,
      "outputs": [
        {
          "output_type": "stream",
          "name": "stdout",
          "text": [
            "133191490272752\n",
            "133191490272176\n"
          ]
        }
      ]
    },
    {
      "cell_type": "code",
      "source": [
        "message = \"I want to go on a 'holiday' to vishakapatnam\"\n",
        "print(message)\n",
        "msg = 'I want to go on a \"holiday\" to vishakapatnam'\n",
        "print(msg)"
      ],
      "metadata": {
        "colab": {
          "base_uri": "https://localhost:8080/"
        },
        "id": "Isc8SGE7E4nM",
        "outputId": "ef8e9855-38fd-4f76-a838-2f4e48267bb7"
      },
      "execution_count": 25,
      "outputs": [
        {
          "output_type": "stream",
          "name": "stdout",
          "text": [
            "I want to go on a 'holiday' to vishakapatnam\n",
            "I want to go on a \"holiday\" to vishakapatnam\n"
          ]
        }
      ]
    },
    {
      "cell_type": "code",
      "source": [
        "message = \"I want to go on a \"holiday\" to vishakapatnam\"\n",
        "print(message)\n",
        "msg = 'I want to go on a 'holiday' to vishakapatnam'\n",
        "print(msg)"
      ],
      "metadata": {
        "colab": {
          "base_uri": "https://localhost:8080/",
          "height": 106
        },
        "id": "Ii0J6bZtFwAp",
        "outputId": "8edc34e6-0c4f-4976-cf8d-b06f138b048b"
      },
      "execution_count": 26,
      "outputs": [
        {
          "output_type": "error",
          "ename": "SyntaxError",
          "evalue": "invalid syntax (<ipython-input-26-6001f6c4eff4>, line 1)",
          "traceback": [
            "\u001b[0;36m  File \u001b[0;32m\"<ipython-input-26-6001f6c4eff4>\"\u001b[0;36m, line \u001b[0;32m1\u001b[0m\n\u001b[0;31m    message = \"I want to go on a \"holiday\" to vishakapatnam\"\u001b[0m\n\u001b[0m                                  ^\u001b[0m\n\u001b[0;31mSyntaxError\u001b[0m\u001b[0;31m:\u001b[0m invalid syntax\n"
          ]
        }
      ]
    },
    {
      "cell_type": "code",
      "source": [
        "str_1 = \"abc\"\n",
        "str_2 = \"abc\"\n",
        "str_3 = \"abc \""
      ],
      "metadata": {
        "id": "6IIjNnCSF2xK"
      },
      "execution_count": 32,
      "outputs": []
    },
    {
      "cell_type": "code",
      "source": [
        "str_1 == str_2"
      ],
      "metadata": {
        "colab": {
          "base_uri": "https://localhost:8080/"
        },
        "id": "4Prypo3HGDQ-",
        "outputId": "03ce0a3d-6c3e-4e16-e5f9-90d4b64125d5"
      },
      "execution_count": 33,
      "outputs": [
        {
          "output_type": "execute_result",
          "data": {
            "text/plain": [
              "True"
            ]
          },
          "metadata": {},
          "execution_count": 33
        }
      ]
    },
    {
      "cell_type": "code",
      "source": [
        "str_1 == str_3"
      ],
      "metadata": {
        "colab": {
          "base_uri": "https://localhost:8080/"
        },
        "id": "iUe--V-tGGLr",
        "outputId": "bcaf4859-fec6-4c18-8696-d17a052139b7"
      },
      "execution_count": 34,
      "outputs": [
        {
          "output_type": "execute_result",
          "data": {
            "text/plain": [
              "False"
            ]
          },
          "metadata": {},
          "execution_count": 34
        }
      ]
    },
    {
      "cell_type": "code",
      "source": [
        "str_1 != str_3"
      ],
      "metadata": {
        "colab": {
          "base_uri": "https://localhost:8080/"
        },
        "id": "XSDxACYNGMtE",
        "outputId": "5123d969-a075-45cd-dab9-8a7f360c258b"
      },
      "execution_count": 35,
      "outputs": [
        {
          "output_type": "execute_result",
          "data": {
            "text/plain": [
              "True"
            ]
          },
          "metadata": {},
          "execution_count": 35
        }
      ]
    },
    {
      "cell_type": "code",
      "source": [
        "name_1 = \"Shanmukh\"\n",
        "name_2 = \"Shanmukh \"\n",
        "name_3 = \" Shanmukh\"\n",
        "name_4 = \" Shanmukh \""
      ],
      "metadata": {
        "id": "7LzeqKarGPFZ"
      },
      "execution_count": 36,
      "outputs": []
    },
    {
      "cell_type": "code",
      "source": [
        "name_1"
      ],
      "metadata": {
        "colab": {
          "base_uri": "https://localhost:8080/",
          "height": 35
        },
        "id": "JJJxQe1HHTLN",
        "outputId": "18253d3e-b10d-455e-a008-e95fd97f0523"
      },
      "execution_count": 44,
      "outputs": [
        {
          "output_type": "execute_result",
          "data": {
            "text/plain": [
              "'Shanmukh'"
            ],
            "application/vnd.google.colaboratory.intrinsic+json": {
              "type": "string"
            }
          },
          "metadata": {},
          "execution_count": 44
        }
      ]
    },
    {
      "cell_type": "code",
      "source": [
        "name_2"
      ],
      "metadata": {
        "colab": {
          "base_uri": "https://localhost:8080/",
          "height": 35
        },
        "id": "el9zTayqHbAn",
        "outputId": "c1da9950-113f-4de2-d977-85cbaf60bc6a"
      },
      "execution_count": 45,
      "outputs": [
        {
          "output_type": "execute_result",
          "data": {
            "text/plain": [
              "'Shanmukh '"
            ],
            "application/vnd.google.colaboratory.intrinsic+json": {
              "type": "string"
            }
          },
          "metadata": {},
          "execution_count": 45
        }
      ]
    },
    {
      "cell_type": "code",
      "source": [
        "name_3"
      ],
      "metadata": {
        "colab": {
          "base_uri": "https://localhost:8080/",
          "height": 35
        },
        "id": "1IDebkk1HiPS",
        "outputId": "1e4e7536-56a6-44be-c9e0-f880c273fd57"
      },
      "execution_count": 46,
      "outputs": [
        {
          "output_type": "execute_result",
          "data": {
            "text/plain": [
              "' Shanmukh'"
            ],
            "application/vnd.google.colaboratory.intrinsic+json": {
              "type": "string"
            }
          },
          "metadata": {},
          "execution_count": 46
        }
      ]
    },
    {
      "cell_type": "code",
      "source": [
        "name_4"
      ],
      "metadata": {
        "colab": {
          "base_uri": "https://localhost:8080/",
          "height": 35
        },
        "id": "xoCgC7xxHjjH",
        "outputId": "16be446d-4c64-4f18-adc2-8f4ec65210e5"
      },
      "execution_count": 47,
      "outputs": [
        {
          "output_type": "execute_result",
          "data": {
            "text/plain": [
              "' Shanmukh '"
            ],
            "application/vnd.google.colaboratory.intrinsic+json": {
              "type": "string"
            }
          },
          "metadata": {},
          "execution_count": 47
        }
      ]
    },
    {
      "cell_type": "code",
      "source": [
        "name_2.rstrip()"
      ],
      "metadata": {
        "colab": {
          "base_uri": "https://localhost:8080/",
          "height": 35
        },
        "id": "ykEO4AJ5HkgW",
        "outputId": "2f569fad-5b2f-4a8f-d65e-7c692c16459e"
      },
      "execution_count": 48,
      "outputs": [
        {
          "output_type": "execute_result",
          "data": {
            "text/plain": [
              "'Shanmukh'"
            ],
            "application/vnd.google.colaboratory.intrinsic+json": {
              "type": "string"
            }
          },
          "metadata": {},
          "execution_count": 48
        }
      ]
    },
    {
      "cell_type": "code",
      "source": [
        "name_3.lstrip()"
      ],
      "metadata": {
        "colab": {
          "base_uri": "https://localhost:8080/",
          "height": 35
        },
        "id": "bSU0IortHo6H",
        "outputId": "22a84028-69e6-4a20-fec4-114594019e39"
      },
      "execution_count": 49,
      "outputs": [
        {
          "output_type": "execute_result",
          "data": {
            "text/plain": [
              "'Shanmukh'"
            ],
            "application/vnd.google.colaboratory.intrinsic+json": {
              "type": "string"
            }
          },
          "metadata": {},
          "execution_count": 49
        }
      ]
    },
    {
      "cell_type": "code",
      "source": [
        "name_4.strip()"
      ],
      "metadata": {
        "colab": {
          "base_uri": "https://localhost:8080/",
          "height": 35
        },
        "id": "Mppj5h3ZH1i6",
        "outputId": "0a8f36f2-32f5-4c4d-9d89-fb88e566d66d"
      },
      "execution_count": 50,
      "outputs": [
        {
          "output_type": "execute_result",
          "data": {
            "text/plain": [
              "'Shanmukh'"
            ],
            "application/vnd.google.colaboratory.intrinsic+json": {
              "type": "string"
            }
          },
          "metadata": {},
          "execution_count": 50
        }
      ]
    },
    {
      "cell_type": "code",
      "source": [
        "# String Concatenation\n",
        "\n",
        "first_name = \"Sachin\"\n",
        "last_name = \"Tendulkar\"\n",
        "\n",
        "first_name + last_name"
      ],
      "metadata": {
        "colab": {
          "base_uri": "https://localhost:8080/",
          "height": 35
        },
        "id": "FdwVzbzQH5mw",
        "outputId": "2123df8a-e91f-49c7-acb2-ac9175d1feaf"
      },
      "execution_count": 52,
      "outputs": [
        {
          "output_type": "execute_result",
          "data": {
            "text/plain": [
              "'SachinTendulkar'"
            ],
            "application/vnd.google.colaboratory.intrinsic+json": {
              "type": "string"
            }
          },
          "metadata": {},
          "execution_count": 52
        }
      ]
    },
    {
      "cell_type": "markdown",
      "source": [
        "### **Numeric DataTypes**\n",
        "- **Integer(int)**\n",
        "- **Float(float)**\n",
        "- **Complex()**"
      ],
      "metadata": {
        "id": "jPx0x3-3Kwjg"
      }
    },
    {
      "cell_type": "code",
      "source": [
        "val = 10\n",
        "print(type(val))"
      ],
      "metadata": {
        "colab": {
          "base_uri": "https://localhost:8080/"
        },
        "id": "-Fa909KHIEa-",
        "outputId": "27c5baab-ffba-420a-b61e-21872f8a5e96"
      },
      "execution_count": 53,
      "outputs": [
        {
          "output_type": "stream",
          "name": "stdout",
          "text": [
            "<class 'int'>\n"
          ]
        }
      ]
    },
    {
      "cell_type": "code",
      "source": [
        "f_val = 12.5\n",
        "print(type(f_val))"
      ],
      "metadata": {
        "colab": {
          "base_uri": "https://localhost:8080/"
        },
        "id": "GeH5A8jgLQAZ",
        "outputId": "e41216d6-6eba-486a-e375-30dd9ee0206e"
      },
      "execution_count": 54,
      "outputs": [
        {
          "output_type": "stream",
          "name": "stdout",
          "text": [
            "<class 'float'>\n"
          ]
        }
      ]
    },
    {
      "cell_type": "code",
      "source": [
        "val1 = 20\n",
        "val2 = 15\n",
        "add = val1 + val2\n",
        "sub = val1 - val2\n",
        "mul = val1 * val2\n",
        "div = val1 / val2"
      ],
      "metadata": {
        "id": "HQd-cGigLXHD"
      },
      "execution_count": 55,
      "outputs": []
    },
    {
      "cell_type": "code",
      "source": [
        "print(add)\n",
        "print(type(add))"
      ],
      "metadata": {
        "colab": {
          "base_uri": "https://localhost:8080/"
        },
        "id": "V0zjuSp5Lqu5",
        "outputId": "86152748-35d7-40af-d0cf-694590515e5e"
      },
      "execution_count": 56,
      "outputs": [
        {
          "output_type": "stream",
          "name": "stdout",
          "text": [
            "35\n",
            "<class 'int'>\n"
          ]
        }
      ]
    },
    {
      "cell_type": "code",
      "source": [
        "print(sub)\n",
        "print(type(sub))"
      ],
      "metadata": {
        "colab": {
          "base_uri": "https://localhost:8080/"
        },
        "id": "q3gIBb4pLtY5",
        "outputId": "85a576b5-2e9a-444a-b206-9cf6a293657b"
      },
      "execution_count": 57,
      "outputs": [
        {
          "output_type": "stream",
          "name": "stdout",
          "text": [
            "5\n",
            "<class 'int'>\n"
          ]
        }
      ]
    },
    {
      "cell_type": "code",
      "source": [
        "print(mul)\n",
        "print(type(mul))"
      ],
      "metadata": {
        "colab": {
          "base_uri": "https://localhost:8080/"
        },
        "id": "FslVlq11Lxjd",
        "outputId": "73d15aca-600c-4aa0-d066-4b62dc4a2c53"
      },
      "execution_count": 58,
      "outputs": [
        {
          "output_type": "stream",
          "name": "stdout",
          "text": [
            "300\n",
            "<class 'int'>\n"
          ]
        }
      ]
    },
    {
      "cell_type": "code",
      "source": [
        "print(div)\n",
        "print(type(div))"
      ],
      "metadata": {
        "colab": {
          "base_uri": "https://localhost:8080/"
        },
        "id": "qkDxuwP3L7Tl",
        "outputId": "baeeea0e-8d11-4da0-c88d-f4db7c2b24b2"
      },
      "execution_count": 59,
      "outputs": [
        {
          "output_type": "stream",
          "name": "stdout",
          "text": [
            "1.3333333333333333\n",
            "<class 'float'>\n"
          ]
        }
      ]
    },
    {
      "cell_type": "code",
      "source": [
        "# Floor Division\n",
        "\n",
        "floor_div = val1 // val2\n",
        "print(floor_div)\n",
        "print(type(floor_div))"
      ],
      "metadata": {
        "colab": {
          "base_uri": "https://localhost:8080/"
        },
        "id": "rkHOZQFFMBYA",
        "outputId": "f8a9308c-bf66-47c2-f62f-3617a74e817a"
      },
      "execution_count": 60,
      "outputs": [
        {
          "output_type": "stream",
          "name": "stdout",
          "text": [
            "1\n",
            "<class 'int'>\n"
          ]
        }
      ]
    },
    {
      "cell_type": "code",
      "source": [
        "val3 = 20.2\n",
        "print(val3- val1)  # 20.2 - 20 = 0.2, but see the result. Python tries to represent in binary format"
      ],
      "metadata": {
        "colab": {
          "base_uri": "https://localhost:8080/"
        },
        "id": "4d5pXfixMOhN",
        "outputId": "c6700c07-0f7a-4b1d-a701-400f18a82659"
      },
      "execution_count": 61,
      "outputs": [
        {
          "output_type": "stream",
          "name": "stdout",
          "text": [
            "0.1999999999999993\n"
          ]
        }
      ]
    },
    {
      "cell_type": "code",
      "source": [
        "from decimal import Decimal\n",
        "Decimal(0.3)"
      ],
      "metadata": {
        "colab": {
          "base_uri": "https://localhost:8080/"
        },
        "id": "sNJzHjtCOUdJ",
        "outputId": "4d1237d5-3684-4b57-ef8b-7fd683b907c4"
      },
      "execution_count": 62,
      "outputs": [
        {
          "output_type": "execute_result",
          "data": {
            "text/plain": [
              "Decimal('0.299999999999999988897769753748434595763683319091796875')"
            ]
          },
          "metadata": {},
          "execution_count": 62
        }
      ]
    },
    {
      "cell_type": "code",
      "source": [
        "a = 0.1\n",
        "b = 0.2\n",
        "a + b"
      ],
      "metadata": {
        "colab": {
          "base_uri": "https://localhost:8080/"
        },
        "id": "f9LbN8SVTyXN",
        "outputId": "44eac46f-1a39-45dd-b847-f509ef891b70"
      },
      "execution_count": 63,
      "outputs": [
        {
          "output_type": "execute_result",
          "data": {
            "text/plain": [
              "0.30000000000000004"
            ]
          },
          "metadata": {},
          "execution_count": 63
        }
      ]
    },
    {
      "cell_type": "code",
      "source": [
        "from decimal import Decimal\n",
        "\n",
        "a = Decimal('0.1')\n",
        "b = Decimal('0.2')\n",
        "c = a + b\n",
        "print(c)\n",
        "print(type(c))"
      ],
      "metadata": {
        "colab": {
          "base_uri": "https://localhost:8080/"
        },
        "id": "_ziG1DxoiV0C",
        "outputId": "9eedade4-8351-409e-fb49-a2ad92c85f6f"
      },
      "execution_count": 64,
      "outputs": [
        {
          "output_type": "stream",
          "name": "stdout",
          "text": [
            "0.3\n",
            "<class 'decimal.Decimal'>\n"
          ]
        }
      ]
    },
    {
      "cell_type": "code",
      "source": [
        "# Implicit Type Conversion\n",
        "\n",
        "a = 10\n",
        "b = 12.5\n",
        "c = a + b\n",
        "print(c)\n",
        "print(type(c))"
      ],
      "metadata": {
        "colab": {
          "base_uri": "https://localhost:8080/"
        },
        "id": "uO3QTp5nlN-_",
        "outputId": "6a55d126-42e1-4c0f-b5b8-873226132402"
      },
      "execution_count": 68,
      "outputs": [
        {
          "output_type": "stream",
          "name": "stdout",
          "text": [
            "22.5\n",
            "<class 'float'>\n"
          ]
        }
      ]
    },
    {
      "cell_type": "code",
      "source": [
        "# Explicit Type Conversion\n",
        "\n",
        "f = 12.5\n",
        "i = int(f)\n",
        "print(i)\n",
        "print(type(i))"
      ],
      "metadata": {
        "colab": {
          "base_uri": "https://localhost:8080/"
        },
        "id": "tcbjRurkih5i",
        "outputId": "abb26a7f-6a9a-4884-9b3d-2fd98be78ff9"
      },
      "execution_count": 65,
      "outputs": [
        {
          "output_type": "stream",
          "name": "stdout",
          "text": [
            "12\n",
            "<class 'int'>\n"
          ]
        }
      ]
    },
    {
      "cell_type": "code",
      "source": [
        "# Complex Number\n",
        "a = complex(12)\n",
        "print(a)\n",
        "print(type(a))"
      ],
      "metadata": {
        "colab": {
          "base_uri": "https://localhost:8080/"
        },
        "id": "7JZfCndojJ5y",
        "outputId": "d1c116d5-8841-4009-cb2f-c6a64ac7c8ab"
      },
      "execution_count": 70,
      "outputs": [
        {
          "output_type": "stream",
          "name": "stdout",
          "text": [
            "(12+0j)\n",
            "<class 'complex'>\n"
          ]
        }
      ]
    },
    {
      "cell_type": "code",
      "source": [
        "b = complex(12, 2)\n",
        "print(b)"
      ],
      "metadata": {
        "colab": {
          "base_uri": "https://localhost:8080/"
        },
        "id": "8BtUxoAhj1FR",
        "outputId": "e4cadb8f-13fd-41e2-baa4-2fd68cea4023"
      },
      "execution_count": 71,
      "outputs": [
        {
          "output_type": "stream",
          "name": "stdout",
          "text": [
            "(12+2j)\n"
          ]
        }
      ]
    },
    {
      "cell_type": "markdown",
      "source": [
        "## **Lists**\n",
        "- **A List is a collection elements of different data types**\n",
        "- **List Indexing starts from '0'**\n",
        "- **Lists are mutable**\n",
        "- **Declared insisde \"[]\"**"
      ],
      "metadata": {
        "id": "UqPDMEtqDkqp"
      }
    },
    {
      "cell_type": "code",
      "source": [
        "list1 = [2, 4, 6, 10, 12.4, 3.14, \"Shanmukh\", \"Srinivasa\", \"Satya\"]"
      ],
      "metadata": {
        "id": "P615VFtvl4Lz"
      },
      "execution_count": 1,
      "outputs": []
    },
    {
      "cell_type": "code",
      "source": [
        "print(list1)"
      ],
      "metadata": {
        "colab": {
          "base_uri": "https://localhost:8080/"
        },
        "id": "0iKz0pANELDa",
        "outputId": "bde94c7a-200d-479c-ed63-20eac77d5f86"
      },
      "execution_count": 3,
      "outputs": [
        {
          "output_type": "stream",
          "name": "stdout",
          "text": [
            "[2, 4, 6, 10, 12.4, 3.14, 'Shanmukh', 'Srinivasa', 'Satya']\n"
          ]
        }
      ]
    },
    {
      "cell_type": "code",
      "source": [
        "print(type(list1))"
      ],
      "metadata": {
        "colab": {
          "base_uri": "https://localhost:8080/"
        },
        "id": "-_QMcCAUERzA",
        "outputId": "9aa4932b-8293-4407-9396-05c8f35d651e"
      },
      "execution_count": 4,
      "outputs": [
        {
          "output_type": "stream",
          "name": "stdout",
          "text": [
            "<class 'list'>\n"
          ]
        }
      ]
    },
    {
      "cell_type": "code",
      "source": [
        "type(list1)"
      ],
      "metadata": {
        "colab": {
          "base_uri": "https://localhost:8080/"
        },
        "id": "H3CgMqdjEW0f",
        "outputId": "b7bd4218-e7ab-4988-99c4-e5d3ea5559c3"
      },
      "execution_count": 5,
      "outputs": [
        {
          "output_type": "execute_result",
          "data": {
            "text/plain": [
              "list"
            ]
          },
          "metadata": {},
          "execution_count": 5
        }
      ]
    },
    {
      "cell_type": "code",
      "source": [
        "print(list1[0])"
      ],
      "metadata": {
        "colab": {
          "base_uri": "https://localhost:8080/"
        },
        "id": "tvk_B-9TEbwZ",
        "outputId": "39a8a58f-4aee-4255-8be1-9daabd18a415"
      },
      "execution_count": 6,
      "outputs": [
        {
          "output_type": "stream",
          "name": "stdout",
          "text": [
            "2\n"
          ]
        }
      ]
    },
    {
      "cell_type": "code",
      "source": [
        "list1[4]"
      ],
      "metadata": {
        "colab": {
          "base_uri": "https://localhost:8080/"
        },
        "id": "BekSz0PvEucW",
        "outputId": "e9b12487-d475-4a10-b9f2-08146dd95a30"
      },
      "execution_count": 8,
      "outputs": [
        {
          "output_type": "execute_result",
          "data": {
            "text/plain": [
              "12.4"
            ]
          },
          "metadata": {},
          "execution_count": 8
        }
      ]
    },
    {
      "cell_type": "code",
      "source": [
        "list1[-1]"
      ],
      "metadata": {
        "colab": {
          "base_uri": "https://localhost:8080/",
          "height": 35
        },
        "id": "888CH_FiHaBJ",
        "outputId": "f3df5336-10b9-4d15-8cbd-ee557a47345c"
      },
      "execution_count": 9,
      "outputs": [
        {
          "output_type": "execute_result",
          "data": {
            "text/plain": [
              "'Satya'"
            ],
            "application/vnd.google.colaboratory.intrinsic+json": {
              "type": "string"
            }
          },
          "metadata": {},
          "execution_count": 9
        }
      ]
    },
    {
      "cell_type": "code",
      "source": [
        "list[-2]"
      ],
      "metadata": {
        "colab": {
          "base_uri": "https://localhost:8080/"
        },
        "id": "KgDMeFeAHgFW",
        "outputId": "2d7efb8e-22c3-4fdd-dd4f-925070c05c51"
      },
      "execution_count": 10,
      "outputs": [
        {
          "output_type": "execute_result",
          "data": {
            "text/plain": [
              "list[-2]"
            ]
          },
          "metadata": {},
          "execution_count": 10
        }
      ]
    },
    {
      "cell_type": "code",
      "source": [
        "len(list1)"
      ],
      "metadata": {
        "colab": {
          "base_uri": "https://localhost:8080/"
        },
        "id": "g28eFqcoHiXo",
        "outputId": "80230ed5-6991-4022-d40d-e47954a89aad"
      },
      "execution_count": 11,
      "outputs": [
        {
          "output_type": "execute_result",
          "data": {
            "text/plain": [
              "9"
            ]
          },
          "metadata": {},
          "execution_count": 11
        }
      ]
    },
    {
      "cell_type": "code",
      "source": [
        "print(id(list1))\n",
        "print(id(list1[0]))"
      ],
      "metadata": {
        "colab": {
          "base_uri": "https://localhost:8080/"
        },
        "id": "yjGgeNazIGOw",
        "outputId": "89496b1f-d218-4af6-fc18-030f3e863a72"
      },
      "execution_count": 12,
      "outputs": [
        {
          "output_type": "stream",
          "name": "stdout",
          "text": [
            "134644371782080\n",
            "134644801995024\n"
          ]
        }
      ]
    },
    {
      "cell_type": "code",
      "source": [
        "# Lists are mutable\n",
        "\n",
        "list1[0] = 125\n",
        "print(id(list1))\n",
        "print(id(list1[0]))"
      ],
      "metadata": {
        "colab": {
          "base_uri": "https://localhost:8080/"
        },
        "id": "JRQ7GYVQKLs1",
        "outputId": "759f1b65-a645-4c87-af4d-8d7470179efa"
      },
      "execution_count": 14,
      "outputs": [
        {
          "output_type": "stream",
          "name": "stdout",
          "text": [
            "134644371782080\n",
            "134644801998960\n"
          ]
        }
      ]
    },
    {
      "cell_type": "code",
      "source": [
        "# Immutablility\n",
        "\n",
        "name = \"Shanmukh\"\n",
        "print(name)\n",
        "print(id(name))\n",
        "\n",
        "name = \"Satya\"\n",
        "print(name)\n",
        "print(id(name))"
      ],
      "metadata": {
        "colab": {
          "base_uri": "https://localhost:8080/"
        },
        "id": "faeAQurZKXdi",
        "outputId": "19451a04-3470-49ef-aacf-1ea5d72966bb"
      },
      "execution_count": 17,
      "outputs": [
        {
          "output_type": "stream",
          "name": "stdout",
          "text": [
            "Shanmukh\n",
            "134644371822768\n",
            "Satya\n",
            "134644371822960\n"
          ]
        }
      ]
    },
    {
      "cell_type": "code",
      "source": [
        "name[0] = \"s\"\n",
        "print(name)"
      ],
      "metadata": {
        "colab": {
          "base_uri": "https://localhost:8080/",
          "height": 158
        },
        "id": "TeNk1w4qLPRU",
        "outputId": "792cdc88-69f7-4ea2-c83f-d983d835b5c2"
      },
      "execution_count": 18,
      "outputs": [
        {
          "output_type": "error",
          "ename": "TypeError",
          "evalue": "'str' object does not support item assignment",
          "traceback": [
            "\u001b[0;31m---------------------------------------------------------------------------\u001b[0m",
            "\u001b[0;31mTypeError\u001b[0m                                 Traceback (most recent call last)",
            "\u001b[0;32m<ipython-input-18-f03a6845cd2a>\u001b[0m in \u001b[0;36m<cell line: 1>\u001b[0;34m()\u001b[0m\n\u001b[0;32m----> 1\u001b[0;31m \u001b[0mname\u001b[0m\u001b[0;34m[\u001b[0m\u001b[0;36m0\u001b[0m\u001b[0;34m]\u001b[0m \u001b[0;34m=\u001b[0m \u001b[0;34m\"s\"\u001b[0m\u001b[0;34m\u001b[0m\u001b[0;34m\u001b[0m\u001b[0m\n\u001b[0m\u001b[1;32m      2\u001b[0m \u001b[0mprint\u001b[0m\u001b[0;34m(\u001b[0m\u001b[0mname\u001b[0m\u001b[0;34m)\u001b[0m\u001b[0;34m\u001b[0m\u001b[0;34m\u001b[0m\u001b[0m\n",
            "\u001b[0;31mTypeError\u001b[0m: 'str' object does not support item assignment"
          ]
        }
      ]
    },
    {
      "cell_type": "code",
      "source": [
        "list2 = [20, 20, 12, 23, 12, 20]\n",
        "print(id(list2[0]))\n",
        "print(id(list2[1]))\n",
        "print(id(list2[-1]))"
      ],
      "metadata": {
        "colab": {
          "base_uri": "https://localhost:8080/"
        },
        "id": "8b2o0MkiLeJc",
        "outputId": "60a39968-c145-497b-9995-5c7e61e4318d"
      },
      "execution_count": 21,
      "outputs": [
        {
          "output_type": "stream",
          "name": "stdout",
          "text": [
            "134644801995600\n",
            "134644801995600\n",
            "134644801995600\n"
          ]
        }
      ]
    },
    {
      "cell_type": "markdown",
      "source": [
        "## **Tuple**\n",
        "\n",
        "- **Tuple is represented by parenthesis i.e., \"()\"**\n",
        "- **Tuples are immutable**"
      ],
      "metadata": {
        "id": "N0SVFaV-M75-"
      }
    },
    {
      "cell_type": "code",
      "source": [
        "tuple1 = (2, 5, 10, \"Shanmukh\", \"12.5\", 2, 5, 10, \"Satya\")"
      ],
      "metadata": {
        "id": "fBkwes0eMuwc"
      },
      "execution_count": 22,
      "outputs": []
    },
    {
      "cell_type": "code",
      "source": [
        "print(tuple1)"
      ],
      "metadata": {
        "colab": {
          "base_uri": "https://localhost:8080/"
        },
        "id": "BWUbCpZNNfTW",
        "outputId": "1e4cd745-73b2-45ae-a15f-caa52f59487b"
      },
      "execution_count": 23,
      "outputs": [
        {
          "output_type": "stream",
          "name": "stdout",
          "text": [
            "(2, 5, 10, 'Shanmukh', '12.5', 2, 5, 10, 'Satya')\n"
          ]
        }
      ]
    },
    {
      "cell_type": "code",
      "source": [
        "print(type(tuple1))"
      ],
      "metadata": {
        "colab": {
          "base_uri": "https://localhost:8080/"
        },
        "id": "nq9Y9ALhNg00",
        "outputId": "cdc35c04-ddc8-4021-cb14-9829d429f52b"
      },
      "execution_count": 24,
      "outputs": [
        {
          "output_type": "stream",
          "name": "stdout",
          "text": [
            "<class 'tuple'>\n"
          ]
        }
      ]
    },
    {
      "cell_type": "code",
      "source": [
        "print(id(tuple1))"
      ],
      "metadata": {
        "colab": {
          "base_uri": "https://localhost:8080/"
        },
        "id": "-_AtKHX9NjLj",
        "outputId": "36412fa9-061b-4545-991b-03deccf907ef"
      },
      "execution_count": 25,
      "outputs": [
        {
          "output_type": "stream",
          "name": "stdout",
          "text": [
            "134643519128512\n"
          ]
        }
      ]
    },
    {
      "cell_type": "code",
      "source": [
        "tuple1[0]"
      ],
      "metadata": {
        "colab": {
          "base_uri": "https://localhost:8080/"
        },
        "id": "Pa4-5GpxNllA",
        "outputId": "d5bff025-250e-4a9f-f5d9-fae9bdb0d575"
      },
      "execution_count": 27,
      "outputs": [
        {
          "output_type": "execute_result",
          "data": {
            "text/plain": [
              "2"
            ]
          },
          "metadata": {},
          "execution_count": 27
        }
      ]
    },
    {
      "cell_type": "code",
      "source": [
        "tuple1[1]"
      ],
      "metadata": {
        "colab": {
          "base_uri": "https://localhost:8080/"
        },
        "id": "XAE16MczNrsV",
        "outputId": "032d0f80-9693-4785-bf7b-1973f0c4fbbf"
      },
      "execution_count": 32,
      "outputs": [
        {
          "output_type": "execute_result",
          "data": {
            "text/plain": [
              "5"
            ]
          },
          "metadata": {},
          "execution_count": 32
        }
      ]
    },
    {
      "cell_type": "code",
      "source": [
        "tuple1[-1]"
      ],
      "metadata": {
        "colab": {
          "base_uri": "https://localhost:8080/",
          "height": 35
        },
        "id": "ZLcbLy50NwHY",
        "outputId": "595f635e-013d-4748-b449-2b3b2eda2702"
      },
      "execution_count": 30,
      "outputs": [
        {
          "output_type": "execute_result",
          "data": {
            "text/plain": [
              "'Satya'"
            ],
            "application/vnd.google.colaboratory.intrinsic+json": {
              "type": "string"
            }
          },
          "metadata": {},
          "execution_count": 30
        }
      ]
    },
    {
      "cell_type": "code",
      "source": [
        "tuple1[-2]"
      ],
      "metadata": {
        "colab": {
          "base_uri": "https://localhost:8080/"
        },
        "id": "SIs0OzWLNxeA",
        "outputId": "37b13845-ef6c-4c94-fb37-7f9e131eb689"
      },
      "execution_count": 31,
      "outputs": [
        {
          "output_type": "execute_result",
          "data": {
            "text/plain": [
              "10"
            ]
          },
          "metadata": {},
          "execution_count": 31
        }
      ]
    },
    {
      "cell_type": "code",
      "source": [
        "tuple2 = (2, 5, 10, \"Shanmukh\", \"12.5\", 2, 5, 10, \"Satya\")"
      ],
      "metadata": {
        "id": "p32aL7ljN1pu"
      },
      "execution_count": 33,
      "outputs": []
    },
    {
      "cell_type": "code",
      "source": [
        "print(tuple2[-1])"
      ],
      "metadata": {
        "colab": {
          "base_uri": "https://localhost:8080/"
        },
        "id": "IwMp-rAfOBdc",
        "outputId": "df318108-bed6-4f9a-945c-85398400eb0e"
      },
      "execution_count": 34,
      "outputs": [
        {
          "output_type": "stream",
          "name": "stdout",
          "text": [
            "Satya\n"
          ]
        }
      ]
    },
    {
      "cell_type": "code",
      "source": [
        "tuple2[-1] = \"Srinivasa\""
      ],
      "metadata": {
        "colab": {
          "base_uri": "https://localhost:8080/",
          "height": 141
        },
        "id": "_hVvRQW6ODiC",
        "outputId": "949d7084-b773-4e7b-b0ac-720c8a0fedcc"
      },
      "execution_count": 35,
      "outputs": [
        {
          "output_type": "error",
          "ename": "TypeError",
          "evalue": "'tuple' object does not support item assignment",
          "traceback": [
            "\u001b[0;31m---------------------------------------------------------------------------\u001b[0m",
            "\u001b[0;31mTypeError\u001b[0m                                 Traceback (most recent call last)",
            "\u001b[0;32m<ipython-input-35-a421aa9c9db0>\u001b[0m in \u001b[0;36m<cell line: 1>\u001b[0;34m()\u001b[0m\n\u001b[0;32m----> 1\u001b[0;31m \u001b[0mtuple2\u001b[0m\u001b[0;34m[\u001b[0m\u001b[0;34m-\u001b[0m\u001b[0;36m1\u001b[0m\u001b[0;34m]\u001b[0m \u001b[0;34m=\u001b[0m \u001b[0;34m\"Srinivasa\"\u001b[0m\u001b[0;34m\u001b[0m\u001b[0;34m\u001b[0m\u001b[0m\n\u001b[0m",
            "\u001b[0;31mTypeError\u001b[0m: 'tuple' object does not support item assignment"
          ]
        }
      ]
    },
    {
      "cell_type": "code",
      "source": [
        "list3 = [1, 2, 3, \"Hello\"]\n",
        "tuple3 = tuple(list3)\n",
        "print(list3)\n",
        "print(tuple3)\n",
        "print(id(list3))\n",
        "print(id(tuple3))"
      ],
      "metadata": {
        "colab": {
          "base_uri": "https://localhost:8080/"
        },
        "id": "t4dd_c4lOG9N",
        "outputId": "c4e23876-c020-47fc-d49f-cd2244fa0138"
      },
      "execution_count": 36,
      "outputs": [
        {
          "output_type": "stream",
          "name": "stdout",
          "text": [
            "[1, 2, 3, 'Hello']\n",
            "(1, 2, 3, 'Hello')\n",
            "134644028996352\n",
            "134643519297456\n"
          ]
        }
      ]
    },
    {
      "cell_type": "code",
      "source": [],
      "metadata": {
        "id": "sxVHAFP6PR0S"
      },
      "execution_count": null,
      "outputs": []
    }
  ]
}