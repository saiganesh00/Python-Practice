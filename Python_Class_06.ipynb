{
  "nbformat": 4,
  "nbformat_minor": 0,
  "metadata": {
    "colab": {
      "provenance": [],
      "authorship_tag": "ABX9TyOINKc4WPBsdU+nLliftnwP",
      "include_colab_link": true
    },
    "kernelspec": {
      "name": "python3",
      "display_name": "Python 3"
    },
    "language_info": {
      "name": "python"
    }
  },
  "cells": [
    {
      "cell_type": "markdown",
      "metadata": {
        "id": "view-in-github",
        "colab_type": "text"
      },
      "source": [
        "<a href=\"https://colab.research.google.com/github/saiganesh00/Python-Practice/blob/main/Python_Class_06.ipynb\" target=\"_parent\"><img src=\"https://colab.research.google.com/assets/colab-badge.svg\" alt=\"Open In Colab\"/></a>"
      ]
    },
    {
      "cell_type": "markdown",
      "source": [
        "### **Operator Precedence**\n",
        "- **Brackets**\n",
        "- **Order/Exponents(Right to Left)**\n",
        "- **Unary Operators(+x, -x, ~x)(Right to Left)**\n",
        "- **Multiplication/Division/Modulus/Floor Division**\n",
        "- **Addition/Subtraction**\n",
        "- **Shift Operators**\n",
        "- **BitWise Operators**\n",
        "- **Comparision Operators**\n",
        "- **Logical Operators**"
      ],
      "metadata": {
        "id": "-SOkOE7B61Wa"
      }
    },
    {
      "cell_type": "code",
      "execution_count": 1,
      "metadata": {
        "colab": {
          "base_uri": "https://localhost:8080/"
        },
        "id": "nIrZCeSxevnc",
        "outputId": "be5c1dd9-9f1b-4d7d-c3bb-f8a313e425c4"
      },
      "outputs": [
        {
          "output_type": "stream",
          "name": "stdout",
          "text": [
            "43.0\n"
          ]
        }
      ],
      "source": [
        "# Multiplication and Division have associativity\n",
        "'''\n",
        "  10 + 18 * 2 - 9 / 3\n",
        "  18 * 2 = 36\n",
        "  10 + 36 = 46\n",
        "  9 / 3 = 3.0\n",
        "  46 - 3.0 = 43.0\n",
        "'''\n",
        "\n",
        "print(10 + 18 * 2 - 9 / 3)"
      ]
    },
    {
      "cell_type": "code",
      "source": [
        "10 // 4"
      ],
      "metadata": {
        "colab": {
          "base_uri": "https://localhost:8080/"
        },
        "id": "t8XKwv1h8g1B",
        "outputId": "5feff0e9-7dd0-42e5-99c6-04911045194f"
      },
      "execution_count": 3,
      "outputs": [
        {
          "output_type": "execute_result",
          "data": {
            "text/plain": [
              "2"
            ]
          },
          "metadata": {},
          "execution_count": 3
        }
      ]
    },
    {
      "cell_type": "code",
      "source": [
        "10 // 4.0"
      ],
      "metadata": {
        "colab": {
          "base_uri": "https://localhost:8080/"
        },
        "id": "7nzcERsF8teW",
        "outputId": "d6c7fc1f-7d7d-4e3c-aa0b-0833a0666d8b"
      },
      "execution_count": 4,
      "outputs": [
        {
          "output_type": "execute_result",
          "data": {
            "text/plain": [
              "2.0"
            ]
          },
          "metadata": {},
          "execution_count": 4
        }
      ]
    },
    {
      "cell_type": "code",
      "source": [
        "10.5 // 4"
      ],
      "metadata": {
        "colab": {
          "base_uri": "https://localhost:8080/"
        },
        "id": "pR2uy6Th8xZS",
        "outputId": "766f6c0b-58da-4e4f-cdb4-ee50863f755b"
      },
      "execution_count": 5,
      "outputs": [
        {
          "output_type": "execute_result",
          "data": {
            "text/plain": [
              "2.0"
            ]
          },
          "metadata": {},
          "execution_count": 5
        }
      ]
    },
    {
      "cell_type": "code",
      "source": [
        "'''\n",
        "Operator Precedence\n",
        "1. //\n",
        "2. +\n",
        "3. <<\n",
        "4. ^\n",
        "\n",
        "48 // 24 = 2\n",
        "3 + 2 = 5\n",
        "2 << 5 = 64\n",
        "4 ^ 64 = 68\n",
        "\n",
        "'''\n",
        "\n",
        "4 ^ 2 << 3 + 48 // 24"
      ],
      "metadata": {
        "colab": {
          "base_uri": "https://localhost:8080/"
        },
        "id": "1SIH5yM68y10",
        "outputId": "dec1dbc5-99e8-4c25-e965-905939d7b337"
      },
      "execution_count": 6,
      "outputs": [
        {
          "output_type": "execute_result",
          "data": {
            "text/plain": [
              "68"
            ]
          },
          "metadata": {},
          "execution_count": 6
        }
      ]
    },
    {
      "cell_type": "code",
      "source": [
        "# -5 // 2 = -3\n",
        "# -3 // 2 = -2\n",
        "\n",
        "-5 // 2 // 2"
      ],
      "metadata": {
        "colab": {
          "base_uri": "https://localhost:8080/"
        },
        "id": "rH6v6iBL9hkP",
        "outputId": "521e5493-0937-4206-d1f5-10b8ea8f7e31"
      },
      "execution_count": 7,
      "outputs": [
        {
          "output_type": "execute_result",
          "data": {
            "text/plain": [
              "-2"
            ]
          },
          "metadata": {},
          "execution_count": 7
        }
      ]
    },
    {
      "cell_type": "code",
      "source": [
        "'''\n",
        "  3**2**3\n",
        "  --> 2 ** 3 = 8\n",
        "  --> 3 ** 8 = 6561\n",
        "'''\n",
        "3**2**3"
      ],
      "metadata": {
        "colab": {
          "base_uri": "https://localhost:8080/"
        },
        "id": "AkcrBrKS-tst",
        "outputId": "d1bfad0f-e4f2-473e-e4e8-17bdb4e15bed"
      },
      "execution_count": 8,
      "outputs": [
        {
          "output_type": "execute_result",
          "data": {
            "text/plain": [
              "6561"
            ]
          },
          "metadata": {},
          "execution_count": 8
        }
      ]
    },
    {
      "cell_type": "code",
      "source": [
        "'''\n",
        "  10 > 7 == 7 < 12\n",
        "  --> (10 > 7) and (7 == 7) and (7 < 12)\n",
        "  --> (10 > 7) = True\n",
        "  --> (7 == 7) = True\n",
        "  --> (7 < 12) = True\n",
        "\n",
        "'''\n",
        "\n",
        "10 >  7 == 7 < 12"
      ],
      "metadata": {
        "colab": {
          "base_uri": "https://localhost:8080/"
        },
        "id": "MMlTBXmf_oa4",
        "outputId": "9b9b4793-5cfd-413e-9232-fc5079d7aec8"
      },
      "execution_count": 9,
      "outputs": [
        {
          "output_type": "execute_result",
          "data": {
            "text/plain": [
              "True"
            ]
          },
          "metadata": {},
          "execution_count": 9
        }
      ]
    },
    {
      "cell_type": "code",
      "source": [
        "'''\n",
        "  10 > 7 == 8 < 12\n",
        "  --> (10 > 7) and (7 == 8) and (8 < 12)\n",
        "  --> (10 > 7) = True\n",
        "  --> (7 == 8) = False\n",
        "  --> (8 < 12) = True\n",
        "    Therefore False\n",
        "'''\n",
        "10 >  7 == 8 < 12"
      ],
      "metadata": {
        "colab": {
          "base_uri": "https://localhost:8080/"
        },
        "id": "j5Aaj4wy_v7l",
        "outputId": "3beb0126-1c20-4166-db54-f7616a98999b"
      },
      "execution_count": 11,
      "outputs": [
        {
          "output_type": "execute_result",
          "data": {
            "text/plain": [
              "False"
            ]
          },
          "metadata": {},
          "execution_count": 11
        }
      ]
    },
    {
      "cell_type": "code",
      "source": [
        "(10 > 7) == (8 < 12)"
      ],
      "metadata": {
        "colab": {
          "base_uri": "https://localhost:8080/"
        },
        "id": "kPov6mvuBUZW",
        "outputId": "1fc9095e-6ead-480a-b04a-5544e94939ef"
      },
      "execution_count": 13,
      "outputs": [
        {
          "output_type": "execute_result",
          "data": {
            "text/plain": [
              "True"
            ]
          },
          "metadata": {},
          "execution_count": 13
        }
      ]
    },
    {
      "cell_type": "code",
      "source": [
        "(10 > 7) == 8 < 12"
      ],
      "metadata": {
        "colab": {
          "base_uri": "https://localhost:8080/"
        },
        "id": "xc2z7Dbg_21D",
        "outputId": "b4d2447b-ad02-4f2a-fda9-c1b7825e70a0"
      },
      "execution_count": 12,
      "outputs": [
        {
          "output_type": "execute_result",
          "data": {
            "text/plain": [
              "False"
            ]
          },
          "metadata": {},
          "execution_count": 12
        }
      ]
    },
    {
      "cell_type": "code",
      "source": [
        "10 > 7 == (8 < 12)"
      ],
      "metadata": {
        "colab": {
          "base_uri": "https://localhost:8080/"
        },
        "id": "UYk8QKIyBNY7",
        "outputId": "00e03ba3-e263-4f8d-b7d1-932a40c7b38c"
      },
      "execution_count": 14,
      "outputs": [
        {
          "output_type": "execute_result",
          "data": {
            "text/plain": [
              "False"
            ]
          },
          "metadata": {},
          "execution_count": 14
        }
      ]
    },
    {
      "cell_type": "code",
      "source": [
        "10 > 1 == (8 < 12)"
      ],
      "metadata": {
        "colab": {
          "base_uri": "https://localhost:8080/"
        },
        "id": "5KHpSCf7BYOZ",
        "outputId": "2d731fec-261b-410b-d6e6-b78e232de1ba"
      },
      "execution_count": 15,
      "outputs": [
        {
          "output_type": "execute_result",
          "data": {
            "text/plain": [
              "True"
            ]
          },
          "metadata": {},
          "execution_count": 15
        }
      ]
    },
    {
      "cell_type": "code",
      "source": [
        "10 > (7 == 9) < 12"
      ],
      "metadata": {
        "colab": {
          "base_uri": "https://localhost:8080/"
        },
        "id": "4Rv5YTIECJME",
        "outputId": "010cd38d-2bcd-4ead-e153-a5868a09c21c"
      },
      "execution_count": 16,
      "outputs": [
        {
          "output_type": "execute_result",
          "data": {
            "text/plain": [
              "True"
            ]
          },
          "metadata": {},
          "execution_count": 16
        }
      ]
    },
    {
      "cell_type": "code",
      "source": [
        "10 > (7 == 9) < -1"
      ],
      "metadata": {
        "colab": {
          "base_uri": "https://localhost:8080/"
        },
        "id": "mDS8dbf5C_sE",
        "outputId": "2206b99b-45ab-4871-86f2-b78c69f6752e"
      },
      "execution_count": 17,
      "outputs": [
        {
          "output_type": "execute_result",
          "data": {
            "text/plain": [
              "False"
            ]
          },
          "metadata": {},
          "execution_count": 17
        }
      ]
    },
    {
      "cell_type": "markdown",
      "source": [
        "### **Unicode Representation:**\n",
        "- **Pythin uses UNICODE representation to represent strings**\n",
        "- **UNICODE: universal character set for string encoding**"
      ],
      "metadata": {
        "id": "aybhYxaPDNrO"
      }
    },
    {
      "cell_type": "code",
      "source": [
        "alpha_numeric_string = \"abcdefghijklmnopqrstuvxyzABCDEFGHIJKLMNOPQRSTUVXYZ01234567890\""
      ],
      "metadata": {
        "id": "xbC8XyxLDFqh"
      },
      "execution_count": 5,
      "outputs": []
    },
    {
      "cell_type": "code",
      "source": [
        "for c in  alpha_numeric_string:\n",
        "  print(\"Character: \", c, \" --> \", \"Unicode: \", ord(c))"
      ],
      "metadata": {
        "colab": {
          "base_uri": "https://localhost:8080/"
        },
        "id": "CCHmU21fhQ9r",
        "outputId": "22fbe8ac-92ab-414a-ab85-67c08e9c6790"
      },
      "execution_count": 6,
      "outputs": [
        {
          "output_type": "stream",
          "name": "stdout",
          "text": [
            "Character:  a  -->  Unicode:  97\n",
            "Character:  b  -->  Unicode:  98\n",
            "Character:  c  -->  Unicode:  99\n",
            "Character:  d  -->  Unicode:  100\n",
            "Character:  e  -->  Unicode:  101\n",
            "Character:  f  -->  Unicode:  102\n",
            "Character:  g  -->  Unicode:  103\n",
            "Character:  h  -->  Unicode:  104\n",
            "Character:  i  -->  Unicode:  105\n",
            "Character:  j  -->  Unicode:  106\n",
            "Character:  k  -->  Unicode:  107\n",
            "Character:  l  -->  Unicode:  108\n",
            "Character:  m  -->  Unicode:  109\n",
            "Character:  n  -->  Unicode:  110\n",
            "Character:  o  -->  Unicode:  111\n",
            "Character:  p  -->  Unicode:  112\n",
            "Character:  q  -->  Unicode:  113\n",
            "Character:  r  -->  Unicode:  114\n",
            "Character:  s  -->  Unicode:  115\n",
            "Character:  t  -->  Unicode:  116\n",
            "Character:  u  -->  Unicode:  117\n",
            "Character:  v  -->  Unicode:  118\n",
            "Character:  x  -->  Unicode:  120\n",
            "Character:  y  -->  Unicode:  121\n",
            "Character:  z  -->  Unicode:  122\n",
            "Character:  A  -->  Unicode:  65\n",
            "Character:  B  -->  Unicode:  66\n",
            "Character:  C  -->  Unicode:  67\n",
            "Character:  D  -->  Unicode:  68\n",
            "Character:  E  -->  Unicode:  69\n",
            "Character:  F  -->  Unicode:  70\n",
            "Character:  G  -->  Unicode:  71\n",
            "Character:  H  -->  Unicode:  72\n",
            "Character:  I  -->  Unicode:  73\n",
            "Character:  J  -->  Unicode:  74\n",
            "Character:  K  -->  Unicode:  75\n",
            "Character:  L  -->  Unicode:  76\n",
            "Character:  M  -->  Unicode:  77\n",
            "Character:  N  -->  Unicode:  78\n",
            "Character:  O  -->  Unicode:  79\n",
            "Character:  P  -->  Unicode:  80\n",
            "Character:  Q  -->  Unicode:  81\n",
            "Character:  R  -->  Unicode:  82\n",
            "Character:  S  -->  Unicode:  83\n",
            "Character:  T  -->  Unicode:  84\n",
            "Character:  U  -->  Unicode:  85\n",
            "Character:  V  -->  Unicode:  86\n",
            "Character:  X  -->  Unicode:  88\n",
            "Character:  Y  -->  Unicode:  89\n",
            "Character:  Z  -->  Unicode:  90\n",
            "Character:  0  -->  Unicode:  48\n",
            "Character:  1  -->  Unicode:  49\n",
            "Character:  2  -->  Unicode:  50\n",
            "Character:  3  -->  Unicode:  51\n",
            "Character:  4  -->  Unicode:  52\n",
            "Character:  5  -->  Unicode:  53\n",
            "Character:  6  -->  Unicode:  54\n",
            "Character:  7  -->  Unicode:  55\n",
            "Character:  8  -->  Unicode:  56\n",
            "Character:  9  -->  Unicode:  57\n",
            "Character:  0  -->  Unicode:  48\n"
          ]
        }
      ]
    },
    {
      "cell_type": "code",
      "source": [
        "english = \"VIRAT KOHLI\"\n",
        "telugu = \"విరాట్ కోహ్లీ\"\n",
        "hindi = \"विराट कोहली\"\n",
        "\n",
        "# English Unicode\n",
        "for c in  english:\n",
        "  print(\"Character: \", c, \" --> \", \"Unicode: \", ord(c))\n",
        "\n",
        "# Telugu Unicode\n",
        "\n",
        "for c in  telugu:\n",
        "  print(\"Character: \", c, \" --> \", \"Unicode: \", ord(c))\n",
        "\n",
        "# Hindi Unicode\n",
        "\n",
        "for c in  hindi:\n",
        "  print(\"Character: \", c, \" --> \", \"Unicode: \", ord(c))"
      ],
      "metadata": {
        "colab": {
          "base_uri": "https://localhost:8080/"
        },
        "id": "ccKibcHUhizk",
        "outputId": "ab6fd682-d140-43aa-d2f4-fc55b59c35ea"
      },
      "execution_count": 7,
      "outputs": [
        {
          "output_type": "stream",
          "name": "stdout",
          "text": [
            "Character:  V  -->  Unicode:  86\n",
            "Character:  I  -->  Unicode:  73\n",
            "Character:  R  -->  Unicode:  82\n",
            "Character:  A  -->  Unicode:  65\n",
            "Character:  T  -->  Unicode:  84\n",
            "Character:     -->  Unicode:  32\n",
            "Character:  K  -->  Unicode:  75\n",
            "Character:  O  -->  Unicode:  79\n",
            "Character:  H  -->  Unicode:  72\n",
            "Character:  L  -->  Unicode:  76\n",
            "Character:  I  -->  Unicode:  73\n",
            "Character:  వ  -->  Unicode:  3125\n",
            "Character:  ి  -->  Unicode:  3135\n",
            "Character:  ర  -->  Unicode:  3120\n",
            "Character:  ా  -->  Unicode:  3134\n",
            "Character:  ట  -->  Unicode:  3103\n",
            "Character:  ్  -->  Unicode:  3149\n",
            "Character:     -->  Unicode:  32\n",
            "Character:  క  -->  Unicode:  3093\n",
            "Character:  ో  -->  Unicode:  3147\n",
            "Character:  హ  -->  Unicode:  3129\n",
            "Character:  ్  -->  Unicode:  3149\n",
            "Character:  ల  -->  Unicode:  3122\n",
            "Character:  ీ  -->  Unicode:  3136\n",
            "Character:  व  -->  Unicode:  2357\n",
            "Character:  ि  -->  Unicode:  2367\n",
            "Character:  र  -->  Unicode:  2352\n",
            "Character:  ा  -->  Unicode:  2366\n",
            "Character:  ट  -->  Unicode:  2335\n",
            "Character:     -->  Unicode:  32\n",
            "Character:  क  -->  Unicode:  2325\n",
            "Character:  ो  -->  Unicode:  2379\n",
            "Character:  ह  -->  Unicode:  2361\n",
            "Character:  ल  -->  Unicode:  2354\n",
            "Character:  ी  -->  Unicode:  2368\n"
          ]
        }
      ]
    },
    {
      "cell_type": "code",
      "source": [
        "english = \"VIRAT KOHLI\"\n",
        "for c in  english:\n",
        "  print(\"Character: \", c, \" --> \", \"Unicode: \", ord(c), \" --> \", \"Hex: \", hex(ord(c)))"
      ],
      "metadata": {
        "colab": {
          "base_uri": "https://localhost:8080/"
        },
        "id": "X0lJgdShjgpT",
        "outputId": "fd47421f-b54d-4efa-9b1d-dc4bb2c6eb0f"
      },
      "execution_count": 9,
      "outputs": [
        {
          "output_type": "stream",
          "name": "stdout",
          "text": [
            "Character:  V  -->  Unicode:  86  -->  Hex:  0x56\n",
            "Character:  I  -->  Unicode:  73  -->  Hex:  0x49\n",
            "Character:  R  -->  Unicode:  82  -->  Hex:  0x52\n",
            "Character:  A  -->  Unicode:  65  -->  Hex:  0x41\n",
            "Character:  T  -->  Unicode:  84  -->  Hex:  0x54\n",
            "Character:     -->  Unicode:  32  -->  Hex:  0x20\n",
            "Character:  K  -->  Unicode:  75  -->  Hex:  0x4b\n",
            "Character:  O  -->  Unicode:  79  -->  Hex:  0x4f\n",
            "Character:  H  -->  Unicode:  72  -->  Hex:  0x48\n",
            "Character:  L  -->  Unicode:  76  -->  Hex:  0x4c\n",
            "Character:  I  -->  Unicode:  73  -->  Hex:  0x49\n"
          ]
        }
      ]
    },
    {
      "cell_type": "markdown",
      "source": [
        "## **Conditional Statements**"
      ],
      "metadata": {
        "id": "z06KcfTioV4j"
      }
    },
    {
      "cell_type": "code",
      "source": [
        "rupees = int(input(\"Enter the money given by father: \"))\n",
        "\n",
        "if rupees >= 80:\n",
        "  print(\"Can buy dairy milk silk\")\n",
        "else:\n",
        "  print(\"Cannot but dairy milk silk\")"
      ],
      "metadata": {
        "colab": {
          "base_uri": "https://localhost:8080/"
        },
        "id": "MlqhMLV0lOpt",
        "outputId": "fce6e1dd-30f8-4019-ddb0-03e90fcea831"
      },
      "execution_count": 10,
      "outputs": [
        {
          "output_type": "stream",
          "name": "stdout",
          "text": [
            "Enter the money given by father: 86\n",
            "Can buy dairy milk silk\n"
          ]
        }
      ]
    },
    {
      "cell_type": "code",
      "source": [
        "marks = int(input(\"Enter marks: \"))\n",
        "\n",
        "if marks >= 90:\n",
        "  print(\"GRADE: S\")\n",
        "elif 80 <= marks < 90:\n",
        "  print(\"GRADE: A\")\n",
        "elif 70 <= marks < 80:\n",
        "  print(\"GRADE: B\")\n",
        "else:\n",
        "  print(\"GRADE: D\")"
      ],
      "metadata": {
        "colab": {
          "base_uri": "https://localhost:8080/"
        },
        "id": "jCdn9FN4pb6k",
        "outputId": "e9f38c1e-9a2d-421c-ab19-e75582685858"
      },
      "execution_count": 11,
      "outputs": [
        {
          "output_type": "stream",
          "name": "stdout",
          "text": [
            "Enter marks: 80\n",
            "GRADE: A\n"
          ]
        }
      ]
    },
    {
      "cell_type": "code",
      "source": [
        "marks = int(input(\"Enter marks: \"))\n",
        "\n",
        "if marks >= 90:\n",
        "  if marks > 95:\n",
        "    print(\"Outstanding\")\n",
        "  else:\n",
        "    print(\"GRADE: S\")\n",
        "elif 80 <= marks < 90:\n",
        "  print(\"GRADE: A\")\n",
        "elif 70 <= marks < 80:\n",
        "  print(\"GRADE: B\")\n",
        "else:\n",
        "  print(\"GRADE: D\")"
      ],
      "metadata": {
        "colab": {
          "base_uri": "https://localhost:8080/"
        },
        "id": "6Uhs7gfJsYor",
        "outputId": "9ed5b63e-c6cf-40bc-d7bf-322c4e03eeca"
      },
      "execution_count": 12,
      "outputs": [
        {
          "output_type": "stream",
          "name": "stdout",
          "text": [
            "Enter marks: 96\n",
            "Outstanding\n"
          ]
        }
      ]
    },
    {
      "cell_type": "code",
      "source": [],
      "metadata": {
        "id": "sJCw-aSkvHpc"
      },
      "execution_count": null,
      "outputs": []
    }
  ]
}