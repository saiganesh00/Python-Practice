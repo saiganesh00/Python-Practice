{
  "nbformat": 4,
  "nbformat_minor": 0,
  "metadata": {
    "colab": {
      "provenance": [],
      "authorship_tag": "ABX9TyMGjLI0xg+Gsk6c5lECUqTZ",
      "include_colab_link": true
    },
    "kernelspec": {
      "name": "python3",
      "display_name": "Python 3"
    },
    "language_info": {
      "name": "python"
    }
  },
  "cells": [
    {
      "cell_type": "markdown",
      "metadata": {
        "id": "view-in-github",
        "colab_type": "text"
      },
      "source": [
        "<a href=\"https://colab.research.google.com/github/saiganesh00/Python-Practice/blob/main/Python_Class_11.ipynb\" target=\"_parent\"><img src=\"https://colab.research.google.com/assets/colab-badge.svg\" alt=\"Open In Colab\"/></a>"
      ]
    },
    {
      "cell_type": "markdown",
      "source": [
        "## **List Operations**"
      ],
      "metadata": {
        "id": "gPMSSC__exNP"
      }
    },
    {
      "cell_type": "code",
      "execution_count": 1,
      "metadata": {
        "colab": {
          "base_uri": "https://localhost:8080/"
        },
        "id": "TSayOFyUcGel",
        "outputId": "2743d83b-a85d-4318-b9bd-941342d76f91"
      },
      "outputs": [
        {
          "output_type": "stream",
          "name": "stdout",
          "text": [
            "[]\n"
          ]
        }
      ],
      "source": [
        "l = []\n",
        "print(l)"
      ]
    },
    {
      "cell_type": "code",
      "source": [
        "t = tuple()\n",
        "l = list(l)\n",
        "print(l)"
      ],
      "metadata": {
        "colab": {
          "base_uri": "https://localhost:8080/"
        },
        "id": "ncX5qXVoe9aN",
        "outputId": "29c435c2-84d3-4fce-cdc3-cf25644682cf"
      },
      "execution_count": 2,
      "outputs": [
        {
          "output_type": "stream",
          "name": "stdout",
          "text": [
            "[]\n"
          ]
        }
      ]
    },
    {
      "cell_type": "code",
      "source": [
        "name = \"shanmukh\"\n",
        "\n",
        "l = list(name)\n",
        "print(l)"
      ],
      "metadata": {
        "colab": {
          "base_uri": "https://localhost:8080/"
        },
        "id": "ZPo8NSMxe_on",
        "outputId": "d05261c3-0aa4-40e1-a985-e35f2ea7301b"
      },
      "execution_count": 3,
      "outputs": [
        {
          "output_type": "stream",
          "name": "stdout",
          "text": [
            "['s', 'h', 'a', 'n', 'm', 'u', 'k', 'h']\n"
          ]
        }
      ]
    },
    {
      "cell_type": "code",
      "source": [
        "l = [1, 2, 3, 3.14, 8.29, \"ABC\", \"DEF\"]\n",
        "\n",
        "print(l[0])\n",
        "print(l[1])\n",
        "print(l[2])\n",
        "print(l[3])\n",
        "print(l[4])\n",
        "print(l[5])\n",
        "print(l[6])"
      ],
      "metadata": {
        "colab": {
          "base_uri": "https://localhost:8080/"
        },
        "id": "sTQI5cFkfFM0",
        "outputId": "971c59a0-f68a-4a08-886b-168e8861d996"
      },
      "execution_count": 4,
      "outputs": [
        {
          "output_type": "stream",
          "name": "stdout",
          "text": [
            "1\n",
            "2\n",
            "3\n",
            "3.14\n",
            "8.29\n",
            "ABC\n",
            "DEF\n"
          ]
        }
      ]
    },
    {
      "cell_type": "code",
      "source": [
        "\n",
        "print(l[-1])\n",
        "print(l[-2])\n",
        "print(l[-3])\n",
        "print(l[-4])\n",
        "print(l[-5])\n",
        "print(l[-6])\n",
        "print(l[-7])"
      ],
      "metadata": {
        "colab": {
          "base_uri": "https://localhost:8080/"
        },
        "id": "i970wxvTfosl",
        "outputId": "d0378b6a-22b0-4594-b0fd-56d20021542a"
      },
      "execution_count": 5,
      "outputs": [
        {
          "output_type": "stream",
          "name": "stdout",
          "text": [
            "DEF\n",
            "ABC\n",
            "8.29\n",
            "3.14\n",
            "3\n",
            "2\n",
            "1\n"
          ]
        }
      ]
    },
    {
      "cell_type": "code",
      "source": [
        "l = [[1, 2, 3], [4, 5], [6, [7, 8]]]\n",
        "\n",
        "print(l[0][0])\n",
        "print(l[0][1])\n",
        "print(l[0][2])\n",
        "print(l[1][0])\n",
        "print(l[1][1])\n",
        "print(l[2][0])\n",
        "print(l[2][1][0])\n",
        "print(l[2][1][1])"
      ],
      "metadata": {
        "colab": {
          "base_uri": "https://localhost:8080/"
        },
        "id": "r44M6zzMf1rs",
        "outputId": "df95c06d-d628-494c-8f24-f272a6e63f8e"
      },
      "execution_count": 7,
      "outputs": [
        {
          "output_type": "stream",
          "name": "stdout",
          "text": [
            "1\n",
            "2\n",
            "3\n",
            "4\n",
            "5\n",
            "6\n",
            "7\n",
            "8\n"
          ]
        }
      ]
    },
    {
      "cell_type": "code",
      "source": [
        "l = [[1,2,3,[4,5]],[23,[12,34],9],30,21]\n",
        "print(l[0])\n",
        "print(l[1])\n",
        "print(l[2])\n",
        "print(l[3])"
      ],
      "metadata": {
        "colab": {
          "base_uri": "https://localhost:8080/"
        },
        "id": "BGp8kep4hRjl",
        "outputId": "f6bcc4e6-51ce-41fe-bc00-85d2710f6f3a"
      },
      "execution_count": 9,
      "outputs": [
        {
          "output_type": "stream",
          "name": "stdout",
          "text": [
            "[1, 2, 3, [4, 5]]\n",
            "[23, [12, 34], 9]\n",
            "30\n",
            "21\n"
          ]
        }
      ]
    },
    {
      "cell_type": "code",
      "source": [
        "print(l[0][3][0])\n",
        "print(l[0][3][-2])"
      ],
      "metadata": {
        "colab": {
          "base_uri": "https://localhost:8080/"
        },
        "id": "Cm4Ntb33hjMs",
        "outputId": "b946ad3f-42ba-4beb-a76a-0ef19e5e7201"
      },
      "execution_count": 10,
      "outputs": [
        {
          "output_type": "stream",
          "name": "stdout",
          "text": [
            "4\n",
            "4\n"
          ]
        }
      ]
    },
    {
      "cell_type": "code",
      "source": [
        "# slicing a list\n",
        "\n",
        "l = [\"sachin\", \"sehwag\", \"gauti\", \"virat\", \"raina\", \"dhoni\", \"yousuf\", \"bumrah\"]\n",
        "\n",
        "print(len(l))"
      ],
      "metadata": {
        "colab": {
          "base_uri": "https://localhost:8080/"
        },
        "id": "xA1UiarQiEqP",
        "outputId": "0524e84b-07c6-4e37-9349-aaf7a90fcd18"
      },
      "execution_count": 11,
      "outputs": [
        {
          "output_type": "stream",
          "name": "stdout",
          "text": [
            "8\n"
          ]
        }
      ]
    },
    {
      "cell_type": "code",
      "source": [
        "print(l[1:6])"
      ],
      "metadata": {
        "colab": {
          "base_uri": "https://localhost:8080/"
        },
        "id": "IlG4P_rEjoYu",
        "outputId": "da09456c-b69a-4bc1-d29f-6ec52b940fd5"
      },
      "execution_count": 12,
      "outputs": [
        {
          "output_type": "stream",
          "name": "stdout",
          "text": [
            "['sehwag', 'gauti', 'virat', 'raina', 'dhoni']\n"
          ]
        }
      ]
    },
    {
      "cell_type": "code",
      "source": [
        "print(l[1:6:2])"
      ],
      "metadata": {
        "colab": {
          "base_uri": "https://localhost:8080/"
        },
        "id": "1g3z2QzQjtrt",
        "outputId": "72361548-8f31-4b4d-d4a4-4194ad9ea859"
      },
      "execution_count": 13,
      "outputs": [
        {
          "output_type": "stream",
          "name": "stdout",
          "text": [
            "['sehwag', 'virat', 'dhoni']\n"
          ]
        }
      ]
    },
    {
      "cell_type": "code",
      "source": [
        "print(l[:])"
      ],
      "metadata": {
        "colab": {
          "base_uri": "https://localhost:8080/"
        },
        "id": "VksVV6WykLoH",
        "outputId": "aeca1c7e-5a9e-4d41-c682-598c7a9263e2"
      },
      "execution_count": 15,
      "outputs": [
        {
          "output_type": "stream",
          "name": "stdout",
          "text": [
            "['sachin', 'sehwag', 'gauti', 'virat', 'raina', 'dhoni', 'yousuf', 'bumrah']\n"
          ]
        }
      ]
    },
    {
      "cell_type": "code",
      "source": [
        "print(l[::])"
      ],
      "metadata": {
        "colab": {
          "base_uri": "https://localhost:8080/"
        },
        "id": "4CLZsRSEkYsx",
        "outputId": "708276de-4b69-4645-dc45-0ca95cbe144e"
      },
      "execution_count": 16,
      "outputs": [
        {
          "output_type": "stream",
          "name": "stdout",
          "text": [
            "['sachin', 'sehwag', 'gauti', 'virat', 'raina', 'dhoni', 'yousuf', 'bumrah']\n"
          ]
        }
      ]
    },
    {
      "cell_type": "code",
      "source": [
        "print(l[6:2])"
      ],
      "metadata": {
        "colab": {
          "base_uri": "https://localhost:8080/"
        },
        "id": "iXXpxBb-keee",
        "outputId": "5ec538f0-ad8f-499d-e06b-f1a581539738"
      },
      "execution_count": 17,
      "outputs": [
        {
          "output_type": "stream",
          "name": "stdout",
          "text": [
            "[]\n"
          ]
        }
      ]
    },
    {
      "cell_type": "code",
      "source": [
        "print(l[6:2:-1])"
      ],
      "metadata": {
        "colab": {
          "base_uri": "https://localhost:8080/"
        },
        "id": "BpAbYd7ykiUq",
        "outputId": "6f8c3c3d-f17c-4688-e7e6-e8525ecf61db"
      },
      "execution_count": 18,
      "outputs": [
        {
          "output_type": "stream",
          "name": "stdout",
          "text": [
            "['yousuf', 'dhoni', 'raina', 'virat']\n"
          ]
        }
      ]
    },
    {
      "cell_type": "code",
      "source": [
        "print(l[6:2:-3])"
      ],
      "metadata": {
        "colab": {
          "base_uri": "https://localhost:8080/"
        },
        "id": "I4JF0G7PlFql",
        "outputId": "fcadc412-c1fe-4f02-a2d3-303c6258e7a3"
      },
      "execution_count": 20,
      "outputs": [
        {
          "output_type": "stream",
          "name": "stdout",
          "text": [
            "['yousuf', 'virat']\n"
          ]
        }
      ]
    },
    {
      "cell_type": "code",
      "source": [
        "# reverse a list\n",
        "\n",
        "print(l[::-1])"
      ],
      "metadata": {
        "colab": {
          "base_uri": "https://localhost:8080/"
        },
        "id": "u08l0b61k3r9",
        "outputId": "025af7be-842b-42a1-f96c-e87d00cf8f80"
      },
      "execution_count": 19,
      "outputs": [
        {
          "output_type": "stream",
          "name": "stdout",
          "text": [
            "['bumrah', 'yousuf', 'dhoni', 'raina', 'virat', 'gauti', 'sehwag', 'sachin']\n"
          ]
        }
      ]
    },
    {
      "cell_type": "code",
      "source": [
        "l = ['a', 'b', 'c', 'd', 'e', 'f', 'g', 'h', 'i', 'j']\n",
        "len(l)"
      ],
      "metadata": {
        "colab": {
          "base_uri": "https://localhost:8080/"
        },
        "id": "rsFR8V9Uk63y",
        "outputId": "2c7f81fa-a161-45ca-8d40-6f76a17d7fa2"
      },
      "execution_count": 24,
      "outputs": [
        {
          "output_type": "execute_result",
          "data": {
            "text/plain": [
              "10"
            ]
          },
          "metadata": {},
          "execution_count": 24
        }
      ]
    },
    {
      "cell_type": "code",
      "source": [
        "print(l[-4:8])"
      ],
      "metadata": {
        "colab": {
          "base_uri": "https://localhost:8080/"
        },
        "id": "dNXmVC7km_wN",
        "outputId": "206b3b2a-8a00-4db5-816f-e1b85434b4b1"
      },
      "execution_count": 22,
      "outputs": [
        {
          "output_type": "stream",
          "name": "stdout",
          "text": [
            "['g', 'h']\n"
          ]
        }
      ]
    },
    {
      "cell_type": "code",
      "source": [
        "print(l[-4:-8])"
      ],
      "metadata": {
        "colab": {
          "base_uri": "https://localhost:8080/"
        },
        "id": "-cTOGJwgnCCl",
        "outputId": "6d65e7de-e97c-40f3-b22d-734ce81965da"
      },
      "execution_count": 23,
      "outputs": [
        {
          "output_type": "stream",
          "name": "stdout",
          "text": [
            "[]\n"
          ]
        }
      ]
    },
    {
      "cell_type": "code",
      "source": [
        "# Adding elements to a list\n",
        "\n",
        "csk = [\"Hayden\", \"Vijay\", \"Raina\"]\n",
        "print(csk)"
      ],
      "metadata": {
        "colab": {
          "base_uri": "https://localhost:8080/"
        },
        "id": "qdIdOoMonF8Z",
        "outputId": "b5f526e6-d35e-4b71-caf3-99d4f19d1c31"
      },
      "execution_count": 25,
      "outputs": [
        {
          "output_type": "stream",
          "name": "stdout",
          "text": [
            "['Hayden', 'Vijay', 'Raina']\n"
          ]
        }
      ]
    },
    {
      "cell_type": "code",
      "source": [
        "# append()\n",
        "\n",
        "print(csk)\n",
        "csk.append(\"Dhoni\")\n",
        "print(csk)"
      ],
      "metadata": {
        "colab": {
          "base_uri": "https://localhost:8080/"
        },
        "id": "l0HCRt4TnqsM",
        "outputId": "cfe66c06-4efe-4657-98d1-85d4adde8bb3"
      },
      "execution_count": 26,
      "outputs": [
        {
          "output_type": "stream",
          "name": "stdout",
          "text": [
            "['Hayden', 'Vijay', 'Raina']\n",
            "['Hayden', 'Vijay', 'Raina', 'Dhoni']\n"
          ]
        }
      ]
    },
    {
      "cell_type": "code",
      "source": [
        "# append()\n",
        "\n",
        "print(csk)\n",
        "csk.append(\"Jadeja\")\n",
        "print(csk)"
      ],
      "metadata": {
        "colab": {
          "base_uri": "https://localhost:8080/"
        },
        "id": "zo3VrcGSn0Zq",
        "outputId": "a58b5119-54e4-4d9e-f5d6-6febf751135a"
      },
      "execution_count": 27,
      "outputs": [
        {
          "output_type": "stream",
          "name": "stdout",
          "text": [
            "['Hayden', 'Vijay', 'Raina', 'Dhoni']\n",
            "['Hayden', 'Vijay', 'Raina', 'Dhoni', 'Jadeja']\n"
          ]
        }
      ]
    },
    {
      "cell_type": "code",
      "source": [
        "# List is mutable. List address remains even after adding elements\n",
        "\n",
        "l = [1, 2, 3, 4]\n",
        "print(l)\n",
        "print(id(l))\n",
        "l.append(5)\n",
        "print(l)\n",
        "print(id(l))\n",
        "l.append(\"Shanmukh\")\n",
        "print(l)\n",
        "print(id(l))"
      ],
      "metadata": {
        "colab": {
          "base_uri": "https://localhost:8080/"
        },
        "id": "RIQgVE0in7xQ",
        "outputId": "c33aa236-d9e8-48fb-8c57-c266b76f3e19"
      },
      "execution_count": 28,
      "outputs": [
        {
          "output_type": "stream",
          "name": "stdout",
          "text": [
            "[1, 2, 3, 4]\n",
            "138832435245952\n",
            "[1, 2, 3, 4, 5]\n",
            "138832435245952\n",
            "[1, 2, 3, 4, 5, 'Shanmukh']\n",
            "138832435245952\n"
          ]
        }
      ]
    },
    {
      "cell_type": "code",
      "source": [
        "l.append([\"rbr\", \"jay\"])\n",
        "print(l)"
      ],
      "metadata": {
        "colab": {
          "base_uri": "https://localhost:8080/"
        },
        "id": "qx8U8N-goYSS",
        "outputId": "bda82caa-f186-43c5-f5db-0560a3fe161e"
      },
      "execution_count": 29,
      "outputs": [
        {
          "output_type": "stream",
          "name": "stdout",
          "text": [
            "[1, 2, 3, 4, 5, 'Shanmukh', ['rbr', 'jay']]\n"
          ]
        }
      ]
    },
    {
      "cell_type": "code",
      "source": [
        "l.append([\"Hari\", \"Srinivas\"])\n",
        "print(l)"
      ],
      "metadata": {
        "colab": {
          "base_uri": "https://localhost:8080/"
        },
        "id": "yDMgL5ujo-p9",
        "outputId": "7dbedca3-79d7-49cc-82da-fbd8d8d0353f"
      },
      "execution_count": 30,
      "outputs": [
        {
          "output_type": "stream",
          "name": "stdout",
          "text": [
            "[1, 2, 3, 4, 5, 'Shanmukh', ['rbr', 'jay'], ['Hari', 'Srinivas']]\n"
          ]
        }
      ]
    },
    {
      "cell_type": "code",
      "source": [
        "l.append((1, 2, 3))\n",
        "print(l)"
      ],
      "metadata": {
        "colab": {
          "base_uri": "https://localhost:8080/"
        },
        "id": "NHhD-Sp_rM2U",
        "outputId": "50b06b10-9df5-4a0b-982c-d44326f8da77"
      },
      "execution_count": 32,
      "outputs": [
        {
          "output_type": "stream",
          "name": "stdout",
          "text": [
            "[1, 2, 3, 4, 5, 'Shanmukh', ['rbr', 'jay'], ['Hari', 'Srinivas'], (1, 2, 3)]\n"
          ]
        }
      ]
    },
    {
      "cell_type": "code",
      "source": [
        "numbers = [1, 2, 3, 4, 5]\n",
        "print(numbers)\n",
        "print(id(numbers))\n",
        "k = numbers.append(6)\n",
        "print(k)\n",
        "print(numbers)\n",
        "print(id(numbers))\n",
        "numbers = numbers.append(7)\n",
        "print(numbers)\n",
        "print(id(numbers))\n",
        "print(type(numbers))"
      ],
      "metadata": {
        "colab": {
          "base_uri": "https://localhost:8080/"
        },
        "id": "pzooNxbUpI4a",
        "outputId": "c33ce98d-6be3-4c5f-edcc-4118e8e7434b"
      },
      "execution_count": 31,
      "outputs": [
        {
          "output_type": "stream",
          "name": "stdout",
          "text": [
            "[1, 2, 3, 4, 5]\n",
            "138832433272320\n",
            "None\n",
            "[1, 2, 3, 4, 5, 6]\n",
            "138832433272320\n",
            "None\n",
            "94554888573920\n",
            "<class 'NoneType'>\n"
          ]
        }
      ]
    },
    {
      "cell_type": "code",
      "source": [
        "# insert()\n",
        "\n",
        "indian_batting_team = [\"Rohit\", \"Virat\", \"Pant\", \"Sky\"]\n",
        "print(indian_batting_team)\n",
        "indian_batting_team.insert(1, \"Jaiswal\")\n",
        "print(indian_batting_team)\n",
        "indian_batting_team.insert(2, \"Dhoni\")\n",
        "print(indian_batting_team)"
      ],
      "metadata": {
        "colab": {
          "base_uri": "https://localhost:8080/"
        },
        "id": "E1MjRlXfq0uK",
        "outputId": "6ca33199-5181-4294-fd21-1b489e47e9cc"
      },
      "execution_count": 35,
      "outputs": [
        {
          "output_type": "stream",
          "name": "stdout",
          "text": [
            "['Rohit', 'Virat', 'Pant', 'Sky']\n",
            "['Rohit', 'Jaiswal', 'Virat', 'Pant', 'Sky']\n",
            "['Rohit', 'Jaiswal', 'Dhoni', 'Virat', 'Pant', 'Sky']\n"
          ]
        }
      ]
    },
    {
      "cell_type": "code",
      "source": [
        "indian_batting_team = [\"Rohit\", \"Virat\", \"Pant\", \"Sky\"]\n",
        "print(indian_batting_team)\n",
        "new_list = indian_batting_team.insert(1, \"Jaiswal\")\n",
        "print(new_list)\n",
        "print(indian_batting_team)"
      ],
      "metadata": {
        "colab": {
          "base_uri": "https://localhost:8080/"
        },
        "id": "qtk8-_-jrrJv",
        "outputId": "39e4ff22-858f-498b-8979-2b14a4ea9e21"
      },
      "execution_count": 36,
      "outputs": [
        {
          "output_type": "stream",
          "name": "stdout",
          "text": [
            "['Rohit', 'Virat', 'Pant', 'Sky']\n",
            "None\n",
            "['Rohit', 'Jaiswal', 'Virat', 'Pant', 'Sky']\n"
          ]
        }
      ]
    },
    {
      "cell_type": "code",
      "source": [
        "l = [1,2,3,4,5]\n",
        "print(l)\n",
        "print(id(l))\n",
        "l.insert(2,10)\n",
        "print(l)\n",
        "print(id(l))"
      ],
      "metadata": {
        "colab": {
          "base_uri": "https://localhost:8080/"
        },
        "id": "bkCwujCNtwUe",
        "outputId": "bcb5e51d-c54b-45f2-c5fb-a55cc9709b6c"
      },
      "execution_count": 37,
      "outputs": [
        {
          "output_type": "stream",
          "name": "stdout",
          "text": [
            "[1, 2, 3, 4, 5]\n",
            "138832435054272\n",
            "[1, 2, 10, 3, 4, 5]\n",
            "138832435054272\n"
          ]
        }
      ]
    },
    {
      "cell_type": "code",
      "source": [
        "l = [1,2,3]\n",
        "l.insert(10, 'a')\n",
        "print(l)"
      ],
      "metadata": {
        "colab": {
          "base_uri": "https://localhost:8080/"
        },
        "id": "cHJzGCG7t3nz",
        "outputId": "7f88d1d9-ea6f-49ed-d513-c77df3e78492"
      },
      "execution_count": 38,
      "outputs": [
        {
          "output_type": "stream",
          "name": "stdout",
          "text": [
            "[1, 2, 3, 'a']\n"
          ]
        }
      ]
    },
    {
      "cell_type": "code",
      "source": [
        "l = [1,2,3,4,5,6]\n",
        "l.insert(2, \"cab\")\n",
        "print(l)"
      ],
      "metadata": {
        "colab": {
          "base_uri": "https://localhost:8080/"
        },
        "id": "VphMbiSzt6Jc",
        "outputId": "531a9c5b-8e2e-4ddf-bb2d-d14df1a2b4da"
      },
      "execution_count": 39,
      "outputs": [
        {
          "output_type": "stream",
          "name": "stdout",
          "text": [
            "[1, 2, 'cab', 3, 4, 5, 6]\n"
          ]
        }
      ]
    },
    {
      "cell_type": "code",
      "source": [
        "l = [1,2,3,4,5,6]\n",
        "l.insert(-2, 'abc')\n",
        "print(l)"
      ],
      "metadata": {
        "colab": {
          "base_uri": "https://localhost:8080/"
        },
        "id": "uUYqihcvt9Nh",
        "outputId": "713375a1-9cd2-4ebd-8fa8-0448a7f485bd"
      },
      "execution_count": 40,
      "outputs": [
        {
          "output_type": "stream",
          "name": "stdout",
          "text": [
            "[1, 2, 3, 4, 'abc', 5, 6]\n"
          ]
        }
      ]
    },
    {
      "cell_type": "code",
      "source": [
        "l = [1, 2, 3, 4, 5]\n",
        "l.insert(2, 'a')\n",
        "print(l)"
      ],
      "metadata": {
        "colab": {
          "base_uri": "https://localhost:8080/"
        },
        "id": "QYCT3iFXt_jq",
        "outputId": "485c6953-4e3c-436f-bb2c-c67862045187"
      },
      "execution_count": 41,
      "outputs": [
        {
          "output_type": "stream",
          "name": "stdout",
          "text": [
            "[1, 2, 'a', 3, 4, 5]\n"
          ]
        }
      ]
    },
    {
      "cell_type": "code",
      "source": [
        "l = [1, 2, 3, 4, 5]\n",
        "l.insert(-2, 'a')\n",
        "print(l)"
      ],
      "metadata": {
        "colab": {
          "base_uri": "https://localhost:8080/"
        },
        "id": "Hb7SZZPtu71t",
        "outputId": "39f7db4a-1578-4bcc-e82f-b5c49257be8e"
      },
      "execution_count": 42,
      "outputs": [
        {
          "output_type": "stream",
          "name": "stdout",
          "text": [
            "[1, 2, 3, 'a', 4, 5]\n"
          ]
        }
      ]
    },
    {
      "cell_type": "code",
      "source": [
        "l.insert(2, [20, 30, 40])\n",
        "print(l)"
      ],
      "metadata": {
        "colab": {
          "base_uri": "https://localhost:8080/"
        },
        "id": "sFGTAs6cu-Ce",
        "outputId": "36c03c74-db1d-4e7d-ec5f-00251f63cbed"
      },
      "execution_count": 43,
      "outputs": [
        {
          "output_type": "stream",
          "name": "stdout",
          "text": [
            "[1, 2, [20, 30, 40], 3, 'a', 4, 5]\n"
          ]
        }
      ]
    },
    {
      "cell_type": "code",
      "source": [
        "# extend method ---> can only take iterable objects as arguments\n",
        "\n",
        "subjects = [\"Linear Algebra\", \"Calaculus\", \"Python\", \"DSA\"]\n",
        "print(subjects)"
      ],
      "metadata": {
        "colab": {
          "base_uri": "https://localhost:8080/"
        },
        "id": "lUkvWPisvh72",
        "outputId": "57a9c2d5-6037-4be3-e8be-cc53745f4049"
      },
      "execution_count": 44,
      "outputs": [
        {
          "output_type": "stream",
          "name": "stdout",
          "text": [
            "['Linear Algebra', 'Calaculus', 'Python', 'DSA']\n"
          ]
        }
      ]
    },
    {
      "cell_type": "code",
      "source": [
        "new_subjects = [\"Probability\", \"Statistics\", \"DBMS\"]\n",
        "print(new_subjects)"
      ],
      "metadata": {
        "colab": {
          "base_uri": "https://localhost:8080/"
        },
        "id": "FK7TtP7gvu-t",
        "outputId": "37566707-230f-4114-997a-7e4fbb35c95f"
      },
      "execution_count": 45,
      "outputs": [
        {
          "output_type": "stream",
          "name": "stdout",
          "text": [
            "['Probability', 'Statistics', 'DBMS']\n"
          ]
        }
      ]
    },
    {
      "cell_type": "code",
      "source": [
        "print(subjects)\n",
        "print(new_subjects)\n",
        "subjects.extend(new_subjects)\n",
        "print(subjects)"
      ],
      "metadata": {
        "colab": {
          "base_uri": "https://localhost:8080/"
        },
        "id": "0xPyKZmYwL3M",
        "outputId": "09758544-eb82-4853-decb-8df7417b26dd"
      },
      "execution_count": 46,
      "outputs": [
        {
          "output_type": "stream",
          "name": "stdout",
          "text": [
            "['Linear Algebra', 'Calaculus', 'Python', 'DSA']\n",
            "['Probability', 'Statistics', 'DBMS']\n",
            "['Linear Algebra', 'Calaculus', 'Python', 'DSA', 'Probability', 'Statistics', 'DBMS']\n"
          ]
        }
      ]
    },
    {
      "cell_type": "code",
      "source": [
        "alpha = ['a', 'b', 'c']\n",
        "alpha.append('def')\n",
        "print(alpha)\n",
        "alpha.extend('ghi')\n",
        "print(alpha)"
      ],
      "metadata": {
        "colab": {
          "base_uri": "https://localhost:8080/"
        },
        "id": "lZzh2dLbwS_V",
        "outputId": "c8d64477-f473-4d80-cc4d-9a299f3527a3"
      },
      "execution_count": 47,
      "outputs": [
        {
          "output_type": "stream",
          "name": "stdout",
          "text": [
            "['a', 'b', 'c', 'def']\n",
            "['a', 'b', 'c', 'def', 'g', 'h', 'i']\n"
          ]
        }
      ]
    },
    {
      "cell_type": "code",
      "source": [
        "# User Input for list\n",
        "\n",
        "user_input = input(\"Enter the input: \")\n",
        "print(user_input)\n",
        "print(len(user_input))\n",
        "print(type(user_input))"
      ],
      "metadata": {
        "colab": {
          "base_uri": "https://localhost:8080/"
        },
        "id": "hu0T9RBHwq8Z",
        "outputId": "0322fc16-032e-4af4-b77a-a60999adaa92"
      },
      "execution_count": 48,
      "outputs": [
        {
          "output_type": "stream",
          "name": "stdout",
          "text": [
            "Enter the input: 1 2 3 4\n",
            "1 2 3 4\n",
            "7\n",
            "<class 'str'>\n"
          ]
        }
      ]
    },
    {
      "cell_type": "code",
      "source": [
        "user_input = input(\"Enter the input: \").split()\n",
        "print(user_input)"
      ],
      "metadata": {
        "colab": {
          "base_uri": "https://localhost:8080/"
        },
        "id": "-rXjcv0009Uu",
        "outputId": "9a709d66-1aa5-416c-fbea-d7ea7cb6b2fe"
      },
      "execution_count": 49,
      "outputs": [
        {
          "output_type": "stream",
          "name": "stdout",
          "text": [
            "Enter the input: 1 2 3 4\n",
            "['1', '2', '3', '4']\n"
          ]
        }
      ]
    },
    {
      "cell_type": "code",
      "source": [
        "n = int(input(\"Enter the size of the list: \"))\n",
        "li = []\n",
        "for i in range(n):\n",
        "  li.append(int(input(\"Enter the element: \")))\n",
        "print(li)"
      ],
      "metadata": {
        "colab": {
          "base_uri": "https://localhost:8080/"
        },
        "id": "I2WjgN7d1F2c",
        "outputId": "392d6e28-e4e4-4457-d318-5f5625634be9"
      },
      "execution_count": 50,
      "outputs": [
        {
          "output_type": "stream",
          "name": "stdout",
          "text": [
            "Enter the size of the list: 4\n",
            "Enter the element: 1\n",
            "Enter the element: 2\n",
            "Enter the element: 3\n",
            "Enter the element: 4\n",
            "[1, 2, 3, 4]\n"
          ]
        }
      ]
    },
    {
      "cell_type": "code",
      "source": [
        "players = [\"Rohit\", \"Jaiswal\", \"Virat\", \"Pant\", \"Sky\", \"Dube\", \"Hardik\", \"Jaddu\"]\n",
        "print(players)\n",
        "players[5] = \"Rinku\"\n",
        "print(players)"
      ],
      "metadata": {
        "colab": {
          "base_uri": "https://localhost:8080/"
        },
        "id": "OgjGbKRt1dNl",
        "outputId": "8a0b4456-b5e7-49ee-f97e-fe72c2be29df"
      },
      "execution_count": 51,
      "outputs": [
        {
          "output_type": "stream",
          "name": "stdout",
          "text": [
            "['Rohit', 'Jaiswal', 'Virat', 'Pant', 'Sky', 'Dube', 'Hardik', 'Jaddu']\n",
            "['Rohit', 'Jaiswal', 'Virat', 'Pant', 'Sky', 'Rinku', 'Hardik', 'Jaddu']\n"
          ]
        }
      ]
    },
    {
      "cell_type": "code",
      "source": [
        "players = [\"Rohit\", \"Jaiswal\", \"Virat\", \"Pant\", \"Sky\", \"Dube\", \"Hardik\", \"Jaddu\"]\n",
        "print(players)\n",
        "players[5:] = \"Rinku\"\n",
        "print(players)"
      ],
      "metadata": {
        "colab": {
          "base_uri": "https://localhost:8080/"
        },
        "id": "LyArqfcN2LVu",
        "outputId": "593e0b90-5ee8-4029-d39b-5911c53a15be"
      },
      "execution_count": 52,
      "outputs": [
        {
          "output_type": "stream",
          "name": "stdout",
          "text": [
            "['Rohit', 'Jaiswal', 'Virat', 'Pant', 'Sky', 'Dube', 'Hardik', 'Jaddu']\n",
            "['Rohit', 'Jaiswal', 'Virat', 'Pant', 'Sky', 'R', 'i', 'n', 'k', 'u']\n"
          ]
        }
      ]
    },
    {
      "cell_type": "code",
      "source": [
        "players = [\"Rohit\", \"Jaiswal\", \"Virat\", \"Pant\", \"Sky\", \"Dube\", \"Hardik\", \"Jaddu\"]\n",
        "print(players)\n",
        "players[5:] = [\"Rinku\"]\n",
        "print(players)"
      ],
      "metadata": {
        "colab": {
          "base_uri": "https://localhost:8080/"
        },
        "id": "xxA8LOLd2Rny",
        "outputId": "cb39f3f6-1eea-4a30-e1a1-71758886af0c"
      },
      "execution_count": 53,
      "outputs": [
        {
          "output_type": "stream",
          "name": "stdout",
          "text": [
            "['Rohit', 'Jaiswal', 'Virat', 'Pant', 'Sky', 'Dube', 'Hardik', 'Jaddu']\n",
            "['Rohit', 'Jaiswal', 'Virat', 'Pant', 'Sky', 'Rinku']\n"
          ]
        }
      ]
    },
    {
      "cell_type": "code",
      "source": [
        "players = [\"Rohit\", \"Jaiswal\", \"Virat\", \"Pant\", \"Sky\", \"Dube\", \"Hardik\", \"Jaddu\"]\n",
        "print(players)\n",
        "players[5:] = [\"Rinku\", \"Tewatia\", \"Ashuthosh\", \"Shashank\"]\n",
        "print(players)"
      ],
      "metadata": {
        "colab": {
          "base_uri": "https://localhost:8080/"
        },
        "id": "MGtMW8e12yCr",
        "outputId": "f097534a-a4e2-4ce9-e0b6-4c2da2f8d6ef"
      },
      "execution_count": 54,
      "outputs": [
        {
          "output_type": "stream",
          "name": "stdout",
          "text": [
            "['Rohit', 'Jaiswal', 'Virat', 'Pant', 'Sky', 'Dube', 'Hardik', 'Jaddu']\n",
            "['Rohit', 'Jaiswal', 'Virat', 'Pant', 'Sky', 'Rinku', 'Tewatia', 'Ashuthosh', 'Shashank']\n"
          ]
        }
      ]
    },
    {
      "cell_type": "code",
      "source": [
        "players = [\"Rohit\", \"Jaiswal\", \"Virat\", \"Pant\", \"Sky\", \"Dube\", \"Hardik\", \"Jaddu\"]\n",
        "print(players)\n",
        "players[5:7] = [\"Rinku\", \"Tewatia\", \"Ashuthosh\", \"Shashank\"]\n",
        "print(players)"
      ],
      "metadata": {
        "colab": {
          "base_uri": "https://localhost:8080/"
        },
        "id": "16rv-PSQ8MKB",
        "outputId": "81429665-5295-4e7a-f8a1-4e3d2f1a2514"
      },
      "execution_count": 67,
      "outputs": [
        {
          "output_type": "stream",
          "name": "stdout",
          "text": [
            "['Rohit', 'Jaiswal', 'Virat', 'Pant', 'Sky', 'Dube', 'Hardik', 'Jaddu']\n",
            "['Rohit', 'Jaiswal', 'Virat', 'Pant', 'Sky', 'Rinku', 'Tewatia', 'Ashuthosh', 'Shashank', 'Jaddu']\n"
          ]
        }
      ]
    },
    {
      "cell_type": "code",
      "source": [
        "players = [\"Rohit\", \"Jaiswal\", \"Virat\", \"Pant\", \"Sky\", \"Dube\", \"Hardik\", \"Jaddu\"]\n",
        "print(players)\n",
        "players[5:2] = [\"Rinku\", \"Tewatia\", \"Ashuthosh\", \"Shashank\"]\n",
        "print(players)"
      ],
      "metadata": {
        "colab": {
          "base_uri": "https://localhost:8080/"
        },
        "id": "0PN1atrc22dl",
        "outputId": "180dfc56-9a06-4ac3-82d8-14d1005a7f83"
      },
      "execution_count": 55,
      "outputs": [
        {
          "output_type": "stream",
          "name": "stdout",
          "text": [
            "['Rohit', 'Jaiswal', 'Virat', 'Pant', 'Sky', 'Dube', 'Hardik', 'Jaddu']\n",
            "['Rohit', 'Jaiswal', 'Virat', 'Pant', 'Sky', 'Rinku', 'Tewatia', 'Ashuthosh', 'Shashank', 'Dube', 'Hardik', 'Jaddu']\n"
          ]
        }
      ]
    },
    {
      "cell_type": "code",
      "source": [
        "\n"
      ],
      "metadata": {
        "id": "0VwfjHgm3uSD"
      },
      "execution_count": 67,
      "outputs": []
    },
    {
      "cell_type": "code",
      "source": [
        "# remove\n",
        "\n",
        "l = [1,2,3,4,5]\n",
        "print(l)\n",
        "l.remove(3)\n",
        "print(l)"
      ],
      "metadata": {
        "colab": {
          "base_uri": "https://localhost:8080/"
        },
        "id": "hABO5MhY4aun",
        "outputId": "f146d451-b84d-41a0-b074-9441dd7961b7"
      },
      "execution_count": 57,
      "outputs": [
        {
          "output_type": "stream",
          "name": "stdout",
          "text": [
            "[1, 2, 3, 4, 5]\n",
            "[1, 2, 4, 5]\n"
          ]
        }
      ]
    },
    {
      "cell_type": "code",
      "source": [
        "l = [1,2,3,4,5]\n",
        "print(l)\n",
        "l.remove(6)\n",
        "print(l)"
      ],
      "metadata": {
        "colab": {
          "base_uri": "https://localhost:8080/",
          "height": 211
        },
        "id": "egJ_9uzN4pli",
        "outputId": "ea7b7630-2078-42be-bf8f-43d66dcc995e"
      },
      "execution_count": 58,
      "outputs": [
        {
          "output_type": "stream",
          "name": "stdout",
          "text": [
            "[1, 2, 3, 4, 5]\n"
          ]
        },
        {
          "output_type": "error",
          "ename": "ValueError",
          "evalue": "list.remove(x): x not in list",
          "traceback": [
            "\u001b[0;31m---------------------------------------------------------------------------\u001b[0m",
            "\u001b[0;31mValueError\u001b[0m                                Traceback (most recent call last)",
            "\u001b[0;32m<ipython-input-58-a127ac358cec>\u001b[0m in \u001b[0;36m<cell line: 3>\u001b[0;34m()\u001b[0m\n\u001b[1;32m      1\u001b[0m \u001b[0ml\u001b[0m \u001b[0;34m=\u001b[0m \u001b[0;34m[\u001b[0m\u001b[0;36m1\u001b[0m\u001b[0;34m,\u001b[0m\u001b[0;36m2\u001b[0m\u001b[0;34m,\u001b[0m\u001b[0;36m3\u001b[0m\u001b[0;34m,\u001b[0m\u001b[0;36m4\u001b[0m\u001b[0;34m,\u001b[0m\u001b[0;36m5\u001b[0m\u001b[0;34m]\u001b[0m\u001b[0;34m\u001b[0m\u001b[0;34m\u001b[0m\u001b[0m\n\u001b[1;32m      2\u001b[0m \u001b[0mprint\u001b[0m\u001b[0;34m(\u001b[0m\u001b[0ml\u001b[0m\u001b[0;34m)\u001b[0m\u001b[0;34m\u001b[0m\u001b[0;34m\u001b[0m\u001b[0m\n\u001b[0;32m----> 3\u001b[0;31m \u001b[0ml\u001b[0m\u001b[0;34m.\u001b[0m\u001b[0mremove\u001b[0m\u001b[0;34m(\u001b[0m\u001b[0;36m6\u001b[0m\u001b[0;34m)\u001b[0m\u001b[0;34m\u001b[0m\u001b[0;34m\u001b[0m\u001b[0m\n\u001b[0m\u001b[1;32m      4\u001b[0m \u001b[0mprint\u001b[0m\u001b[0;34m(\u001b[0m\u001b[0ml\u001b[0m\u001b[0;34m)\u001b[0m\u001b[0;34m\u001b[0m\u001b[0;34m\u001b[0m\u001b[0m\n",
            "\u001b[0;31mValueError\u001b[0m: list.remove(x): x not in list"
          ]
        }
      ]
    },
    {
      "cell_type": "code",
      "source": [
        "l = [1,2,3,6,4,3,5,3]\n",
        "print(l)\n",
        "l.remove(3)\n",
        "print(l)"
      ],
      "metadata": {
        "colab": {
          "base_uri": "https://localhost:8080/"
        },
        "id": "J-WX1OEh5Kkc",
        "outputId": "91a6462a-9197-48e1-841a-07502768052c"
      },
      "execution_count": 60,
      "outputs": [
        {
          "output_type": "stream",
          "name": "stdout",
          "text": [
            "[1, 2, 3, 6, 4, 3, 5, 3]\n",
            "[1, 2, 6, 4, 3, 5, 3]\n"
          ]
        }
      ]
    },
    {
      "cell_type": "code",
      "source": [
        "l = [1,2,3,6,4,3,5,3]\n",
        "print(l)\n",
        "re = l.remove(3)\n",
        "print(l)\n",
        "print(re)"
      ],
      "metadata": {
        "colab": {
          "base_uri": "https://localhost:8080/"
        },
        "id": "gaWIbox45MlE",
        "outputId": "c53405e0-41f8-44c4-cbcc-eb9becb73a63"
      },
      "execution_count": 61,
      "outputs": [
        {
          "output_type": "stream",
          "name": "stdout",
          "text": [
            "[1, 2, 3, 6, 4, 3, 5, 3]\n",
            "[1, 2, 6, 4, 3, 5, 3]\n",
            "None\n"
          ]
        }
      ]
    },
    {
      "cell_type": "code",
      "source": [
        "# delete --> deleted an element based on index\n",
        "\n",
        "l = [1, 2, 3, 4, 5]\n",
        "print(l)\n",
        "del l[3]\n",
        "print(l)"
      ],
      "metadata": {
        "colab": {
          "base_uri": "https://localhost:8080/"
        },
        "id": "hGQJ8r-P53O_",
        "outputId": "58e05799-b211-41f9-daaa-6e9dc1df7062"
      },
      "execution_count": 62,
      "outputs": [
        {
          "output_type": "stream",
          "name": "stdout",
          "text": [
            "[1, 2, 3, 4, 5]\n",
            "[1, 2, 3, 5]\n"
          ]
        }
      ]
    },
    {
      "cell_type": "code",
      "source": [
        "l = [1,2,3,4,5]\n",
        "print(l)\n",
        "del l[1:4]\n",
        "print(l)"
      ],
      "metadata": {
        "colab": {
          "base_uri": "https://localhost:8080/"
        },
        "id": "P0Yhg76f6LJD",
        "outputId": "68a74e07-d339-40a5-9353-fda8d15753bb"
      },
      "execution_count": 63,
      "outputs": [
        {
          "output_type": "stream",
          "name": "stdout",
          "text": [
            "[1, 2, 3, 4, 5]\n",
            "[1, 5]\n"
          ]
        }
      ]
    },
    {
      "cell_type": "code",
      "source": [
        "l = [1,2,3,4,5]\n",
        "print(l)\n",
        "del l[:]\n",
        "print(l)"
      ],
      "metadata": {
        "colab": {
          "base_uri": "https://localhost:8080/"
        },
        "id": "nfYv5CvE7z8L",
        "outputId": "d9c46512-ba45-4b53-888a-097acf34ea90"
      },
      "execution_count": 66,
      "outputs": [
        {
          "output_type": "stream",
          "name": "stdout",
          "text": [
            "[1, 2, 3, 4, 5]\n",
            "[]\n"
          ]
        }
      ]
    },
    {
      "cell_type": "code",
      "source": [
        "# deleting an entire list\n",
        "\n",
        "l = [1,2,3,4,5]\n",
        "print(l)\n",
        "del l # referece is deleted\n",
        "print(l)"
      ],
      "metadata": {
        "colab": {
          "base_uri": "https://localhost:8080/",
          "height": 193
        },
        "id": "BfTk4-ZE6w9u",
        "outputId": "8bbcb7b9-b002-4b26-c5b9-be382f2a9acc"
      },
      "execution_count": 64,
      "outputs": [
        {
          "output_type": "stream",
          "name": "stdout",
          "text": [
            "[1, 2, 3, 4, 5]\n"
          ]
        },
        {
          "output_type": "error",
          "ename": "NameError",
          "evalue": "name 'l' is not defined",
          "traceback": [
            "\u001b[0;31m---------------------------------------------------------------------------\u001b[0m",
            "\u001b[0;31mNameError\u001b[0m                                 Traceback (most recent call last)",
            "\u001b[0;32m<ipython-input-64-d090ffeab0cc>\u001b[0m in \u001b[0;36m<cell line: 6>\u001b[0;34m()\u001b[0m\n\u001b[1;32m      4\u001b[0m \u001b[0mprint\u001b[0m\u001b[0;34m(\u001b[0m\u001b[0ml\u001b[0m\u001b[0;34m)\u001b[0m\u001b[0;34m\u001b[0m\u001b[0;34m\u001b[0m\u001b[0m\n\u001b[1;32m      5\u001b[0m \u001b[0;32mdel\u001b[0m \u001b[0ml\u001b[0m\u001b[0;34m\u001b[0m\u001b[0;34m\u001b[0m\u001b[0m\n\u001b[0;32m----> 6\u001b[0;31m \u001b[0mprint\u001b[0m\u001b[0;34m(\u001b[0m\u001b[0ml\u001b[0m\u001b[0;34m)\u001b[0m\u001b[0;34m\u001b[0m\u001b[0;34m\u001b[0m\u001b[0m\n\u001b[0m",
            "\u001b[0;31mNameError\u001b[0m: name 'l' is not defined"
          ]
        }
      ]
    },
    {
      "cell_type": "code",
      "source": [
        "# clear()\n",
        "\n",
        "l = [1, 2, 3, 4, 5]\n",
        "print(l)\n",
        "l.clear()\n",
        "print(l)"
      ],
      "metadata": {
        "colab": {
          "base_uri": "https://localhost:8080/"
        },
        "id": "XbShW5fa67GR",
        "outputId": "ea44233e-f767-4eb0-9518-e8c5474219d2"
      },
      "execution_count": 65,
      "outputs": [
        {
          "output_type": "stream",
          "name": "stdout",
          "text": [
            "[1, 2, 3, 4, 5]\n",
            "[]\n"
          ]
        }
      ]
    },
    {
      "cell_type": "code",
      "source": [
        "# pop(index) --> index is optional\n",
        "\n",
        "l = [1, 2, 3, 4, 5]\n",
        "print(l)\n",
        "l.pop()\n",
        "print(l)"
      ],
      "metadata": {
        "colab": {
          "base_uri": "https://localhost:8080/"
        },
        "id": "etJezuMB7Iha",
        "outputId": "e3021f0c-44f7-45ec-aac1-717bbf3d20c0"
      },
      "execution_count": 68,
      "outputs": [
        {
          "output_type": "stream",
          "name": "stdout",
          "text": [
            "[1, 2, 3, 4, 5]\n",
            "[1, 2, 3, 4]\n"
          ]
        }
      ]
    },
    {
      "cell_type": "code",
      "source": [
        "l = [1, 2, 3, 4, 5]\n",
        "print(l)\n",
        "ele = l.pop()\n",
        "print(l)\n",
        "print(ele)"
      ],
      "metadata": {
        "colab": {
          "base_uri": "https://localhost:8080/"
        },
        "id": "NwRDYXSn8zjg",
        "outputId": "bbbc2fbc-8703-4d61-8612-12f4aa082e7a"
      },
      "execution_count": 70,
      "outputs": [
        {
          "output_type": "stream",
          "name": "stdout",
          "text": [
            "[1, 2, 3, 4, 5]\n",
            "[1, 2, 3, 4]\n",
            "5\n"
          ]
        }
      ]
    },
    {
      "cell_type": "code",
      "source": [
        "l = [1, 2, 3, 4, 5]\n",
        "print(l)\n",
        "ele = l.pop(3) # removes and returns element at index 3\n",
        "print(l)\n",
        "print(ele)"
      ],
      "metadata": {
        "colab": {
          "base_uri": "https://localhost:8080/"
        },
        "id": "I-CmMtN-84aG",
        "outputId": "f6cfa481-b36a-4c37-d656-74014cb00575"
      },
      "execution_count": 71,
      "outputs": [
        {
          "output_type": "stream",
          "name": "stdout",
          "text": [
            "[1, 2, 3, 4, 5]\n",
            "[1, 2, 3, 5]\n",
            "4\n"
          ]
        }
      ]
    },
    {
      "cell_type": "code",
      "source": [
        "l = [1,2,3,4,5]\n",
        "print(l)\n",
        "a = l.pop(10)\n",
        "print(l)\n",
        "print(a)"
      ],
      "metadata": {
        "colab": {
          "base_uri": "https://localhost:8080/",
          "height": 228
        },
        "id": "0LxYlpBR-wKi",
        "outputId": "abdc21f7-6581-43e7-93dc-5b8534c82012"
      },
      "execution_count": 75,
      "outputs": [
        {
          "output_type": "stream",
          "name": "stdout",
          "text": [
            "[1, 2, 3, 4, 5]\n"
          ]
        },
        {
          "output_type": "error",
          "ename": "IndexError",
          "evalue": "pop index out of range",
          "traceback": [
            "\u001b[0;31m---------------------------------------------------------------------------\u001b[0m",
            "\u001b[0;31mIndexError\u001b[0m                                Traceback (most recent call last)",
            "\u001b[0;32m<ipython-input-75-67f44e0a84d1>\u001b[0m in \u001b[0;36m<cell line: 3>\u001b[0;34m()\u001b[0m\n\u001b[1;32m      1\u001b[0m \u001b[0ml\u001b[0m \u001b[0;34m=\u001b[0m \u001b[0;34m[\u001b[0m\u001b[0;36m1\u001b[0m\u001b[0;34m,\u001b[0m\u001b[0;36m2\u001b[0m\u001b[0;34m,\u001b[0m\u001b[0;36m3\u001b[0m\u001b[0;34m,\u001b[0m\u001b[0;36m4\u001b[0m\u001b[0;34m,\u001b[0m\u001b[0;36m5\u001b[0m\u001b[0;34m]\u001b[0m\u001b[0;34m\u001b[0m\u001b[0;34m\u001b[0m\u001b[0m\n\u001b[1;32m      2\u001b[0m \u001b[0mprint\u001b[0m\u001b[0;34m(\u001b[0m\u001b[0ml\u001b[0m\u001b[0;34m)\u001b[0m\u001b[0;34m\u001b[0m\u001b[0;34m\u001b[0m\u001b[0m\n\u001b[0;32m----> 3\u001b[0;31m \u001b[0ma\u001b[0m \u001b[0;34m=\u001b[0m \u001b[0ml\u001b[0m\u001b[0;34m.\u001b[0m\u001b[0mpop\u001b[0m\u001b[0;34m(\u001b[0m\u001b[0;36m10\u001b[0m\u001b[0;34m)\u001b[0m\u001b[0;34m\u001b[0m\u001b[0;34m\u001b[0m\u001b[0m\n\u001b[0m\u001b[1;32m      4\u001b[0m \u001b[0mprint\u001b[0m\u001b[0;34m(\u001b[0m\u001b[0ml\u001b[0m\u001b[0;34m)\u001b[0m\u001b[0;34m\u001b[0m\u001b[0;34m\u001b[0m\u001b[0m\n\u001b[1;32m      5\u001b[0m \u001b[0mprint\u001b[0m\u001b[0;34m(\u001b[0m\u001b[0ma\u001b[0m\u001b[0;34m)\u001b[0m\u001b[0;34m\u001b[0m\u001b[0;34m\u001b[0m\u001b[0m\n",
            "\u001b[0;31mIndexError\u001b[0m: pop index out of range"
          ]
        }
      ]
    },
    {
      "cell_type": "code",
      "source": [
        "# list comprehension\n",
        "\n",
        "li = []\n",
        "\n",
        "for i in range(1, 101):\n",
        "  li.append(i)\n",
        "\n",
        "print(li)"
      ],
      "metadata": {
        "colab": {
          "base_uri": "https://localhost:8080/"
        },
        "id": "8gWEBOlU9UvC",
        "outputId": "e96d2c73-3b6d-409a-832f-926faf9550b7"
      },
      "execution_count": 72,
      "outputs": [
        {
          "output_type": "stream",
          "name": "stdout",
          "text": [
            "[1, 2, 3, 4, 5, 6, 7, 8, 9, 10, 11, 12, 13, 14, 15, 16, 17, 18, 19, 20, 21, 22, 23, 24, 25, 26, 27, 28, 29, 30, 31, 32, 33, 34, 35, 36, 37, 38, 39, 40, 41, 42, 43, 44, 45, 46, 47, 48, 49, 50, 51, 52, 53, 54, 55, 56, 57, 58, 59, 60, 61, 62, 63, 64, 65, 66, 67, 68, 69, 70, 71, 72, 73, 74, 75, 76, 77, 78, 79, 80, 81, 82, 83, 84, 85, 86, 87, 88, 89, 90, 91, 92, 93, 94, 95, 96, 97, 98, 99, 100]\n"
          ]
        }
      ]
    },
    {
      "cell_type": "code",
      "source": [
        "li = [i for i in range(1, 101)]\n",
        "print(li)"
      ],
      "metadata": {
        "colab": {
          "base_uri": "https://localhost:8080/"
        },
        "id": "J4dURD4l-aWh",
        "outputId": "5bed6ab4-38c7-4724-f858-eb64e4a4eaa9"
      },
      "execution_count": 74,
      "outputs": [
        {
          "output_type": "stream",
          "name": "stdout",
          "text": [
            "[1, 2, 3, 4, 5, 6, 7, 8, 9, 10, 11, 12, 13, 14, 15, 16, 17, 18, 19, 20, 21, 22, 23, 24, 25, 26, 27, 28, 29, 30, 31, 32, 33, 34, 35, 36, 37, 38, 39, 40, 41, 42, 43, 44, 45, 46, 47, 48, 49, 50, 51, 52, 53, 54, 55, 56, 57, 58, 59, 60, 61, 62, 63, 64, 65, 66, 67, 68, 69, 70, 71, 72, 73, 74, 75, 76, 77, 78, 79, 80, 81, 82, 83, 84, 85, 86, 87, 88, 89, 90, 91, 92, 93, 94, 95, 96, 97, 98, 99, 100]\n"
          ]
        }
      ]
    },
    {
      "cell_type": "code",
      "source": [
        "li = [x*2 for x in range(1, 5)]\n",
        "print(li)"
      ],
      "metadata": {
        "colab": {
          "base_uri": "https://localhost:8080/"
        },
        "id": "oBO7TFPn-fL_",
        "outputId": "e25c2644-f311-4cc2-99c9-cf191aaec31e"
      },
      "execution_count": 77,
      "outputs": [
        {
          "output_type": "stream",
          "name": "stdout",
          "text": [
            "[2, 4, 6, 8]\n"
          ]
        }
      ]
    },
    {
      "cell_type": "code",
      "source": [
        "li = [i for i in range(1, 10) if i % 2 == 0]\n",
        "print(li)"
      ],
      "metadata": {
        "colab": {
          "base_uri": "https://localhost:8080/"
        },
        "id": "fyPtEz78_Axx",
        "outputId": "3835d39c-aa13-4a59-df6d-9decad4cc0bd"
      },
      "execution_count": 78,
      "outputs": [
        {
          "output_type": "stream",
          "name": "stdout",
          "text": [
            "[2, 4, 6, 8]\n"
          ]
        }
      ]
    },
    {
      "cell_type": "code",
      "source": [
        "li = [x ** 3 if x % 2 == 0 else x ** 2 for x in range(5)]\n",
        "print(li)"
      ],
      "metadata": {
        "colab": {
          "base_uri": "https://localhost:8080/"
        },
        "id": "PrM7pkbd_XiO",
        "outputId": "692aecda-7a8c-4ae8-d70e-4f63d27104dc"
      },
      "execution_count": 79,
      "outputs": [
        {
          "output_type": "stream",
          "name": "stdout",
          "text": [
            "[0, 1, 8, 9, 64]\n"
          ]
        }
      ]
    },
    {
      "cell_type": "code",
      "source": [
        "li  = [x + 5 if x % 2 == 0 else x + 10 for x in range(1, 11)]\n",
        "print(li)"
      ],
      "metadata": {
        "colab": {
          "base_uri": "https://localhost:8080/"
        },
        "id": "Y8YHylF-_1V1",
        "outputId": "2fefc6bc-8757-40e5-f6e2-cc118869d6df"
      },
      "execution_count": 80,
      "outputs": [
        {
          "output_type": "stream",
          "name": "stdout",
          "text": [
            "[11, 7, 13, 9, 15, 11, 17, 13, 19, 15]\n"
          ]
        }
      ]
    },
    {
      "cell_type": "code",
      "source": [
        "l = [1, 2, 3]\n",
        "m = [2, 3, 4]\n",
        "\n",
        "li = [(i, j) for i in l for j in m if i + j > 3]\n",
        "print(li)"
      ],
      "metadata": {
        "colab": {
          "base_uri": "https://localhost:8080/"
        },
        "id": "qPltxfkcAeip",
        "outputId": "8fcc9835-9424-4c91-9aa6-e2721ccb32cc"
      },
      "execution_count": 81,
      "outputs": [
        {
          "output_type": "stream",
          "name": "stdout",
          "text": [
            "[(1, 3), (1, 4), (2, 2), (2, 3), (2, 4), (3, 2), (3, 3), (3, 4)]\n"
          ]
        }
      ]
    },
    {
      "cell_type": "code",
      "source": [
        "l = [1, 2, 3]\n",
        "m = [2, 3, 4]\n",
        "\n",
        "li = [(i, j) if i + j > 3 else (j, i) for i in l for j in m ]\n",
        "print(li)"
      ],
      "metadata": {
        "colab": {
          "base_uri": "https://localhost:8080/"
        },
        "id": "v8UYxhu_BzQ7",
        "outputId": "92778d89-6f02-4712-e3d0-a1e9a4a256cd"
      },
      "execution_count": 82,
      "outputs": [
        {
          "output_type": "stream",
          "name": "stdout",
          "text": [
            "[(2, 1), (1, 3), (1, 4), (2, 2), (2, 3), (2, 4), (3, 2), (3, 3), (3, 4)]\n"
          ]
        }
      ]
    },
    {
      "cell_type": "code",
      "source": [],
      "metadata": {
        "id": "ie7Eik4LC4tI"
      },
      "execution_count": null,
      "outputs": []
    }
  ]
}