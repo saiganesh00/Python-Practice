{
  "nbformat": 4,
  "nbformat_minor": 0,
  "metadata": {
    "colab": {
      "provenance": [],
      "authorship_tag": "ABX9TyOsgcP9PMGdMOTdttcN3a2H",
      "include_colab_link": true
    },
    "kernelspec": {
      "name": "python3",
      "display_name": "Python 3"
    },
    "language_info": {
      "name": "python"
    }
  },
  "cells": [
    {
      "cell_type": "markdown",
      "metadata": {
        "id": "view-in-github",
        "colab_type": "text"
      },
      "source": [
        "<a href=\"https://colab.research.google.com/github/saiganesh00/Python-Practice/blob/main/Python_Class_07.ipynb\" target=\"_parent\"><img src=\"https://colab.research.google.com/assets/colab-badge.svg\" alt=\"Open In Colab\"/></a>"
      ]
    },
    {
      "cell_type": "markdown",
      "source": [
        "## **Loops**\n",
        "- **For loop:** Use it when you are iterating through some sequence(either a string, list, tuple, dictionary, or set)\n",
        "\n",
        "- **While Loop:** Suppose you want to do some operations based on some conditions, then use while loop."
      ],
      "metadata": {
        "id": "vUbO2OTII8A0"
      }
    },
    {
      "cell_type": "code",
      "execution_count": 1,
      "metadata": {
        "colab": {
          "base_uri": "https://localhost:8080/"
        },
        "id": "Y8e9hRsTIFdw",
        "outputId": "2b52009c-07f1-449c-af02-0787653e992b"
      },
      "outputs": [
        {
          "output_type": "stream",
          "name": "stdout",
          "text": [
            "1\n",
            "2\n",
            "3\n",
            "4\n",
            "5\n",
            "6\n"
          ]
        }
      ],
      "source": [
        "li = [1, 2, 3, 4, 5, 6]\n",
        "\n",
        "for x in li:\n",
        "  print(x)"
      ]
    },
    {
      "cell_type": "code",
      "source": [
        "match_teams = \"India Vs Australia\"\n",
        "\n",
        "for ch in match_teams:\n",
        "  print(ch)"
      ],
      "metadata": {
        "colab": {
          "base_uri": "https://localhost:8080/"
        },
        "id": "B25i6_4sPXqX",
        "outputId": "0c8969dd-83db-488e-f8b3-5623f18ca901"
      },
      "execution_count": 2,
      "outputs": [
        {
          "output_type": "stream",
          "name": "stdout",
          "text": [
            "I\n",
            "n\n",
            "d\n",
            "i\n",
            "a\n",
            " \n",
            "V\n",
            "s\n",
            " \n",
            "A\n",
            "u\n",
            "s\n",
            "t\n",
            "r\n",
            "a\n",
            "l\n",
            "i\n",
            "a\n"
          ]
        }
      ]
    },
    {
      "cell_type": "code",
      "source": [
        "for i in range(5):\n",
        "  print(i)"
      ],
      "metadata": {
        "colab": {
          "base_uri": "https://localhost:8080/"
        },
        "id": "Dhjq6dvIP6WL",
        "outputId": "66c5cb83-4f0f-42fd-cd28-81eebcf1ae3f"
      },
      "execution_count": 3,
      "outputs": [
        {
          "output_type": "stream",
          "name": "stdout",
          "text": [
            "0\n",
            "1\n",
            "2\n",
            "3\n",
            "4\n"
          ]
        }
      ]
    },
    {
      "cell_type": "code",
      "source": [
        "scores = [23, 43, 54, 63, 73]"
      ],
      "metadata": {
        "id": "toKjLClDQs2V"
      },
      "execution_count": 5,
      "outputs": []
    },
    {
      "cell_type": "code",
      "source": [
        "for score in scores:\n",
        "  print(score)"
      ],
      "metadata": {
        "colab": {
          "base_uri": "https://localhost:8080/"
        },
        "id": "UopOqepQSjpK",
        "outputId": "fdc403da-4303-4709-8757-44ce8d61b3cb"
      },
      "execution_count": 7,
      "outputs": [
        {
          "output_type": "stream",
          "name": "stdout",
          "text": [
            "23\n",
            "43\n",
            "54\n",
            "63\n",
            "73\n"
          ]
        }
      ]
    },
    {
      "cell_type": "code",
      "source": [
        "for ind, ele in enumerate(scores):\n",
        "  print(ind, \" ---> \", ele)"
      ],
      "metadata": {
        "colab": {
          "base_uri": "https://localhost:8080/"
        },
        "id": "iz83Uwy6S4Lx",
        "outputId": "d30cabe7-a63d-4f5b-8c00-32e1e77413da"
      },
      "execution_count": 8,
      "outputs": [
        {
          "output_type": "stream",
          "name": "stdout",
          "text": [
            "0  --->  23\n",
            "1  --->  43\n",
            "2  --->  54\n",
            "3  --->  63\n",
            "4  --->  73\n"
          ]
        }
      ]
    },
    {
      "cell_type": "code",
      "source": [
        "for i in range(len(scores) - 1, 0, -1):\n",
        "  print(scores[i])"
      ],
      "metadata": {
        "colab": {
          "base_uri": "https://localhost:8080/"
        },
        "id": "0mOH8_W3TD3C",
        "outputId": "4ee471cb-ce6c-47aa-f1ef-3a0b53acf086"
      },
      "execution_count": 10,
      "outputs": [
        {
          "output_type": "stream",
          "name": "stdout",
          "text": [
            "73\n",
            "63\n",
            "54\n",
            "43\n"
          ]
        }
      ]
    },
    {
      "cell_type": "code",
      "source": [
        "for i in range(len(scores) - 1, -1, -1):\n",
        "  print(scores[i])"
      ],
      "metadata": {
        "colab": {
          "base_uri": "https://localhost:8080/"
        },
        "id": "2sVIwXXUTRzj",
        "outputId": "11098210-f7f1-43ab-b24e-8326ae8b39d5"
      },
      "execution_count": 11,
      "outputs": [
        {
          "output_type": "stream",
          "name": "stdout",
          "text": [
            "73\n",
            "63\n",
            "54\n",
            "43\n",
            "23\n"
          ]
        }
      ]
    },
    {
      "cell_type": "code",
      "source": [
        "for i in range(len(scores) - 1, -2, -1):\n",
        "  print(scores[i])"
      ],
      "metadata": {
        "colab": {
          "base_uri": "https://localhost:8080/"
        },
        "id": "mcb104YYT_DM",
        "outputId": "db0c3a1c-bd0c-4f8e-898b-9b1ac3860ae0"
      },
      "execution_count": 12,
      "outputs": [
        {
          "output_type": "stream",
          "name": "stdout",
          "text": [
            "73\n",
            "63\n",
            "54\n",
            "43\n",
            "23\n",
            "73\n"
          ]
        }
      ]
    },
    {
      "cell_type": "code",
      "source": [
        "for i in range(-len(scores), 0):\n",
        "  print(scores[i])"
      ],
      "metadata": {
        "colab": {
          "base_uri": "https://localhost:8080/"
        },
        "id": "qA1msWgRUBmV",
        "outputId": "a0823193-094e-4b2f-8f98-d5532b3efd39"
      },
      "execution_count": 13,
      "outputs": [
        {
          "output_type": "stream",
          "name": "stdout",
          "text": [
            "23\n",
            "43\n",
            "54\n",
            "63\n",
            "73\n"
          ]
        }
      ]
    },
    {
      "cell_type": "code",
      "source": [
        "range(len(scores))"
      ],
      "metadata": {
        "colab": {
          "base_uri": "https://localhost:8080/"
        },
        "id": "FFR8Jcs8Uvq3",
        "outputId": "4edddd27-3c57-4e95-9cde-69a91ce38714"
      },
      "execution_count": 14,
      "outputs": [
        {
          "output_type": "execute_result",
          "data": {
            "text/plain": [
              "range(0, 5)"
            ]
          },
          "metadata": {},
          "execution_count": 14
        }
      ]
    },
    {
      "cell_type": "code",
      "source": [
        "range(-len(scores))"
      ],
      "metadata": {
        "colab": {
          "base_uri": "https://localhost:8080/"
        },
        "id": "kxEmlhP9WL2g",
        "outputId": "bca71786-e633-4bdd-9ae6-4296e5d859d8"
      },
      "execution_count": 15,
      "outputs": [
        {
          "output_type": "execute_result",
          "data": {
            "text/plain": [
              "range(0, -5)"
            ]
          },
          "metadata": {},
          "execution_count": 15
        }
      ]
    },
    {
      "cell_type": "code",
      "source": [
        "players = [[\"Virat\", \"Rohit\"], ['Babar', \"Rizwan\"], [\"Maxi\", \"Warner\"]]\n",
        "\n",
        "for player_list in players:\n",
        "  for player in player_list:\n",
        "    print(player)"
      ],
      "metadata": {
        "colab": {
          "base_uri": "https://localhost:8080/"
        },
        "id": "_ERHDJPEWPQ4",
        "outputId": "0c5944ea-db1a-4a49-8250-7ff30759c22d"
      },
      "execution_count": 16,
      "outputs": [
        {
          "output_type": "stream",
          "name": "stdout",
          "text": [
            "Virat\n",
            "Rohit\n",
            "Babar\n",
            "Rizwan\n",
            "Maxi\n",
            "Warner\n"
          ]
        }
      ]
    },
    {
      "cell_type": "code",
      "source": [
        "election_parties = [\"bjp\", \"congress\", \"dmk\"]\n",
        "constituency = [300, 299, 40]"
      ],
      "metadata": {
        "id": "sdHPt6_iYIjc"
      },
      "execution_count": 17,
      "outputs": []
    },
    {
      "cell_type": "code",
      "source": [
        "for party, val in zip(election_parties, constituency):\n",
        "  print(party, val)"
      ],
      "metadata": {
        "colab": {
          "base_uri": "https://localhost:8080/"
        },
        "id": "6PYAVwH7YMjw",
        "outputId": "a23e8932-b623-471e-c0ae-fe5bf35c787c"
      },
      "execution_count": 18,
      "outputs": [
        {
          "output_type": "stream",
          "name": "stdout",
          "text": [
            "bjp 300\n",
            "congress 299\n",
            "dmk 40\n"
          ]
        }
      ]
    },
    {
      "cell_type": "code",
      "source": [
        "for party, val in zip(constituency, election_parties):\n",
        "  print(party, val)"
      ],
      "metadata": {
        "colab": {
          "base_uri": "https://localhost:8080/"
        },
        "id": "Gu3y9QMGYXhQ",
        "outputId": "276b0d2c-f5ad-4187-e604-911dd5bf6e8f"
      },
      "execution_count": 19,
      "outputs": [
        {
          "output_type": "stream",
          "name": "stdout",
          "text": [
            "300 bjp\n",
            "299 congress\n",
            "40 dmk\n"
          ]
        }
      ]
    },
    {
      "cell_type": "code",
      "source": [
        "l1 = ['a', 'b', 'c']\n",
        "l2 = [1, 2, 3]\n",
        "l3 = [100, 200, 300]\n",
        "\n",
        "for a, b, c in zip(l1, l2, l3):\n",
        "  print(a, b, c)"
      ],
      "metadata": {
        "colab": {
          "base_uri": "https://localhost:8080/"
        },
        "id": "Aracydd9ixll",
        "outputId": "6d2a03a3-59d6-4941-946b-b853bffce8b1"
      },
      "execution_count": 20,
      "outputs": [
        {
          "output_type": "stream",
          "name": "stdout",
          "text": [
            "a 1 100\n",
            "b 2 200\n",
            "c 3 300\n"
          ]
        }
      ]
    },
    {
      "cell_type": "code",
      "source": [
        "l1 = ['a', 'b', 'c']\n",
        "l2 = [1, 2]\n",
        "l3 = [100, 200, 300]\n",
        "\n",
        "for a, b, c in zip(l1, l2, l3):\n",
        "  print(a, b, c)"
      ],
      "metadata": {
        "colab": {
          "base_uri": "https://localhost:8080/"
        },
        "id": "9gZd9RBOjyz1",
        "outputId": "36b5cb52-574d-4cf8-c9c9-e5aab4e535cd"
      },
      "execution_count": 21,
      "outputs": [
        {
          "output_type": "stream",
          "name": "stdout",
          "text": [
            "a 1 100\n",
            "b 2 200\n"
          ]
        }
      ]
    },
    {
      "cell_type": "code",
      "source": [
        "l1 = ['a', 'b', 'c']\n",
        "l2 = [1, 2]\n",
        "l3 = [100]\n",
        "\n",
        "for a, b, c in zip(l1, l2, l3):\n",
        "  print(a, b, c)"
      ],
      "metadata": {
        "colab": {
          "base_uri": "https://localhost:8080/"
        },
        "id": "jGJ6CTxCj3dl",
        "outputId": "d00149f8-acd3-4153-dd78-9c603369da4a"
      },
      "execution_count": 22,
      "outputs": [
        {
          "output_type": "stream",
          "name": "stdout",
          "text": [
            "a 1 100\n"
          ]
        }
      ]
    },
    {
      "cell_type": "code",
      "source": [
        "l1 = ['a', 'b', 'c']\n",
        "l2 = [1, 2, 3]\n",
        "l3 = (100, 200, 300)\n",
        "\n",
        "for a, b, c in zip(l1, l2, l3):\n",
        "  print(a, b, c)"
      ],
      "metadata": {
        "colab": {
          "base_uri": "https://localhost:8080/"
        },
        "id": "O2gS4iudj6D7",
        "outputId": "ff1da1ab-c13d-48f0-dc76-7aa97303e471"
      },
      "execution_count": 24,
      "outputs": [
        {
          "output_type": "stream",
          "name": "stdout",
          "text": [
            "a 1 100\n",
            "b 2 200\n",
            "c 3 300\n"
          ]
        }
      ]
    },
    {
      "cell_type": "code",
      "source": [
        "l1 = ['a', 'b', 'c']\n",
        "l2 = (1, 2, 3)\n",
        "l3 = {100, 200, 300}\n",
        "\n",
        "for a, b, c in zip(l1, l2, l3):\n",
        "  print(a, b, c)"
      ],
      "metadata": {
        "colab": {
          "base_uri": "https://localhost:8080/"
        },
        "id": "bKu8AXA6kU6e",
        "outputId": "797cdbee-a180-4e56-fa13-6c9978a316bb"
      },
      "execution_count": 25,
      "outputs": [
        {
          "output_type": "stream",
          "name": "stdout",
          "text": [
            "a 1 200\n",
            "b 2 100\n",
            "c 3 300\n"
          ]
        }
      ]
    },
    {
      "cell_type": "markdown",
      "source": [
        "### **While Loop**"
      ],
      "metadata": {
        "id": "m7kB_4GTo9kF"
      }
    },
    {
      "cell_type": "code",
      "source": [
        "l1 = [\"rbr\", \"jay\", \"hari\", \"venky\"]\n",
        "n = len(l1)\n",
        "i = 0\n",
        "while i < n:\n",
        "  print(l1[i])\n",
        "  i += 1"
      ],
      "metadata": {
        "colab": {
          "base_uri": "https://localhost:8080/"
        },
        "id": "XhzZXpjikcQu",
        "outputId": "d289b5a9-94d5-4086-c422-3c270be37c24"
      },
      "execution_count": 26,
      "outputs": [
        {
          "output_type": "stream",
          "name": "stdout",
          "text": [
            "rbr\n",
            "jay\n",
            "hari\n",
            "venky\n"
          ]
        }
      ]
    },
    {
      "cell_type": "code",
      "source": [
        "found = True\n",
        "while found:\n",
        "  i = 0\n",
        "  while i < 5:\n",
        "    print(i)\n",
        "    i += 1\n",
        "    if i == 5:\n",
        "      found = False\n",
        "print('Loop Terminated')"
      ],
      "metadata": {
        "colab": {
          "base_uri": "https://localhost:8080/"
        },
        "id": "fELbLVQVpNLl",
        "outputId": "b83bfd48-8552-4661-9532-3384a17dc305"
      },
      "execution_count": 29,
      "outputs": [
        {
          "output_type": "stream",
          "name": "stdout",
          "text": [
            "0\n",
            "1\n",
            "2\n",
            "3\n",
            "4\n",
            "Loop Terminated\n"
          ]
        }
      ]
    },
    {
      "cell_type": "code",
      "source": [],
      "metadata": {
        "id": "B4_9irwxsf3V"
      },
      "execution_count": null,
      "outputs": []
    }
  ]
}