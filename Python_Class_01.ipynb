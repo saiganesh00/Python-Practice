{
  "nbformat": 4,
  "nbformat_minor": 0,
  "metadata": {
    "colab": {
      "provenance": [],
      "authorship_tag": "ABX9TyOW8CylBveXSLUzbIVsfinw",
      "include_colab_link": true
    },
    "kernelspec": {
      "name": "python3",
      "display_name": "Python 3"
    },
    "language_info": {
      "name": "python"
    }
  },
  "cells": [
    {
      "cell_type": "markdown",
      "metadata": {
        "id": "view-in-github",
        "colab_type": "text"
      },
      "source": [
        "<a href=\"https://colab.research.google.com/github/saiganesh00/Python-Practice/blob/main/Python_Class_01.ipynb\" target=\"_parent\"><img src=\"https://colab.research.google.com/assets/colab-badge.svg\" alt=\"Open In Colab\"/></a>"
      ]
    },
    {
      "cell_type": "markdown",
      "source": [
        "#**DAY - 1**"
      ],
      "metadata": {
        "id": "GpKbHw0PI7P7"
      }
    },
    {
      "cell_type": "markdown",
      "source": [
        "**Running a python program: *python fileName.py***"
      ],
      "metadata": {
        "id": "6q3Q6K__RQKB"
      }
    },
    {
      "cell_type": "markdown",
      "source": [
        "### **Print Statement**"
      ],
      "metadata": {
        "id": "D7RfWmtiSSmK"
      }
    },
    {
      "cell_type": "code",
      "source": [
        "print(\"Hello World!\")\n",
        "print(\"This is Shanmukh\")"
      ],
      "metadata": {
        "colab": {
          "base_uri": "https://localhost:8080/"
        },
        "id": "UbOLTYEtIzN2",
        "outputId": "b2121674-4ff8-4148-f21f-6298883acb5f"
      },
      "execution_count": null,
      "outputs": [
        {
          "output_type": "stream",
          "name": "stdout",
          "text": [
            "Hello World!\n",
            "This is Shanmukh\n"
          ]
        }
      ]
    },
    {
      "cell_type": "markdown",
      "source": [
        "##### **\"print()\" will have \"\\n\" as default at the end**"
      ],
      "metadata": {
        "id": "OaF_A0bJZj9p"
      }
    },
    {
      "cell_type": "code",
      "source": [
        "print(\"Hello World!\", \"\\n\" \"This is Shanmukh\")"
      ],
      "metadata": {
        "colab": {
          "base_uri": "https://localhost:8080/"
        },
        "id": "UGrOJ9woJ3K1",
        "outputId": "17c0abc1-91a8-4d26-bb31-91f2ba4e3930"
      },
      "execution_count": null,
      "outputs": [
        {
          "output_type": "stream",
          "name": "stdout",
          "text": [
            "Hello World! \n",
            "This is Shanmukh\n"
          ]
        }
      ]
    },
    {
      "cell_type": "code",
      "source": [
        "# end = \"\" --> Parameter of print --> Implemented at the end --> Default end = \"\\n\"\n",
        "\n",
        "print(\"Hello World!\", end = \" \")\n",
        "print(\"This is Shanmukh\")"
      ],
      "metadata": {
        "colab": {
          "base_uri": "https://localhost:8080/"
        },
        "id": "H85tLZAWRuQG",
        "outputId": "28c91bbb-8e24-452d-b998-6ac6b0ae16dd"
      },
      "execution_count": null,
      "outputs": [
        {
          "output_type": "stream",
          "name": "stdout",
          "text": [
            "Hello World! This is Shanmukh\n"
          ]
        }
      ]
    },
    {
      "cell_type": "code",
      "source": [
        "print(\"Hello World!\", end = \"---\")\n",
        "print(\"This is shanmukh\")"
      ],
      "metadata": {
        "colab": {
          "base_uri": "https://localhost:8080/"
        },
        "id": "-eFmfzHORy-w",
        "outputId": "cd36d85d-fb6b-4be4-9392-7a307ec60905"
      },
      "execution_count": null,
      "outputs": [
        {
          "output_type": "stream",
          "name": "stdout",
          "text": [
            "Hello World!---This is shanmukh\n"
          ]
        }
      ]
    },
    {
      "cell_type": "code",
      "source": [
        "# sep = \"\" ---> parameter of print --> Used to separate the strings --> Default sep = \" \"\n",
        "\n",
        "print(\"Hello\", \"World!\", \"Python\")"
      ],
      "metadata": {
        "colab": {
          "base_uri": "https://localhost:8080/"
        },
        "id": "uoAzD-B6R1I7",
        "outputId": "582d58e9-75a7-4005-9d02-0ac5236ce10e"
      },
      "execution_count": null,
      "outputs": [
        {
          "output_type": "stream",
          "name": "stdout",
          "text": [
            "Hello World! Python\n"
          ]
        }
      ]
    },
    {
      "cell_type": "code",
      "source": [
        "print(\"Hello\", \"World\", \"Python\", sep = \"\")"
      ],
      "metadata": {
        "colab": {
          "base_uri": "https://localhost:8080/"
        },
        "id": "rpNwoHQqaYkd",
        "outputId": "0fdbff48-a8f5-438f-ba69-c741e30e00cf"
      },
      "execution_count": null,
      "outputs": [
        {
          "output_type": "stream",
          "name": "stdout",
          "text": [
            "HelloWorldPython\n"
          ]
        }
      ]
    },
    {
      "cell_type": "code",
      "source": [
        "print(\"Hello\", \"World\", \"Python\", sep = \"--->\")"
      ],
      "metadata": {
        "colab": {
          "base_uri": "https://localhost:8080/"
        },
        "id": "kooBQa2aawtK",
        "outputId": "d55fac22-2212-48c8-b6e0-58160c8b6c0f"
      },
      "execution_count": null,
      "outputs": [
        {
          "output_type": "stream",
          "name": "stdout",
          "text": [
            "Hello--->World--->Python\n"
          ]
        }
      ]
    },
    {
      "cell_type": "code",
      "source": [
        "print(\"Hello\", \"World\", \"Python\", sep = \"\\n\")"
      ],
      "metadata": {
        "colab": {
          "base_uri": "https://localhost:8080/"
        },
        "id": "08bGp5xIa0jq",
        "outputId": "f7fd0714-c435-4ff3-cdbf-72716520ab43"
      },
      "execution_count": null,
      "outputs": [
        {
          "output_type": "stream",
          "name": "stdout",
          "text": [
            "Hello\n",
            "World\n",
            "Python\n"
          ]
        }
      ]
    },
    {
      "cell_type": "code",
      "source": [
        "print(\"Welcome to Python Class\", \"This is shanmukh\", sep = \"++\", end=\"***\")\n",
        "print(\"Checkout this answer\\n\")\n",
        "print(\"Check this :)\")\n"
      ],
      "metadata": {
        "colab": {
          "base_uri": "https://localhost:8080/"
        },
        "id": "U14ui635bY44",
        "outputId": "ee4d63be-705a-4b56-9195-9bdb6840828c"
      },
      "execution_count": null,
      "outputs": [
        {
          "output_type": "stream",
          "name": "stdout",
          "text": [
            "Welcome to Python Class++This is shanmukh***Checkout this answer\n",
            "\n",
            "Check this :)\n"
          ]
        }
      ]
    },
    {
      "cell_type": "markdown",
      "source": [
        "## **Variables**"
      ],
      "metadata": {
        "id": "Ey-3JpG4dBLN"
      }
    },
    {
      "cell_type": "markdown",
      "source": [
        "- **A variable is a storage container that stores values**\n",
        "- **A Python variable is a name assigned to the memory location**\n",
        "- **A pyhton variable cannot start with a number**"
      ],
      "metadata": {
        "id": "QDFX0wT_db1q"
      }
    },
    {
      "cell_type": "code",
      "source": [
        "2 + 3"
      ],
      "metadata": {
        "colab": {
          "base_uri": "https://localhost:8080/"
        },
        "id": "Hk0l_zIYb2B0",
        "outputId": "5c9e88bb-924f-48e2-e53d-2fe08eed67d2"
      },
      "execution_count": null,
      "outputs": [
        {
          "output_type": "execute_result",
          "data": {
            "text/plain": [
              "5"
            ]
          },
          "metadata": {},
          "execution_count": 26
        }
      ]
    },
    {
      "cell_type": "code",
      "source": [
        "5 * 2"
      ],
      "metadata": {
        "colab": {
          "base_uri": "https://localhost:8080/"
        },
        "id": "NcnHOsEHdH3M",
        "outputId": "a88f4fa1-6a23-485d-ecc7-a8ab46bf4cd2"
      },
      "execution_count": null,
      "outputs": [
        {
          "output_type": "execute_result",
          "data": {
            "text/plain": [
              "10"
            ]
          },
          "metadata": {},
          "execution_count": 27
        }
      ]
    },
    {
      "cell_type": "code",
      "source": [
        "variable = \"This is a variable\"\n",
        "a = 10\n",
        "b = 20"
      ],
      "metadata": {
        "id": "MkFXC-o4dJU7"
      },
      "execution_count": null,
      "outputs": []
    },
    {
      "cell_type": "code",
      "source": [
        "print(id(variable))  # id() --> returns the memory address of the variable"
      ],
      "metadata": {
        "colab": {
          "base_uri": "https://localhost:8080/"
        },
        "id": "VbIOaehsdZlJ",
        "outputId": "cbf51a90-3f10-466e-bdd8-9605d4a22ce4"
      },
      "execution_count": null,
      "outputs": [
        {
          "output_type": "stream",
          "name": "stdout",
          "text": [
            "138141991969184\n"
          ]
        }
      ]
    },
    {
      "cell_type": "code",
      "source": [
        "print(type(a))  # type() --> returns the data type of the variable"
      ],
      "metadata": {
        "colab": {
          "base_uri": "https://localhost:8080/"
        },
        "id": "K6CdWMBWe0Hs",
        "outputId": "2d08c557-a4de-491a-d123-8f5745499482"
      },
      "execution_count": null,
      "outputs": [
        {
          "output_type": "stream",
          "name": "stdout",
          "text": [
            "<class 'int'>\n"
          ]
        }
      ]
    },
    {
      "cell_type": "code",
      "source": [
        "c = 10"
      ],
      "metadata": {
        "id": "HmyD0RG_fc7x"
      },
      "execution_count": null,
      "outputs": []
    },
    {
      "cell_type": "code",
      "source": [
        "print(id(a))\n",
        "print(id(c))"
      ],
      "metadata": {
        "colab": {
          "base_uri": "https://localhost:8080/"
        },
        "id": "YX6taonIf6t5",
        "outputId": "6d8b888a-68ae-4189-ea29-d32602f1af70"
      },
      "execution_count": null,
      "outputs": [
        {
          "output_type": "stream",
          "name": "stdout",
          "text": [
            "138143276302864\n",
            "138143276302864\n"
          ]
        }
      ]
    },
    {
      "cell_type": "code",
      "source": [
        "f = 3.14\n",
        "print(f)\n",
        "print(type(f))\n",
        "print(id(f))"
      ],
      "metadata": {
        "colab": {
          "base_uri": "https://localhost:8080/"
        },
        "id": "0IQY4E71f-Hy",
        "outputId": "7be31007-f220-46e6-ad5a-ded638f1c9fc"
      },
      "execution_count": null,
      "outputs": [
        {
          "output_type": "stream",
          "name": "stdout",
          "text": [
            "3.14\n",
            "<class 'float'>\n",
            "138141994152464\n"
          ]
        }
      ]
    },
    {
      "cell_type": "code",
      "source": [
        "# Valid Variable names\n",
        "\n",
        "name = \"Shanmukh\"\n",
        "age = 23\n",
        "_salary = 12000"
      ],
      "metadata": {
        "id": "OIsLeJnphj-E"
      },
      "execution_count": null,
      "outputs": []
    },
    {
      "cell_type": "code",
      "source": [
        "$name = \"Hello\""
      ],
      "metadata": {
        "colab": {
          "base_uri": "https://localhost:8080/",
          "height": 106
        },
        "id": "uGov3SiUiYgK",
        "outputId": "99d4e081-f455-4a95-9255-0e83dbc2ffec"
      },
      "execution_count": null,
      "outputs": [
        {
          "output_type": "error",
          "ename": "SyntaxError",
          "evalue": "invalid syntax (<ipython-input-38-5847909697cd>, line 1)",
          "traceback": [
            "\u001b[0;36m  File \u001b[0;32m\"<ipython-input-38-5847909697cd>\"\u001b[0;36m, line \u001b[0;32m1\u001b[0m\n\u001b[0;31m    $name = \"Hello\"\u001b[0m\n\u001b[0m    ^\u001b[0m\n\u001b[0;31mSyntaxError\u001b[0m\u001b[0;31m:\u001b[0m invalid syntax\n"
          ]
        }
      ]
    },
    {
      "cell_type": "code",
      "source": [
        "var1 = 20\n",
        "print(var1)"
      ],
      "metadata": {
        "colab": {
          "base_uri": "https://localhost:8080/"
        },
        "id": "ljd0WE02iboD",
        "outputId": "914e90ad-ae5d-4177-d18a-aefdae0edbff"
      },
      "execution_count": null,
      "outputs": [
        {
          "output_type": "stream",
          "name": "stdout",
          "text": [
            "20\n"
          ]
        }
      ]
    },
    {
      "cell_type": "code",
      "source": [
        "name = \"Shanmukh\"\n",
        "NAME = \"Srinivasa\"\n",
        "Name = \"Satya\""
      ],
      "metadata": {
        "id": "H9-T1ue-i-bf"
      },
      "execution_count": null,
      "outputs": []
    },
    {
      "cell_type": "code",
      "source": [
        "# Python variables case-sensitive\n",
        "\n",
        "print(name)\n",
        "print(id(name))\n",
        "print(NAME)\n",
        "print(id(NAME))\n",
        "print(Name)\n",
        "print(id(Name))"
      ],
      "metadata": {
        "colab": {
          "base_uri": "https://localhost:8080/"
        },
        "id": "copmKZ4_jY8W",
        "outputId": "6b123956-8a9e-4ccc-8c6a-8934393461c8"
      },
      "execution_count": null,
      "outputs": [
        {
          "output_type": "stream",
          "name": "stdout",
          "text": [
            "Shanmukh\n",
            "138141992234352\n",
            "Srinivasa\n",
            "138141992223600\n",
            "Satya\n",
            "138141992232944\n"
          ]
        }
      ]
    },
    {
      "cell_type": "code",
      "source": [],
      "metadata": {
        "id": "2piAubzrjo0I"
      },
      "execution_count": null,
      "outputs": []
    }
  ]
}